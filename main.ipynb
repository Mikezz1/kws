{
  "cells": [
    {
      "cell_type": "markdown",
      "metadata": {
        "id": "_lhrn5O-qUYZ"
      },
      "source": [
        "# Import and misc"
      ]
    },
    {
      "cell_type": "code",
      "execution_count": null,
      "metadata": {
        "id": "meO-Mp9jiAFC"
      },
      "outputs": [],
      "source": [
        "# Instal latest torch and torchaudio"
      ]
    },
    {
      "cell_type": "code",
      "execution_count": 1,
      "metadata": {
        "id": "bbUpoArCqUYa"
      },
      "outputs": [],
      "source": [
        "from typing import Tuple, Union, List, Callable, Optional\n",
        "from tqdm import tqdm\n",
        "from itertools import islice\n",
        "import pathlib\n",
        "import dataclasses\n",
        "import wandb\n",
        "\n",
        "import numpy as np\n",
        "import pandas as pd\n",
        "\n",
        "import os\n",
        "import random\n",
        "import torch\n",
        "import torch.nn.functional as F\n",
        "from torch import nn\n",
        "from torch import distributions\n",
        "from torch.utils.data import DataLoader, Dataset, WeightedRandomSampler\n",
        "from torch.nn.utils.rnn import pad_sequence\n",
        "\n",
        "import torchaudio\n",
        "from IPython import display as display_\n",
        "\n",
        "from collections import defaultdict\n",
        "from IPython.display import clear_output\n",
        "from matplotlib import pyplot as plt\n",
        "\n",
        "import tempfile\n",
        "from thop import profile\n",
        "from thop import clever_format\n",
        "import copy\n",
        "import wandb\n",
        "\n",
        "\n",
        "# Import models\n",
        "from models.blocks  import *\n",
        "from models.crnn_base import *\n",
        "from models.crnn_ds_small import *\n",
        "from models.crnn_base_streaming import *\n",
        "\n",
        "\n",
        "# Import functions from seminar\n",
        "from src.dataset import *\n",
        "from src.utils import *\n",
        "from src.trainer import  *\n",
        "from src.eval import *"
      ]
    },
    {
      "cell_type": "markdown",
      "metadata": {
        "id": "ZKqxA0L7FguS"
      },
      "source": [
        "# Part 0.\n",
        "## Reproduce base model and set everything up"
      ]
    },
    {
      "cell_type": "code",
      "execution_count": 2,
      "metadata": {
        "id": "BXVWw2bRGKtO"
      },
      "outputs": [],
      "source": [
        "def seed_everything(seed: int):\n",
        "    \n",
        "    random.seed(seed)\n",
        "    os.environ['PYTHONHASHSEED'] = str(seed)\n",
        "    np.random.seed(seed)\n",
        "    torch.manual_seed(seed)\n",
        "    torch.cuda.manual_seed(seed)\n",
        "    torch.backends.cudnn.deterministic = True\n",
        "    torch.backends.cudnn.benchmark = True\n",
        "    \n",
        "SEED = 42\n",
        "\n",
        "seed_everything(SEED)"
      ]
    },
    {
      "cell_type": "code",
      "execution_count": 3,
      "metadata": {
        "id": "8PdhApeEh9pH"
      },
      "outputs": [],
      "source": [
        "@dataclasses.dataclass\n",
        "class TaskConfig:\n",
        "    keyword: str = 'sheila'  # We will use 1 key word -- 'sheila'\n",
        "    batch_size: int = 128\n",
        "    learning_rate: float = 4e-4\n",
        "    weight_decay: float = 1e-5\n",
        "    num_epochs: int = 30\n",
        "    n_mels: int = 40\n",
        "    cnn_out_channels: int = 8\n",
        "    kernel_size: Tuple[int, int] = (5, 20)\n",
        "    stride: Tuple[int, int] = (2, 8)\n",
        "    hidden_size: int = 32\n",
        "    gru_num_layers: int = 2\n",
        "    bidirectional: bool = False\n",
        "    num_classes: int = 2\n",
        "    sample_rate: int = 16000\n",
        "    temperature:int =  20\n",
        "    alpha:float = 0.6\n",
        "    gamma:float = 0.01\n",
        "    device: torch.device = torch.device(\n",
        "        'cuda:0' if torch.cuda.is_available() else 'cpu')"
      ]
    },
    {
      "cell_type": "markdown",
      "metadata": {
        "id": "KA1gPmE1h9pI"
      },
      "source": [
        "### Data"
      ]
    },
    {
      "cell_type": "code",
      "execution_count": null,
      "metadata": {
        "colab": {
          "base_uri": "https://localhost:8080/"
        },
        "id": "Y2N8zcx9MF1X",
        "outputId": "1cf5e58a-077d-4b83-a726-714aeba7a87e"
      },
      "outputs": [
        {
          "name": "stdout",
          "output_type": "stream",
          "text": [
            "--2022-11-06 22:02:03--  http://download.tensorflow.org/data/speech_commands_v0.01.tar.gz\n",
            "Resolving download.tensorflow.org (download.tensorflow.org)... 142.250.145.128, 2a00:1450:4013:c01::80\n",
            "Connecting to download.tensorflow.org (download.tensorflow.org)|142.250.145.128|:80... connected.\n",
            "HTTP request sent, awaiting response... 200 OK\n",
            "Length: 1489096277 (1.4G) [application/gzip]\n",
            "Saving to: ‘speech_commands_v0.01.tar.gz’\n",
            "\n",
            "speech_commands_v0. 100%[===================>]   1.39G   114MB/s    in 15s     \n",
            "\n",
            "2022-11-06 22:02:18 (94.8 MB/s) - ‘speech_commands_v0.01.tar.gz’ saved [1489096277/1489096277]\n",
            "\n"
          ]
        }
      ],
      "source": [
        "!wget http://download.tensorflow.org/data/speech_commands_v0.01.tar.gz -O speech_commands_v0.01.tar.gz\n",
        "!mkdir speech_commands && tar -C speech_commands -xvzf speech_commands_v0.01.tar.gz 1> log"
      ]
    },
    {
      "cell_type": "code",
      "execution_count": 4,
      "metadata": {
        "id": "-1rVkT81Pk90"
      },
      "outputs": [],
      "source": [
        "dataset = SpeechCommandDataset(\n",
        "    path2dir='speech_commands', keywords=TaskConfig.keyword\n",
        ")"
      ]
    },
    {
      "cell_type": "markdown",
      "metadata": {
        "id": "LUxfDJw1qUYi"
      },
      "source": [
        "### Train/val split"
      ]
    },
    {
      "cell_type": "code",
      "execution_count": 5,
      "metadata": {
        "id": "ClWThxyYh9pM"
      },
      "outputs": [],
      "source": [
        "indexes = pd.Series(np.arange(len(dataset))).sample(frac=1, random_state=SEED, replace=False).values\n",
        "train_indexes = indexes[:int(len(dataset) * 0.8)]\n",
        "val_indexes = indexes[int(len(dataset) * 0.8):]\n",
        "\n",
        "train_df = dataset.csv.iloc[train_indexes].reset_index(drop=True)\n",
        "val_df = dataset.csv.iloc[val_indexes].reset_index(drop=True)"
      ]
    },
    {
      "cell_type": "code",
      "execution_count": 6,
      "metadata": {
        "id": "PDPLht5fqUYe"
      },
      "outputs": [],
      "source": [
        "train_set = SpeechCommandDataset(csv=train_df, transform=AugsCreation())\n",
        "val_set = SpeechCommandDataset(csv=val_df)"
      ]
    },
    {
      "cell_type": "code",
      "execution_count": 7,
      "metadata": {
        "id": "UM8gLmHeqUYj"
      },
      "outputs": [],
      "source": [
        "train_sampler = get_sampler(train_set.csv['label'].values)"
      ]
    },
    {
      "cell_type": "code",
      "execution_count": 8,
      "metadata": {
        "id": "6wGBMcQiqUYk"
      },
      "outputs": [],
      "source": [
        "# num_workers = 0 for mac\n",
        "train_loader = DataLoader(train_set, batch_size=TaskConfig.batch_size,\n",
        "                          shuffle=False, collate_fn=Collator(),\n",
        "                          sampler=train_sampler,\n",
        "                          num_workers=2, pin_memory=True)\n",
        "\n",
        "val_loader = DataLoader(val_set, batch_size=TaskConfig.batch_size,\n",
        "                        shuffle=False, collate_fn=Collator(),\n",
        "                        num_workers=2, pin_memory=True)"
      ]
    },
    {
      "cell_type": "markdown",
      "metadata": {
        "id": "GSNW-nZCJ4Q0"
      },
      "source": [
        "### Reproduce base model"
      ]
    },
    {
      "cell_type": "code",
      "execution_count": 9,
      "metadata": {
        "id": "M40u0ZUwFE_Z"
      },
      "outputs": [],
      "source": [
        "melspec_train = LogMelspec(is_train=True, config=TaskConfig)\n",
        "melspec_val = LogMelspec(is_train=False, config=TaskConfig)"
      ]
    },
    {
      "cell_type": "code",
      "execution_count": 10,
      "metadata": {
        "id": "Q8sVpHNoocgA"
      },
      "outputs": [],
      "source": [
        "config = TaskConfig(hidden_size=32, num_epochs=20)\n",
        "model = CRNN(config).to(config.device)\n",
        "\n",
        "opt = torch.optim.Adam(\n",
        "    model.parameters(),\n",
        "    lr=config.learning_rate,\n",
        "    weight_decay=config.weight_decay\n",
        ")\n"
      ]
    },
    {
      "cell_type": "code",
      "execution_count": null,
      "metadata": {
        "id": "32oooz4lqUYo",
        "scrolled": false
      },
      "outputs": [],
      "source": [
        "#TRAIN uncomment to reproduce base model\n",
        "\n",
        "\n",
        "# history = defaultdict(list)\n",
        "# for n in range(config.num_epochs):\n",
        "\n",
        "#     train_epoch(model, opt, train_loader,\n",
        "#                 melspec_train, config.device)\n",
        "\n",
        "#     au_fa_fr = validation(model, val_loader,\n",
        "#                           melspec_val, config.device)\n",
        "#     history['val_metric'].append(au_fa_fr)\n",
        "\n",
        "#     clear_output()\n",
        "#     plt.plot(history['val_metric'])\n",
        "#     plt.ylabel('Metric')\n",
        "#     plt.xlabel('Epoch')\n",
        "#     plt.grid()\n",
        "#     plt.show()\n",
        "\n",
        "#     print('END OF EPOCH', n)"
      ]
    },
    {
      "cell_type": "code",
      "execution_count": 11,
      "metadata": {
        "colab": {
          "base_uri": "https://localhost:8080/"
        },
        "id": "SI7t6qoyvv2Z",
        "outputId": "a12a6c15-b1d2-44c1-aab0-4070c5d2cb2b"
      },
      "outputs": [
        {
          "name": "stderr",
          "output_type": "stream",
          "text": [
            "102it [00:21,  4.74it/s]\n"
          ]
        },
        {
          "data": {
            "text/plain": [
              "3.129978706298344e-05"
            ]
          },
          "execution_count": 11,
          "metadata": {},
          "output_type": "execute_result"
        }
      ],
      "source": [
        "model.load_state_dict(torch.load('checkpoints/model_base.pth', map_location=torch.device(config.device)))\n",
        "validation(model, val_loader,\n",
        "                          melspec_val, config.device)"
      ]
    },
    {
      "cell_type": "markdown",
      "metadata": {
        "id": "QRZB9KXyVvfa"
      },
      "source": [
        "# Part 1.\n",
        "## Distill"
      ]
    },
    {
      "cell_type": "markdown",
      "metadata": {
        "id": "O9W79Lp_XRKb"
      },
      "source": [
        "utils для подсчета метрик"
      ]
    },
    {
      "cell_type": "code",
      "execution_count": 12,
      "metadata": {
        "id": "dkTJIrhCXP9M"
      },
      "outputs": [],
      "source": [
        "def get_size_in_megabytes(model):\n",
        "    # https://pytorch.org/tutorials/recipes/recipes/dynamic_quantization.html#look-at-model-size\n",
        "    with tempfile.TemporaryFile() as f:\n",
        "        torch.save(model.state_dict(), f)\n",
        "        size = f.tell() / 2**20\n",
        "    return size\n",
        "\n",
        "def calc_rates(base_model, candidate_model):\n",
        "    base_model = copy.deepcopy(base_model)\n",
        "    candidate_model = copy.deepcopy(candidate_model)\n",
        "    \n",
        "    sample = torch.randn(1, 40, 101).to('cpu')\n",
        "\n",
        "    BASE_WEIGHT = get_size_in_megabytes(base_model)\n",
        "    BASE_FLOPS = profile(base_model.to('cpu'), (sample,))[0]\n",
        "\n",
        "    model_weight = get_size_in_megabytes(candidate_model)\n",
        "    model_flops = model_flops = profile(student_model.to('cpu'), (sample,))[0]\n",
        "\n",
        "    return f'Compression_rate: {BASE_WEIGHT/model_weight :.3f}, Speedup rate: {BASE_FLOPS / model_flops :.3f}'"
      ]
    },
    {
      "cell_type": "markdown",
      "metadata": {
        "id": "ST3RCGJEB2AI"
      },
      "source": [
        "Создадим классы для создания обучаемых отображений из слоев учителя в слои ученика"
      ]
    },
    {
      "cell_type": "code",
      "execution_count": 13,
      "metadata": {
        "id": "ut_iPUY2B1P2"
      },
      "outputs": [],
      "source": [
        "class Projector(nn.Module):\n",
        "    def __init__(self, in_shape, out_shape):\n",
        "        super().__init__()\n",
        "        self.out_shape = out_shape\n",
        "        self.relu = nn.ReLU()\n",
        "        self.fc = nn.Linear(in_shape[0]*in_shape[1],in_shape[0]*in_shape[1])\n",
        "        self.out = nn.Linear(in_shape[0]*in_shape[1],out_shape[0]*out_shape[1])\n",
        "\n",
        "    def forward(self, x):\n",
        "        x = x.flatten()\n",
        "        x = self.relu(self.fc(x))\n",
        "        x = self.out(x)\n",
        "        return x.view(self.out_shape)\n",
        "\n",
        "class LinearProjector(nn.Module):\n",
        "    def __init__(self, in_shape, out_shape):\n",
        "        super().__init__()\n",
        "        self.out_shape = out_shape\n",
        "        self.out = nn.Linear(in_shape[0]*in_shape[1],out_shape[0]*out_shape[1])\n",
        "\n",
        "    def forward(self, x):\n",
        "        x = x.flatten()\n",
        "        x = self.out(x)\n",
        "        return x.view(self.out_shape)"
      ]
    },
    {
      "cell_type": "markdown",
      "metadata": {
        "id": "QU4Juo42CPKe"
      },
      "source": [
        "Будем использовать 3 лосса для дистилляции - жесткие таргеты, мягкие таргеты (ответы модели-учителя) и mse между слоями (отображением слоя большой модели и слоем маленькой). Для получения отображений попробуем 3 варианта - mean/max pool, линейный слой и двухслойная сетка."
      ]
    },
    {
      "cell_type": "code",
      "execution_count": 14,
      "metadata": {
        "id": "ROGYjwsHR0_I"
      },
      "outputs": [],
      "source": [
        "def distill_loss( var_X_batch, var_y_batch, teacher_model,student_model, temperature, alpha,gamma, projectors=None):\n",
        "    kldloss = nn.KLDivLoss(reduction=\"batchmean\")  \n",
        "    celoss = nn.CrossEntropyLoss()\n",
        "\n",
        "    with torch.no_grad():\n",
        "        teacher_logits = teacher_model(var_X_batch)\n",
        "    student_logits = student_model(var_X_batch)\n",
        "    \n",
        "    soft_predictions = F.log_softmax( student_logits / temperature, dim=1 )\n",
        "    soft_labels = F.softmax( teacher_logits / temperature, dim=1 )\n",
        "    out_loss = kldloss(soft_predictions, soft_labels)\n",
        "\n",
        "\n",
        "    rnn_loss = 0\n",
        "    attention_loss = 0\n",
        "    if gamma  > 0:\n",
        "        if projectors:\n",
        "\n",
        "            teacher_model_gru_w1 = projectors[0](teacher_model.gru.weight_hh_l0.detach())\n",
        "            teacher_model_gru_w2 = projectors[1](teacher_model.gru.weight_ih_l0.detach())\n",
        "            att_h1 = projectors[2](teacher_model.attention.energy[0].weight.detach())\n",
        "            att_h2 = projectors[3](teacher_model.attention.energy[2].weight.detach())\n",
        "        else:\n",
        "            pooling1 = nn.AvgPool2d(kernel_size=4)\n",
        "            teacher_model_gru_w1 = pooling1(teacher_model.gru.weight_hh_l0.detach().unsqueeze(0)).squeeze(0)\n",
        "\n",
        "            pooling2 = nn.AvgPool2d(kernel_size=(4,1))\n",
        "            teacher_model_gru_w2 = pooling2(teacher_model.gru.weight_ih_l0.detach().unsqueeze(0)).squeeze(0)\n",
        "\n",
        "            pooling3 = nn.MaxPool2d(kernel_size=(4,4))\n",
        "            att_h1 = pooling3(teacher_model.attention.energy[0].weight.detach().unsqueeze(0)).squeeze(0)\n",
        "            pooling4 = nn.MaxPool2d(kernel_size=(1,4))\n",
        "            att_h2 = pooling4(teacher_model.attention.energy[2].weight.detach().unsqueeze(0)).squeeze(0)\n",
        "\n",
        "        attention_loss += nn.functional.mse_loss(student_model.attention.energy[0].weight.detach(), att_h1)\n",
        "        attention_loss += nn.functional.mse_loss(student_model.attention.energy[2].weight.detach(), att_h2)\n",
        "        rnn_loss += nn.functional.mse_loss(student_model.gru.weight_hh_l0.detach(), teacher_model_gru_w1)\n",
        "        rnn_loss += nn.functional.mse_loss(student_model.gru.weight_ih_l0.detach(), teacher_model_gru_w2)\n",
        "\n",
        "    student_loss = celoss(student_logits, var_y_batch)\n",
        "    \n",
        "    return out_loss * alpha + student_loss * (1 - alpha) + gamma*(rnn_loss + attention_loss), student_logits\n",
        "    \n",
        "\n"
      ]
    },
    {
      "cell_type": "code",
      "execution_count": 15,
      "metadata": {
        "id": "WgYzCN-3wzHe"
      },
      "outputs": [],
      "source": [
        "def distill_epoch(student_model, teacher_model, opt, loader, log_melspec, device,temperature,alpha,gamma, projectors=None):\n",
        "    for i, (batch, labels) in tqdm(enumerate(loader), total=len(loader)):\n",
        "        batch, labels = batch.to(device), labels.to(device)\n",
        "        batch = log_melspec(batch)\n",
        "\n",
        "        opt.zero_grad()\n",
        "        loss, logits = distill_loss(batch, labels,  teacher_model,student_model, temperature, alpha, gamma,projectors)\n",
        "        probs = F.softmax(logits, dim=-1)\n",
        "\n",
        "        loss.backward()\n",
        "        torch.nn.utils.clip_grad_norm_(model.parameters(), 5)\n",
        "\n",
        "        opt.step()\n",
        "\n",
        "        argmax_probs = torch.argmax(probs, dim=-1)\n",
        "        FA, FR = count_FA_FR(argmax_probs, labels)\n",
        "        acc = torch.sum(argmax_probs == labels) / torch.numel(argmax_probs)\n",
        "\n",
        "    return acc\n",
        "\n",
        "def distill(student_model, teacher_model, opt, train_loader, val_loader, melspec_train, melspec_val, config, projectors=None ):\n",
        "    \n",
        "    wandb.init(project=\"kws_project\",\n",
        "               config=config)\n",
        "\n",
        "    teacher_model.eval()\n",
        "    bst_model = student_model\n",
        "    bst_score = 1\n",
        "    for n in range(config.num_epochs):\n",
        "        student_model.train()\n",
        "\n",
        "        distill_epoch(student_model, teacher_model, opt, train_loader,\n",
        "                    melspec_train, config.device, config.temperature, config.alpha, config.gamma, projectors)\n",
        "\n",
        "        au_fa_fr = validation(student_model, val_loader,\n",
        "                            melspec_val, config.device)\n",
        "        \n",
        "        wandb.log({'epoch':n, 'val_netric':au_fa_fr})\n",
        "        history['val_metric'].append(au_fa_fr)\n",
        "        if au_fa_fr < bst_score:\n",
        "            bst_score = au_fa_fr\n",
        "            bst_model = copy.deepcopy(student_model)\n",
        "\n",
        "        clear_output()\n",
        "        plt.plot(history['val_metric'])\n",
        "        plt.ylabel('Metric')\n",
        "        plt.xlabel('Epoch')\n",
        "        plt.grid()\n",
        "        plt.show()\n",
        "\n",
        "        print('END OF EPOCH', n)\n",
        "\n",
        "    return bst_model"
      ]
    },
    {
      "cell_type": "markdown",
      "metadata": {
        "id": "Zsn2GHviF962"
      },
      "source": [
        "### Layerwise дистилляция c линейными отображениями слоев (ds 8x1x10)\n",
        "\n",
        "Используем линейный слой чтобы смэтчить размерности скрытых слоев rnn / attention у студента и учителя. Далее  считаем MSE между получившимися отображениями и добавляем его к лоссу с весом `gamma`."
      ]
    },
    {
      "cell_type": "code",
      "execution_count": 18,
      "metadata": {
        "id": "F379ce9E9EtA"
      },
      "outputs": [
        {
          "name": "stderr",
          "output_type": "stream",
          "text": [
            "/Library/Frameworks/Python.framework/Versions/3.9/lib/python3.9/site-packages/torch/nn/modules/rnn.py:62: UserWarning: dropout option adds dropout after all but last recurrent layer, so non-zero dropout expects num_layers greater than 1, but got dropout=0.1 and num_layers=1\n",
            "  warnings.warn(\"dropout option adds dropout after all but last \"\n"
          ]
        }
      ],
      "source": [
        "\n",
        "\n",
        "micro_config = TaskConfig(\n",
        "    hidden_size=10,\n",
        "    cnn_out_channels=8,\n",
        "    gru_num_layers=1,\n",
        "    num_epochs=25,\n",
        "    temperature=10,\n",
        "    learning_rate=5e-5,\n",
        "    alpha=0.2,\n",
        "    gamma=0.2,\n",
        "    batch_size=512\n",
        "    )\n",
        "\n",
        "projector_rnn_1 = LinearProjector([96, 32], [micro_config.hidden_size*3, micro_config.hidden_size])\n",
        "projector_rnn_2 = LinearProjector([96, 144], [micro_config.hidden_size*3, 144])\n",
        "projector_att_1 = LinearProjector([32, 32],[micro_config.hidden_size, micro_config.hidden_size] )\n",
        "projector_att_2 = LinearProjector([1, 32], [1, micro_config.hidden_size])\n",
        "projectors = [projector_rnn_1, projector_rnn_2, projector_att_1, projector_att_2]\n",
        "projectors  = [p.to(micro_config.device) for p in projectors]\n",
        "\n",
        "student_model = CRNNmicro(micro_config).to(micro_config.device)\n",
        "base_config = TaskConfig(hidden_size=32)\n",
        "teacher_model = CRNN(base_config).to(base_config.device)\n",
        "teacher_model.load_state_dict(torch.load('checkpoints/model_base.pth', map_location=torch.device('cpu')))\n",
        "\n",
        "params  = list(student_model.parameters()) +\\\n",
        "          list(projector_rnn_1.parameters()) +\\\n",
        "          list(projector_rnn_2.parameters()) +\\\n",
        "          list(projector_att_1.parameters()) +\\\n",
        "          list(projector_att_2.parameters())\n",
        "\n",
        "optimizer = torch.optim.Adam(params,\n",
        "                             lr=micro_config.learning_rate,\n",
        "                             weight_decay=micro_config.weight_decay)\n",
        "\n",
        "melspec = LogMelspec(is_train=False, config=micro_config)\n",
        "history = defaultdict(list)"
      ]
    },
    {
      "cell_type": "code",
      "execution_count": 16,
      "metadata": {
        "colab": {
          "base_uri": "https://localhost:8080/",
          "height": 631,
          "referenced_widgets": [
            "b122cca63f484b71a7ae13873b5c2a1c",
            "b3eaa34e798441b9b141878aaf69aa2c",
            "96f35f8f58c04058b71c60e533e1257f",
            "a2ef033c33304d8483bae63e3c57f65e",
            "69972bd52b5249f69a9b75f75f78bc27",
            "960aa8704004436d933181d2f1baddac",
            "24cfe5e8de2f4e9a8c7e6d02ce1cc046",
            "62f343e0d0c042a992e387ab3fc0b235"
          ]
        },
        "id": "FKYr368e9KeF",
        "outputId": "78621b5d-3f21-4821-e303-9c9ab8a84682"
      },
      "outputs": [],
      "source": [
        "# student_model = distill(student_model, teacher_model, optimizer,\n",
        "#                         train_loader, val_loader, melspec, melspec, micro_config, projectors )"
      ]
    },
    {
      "cell_type": "code",
      "execution_count": 22,
      "metadata": {
        "id": "hwOtHy7rZnYa"
      },
      "outputs": [],
      "source": [
        "student_model.load_state_dict(torch.load('checkpoints/complex_distill1_tuned.pth').state_dict())\n",
        "student_model = student_model.train()"
      ]
    },
    {
      "cell_type": "code",
      "execution_count": 134,
      "metadata": {
        "colab": {
          "base_uri": "https://localhost:8080/"
        },
        "id": "XJ8dAZkDIzeo",
        "outputId": "07457e68-980b-4f6c-b246-bce49fb6425c"
      },
      "outputs": [
        {
          "name": "stderr",
          "output_type": "stream",
          "text": [
            "102it [00:06, 16.82it/s]\n"
          ]
        },
        {
          "data": {
            "text/plain": [
              "5.173266998074422e-05"
            ]
          },
          "execution_count": 134,
          "metadata": {},
          "output_type": "execute_result"
        }
      ],
      "source": [
        "validation(student_model, val_loader,\n",
        "                          melspec_val, micro_config.device)"
      ]
    },
    {
      "cell_type": "code",
      "execution_count": 135,
      "metadata": {
        "colab": {
          "base_uri": "https://localhost:8080/",
          "height": 173
        },
        "id": "ZOk3QCJpOuce",
        "outputId": "27e342a8-7e66-4613-a2f9-e0074a1bd6b3"
      },
      "outputs": [
        {
          "name": "stdout",
          "output_type": "stream",
          "text": [
            "[INFO] Register count_convNd() for <class 'torch.nn.modules.conv.Conv2d'>.\n",
            "[INFO] Register zero_ops() for <class 'torch.nn.modules.container.Sequential'>.\n",
            "[INFO] Register count_gru() for <class 'torch.nn.modules.rnn.GRU'>.\n",
            "[INFO] Register count_linear() for <class 'torch.nn.modules.linear.Linear'>.\n",
            "[INFO] Register count_convNd() for <class 'torch.nn.modules.conv.Conv2d'>.\n",
            "[INFO] Register zero_ops() for <class 'torch.nn.modules.container.Sequential'>.\n",
            "[INFO] Register count_gru() for <class 'torch.nn.modules.rnn.GRU'>.\n",
            "[INFO] Register count_linear() for <class 'torch.nn.modules.linear.Linear'>.\n"
          ]
        },
        {
          "data": {
            "application/vnd.google.colaboratory.intrinsic+json": {
              "type": "string"
            },
            "text/plain": [
              "'Compression_rate: 4.404, Speedup rate: 5.779'"
            ]
          },
          "execution_count": 135,
          "metadata": {},
          "output_type": "execute_result"
        }
      ],
      "source": [
        "calc_rates(teacher_model, student_model)"
      ]
    },
    {
      "cell_type": "code",
      "execution_count": 136,
      "metadata": {
        "id": "GTWVDE-i9P23"
      },
      "outputs": [],
      "source": [
        "torch.save(student_model, 'checkpoints/final_model.pth')"
      ]
    },
    {
      "cell_type": "markdown",
      "metadata": {
        "id": "73UezdUdAyCq"
      },
      "source": [
        "### Layerwise дистилляция c нелинейным отображениями слоев (ds 8x1x10)\n",
        "\n",
        "Используем сетку с 2 линейными слоями чтобы смэтчить размерности скрытых слоев rnn / attention у студента и учителя. Далее  считаем MSE между получившимися отображениями и добавляем его к лоссу с весом `gamma`."
      ]
    },
    {
      "cell_type": "code",
      "execution_count": null,
      "metadata": {
        "id": "QM1mJULJAtM8"
      },
      "outputs": [],
      "source": [
        "micro_config = TaskConfig(\n",
        "    hidden_size=10,\n",
        "    cnn_out_channels=8,\n",
        "    gru_num_layers=1,\n",
        "    num_epochs=25,\n",
        "    temperature=10,\n",
        "    learning_rate=3e-4,\n",
        "    alpha=0.2,\n",
        "    gamma=0.2,\n",
        "    batch_size=512\n",
        "    )\n",
        "\n",
        "projector_rnn_1 = Projector([96, 32], [micro_config.hidden_size*3, micro_config.hidden_size])\n",
        "projector_rnn_2 = Projector([96, 144], [micro_config.hidden_size*3, 144])\n",
        "projector_att_1 = Projector([32, 32],[micro_config.hidden_size, micro_config.hidden_size] )\n",
        "projector_att_2 = Projector([1, 32], [1, micro_config.hidden_size])\n",
        "projectors = [projector_rnn_1, projector_rnn_2, projector_att_1, projector_att_2]\n",
        "projectors  = [p.to(micro_config.device) for p in projectors]\n",
        "\n",
        "student_model = CRNNmicro(micro_config).to(micro_config.device)\n",
        "base_config = TaskConfig(hidden_size=32)\n",
        "teacher_model = CRNN(base_config).to(base_config.device)\n",
        "teacher_model.load_state_dict(torch.load('checkpoints/model_base.pth', map_location=torch.device('cpu')))\n",
        "\n",
        "params  = list(student_model.parameters()) +\\\n",
        "          list(projector_rnn_1.parameters()) +\\\n",
        "          list(projector_rnn_2.parameters()) +\\\n",
        "          list(projector_att_1.parameters()) +\\\n",
        "          list(projector_att_2.parameters())\n",
        "\n",
        "optimizer = torch.optim.Adam(params,\n",
        "                             lr=micro_config.learning_rate,\n",
        "                             weight_decay=micro_config.weight_decay)\n",
        "\n",
        "melspec = LogMelspec(is_train=False, config=micro_config)\n",
        "history = defaultdict(list)"
      ]
    },
    {
      "cell_type": "code",
      "execution_count": 25,
      "metadata": {
        "colab": {
          "base_uri": "https://localhost:8080/",
          "height": 620
        },
        "id": "AX8Uei_gAtP5",
        "outputId": "34c54625-6802-4299-f991-595ecfd6812c"
      },
      "outputs": [
        {
          "data": {
            "image/png": "[encoded data removed]",
            "text/plain": [
              "<Figure size 432x288 with 1 Axes>"
            ]
          },
          "metadata": {
            "needs_background": "light"
          },
          "output_type": "display_data"
        },
        {
          "name": "stdout",
          "output_type": "stream",
          "text": [
            "END OF EPOCH 23\n"
          ]
        },
        {
          "name": "stderr",
          "output_type": "stream",
          "text": [
            " 23%|██▎       | 92/405 [00:13<00:45,  6.88it/s]\n"
          ]
        },
        {
          "ename": "KeyboardInterrupt",
          "evalue": "ignored",
          "output_type": "error",
          "traceback": [
            "\u001b[0;31m---------------------------------------------------------------------------\u001b[0m",
            "\u001b[0;31mKeyboardInterrupt\u001b[0m                         Traceback (most recent call last)",
            "\u001b[0;32m<ipython-input-25-f8b9212e16c1>\u001b[0m in \u001b[0;36m<module>\u001b[0;34m\u001b[0m\n\u001b[1;32m      1\u001b[0m student_model = distill(student_model, teacher_model, optimizer,\n\u001b[0;32m----> 2\u001b[0;31m                         train_loader, val_loader, melspec, melspec, micro_config, projectors )\n\u001b[0m",
            "\u001b[0;32m<ipython-input-19-9711f653e973>\u001b[0m in \u001b[0;36mdistill\u001b[0;34m(student_model, teacher_model, opt, train_loader, val_loader, melspec_train, melspec_val, config, projectors)\u001b[0m\n\u001b[1;32m     31\u001b[0m \u001b[0;34m\u001b[0m\u001b[0m\n\u001b[1;32m     32\u001b[0m         distill_epoch(student_model, teacher_model, opt, train_loader,\n\u001b[0;32m---> 33\u001b[0;31m                     melspec_train, config.device, config.temperature, config.alpha, config.gamma, projectors)\n\u001b[0m\u001b[1;32m     34\u001b[0m \u001b[0;34m\u001b[0m\u001b[0m\n\u001b[1;32m     35\u001b[0m         au_fa_fr = validation(student_model, val_loader,\n",
            "\u001b[0;32m<ipython-input-19-9711f653e973>\u001b[0m in \u001b[0;36mdistill_epoch\u001b[0;34m(student_model, teacher_model, opt, loader, log_melspec, device, temperature, alpha, gamma, projectors)\u001b[0m\n\u001b[1;32m     14\u001b[0m \u001b[0;34m\u001b[0m\u001b[0m\n\u001b[1;32m     15\u001b[0m         \u001b[0margmax_probs\u001b[0m \u001b[0;34m=\u001b[0m \u001b[0mtorch\u001b[0m\u001b[0;34m.\u001b[0m\u001b[0margmax\u001b[0m\u001b[0;34m(\u001b[0m\u001b[0mprobs\u001b[0m\u001b[0;34m,\u001b[0m \u001b[0mdim\u001b[0m\u001b[0;34m=\u001b[0m\u001b[0;34m-\u001b[0m\u001b[0;36m1\u001b[0m\u001b[0;34m)\u001b[0m\u001b[0;34m\u001b[0m\u001b[0;34m\u001b[0m\u001b[0m\n\u001b[0;32m---> 16\u001b[0;31m         \u001b[0mFA\u001b[0m\u001b[0;34m,\u001b[0m \u001b[0mFR\u001b[0m \u001b[0;34m=\u001b[0m \u001b[0mcount_FA_FR\u001b[0m\u001b[0;34m(\u001b[0m\u001b[0margmax_probs\u001b[0m\u001b[0;34m,\u001b[0m \u001b[0mlabels\u001b[0m\u001b[0;34m)\u001b[0m\u001b[0;34m\u001b[0m\u001b[0;34m\u001b[0m\u001b[0m\n\u001b[0m\u001b[1;32m     17\u001b[0m         \u001b[0macc\u001b[0m \u001b[0;34m=\u001b[0m \u001b[0mtorch\u001b[0m\u001b[0;34m.\u001b[0m\u001b[0msum\u001b[0m\u001b[0;34m(\u001b[0m\u001b[0margmax_probs\u001b[0m \u001b[0;34m==\u001b[0m \u001b[0mlabels\u001b[0m\u001b[0;34m)\u001b[0m \u001b[0;34m/\u001b[0m \u001b[0mtorch\u001b[0m\u001b[0;34m.\u001b[0m\u001b[0mnumel\u001b[0m\u001b[0;34m(\u001b[0m\u001b[0margmax_probs\u001b[0m\u001b[0;34m)\u001b[0m\u001b[0;34m\u001b[0m\u001b[0;34m\u001b[0m\u001b[0m\n\u001b[1;32m     18\u001b[0m \u001b[0;34m\u001b[0m\u001b[0m\n",
            "\u001b[0;32m/content/src/eval.py\u001b[0m in \u001b[0;36mcount_FA_FR\u001b[0;34m(preds, labels)\u001b[0m\n\u001b[1;32m      6\u001b[0m \u001b[0;34m\u001b[0m\u001b[0m\n\u001b[1;32m      7\u001b[0m \u001b[0;32mdef\u001b[0m \u001b[0mcount_FA_FR\u001b[0m\u001b[0;34m(\u001b[0m\u001b[0mpreds\u001b[0m\u001b[0;34m,\u001b[0m \u001b[0mlabels\u001b[0m\u001b[0;34m)\u001b[0m\u001b[0;34m:\u001b[0m\u001b[0;34m\u001b[0m\u001b[0;34m\u001b[0m\u001b[0m\n\u001b[0;32m----> 8\u001b[0;31m     \u001b[0mFA\u001b[0m \u001b[0;34m=\u001b[0m \u001b[0mtorch\u001b[0m\u001b[0;34m.\u001b[0m\u001b[0msum\u001b[0m\u001b[0;34m(\u001b[0m\u001b[0mpreds\u001b[0m\u001b[0;34m[\u001b[0m\u001b[0mlabels\u001b[0m \u001b[0;34m==\u001b[0m \u001b[0;36m0\u001b[0m\u001b[0;34m]\u001b[0m\u001b[0;34m)\u001b[0m\u001b[0;34m\u001b[0m\u001b[0;34m\u001b[0m\u001b[0m\n\u001b[0m\u001b[1;32m      9\u001b[0m     \u001b[0mFR\u001b[0m \u001b[0;34m=\u001b[0m \u001b[0mtorch\u001b[0m\u001b[0;34m.\u001b[0m\u001b[0msum\u001b[0m\u001b[0;34m(\u001b[0m\u001b[0mlabels\u001b[0m\u001b[0;34m[\u001b[0m\u001b[0mpreds\u001b[0m \u001b[0;34m==\u001b[0m \u001b[0;36m0\u001b[0m\u001b[0;34m]\u001b[0m\u001b[0;34m)\u001b[0m\u001b[0;34m\u001b[0m\u001b[0;34m\u001b[0m\u001b[0m\n\u001b[1;32m     10\u001b[0m \u001b[0;34m\u001b[0m\u001b[0m\n",
            "\u001b[0;31mKeyboardInterrupt\u001b[0m: "
          ]
        }
      ],
      "source": [
        "student_model = distill(student_model, teacher_model, optimizer,\n",
        "                        train_loader, val_loader, melspec, melspec, micro_config, projectors )"
      ]
    },
    {
      "cell_type": "markdown",
      "metadata": {
        "id": "75QnVX0s1XNs"
      },
      "source": [
        "### Костыльная layerwise дистилляция\n",
        "\n",
        "Используем mean/max pooling чтобы смэтчить размерности скрытых слоев rnn / attention у студента и учителя. Далее  считаем MSE между получившимися отображениями и добавляем его к лоссу с весом `gamma`."
      ]
    },
    {
      "cell_type": "code",
      "execution_count": null,
      "metadata": {
        "colab": {
          "base_uri": "https://localhost:8080/"
        },
        "id": "ptUUBMLhwzHe",
        "outputId": "94d2be99-534f-40f3-fcb7-67405afb3e2d"
      },
      "outputs": [
        {
          "name": "stderr",
          "output_type": "stream",
          "text": [
            "/usr/local/lib/python3.7/dist-packages/torch/nn/modules/rnn.py:70: UserWarning: dropout option adds dropout after all but last recurrent layer, so non-zero dropout expects num_layers greater than 1, but got dropout=0.1 and num_layers=1\n",
            "  \"num_layers={}\".format(dropout, num_layers))\n"
          ]
        }
      ],
      "source": [
        "micro_config = TaskConfig(\n",
        "    hidden_size=8,\n",
        "    cnn_out_channels=8,\n",
        "    gru_num_layers=1,\n",
        "    num_epochs=15,\n",
        "    temperature=20,\n",
        "    learning_rate=1e-4,\n",
        "    alpha=0.7,\n",
        "    gamma=0.05,\n",
        "    batch_size=512\n",
        "    )\n",
        "\n",
        "student_model = CRNNmicro(micro_config).to(micro_config.device)\n",
        "base_config = TaskConfig(hidden_size=32)\n",
        "teacher_model = CRNN(base_config).to(base_config.device)\n",
        "teacher_model.load_state_dict(torch.load('checkpoints/model_base.pth', map_location=torch.device('cpu')))\n",
        "\n",
        "optimizer = torch.optim.Adam(student_model.parameters(),\n",
        "                             lr=micro_config.learning_rate,\n",
        "                             weight_decay=micro_config.weight_decay)\n",
        "\n",
        "melspec = LogMelspec(is_train=False, config=micro_config)\n",
        "history = defaultdict(list)"
      ]
    },
    {
      "cell_type": "code",
      "execution_count": null,
      "metadata": {
        "colab": {
          "base_uri": "https://localhost:8080/",
          "height": 296
        },
        "id": "2iCywY1xwzHf",
        "outputId": "19123d5a-9f9d-4270-bacf-e890cd6e3069"
      },
      "outputs": [
        {
          "data": {
            "image/png": "[encoded data removed]",
            "text/plain": [
              "<Figure size 432x288 with 1 Axes>"
            ]
          },
          "metadata": {
            "needs_background": "light"
          },
          "output_type": "display_data"
        },
        {
          "name": "stdout",
          "output_type": "stream",
          "text": [
            "END OF EPOCH 14\n"
          ]
        }
      ],
      "source": [
        "distill(student_model, teacher_model, optimizer, train_loader, val_loader, melspec, melspec, micro_config )"
      ]
    },
    {
      "cell_type": "code",
      "execution_count": null,
      "metadata": {
        "colab": {
          "base_uri": "https://localhost:8080/"
        },
        "id": "UCZ-nOdU3xkr",
        "outputId": "c1e3de3d-ac99-4d6a-b03a-6a8cc4d6498f"
      },
      "outputs": [
        {
          "name": "stderr",
          "output_type": "stream",
          "text": [
            "102it [00:06, 15.09it/s]\n"
          ]
        },
        {
          "data": {
            "text/plain": [
              "9.712780443033716e-05"
            ]
          },
          "execution_count": 45,
          "metadata": {},
          "output_type": "execute_result"
        }
      ],
      "source": [
        "validation(student_model, val_loader,\n",
        "                          melspec_val, micro_config.device)"
      ]
    },
    {
      "cell_type": "markdown",
      "metadata": {
        "id": "NN-v8hq11Pfa"
      },
      "source": [
        "### Дефолтная дистялляция (ds 8x1x16)\n",
        "\n",
        "Добавляем KL дивергенцию выходов софтмакса учителя и студента в лосс с параметром `alpha` с учетом температуры `temperature`. Аугментации не используются."
      ]
    },
    {
      "cell_type": "code",
      "execution_count": null,
      "metadata": {
        "id": "va5PV51A1OW-"
      },
      "outputs": [],
      "source": [
        "micro_config = TaskConfig(\n",
        "    hidden_size=16,\n",
        "    cnn_out_channels=8,\n",
        "    gru_num_layers=1,\n",
        "    num_epochs=15,\n",
        "    temperature=10,\n",
        "    learning_rate=3e-4,\n",
        "    alpha=0.2,\n",
        "    gamma=0,\n",
        "    batch_size=512\n",
        "    )\n",
        "\n",
        "student_model = CRNNmicro(micro_config).to(micro_config.device)\n",
        "base_config = TaskConfig(hidden_size=32)\n",
        "teacher_model = CRNN(base_config).to(base_config.device)\n",
        "teacher_model.load_state_dict(torch.load('checkpoints/model_base.pth', map_location=torch.device('cpu')))\n",
        "\n",
        "optimizer = torch.optim.Adam(student_model.parameters(),\n",
        "                             lr=micro_config.learning_rate,\n",
        "                             weight_decay=micro_config.weight_decay)\n",
        "\n",
        "melspec = LogMelspec(is_train=False, config=micro_config)\n",
        "history = defaultdict(list)"
      ]
    },
    {
      "cell_type": "code",
      "execution_count": null,
      "metadata": {
        "colab": {
          "base_uri": "https://localhost:8080/",
          "height": 296,
          "referenced_widgets": [
            "a02a54dafbd345f09dc6eec8da40a02c",
            "3e7db11942b74d1a84b1244988f0edd9",
            "a80074a82f4846cea43da99d28c7a49b",
            "35808aae0a8144099fbf4316e8bba587",
            "b117d8f573444a83b6f28fdab4e1f3af",
            "196fd1c3998742a4bd30e95fb7ef099d",
            "ba6bb5b8bbac4563986ac9d93ae78e78",
            "ea9615a1003a422b96a17a09bd0e1877"
          ]
        },
        "id": "-FHlbYsP4AaM",
        "outputId": "c4f01451-0109-4ba9-eb05-33208ac1ed9c"
      },
      "outputs": [
        {
          "data": {
            "image/png": "[encoded data removed]",
            "text/plain": [
              "<Figure size 432x288 with 1 Axes>"
            ]
          },
          "metadata": {
            "needs_background": "light"
          },
          "output_type": "display_data"
        },
        {
          "name": "stdout",
          "output_type": "stream",
          "text": [
            "END OF EPOCH 14\n"
          ]
        }
      ],
      "source": [
        "student_model =  distill(student_model, teacher_model, optimizer, train_loader, val_loader, melspec, melspec, micro_config )"
      ]
    },
    {
      "cell_type": "code",
      "execution_count": null,
      "metadata": {
        "colab": {
          "base_uri": "https://localhost:8080/"
        },
        "id": "nhkoyDY54Ae7",
        "outputId": "101f287c-a974-4a14-da56-8df15c70a9ea"
      },
      "outputs": [
        {
          "name": "stderr",
          "output_type": "stream",
          "text": [
            "0it [00:00, ?it/s]/usr/local/lib/python3.7/dist-packages/torch/nn/modules/rnn.py:956: UserWarning: RNN module weights are not part of single contiguous chunk of memory. This means they need to be compacted at every call, possibly greatly increasing memory usage. To compact weights again call flatten_parameters(). (Triggered internally at ../aten/src/ATen/native/cudnn/RNN.cpp:968.)\n",
            "  self.dropout, self.training, self.bidirectional, self.batch_first)\n",
            "102it [00:05, 17.72it/s]\n"
          ]
        },
        {
          "data": {
            "text/plain": [
              "3.256490715018124e-05"
            ]
          },
          "execution_count": 39,
          "metadata": {},
          "output_type": "execute_result"
        }
      ],
      "source": [
        "validation(student_model, val_loader,\n",
        "                          melspec_val, micro_config.device)"
      ]
    },
    {
      "cell_type": "code",
      "execution_count": null,
      "metadata": {
        "colab": {
          "base_uri": "https://localhost:8080/",
          "height": 173
        },
        "id": "xwUZokmVPmg6",
        "outputId": "17c09423-ee75-46f6-a051-a18f97e10273"
      },
      "outputs": [
        {
          "name": "stdout",
          "output_type": "stream",
          "text": [
            "[INFO] Register count_convNd() for <class 'torch.nn.modules.conv.Conv2d'>.\n",
            "[INFO] Register zero_ops() for <class 'torch.nn.modules.container.Sequential'>.\n",
            "[INFO] Register count_gru() for <class 'torch.nn.modules.rnn.GRU'>.\n",
            "[INFO] Register count_linear() for <class 'torch.nn.modules.linear.Linear'>.\n",
            "[INFO] Register count_convNd() for <class 'torch.nn.modules.conv.Conv2d'>.\n",
            "[INFO] Register zero_ops() for <class 'torch.nn.modules.container.Sequential'>.\n",
            "[INFO] Register count_gru() for <class 'torch.nn.modules.rnn.GRU'>.\n",
            "[INFO] Register count_linear() for <class 'torch.nn.modules.linear.Linear'>.\n"
          ]
        },
        {
          "data": {
            "application/vnd.google.colaboratory.intrinsic+json": {
              "type": "string"
            },
            "text/plain": [
              "'Compression_rate: 2.852, Speedup rate: 3.892'"
            ]
          },
          "execution_count": 40,
          "metadata": {},
          "output_type": "execute_result"
        }
      ],
      "source": [
        "calc_rates(teacher_model, student_model)"
      ]
    },
    {
      "cell_type": "code",
      "execution_count": null,
      "metadata": {
        "id": "6Do366AqiBQv"
      },
      "outputs": [],
      "source": [
        "torch.save(student_model, 'checkpoints/simple_distill.pth')"
      ]
    },
    {
      "cell_type": "markdown",
      "metadata": {
        "id": "zJXlhgiYwzHg"
      },
      "source": [
        "## Квантизация\n",
        "\n",
        "Используем только динамическую квантизацию"
      ]
    },
    {
      "cell_type": "code",
      "execution_count": 119,
      "metadata": {
        "id": "SdqYDtFGHvRL"
      },
      "outputs": [],
      "source": [
        "test_config = TaskConfig(hidden_size=10,cnn_out_channels=8,gru_num_layers=1,device='cpu')\n",
        "student_model = CRNNmicro(test_config).to(test_config.device)\n",
        "student_model.load_state_dict(torch.load('/content/checkpoints/complex_distill1_tuned.pth').state_dict())"
      ]
    },
    {
      "cell_type": "code",
      "execution_count": 120,
      "metadata": {
        "id": "t55FUkOGh9pT"
      },
      "outputs": [],
      "source": [
        "quantized_model = torch.quantization.quantize_dynamic(\n",
        "    student_model.to(\"cpu\"), {torch.nn.Linear, torch.nn.GRU}, dtype=torch.torch.qint8\n",
        ")"
      ]
    },
    {
      "cell_type": "code",
      "execution_count": 121,
      "metadata": {
        "colab": {
          "base_uri": "https://localhost:8080/"
        },
        "id": "sw9V0GSWnmKy",
        "outputId": "fe38eeb5-58b8-47c8-cf04-9cb8abca8616"
      },
      "outputs": [
        {
          "name": "stderr",
          "output_type": "stream",
          "text": [
            "102it [00:12,  8.13it/s]\n"
          ]
        },
        {
          "data": {
            "text/plain": [
              "5.6626058997264034e-05"
            ]
          },
          "execution_count": 121,
          "metadata": {},
          "output_type": "execute_result"
        }
      ],
      "source": [
        "melspec_test = LogMelspec(is_train=False, config=test_config)\n",
        "validation(quantized_model.to('cpu'), val_loader,\n",
        "                          melspec_test, test_config.device,)"
      ]
    },
    {
      "cell_type": "code",
      "execution_count": 122,
      "metadata": {
        "colab": {
          "base_uri": "https://localhost:8080/",
          "height": 173
        },
        "id": "2XBU3QTyJCF7",
        "outputId": "89630857-5660-401a-9341-3a0d05d30434"
      },
      "outputs": [
        {
          "name": "stdout",
          "output_type": "stream",
          "text": [
            "[INFO] Register count_convNd() for <class 'torch.nn.modules.conv.Conv2d'>.\n",
            "[INFO] Register zero_ops() for <class 'torch.nn.modules.container.Sequential'>.\n",
            "[INFO] Register count_gru() for <class 'torch.nn.modules.rnn.GRU'>.\n",
            "[INFO] Register count_linear() for <class 'torch.nn.modules.linear.Linear'>.\n",
            "[INFO] Register count_convNd() for <class 'torch.nn.modules.conv.Conv2d'>.\n",
            "[INFO] Register zero_ops() for <class 'torch.nn.modules.container.Sequential'>.\n",
            "[INFO] Register count_gru() for <class 'torch.nn.modules.rnn.GRU'>.\n",
            "[INFO] Register count_linear() for <class 'torch.nn.modules.linear.Linear'>.\n"
          ]
        },
        {
          "data": {
            "application/vnd.google.colaboratory.intrinsic+json": {
              "type": "string"
            },
            "text/plain": [
              "'Compression_rate: 8.707, Speedup rate: 5.779'"
            ]
          },
          "execution_count": 122,
          "metadata": {},
          "output_type": "execute_result"
        }
      ],
      "source": [
        "calc_rates(teacher_model, quantized_model)"
      ]
    },
    {
      "cell_type": "markdown",
      "metadata": {
        "id": "2Drhb5DBYTTm"
      },
      "source": [
        "# Part 2.\n",
        "### Streaming"
      ]
    },
    {
      "cell_type": "code",
      "execution_count": 24,
      "metadata": {
        "id": "DIjC8-VKVP8p"
      },
      "outputs": [],
      "source": [
        "from models.crnn_ds_small_streaming import CRNNMicroStreaming\n",
        "\n",
        "model_streaming = CRNNMicroStreaming(micro_config).to('cpu')\n",
        "model_streaming.load_state_dict(torch.load('checkpoints/final_model.pth', map_location=torch.device('cpu')).state_dict())"
      ]
    },
    {
      "cell_type": "code",
      "execution_count": 25,
      "metadata": {
        "colab": {
          "base_uri": "https://localhost:8080/",
          "height": 494
        },
        "id": "shYQwyEkeCkH",
        "outputId": "b255623c-e7d7-473c-9dec-3a3fa31db733"
      },
      "outputs": [],
      "source": [
        "sm = torch.jit.script(model_streaming)\n",
        "sm.save(\"checkpoints/final_model_streaming.pt\")"
      ]
    },
    {
      "cell_type": "code",
      "execution_count": 26,
      "metadata": {
        "id": "8PNCx0tNgR-t"
      },
      "outputs": [],
      "source": [
        "import matplotlib.pyplot as plt\n",
        "def visualize_streaming(streaming_model, audio):\n",
        "    streaming_model.eval()\n",
        "    probs = []\n",
        "    chunk_size = 8000\n",
        "    audio_length = audio.size()[0]\n",
        "    chunks = range(1,audio_length // chunk_size + 1 )\n",
        "\n",
        "    for T in chunks:\n",
        "        chunk = audio[(T-1)*chunk_size:T*chunk_size].view(1, -1)\n",
        "        with torch.inference_mode():\n",
        "            out = streaming_model(chunk)\n",
        "        probs.append(out)\n",
        "\n",
        "    plt.plot(chunks, probs)"
      ]
    },
    {
      "cell_type": "markdown",
      "metadata": {
        "id": "y2lO-zsGViRz"
      },
      "source": [
        "Сделаем игрушечный пример из тишины и двух ключевых слов (первое из которых - таргет)"
      ]
    },
    {
      "cell_type": "code",
      "execution_count": 28,
      "metadata": {
        "id": "xWBLIJd_k9ap"
      },
      "outputs": [
        {
          "data": {
            "text/html": [
              "\n",
              "                <audio  controls=\"controls\" >\n",
              "                    <source src=\"data:audio/wav;base64,UklGRiT0AQBXQVZFZm10IBAAAAABAAEAgD4AAAB9AAACABAAZGF0YQD0AQAAAAAAAAAAAAAAAAAAAAAAAAAAAAAAAAAAAAAAAAAAAAAAAAAAAAAAAAAAAAAAAAAAAAAAAAAAAAAAAAAAAAAAAAAAAAAAAAAAAAAAAAAAAAAAAAAAAAAAAAAAAAAAAAAAAAAAAAAAAAAAAAAAAAAAAAAAAAAAAAAAAAAAAAAAAAAAAAAAAAAAAAAAAAAAAAAAAAAAAAAAAAAAAAAAAAAAAAAAAAAAAAAAAAAAAAAAAAAAAAAAAAAAAAAAAAAAAAAAAAAAAAAAAAAAAAAAAAAAAAAAAAAAAAAAAAAAAAAAAAAAAAAAAAAAAAAAAAAAAAAAAAAAAAAAAAAAAAAAAAAAAAAAAAAAAAAAAAAAAAAAAAAAAAAAAAAAAAAAAAAAAAAAAAAAAAAAAAAAAAAAAAAAAAAAAAAAAAAAAAAAAAAAAAAAAAAAAAAAAAAAAAAAAAAAAAAAAAAAAAAAAAAAAAAAAAAAAAAAAAAAAAAAAAAAAAAAAAAAAAAAAAAAAAAAAAAAAAAAAAAAAAAAAAAAAAAAAAAAAAAAAAAAAAAAAAAAAAAAAAAAAAAAAAAAAAAAAAAAAAAAAAAAAAAAAAAAAAAAAAAAAAAAAAAAAAAAAAAAAAAAAAAAAAAAAAAAAAAAAAAAAAAAAAAAAAAAAAAAAAAAAAAAAAAAAAAAAAAAAAAAAAAAAAAAAAAAAAAAAAAAAAAAAAAAAAAAAAAAAAAAAAAAAAAAAAAAAAAAAAAAAAAAAAAAAAAAAAAAAAAAAAAAAAAAAAAAAAAAAAAAAAAAAAAAAAAAAAAAAAAAAAAAAAAAAAAAAAAAAAAAAAAAAAAAAAAAAAAAAAAAAAAAAAAAAAAAAAAAAAAAAAAAAAAAAAAAAAAAAAAAAAAAAAAAAAAAAAAAAAAAAAAAAAAAAAAAAAAAAAAAAAAAAAAAAAAAAAAAAAAAAAAAAAAAAAAAAAAAAAAAAAAAAAAAAAAAAAAAAAAAAAAAAAAAAAAAAAAAAAAAAAAAAAAAAAAAAAAAAAAAAAAAAAAAAAAAAAAAAAAAAAAAAAAAAAAAAAAAAAAAAAAAAAAAAAAAAAAAAAAAAAAAAAAAAAAAAAAAAAAAAAAAAAAAAAAAAAAAAAAAAAAAAAAAAAAAAAAAAAAAAAAAAAAAAAAAAAAAAAAAAAAAAAAAAAAAAAAAAAAAAAAAAAAAAAAAAAAAAAAAAAAAAAAAAAAAAAAAAAAAAAAAAAAAAAAAAAAAAAAAAAAAAAAAAAAAAAAAAAAAAAAAAAAAAAAAAAAAAAAAAAAAAAAAAAAAAAAAAAAAAAAAAAAAAAAAAAAAAAAAAAAAAAAAAAAAAAAAAAAAAAAAAAAAAAAAAAAAAAAAAAAAAAAAAAAAAAAAAAAAAAAAAAAAAAAAAAAAAAAAAAAAAAAAAAAAAAAAAAAAAAAAAAAAAAAAAAAAAAAAAAAAAAAAAAAAAAAAAAAAAAAAAAAAAAAAAAAAAAAAAAAAAAAAAAAAAAAAAAAAAAAAAAAAAAAAAAAAAAAAAAAAAAAAAAAAAAAAAAAAAAAAAAAAAAAAAAAAAAAAAAAAAAAAAAAAAAAAAAAAAAAAAAAAAAAAAAAAAAAAAAAAAAAAAAAAAAAAAAAAAAAAAAAAAAAAAAAAAAAAAAAAAAAAAAAAAAAAAAAAAAAAAAAAAAAAAAAAAAAAAAAAAAAAAAAAAAAAAAAAAAAAAAAAAAAAAAAAAAAAAAAAAAAAAAAAAAAAAAAAAAAAAAAAAAAAAAAAAAAAAAAAAAAAAAAAAAAAAAAAAAAAAAAAAAAAAAAAAAAAAAAAAAAAAAAAAAAAAAAAAAAAAAAAAAAAAAAAAAAAAAAAAAAAAAAAAAAAAAAAAAAAAAAAAAAAAAAAAAAAAAAAAAAAAAAAAAAAAAAAAAAAAAAAAAAAAAAAAAAAAAAAAAAAAAAAAAAAAAAAAAAAAAAAAAAAAAAAAAAAAAAAAAAAAAAAAAAAAAAAAAAAAAAAAAAAAAAAAAAAAAAAAAAAAAAAAAAAAAAAAAAAAAAAAAAAAAAAAAAAAAAAAAAAAAAAAAAAAAAAAAAAAAAAAAAAAAAAAAAAAAAAAAAAAAAAAAAAAAAAAAAAAAAAAAAAAAAAAAAAAAAAAAAAAAAAAAAAAAAAAAAAAAAAAAAAAAAAAAAAAAAAAAAAAAAAAAAAAAAAAAAAAAAAAAAAAAAAAAAAAAAAAAAAAAAAAAAAAAAAAAAAAAAAAAAAAAAAAAAAAAAAAAAAAAAAAAAAAAAAAAAAAAAAAAAAAAAAAAAAAAAAAAAAAAAAAAAAAAAAAAAAAAAAAAAAAAAAAAAAAAAAAAAAAAAAAAAAAAAAAAAAAAAAAAAAAAAAAAAAAAAAAAAAAAAAAAAAAAAAAAAAAAAAAAAAAAAAAAAAAAAAAAAAAAAAAAAAAAAAAAAAAAAAAAAAAAAAAAAAAAAAAAAAAAAAAAAAAAAAAAAAAAAAAAAAAAAAAAAAAAAAAAAAAAAAAAAAAAAAAAAAAAAAAAAAAAAAAAAAAAAAAAAAAAAAAAAAAAAAAAAAAAAAAAAAAAAAAAAAAAAAAAAAAAAAAAAAAAAAAAAAAAAAAAAAAAAAAAAAAAAAAAAAAAAAAAAAAAAAAAAAAAAAAAAAAAAAAAAAAAAAAAAAAAAAAAAAAAAAAAAAAAAAAAAAAAAAAAAAAAAAAAAAAAAAAAAAAAAAAAAAAAAAAAAAAAAAAAAAAAAAAAAAAAAAAAAAAAAAAAAAAAAAAAAAAAAAAAAAAAAAAAAAAAAAAAAAAAAAAAAAAAAAAAAAAAAAAAAAAAAAAAAAAAAAAAAAAAAAAAAAAAAAAAAAAAAAAAAAAAAAAAAAAAAAAAAAAAAAAAAAAAAAAAAAAAAAAAAAAAAAAAAAAAAAAAAAAAAAAAAAAAAAAAAAAAAAAAAAAAAAAAAAAAAAAAAAAAAAAAAAAAAAAAAAAAAAAAAAAAAAAAAAAAAAAAAAAAAAAAAAAAAAAAAAAAAAAAAAAAAAAAAAAAAAAAAAAAAAAAAAAAAAAAAAAAAAAAAAAAAAAAAAAAAAAAAAAAAAAAAAAAAAAAAAAAAAAAAAAAAAAAAAAAAAAAAAAAAAAAAAAAAAAAAAAAAAAAAAAAAAAAAAAAAAAAAAAAAAAAAAAAAAAAAAAAAAAAAAAAAAAAAAAAAAAAAAAAAAAAAAAAAAAAAAAAAAAAAAAAAAAAAAAAAAAAAAAAAAAAAAAAAAAAAAAAAAAAAAAAAAAAAAAAAAAAAAAAAAAAAAAAAAAAAAAAAAAAAAAAAAAAAAAAAAAAAAAAAAAAAAAAAAAAAAAAAAAAAAAAAAAAAAAAAAAAAAAAAAAAAAAAAAAAAAAAAAAAAAAAAAAAAAAAAAAAAAAAAAAAAAAAAAAAAAAAAAAAAAAAAAAAAAAAAAAAAAAAAAAAAAAAAAAAAAAAAAAAAAAAAAAAAAAAAAAAAAAAAAAAAAAAAAAAAAAAAAAAAAAAAAAAAAAAAAAAAAAAAAAAAAAAAAAAAAAAAAAAAAAAAAAAAAAAAAAAAAAAAAAAAAAAAAAAAAAAAAAAAAAAAAAAAAAAAAAAAAAAAAAAAAAAAAAAAAAAAAAAAAAAAAAAAAAAAAAAAAAAAAAAAAAAAAAAAAAAAAAAAAAAAAAAAAAAAAAAAAAAAAAAAAAAAAAAAAAAAAAAAAAAAAAAAAAAAAAAAAAAAAAAAAAAAAAAAAAAAAAAAAAAAAAAAAAAAAAAAAAAAAAAAAAAAAAAAAAAAAAAAAAAAAAAAAAAAAAAAAAAAAAAAAAAAAAAAAAAAAAAAAAAAAAAAAAAAAAAAAAAAAAAAAAAAAAAAAAAAAAAAAAAAAAAAAAAAAAAAAAAAAAAAAAAAAAAAAAAAAAAAAAAAAAAAAAAAAAAAAAAAAAAAAAAAAAAAAAAAAAAAAAAAAAAAAAAAAAAAAAAAAAAAAAAAAAAAAAAAAAAAAAAAAAAAAAAAAAAAAAAAAAAAAAAAAAAAAAAAAAAAAAAAAAAAAAAAAAAAAAAAAAAAAAAAAAAAAAAAAAAAAAAAAAAAAAAAAAAAAAAAAAAAAAAAAAAAAAAAAAAAAAAAAAAAAAAAAAAAAAAAAAAAAAAAAAAAAAAAAAAAAAAAAAAAAAAAAAAAAAAAAAAAAAAAAAAAAAAAAAAAAAAAAAAAAAAAAAAAAAAAAAAAAAAAAAAAAAAAAAAAAAAAAAAAAAAAAAAAAAAAAAAAAAAAAAAAAAAAAAAAAAAAAAAAAAAAAAAAAAAAAAAAAAAAAAAAAAAAAAAAAAAAAAAAAAAAAAAAAAAAAAAAAAAAAAAAAAAAAAAAAAAAAAAAAAAAAAAAAAAAAAAAAAAAAAAAAAAAAAAAAAAAAAAAAAAAAAAAAAAAAAAAAAAAAAAAAAAAAAAAAAAAAAAAAAAAAAAAAAAAAAAAAAAAAAAAAAAAAAAAAAAAAAAAAAAAAAAAAAAAAAAAAAAAAAAAAAAAAAAAAAAAAAAAAAAAAAAAAAAAAAAAAAAAAAAAAAAAAAAAAAAAAAAAAAAAAAAAAAAAAAAAAAAAAAAAAAAAAAAAAAAAAAAAAAAAAAAAAAAAAAAAAAAAAAAAAAAAAAAAAAAAAAAAAAAAAAAAAAAAAAAAAAAAAAAAAAAAAAAAAAAAAAAAAAAAAAAAAAAAAAAAAAAAAAAAAAAAAAAAAAAAAAAAAAAAAAAAAAAAAAAAAAAAAAAAAAAAAAAAAAAAAAAAAAAAAAAAAAAAAAAAAAAAAAAAAAAAAAAAAAAAAAAAAAAAAAAAAAAAAAAAAAAAAAAAAAAAAAAAAAAAAAAAAAAAAAAAAAAAAAAAAAAAAAAAAAAAAAAAAAAAAAAAAAAAAAAAAAAAAAAAAAAAAAAAAAAAAAAAAAAAAAAAAAAAAAAAAAAAAAAAAAAAAAAAAAAAAAAAAAAAAAAAAAAAAAAAAAAAAAAAAAAAAAAAAAAAAAAAAAAAAAAAAAAAAAAAAAAAAAAAAAAAAAAAAAAAAAAAAAAAAAAAAAAAAAAAAAAAAAAAAAAAAAAAAAAAAAAAAAAAAAAAAAAAAAAAAAAAAAAAAAAAAAAAAAAAAAAAAAAAAAAAAAAAAAAAAAAAAAAAAAAAAAAAAAAAAAAAAAAAAAAAAAAAAAAAAAAAAAAAAAAAAAAAAAAAAAAAAAAAAAAAAAAAAAAAAAAAAAAAAAAAAAAAAAAAAAAAAAAAAAAAAAAAAAAAAAAAAAAAAAAAAAAAAAAAAAAAAAAAAAAAAAAAAAAAAAAAAAAAAAAAAAAAAAAAAAAAAAAAAAAAAAAAAAAAAAAAAAAAAAAAAAAAAAAAAAAAAAAAAAAAAAAAAAAAAAAAAAAAAAAAAAAAAAAAAAAAAAAAAAAAAAAAAAAAAAAAAAAAAAAAAAAAAAAAAAAAAAAAAAAAAAAAAAAAAAAAAAAAAAAAAAAAAAAAAAAAAAAAAAAAAAAAAAAAAAAAAAAAAAAAAAAAAAAAAAAAAAAAAAAAAAAAAAAAAAAAAAAAAAAAAAAAAAAAAAAAAAAAAAAAAAAAAAAAAAAAAAAAAAAAAAAAAAAAAAAAAAAAAAAAAAAAAAAAAAAAAAAAAAAAAAAAAAAAAAAAAAAAAAAAAAAAAAAAAAAAAAAAAAAAAAAAAAAAAAAAAAAAAAAAAAAAAAAAAAAAAAAAAAAAAAAAAAAAAAAAAAAAAAAAAAAAAAAAAAAAAAAAAAAAAAAAAAAAAAAAAAAAAAAAAAAAAAAAAAAAAAAAAAAAAAAAAAAAAAAAAAAAAAAAAAAAAAAAAAAAAAAAAAAAAAAAAAAAAAAAAAAAAAAAAAAAAAAAAAAAAAAAAAAAAAAAAAAAAAAAAAAAAAAAAAAAAAAAAAAAAAAAAAAAAAAAAAAAAAAAAAAAAAAAAAAAAAAAAAAAAAAAAAAAAAAAAAAAAAAAAAAAAAAAAAAAAAAAAAAAAAAAAAAAAAAAAAAAAAAAAAAAAAAAAAAAAAAAAAAAAAAAAAAAAAAAAAAAAAAAAAAAAAAAAAAAAAAAAAAAAAAAAAAAAAAAAAAAAAAAAAAAAAAAAAAAAAAAAAAAAAAAAAAAAAAAAAAAAAAAAAAAAAAAAAAAAAAAAAAAAAAAAAAAAAAAAAAAAAAAAAAAAAAAAAAAAAAAAAAAAAAAAAAAAAAAAAAAAAAAAAAAAAAAAAAAAAAAAAAAAAAAAAAAAAAAAAAAAAAAAAAAAAAAAAAAAAAAAAAAAAAAAAAAAAAAAAAAAAAAAAAAAAAAAAAAAAAAAAAAAAAAAAAAAAAAAAAAAAAAAAAAAAAAAAAAAAAAAAAAAAAAAAAAAAAAAAAAAAAAAAAAAAAAAAAAAAAAAAAAAAAAAAAAAAAAAAAAAAAAAAAAAAAAAAAAAAAAAAAAAAAAAAAAAAAAAAAAAAAAAAAAAAAAAAAAAAAAAAAAAAAAAAAAAAAAAAAAAAAAAAAAAAAAAAAAAAAAAAAAAAAAAAAAAAAAAAAAAAAAAAAAAAAAAAAAAAAAAAAAAAAAAAAAAAAAAAAAAAAAAAAAAAAAAAAAAAAAAAAAAAAAAAAAAAAAAAAAAAAAAAAAAAAAAAAAAAAAAAAAAAAAAAAAAAAAAAAAAAAAAAAAAAAAAAAAAAAAAAAAAAAAAAAAAAAAAAAAAAAAAAAAAAAAAAAAAAAAAAAAAAAAAAAAAAAAAAAAAAAAAAAAAAAAAAAAAAAAAAAAAAAAAAAAAAAAAAAAAAAAAAAAAAAAAAAAAAAAAAAAAAAAAAAAAAAAAAAAAAAAAAAAAAAAAAAAAAAAAAAAAAAAAAAAAAAAAAAAAAAAAAAAAAAAAAAAAAAAAAAAAAAAAAAAAAAAAAAAAAAAAAAAAAAAAAAAAAAAAAAAAAAAAAAAAAAAAAAAAAAAAAAAAAAAAAAAAAAAAAAAAAAAAAAAAAAAAAAAAAAAAAAAAAAAAAAAAAAAAAAAAAAAAAAAAAAAAAAAAAAAAAAAAAAAAAAAAAAAAAAAAAAAAAAAAAAAAAAAAAAAAAAAAAAAAAAAAAAAAAAAAAAAAAAAAAAAAAAAAAAAAAAAAAAAAAAAAAAAAAAAAAAAAAAAAAAAAAAAAAAAAAAAAAAAAAAAAAAAAAAAAAAAAAAAAAAAAAAAAAAAAAAAAAAAAAAAAAAAAAAAAAAAAAAAAAAAAAAAAAAAAAAAAAAAAAAAAAAAAAAAAAAAAAAAAAAAAAAAAAAAAAAAAAAAAAAAAAAAAAAAAAAAAAAAAAAAAAAAAAAAAAAAAAAAAAAAAAAAAAAAAAAAAAAAAAAAAAAAAAAAAAAAAAAAAAAAAAAAAAAAAAAAAAAAAAAAAAAAAAAAAAAAAAAAAAAAAAAAAAAAAAAAAAAAAAAAAAAAAAAAAAAAAAAAAAAAAAAAAAAAAAAAAAAAAAAAAAAAAAAAAAAAAAAAAAAAAAAAAAAAAAAAAAAAAAAAAAAAAAAAAAAAAAAAAAAAAAAAAAAAAAAAAAAAAAAAAAAAAAAAAAAAAAAAAAAAAAAAAAAAAAAAAAAAAAAAAAAAAAAAAAAAAAAAAAAAAAAAAAAAAAAAAAAAAAAAAAAAAAAAAAAAAAAAAAAAAAAAAAAAAAAAAAAAAAAAAAAAAAAAAAAAAAAAAAAAAAAAAAAAAAAAAAAAAAAAAAAAAAAAAAAAAAAAAAAAAAAAAAAAAAAAAAAAAAAAAAAAAAAAAAAAAAAAAAAAAAAAAAAAAAAAAAAAAAAAAAAAAAAAAAAAAAAAAAAAAAAAAAAAAAAAAAAAAAAAAAAAAAAAAAAAAAAAAAAAAAAAAAAAAAAAAAAAAAAAAAAAAAAAAAAAAAAAAAAAAAAAAAAAAAAAAAAAAAAAAAAAAAAAAAAAAAAAAAAAAAAAAAAAAAAAAAAAAAAAAAAAAAAAAAAAAAAAAAAAAAAAAAAAAAAAAAAAAAAAAAAAAAAAAAAAAAAAAAAAAAAAAAAAAAAAAAAAAAAAAAAAAAAAAAAAAAAAAAAAAAAAAAAAAAAAAAAAAAAAAAAAAAAAAAAAAAAAAAAAAAAAAAAAAAAAAAAAAAAAAAAAAAAAAAAAAAAAAAAAAAAAAAAAAAAAAAAAAAAAAAAAAAAAAAAAAAAAAAAAAAAAAAAAAAAAAAAAAAAAAAAAAAAAAAAAAAAAAAAAAAAAAAAAAAAAAAAAAAAAAAAAAAAAAAAAAAAAAAAAAAAAAAAAAAAAAAAAAAAAAAAAAAAAAAAAAAAAAAAAAAAAAAAAAAAAAAAAAAAAAAAAAAAAAAAAAAAAAAAAAAAAAAAAAAAAAAAAAAAAAAAAAAAAAAAAAAAAAAAAAAAAAAAAAAAAAAAAAAAAAAAAAAAAAAAAAAAAAAAAAAAAAAAAAAAAAAAAAAAAAAAAAAAAAAAAAAAAAAAAAAAAAAAAAAAAAAAAAAAAAAAAAAAAAAAAAAAAAAAAAAAAAAAAAAAAAAAAAAAAAAAAAAAAAAAAAAAAAAAAAAAAAAAAAAAAAAAAAAAAAAAAAAAAAAAAAAAAAAAAAAAAAAAAAAAAAAAAAAAAAAAAAAAAAAAAAAAAAAAAAAAAAAAAAAAAAAAAAAAAAAAAAAAAAAAAAAAAAAAAAAAAAAAAAAAAAAAAAAAAAAAAAAAAAAAAAAAAAAAAAAAAAAAAAAAAAAAAAAAAAAAAAAAAAAAAAAAAAAAAAAAAAAAAAAAAAAAAAAAAAAAAAAAAAAAAAAAAAAAAAAAAAAAAAAAAAAAAAAAAAAAAAAAAAAAAAAAAAAAAAAAAAAAAAAAAAAAAAAAAAAAAAAAAAAAAAAAAAAAAAAAAAAAAAAAAAAAAAAAAAAAAAAAAAAAAAAAAAAAAAAAAAAAAAAAAAAAAAAAAAAAAAAAAAAAAAAAAAAAAAAAAAAAAAAAAAAAAAAAAAAAAAAAAAAAAAAAAAAAAAAAAAAAAAAAAAAAAAAAAAAAAAAAAAAAAAAAAAAAAAAAAAAAAAAAAAAAAAAAAAAAAAAAAAAAAAAAAAAAAAAAAAAAAAAAAAAAAAAAAAAAAAAAAAAAAAAAAAAAAAAAAAAAAAAAAAAAAAAAAAAAAAAAAAAAAAAAAAAAAAAAAAAAAAAAAAAAAAAAAAAAAAAAAAAAAAAAAAAAAAAAAAAAAAAAAAAAAAAAAAAAAAAAAAAAAAAAAAAAAAAAAAAAAAAAAAAAAAAAAAAAAAAAAAAAAAAAAAAAAAAAAAAAAAAAAAAAAAAAAAAAAAAAAAAAAAAAAAAAAAAAAAAAAAAAAAAAAAAAAAAAAAAAAAAAAAAAAAAAAAAAAAAAAAAAAAAAAAAAAAAAAAAAAAAAAAAAAAAAAAAAAAAAAAAAAAAAAAAAAAAAAAAAAAAAAAAAAAAAAAAAAAAAAAAAAAAAAAAAAAAAAAAAAAAAAAAAAAAAAAAAAAAAAAAAAAAAAAAAAAAAAAAAAAAAAAAAAAAAAAAAAAAAAAAAAAAAAAAAAAAAAAAAAAAAAAAAAAAAAAAAAAAAAAAAAAAAAAAAAAAAAAAAAAAAAAAAAAAAAAAAAAAAAAAAAAAAAAAAAAAAAAAAAAAAAAAAAAAAAAAAAAAAAAAAAAAAAAAAAAAAAAAAAAAAAAAAAAAAAAAAAAAAAAAAAAAAAAAAAAAAAAAAAAAAAAAAAAAAAAAAAAAAAAAAAAAAAAAAAAAAAAAAAAAAAAAAAAAAAAAAAAAAAAAAAAAAAAAAAAAAAAAAAAAAAAAAAAAAAAAAAAAAAAAAAAAAAAAAAAAAAAAAAAAAAAAAAAAAAAAAAAAAAAAAAAAAAAAAAAAAAAAAAAAAAAAAAAAAAAAAAAAAAAAAAAAAAAAAAAAAAAAAAAAAAAAAAAAAAAAAAAAAAAAAAAAAAAAAAAAAAAAAAAAAAAAAAAAAAAAAAAAAAAAAAAAAAAAAAAAAAAAAAAAAAAAAAAAAAAAAAAAAAAAAAAAAAAAAAAAAAAAAAAAAAAAAAAAAAAAAAAAAAAAAAAAAAAAAAAAAAAAAAAAAAAAAAAAAAAAAAAAAAAAAAAAAAAAAAAAAAAAAAAAAAAAAAAAAAAAAAAAAAAAAAAAAAAAAAAAAAAAAAAAAAAAAAAAAAAAAAAAAAAAAAAAAAAAAAAAAAAAAAAAAAAAAAAAAAAAAAAAAAAAAAAAAAAAAAAAAAAAAAAAAAAAAAAAAAAAAAAAAAAAAAAAAAAAAAAAAAAAAAAAAAAAAAAAAAAAAAAAAAAAAAAAAAAAAAAAAAAAAAAAAAAAAAAAAAAAAAAAAAAAAAAAAAAAAAAAAAAAAAAAAAAAAAAAAAAAAAAAAAAAAAAAAAAAAAAAAAAAAAAAAAAAAAAAAAAAAAAAAAAAAAAAAAAAAAAAAAAAAAAAAAAAAAAAAAAAAAAAAAAAAAAAAAAAAAAAAAAAAAAAAAAAAAAAAAAAAAAAAAAAAAAAAAAAAAAAAAAAAAAAAAAAAAAAAAAAAAAAAAAAAAAAAAAAAAAAAAAAAAAAAAAAAAAAAAAAAAAAAAAAAAAAAAAAAAAAAAAAAAAAAAAAAAAAAAAAAAAAAAAAAAAAAAAAAAAAAAAAAAAAAAAAAAAAAAAAAAAAAAAAAAAAAAAAAAAAAAAAAAAAAAAAAAAAAAAAAAAAAAAAAAAAAAAAAAAAAAAAAAAAAAAAAAAAAAAAAAAAAAAAAAAAAAAAAAAAAAAAAAAAAAAAAAAAAAAAAAAAAAAAAAAAAAAAAAAAAAAAAAAAAAAAAAAAAAAAAAAAAAAAAAAAAAAAAAAAAAAAAAAAAAAAAAAAAAAAAAAAAAAAAAAAAAAAAAAAAAAAAAAAAAAAAAAAAAAAAAAAAAAAAAAAAAAAAAAAAAAAAAAAAAAAAAAAAAAAAAAAAAAAAAAAAAAAAAAAAAAAAAAAAAAAAAAAAAAAAAAAAAAAAAAAAAAAAAAAAAAAAAAAAAAAAAAAAAAAAAAAAAAAAAAAAAAAAAAAAAAAAAAAAAAAAAAAAAAAAAAAAAAAAAAAAAAAAAAAAAAAAAAAAAAAAAAAAAAAAAAAAAAAAAAAAAAAAAAAAAAAAAAAAAAAAAAAAAAAAAAAAAAAAAAAAAAAAAAAAAAAAAAAAAAAAAAAAAAAAAAAAAAAAAAAAAAAAAAAAAAAAAAAAAAAAAAAAAAAAAAAAAAAAAAAAAAAAAAAAAAAAAAAAAAAAAAAAAAAAAAAAAAAAAAAAAAAAAAAAAAAAAAAAAAAAAAAAAAAAAAAAAAAAAAAAAAAAAAAAAAAAAAAAAAAAAAAAAAAAAAAAAAAAAAAAAAAAAAAAAAAAAAAAAAAAAAAAAAAAAAAAAAAAAAAAAAAAAAAAAAAAAAAAAAAAAAAAAAAAAAAAAAAAAAAAAAAAAAAAAAAAAAAAAAAAAAAAAAAAAAAAAAAAAAAAAAAAAAAAAAAAAAAAAAAAAAAAAAAAAAAAAAAAAAAAAAAAAAAAAAAAAAAAAAAAAAAAAAAAAAAAAAAAAAAAAAAAAAAAAAAAAAAAAAAAAAAAAAAAAAAAAAAAAAAAAAAAAAAAAAAAAAAAAAAAAAAAAAAAAAAAAAAAAAAAAAAAAAAAAAAAAAAAAAAAAAAAAAAAAAAAAAAAAAAAAAAAAAAAAAAAAAAAAAAAAAAAAAAAAAAAAAAAAAAAAAAAAAAAAAAAAAAAAAAAAAAAAAAAAAAAAAAAAAAAAAAAAAAAAAAAAAAAAAAAAAAAAAAAAAAAAAAAAAAAAAAAAAAAAAAAAAAAAAAAAAAAAAAAAAAAAAAAAAAAAAAAAAAAAAAAAAAAAAAAAAAAAAAAAAAAAAAAAAAAAAAAAAAAAAAAAAAAAAAAAAAAAAAAAAAAAAAAAAAAAAAAAAAAAAAAAAAAAAAAAAAAAAAAAAAAAAAAAAAAAAAAAAAAAAAAAAAAAAAAAAAAAAAAAAAAAAAAAAAAAAAAAAAAAAAAAAAAAAAAAAAAAAAAAAAAAAAAAAAAAAAAAAAAAAAAAAAAAAAAAAAAAAAAAAAAAAAAAAAAAAAAAAAAAAAAAAAAAAAAAAAAAAAAAAAAAAAAAAAAAAAAAAAAAAAAAAAAAAAAAAAAAAAAAAAAAAAAAAAAAAAAAAAAAAAAAAAAAAAAAAAAAAAAAAAAAAAAAAAAAAAAAAAAAAAAAAAAAAAAAAAAAAAAAAAAAAAAAAAAAAAAAAAAAAAAAAAAAAAAAAAAAAAAAAAAAAAAAAAAAAAAAAAAAAAAAAAAAAAAAAAAAAAAAAAAAAAAAAAAAAAAAAAAAAAAAAAAAAAAAAAAAAAAAAAAAAAAAAAAAAAAAAAAAAAAAAAAAAAAAAAAAAAAAAAAAAAAAAAAAAAAAAAAAAAAAAAAAAAAAAAAAAAAAAAAAAAAAAAAAAAAAAAAAAAAAAAAAAAAAAAAAAAAAAAAAAAAAAAAAAAAAAAAAAAAAAAAAAAAAAAAAAAAAAAAAAAAAAAAAAAAAAAAAAAAAAAAAAAAAAAAAAAAAAAAAAAAAAAAAAAAAAAAAAAAAAAAAAAAAAAAAAAAAAAAAAAAAAAAAAAAAAAAAAAAAAAAAAAAAAAAAAAAAAAAAAAAAAAAAAAAAAAAAAAAAAAAAAAAAAAAAAAAAAAAAAAAAAAAAAAAAAAAAAAAAAAAAAAAAAAAAAAAAAAAAAAAAAAAAAAAAAAAAAAAAAAAAAAAAAAAAAAAAAAAAAAAAAAAAAAAAAAAAAAAAAAAAAAAAAAAAAAAAAAAAAAAAAAAAAAAAAAAAAAAAAAAAAAAAAAAAAAAAAAAAAAAAAAAAAAAAAAAAAAAAAAAAAAAAAAAAAAAAAAAAAAAAAAAAAAAAAAAAAAAAAAAAAAAAAAAAAAAAAAAAAAAAAAAAAAAAAAAAAAAAAAAAAAAAAAAAAAAAAAAAAAAAAAAAAAAAAAAAAAAAAAAAAAAAAAAAAAAAAAAAAAAAAAAAAAAAAAAAAAAAAAAAAAAAAAAAAAAAAAAAAAAAAAAAAAAAAAAAAAAAAAAAAAAAAAAAAAAAAAAAAAAAAAAAAAAAAAAAAAAAAAAAAAAAAAAAAAAAAAAAAAAAAAAAAAAAAAAAAAAAAAAAAAAAAAAAAAAAAAAAAAAAAAAAAAAAAAAAAAAAAAAAAAAAAAAAAAAAAAAAAAAAAAAAAAAAAAAAAAAAAAAAAAAAAAAAAAAAAAAAAAAAAAAAAAAAAAAAAAAAAAAAAAAAAAAAAAAAAAAAAAAAAAAAAAAAAAAAAAAAAAAAAAAAAAAAAAAAAAAAAAAAAAAAAAAAAAAAAAAAAAAAAAAAAAAAAAAAAAAAAAAAAAAAAAAAAAAAAAAAAAAAAAAAAAAAAAAAAAAAAAAAAAAAAAAAAAAAAAAAAAAAAAAAAAAAAAAAAAAAAAAAAAAAAAAAAAAAAAAAAAAAAAAAAAAAAAAAAAAAAAAAAAAAAAAAAAAAAAAAAAAAAAAAAAAAAAAAAAAAAAAAAAAAAAAAAAAAAAAAAAAAAAAAAAAAAAAAAAAAAAAAAAAAAAAAAAAAAAAAAAAAAAAAAAAAAAAAAAAAAAAAAAAAAAAAAAAAAAAAAAAAAAAAAAAAAAAAAAAAAAAAAAAAAAAAAAAAAAAAAAAAAAAAAAAAAAAAAAAAAAAAAAAAAAAAAAAAAAAAAAAAAAAAAAAAAAAAAAAAAAAAAAAAAAAAAAAAAAAAAAAAAAAAAAAAAAAAAAAAAAAAAAAAAAAAAAAAAAAAAAAAAAAAAAAAAAAAAAAAAAAAAAAAAAAAAAAAAAAAAAAAAAAAAAAAAAAAAAAAAAAAAAAAAAAAAAAAAAAAAAAAAAAAAAAAAAAAAAAAAAAAAAAAAAAAAAAAAAAAAAAAAAAAAAAAAAAAAAAAAAAAAAAAAAAAAAAAAAAAAAAAAAAAAAAAAAAAAAAAAAAAAAAAAAAAAAAAAAAAAAAAAAAAAAAAAAAAAAAAAAAAAAAAAAAAAAAAAAAAAAAAAAAAAAAAAAAAAAAAAAAAAAAAAAAAAAAAAAAAAAAAAAAAAAAAAAAAAAAAAAAAAAAAAAAAAAAAAAAAAAAAAAAAAAAAAAAAAAAAAAAAAAAAAAAAAAAAAAAAAAAAAAAAAAAAAAAAAAAAAAAAAAAAAAAAAAAAAAAAAAAAAAAAAAAAAAAAAAAAAAAAAAAAAAAAAAAAAAAAAAAAAAAAAAAAAAAAAAAAAAAAAAAAAAAAAAAAAAAAAAAAAAAAAAAAAAAAAAAAAAAAAAAAAAAAAAAAAAAAAAAAAAAAAAAAAAAAAAAAAAAAAAAAAAAAAAAAAAAAAAAAAAAAAAAAAAAAAAAAAAAAAAAAAAAAAAAAAAAAAAAAAAAAAAAAAAAAAAAAAAAAAAAAAAAAAAAAAAAAAAAAAAAAAAAAAAAAAAAAAAAAAAAAAAAAAAAAAAAAAAAAAAAAAAAAAAAAAAAAAAAAAAAAAAAAAAAAAAAAAAAAAAAAAAAAAAAAAAAAAAAAAAAAAAAAAAAAAAAAAAAAAAAAAAAAAAAAAAAAAAAAAAAAAAAAAAAAAAAAAAAAAAAAAAAAAAAAAAAAAAAAAAAAAAAAAAAAAAAAAAAAAAAAAAAAAAAAAAAAAAAAAAAAAAAAAAAAAAAAAAAAAAAAAAAAAAAAAAAAAAAAAAAAAAAAAAAAAAAAAAAAAAAAAAAAAAAAAAAAAAAAAAAAAAAAAAAAAAAAAAAAAAAAAAAAAAAAAAAAAAAAAAAAAAAAAAAAAAAAAAAAAAAAAAAAAAAAAAAAAAAAAAAAAAAAAAAAAAAAAAAAAAAAAAAAAAAAAAAAAAAAAAAAAAAAAAAAAAAAAAAAAAAAAAAAAAAAAAAAAAAAAAAAAAAAAAAAAAAAAAAAAAAAAAAAAAAAAAAAAAAAAAAAAAAAAAAAAAAAAAAAAAAAAAAAAAAAAAAAAAAAAAAAAAAAAAAAAAAAAAAAAAAAAAAAAAAAAAAAAAAAAAAAAAAAAAAAAAAAAAAAAAAAAAAAAAAAAAAAAAAAAAAAAAAAAAAAAAAAAAAAAAAAAAAAAAAAAAAAAAAAAAAAAAAAAAAAAAAAAAAAAAAAAAAAAAAAAAAAAAAAAAAAAAAAAAAAAAAAAAAAAAAAAAAAAAAAAAAAAAAAAAAAAAAAAAAAAAAAAAAAAAAAAAAAAAAAAAAAAAAAAAAAAAAAAAAAAAAAAAAAAAAAAAAAAAAAAAAAAAAAAAAAAAAAAAAAAAAAAAAAAAAAAAAAAAAAAAAAAAAAAAAAAAAAAAAAAAAAAAAAAAAAAAAAAAAAAAAAAAAAAAAAAAAAAAAAAAAAAAAAAAAAAAAAAAAAAAAAAAAAAAAAAAAAAAAAAAAAAAAAAAAAAAAAAAAAAAAAAAAAAAAAAAAAAAAAAAAAAAAAAAAAAAAAAAAAAAAAAAAAAAAAAAAAAAAAAAAAAAAAAAAAAAAAAAAAAAAAAAAAAAAAAAAAAAAAAAAAAAAAAAAAAAAAAAAAAAAAAAAAAAAAAAAAAAAAAAAAAAAAAAAAAAAAAAAAAAAAAAAAAAAAAAAAAAAAAAAAAAAAAAAAAAAAAAAAAAAAAAAAAAAAAAAAAAAAAAAAAAAAAAAAAAAAAAAAAAAAAAAAAAAAAAAAAAAAAAAAAAAAAAAAAAAAAAAAAAAAAAAAAAAAAAAAAAAAAAAAAAAAAAAAAAAAAAAAAAAAAAAAAAAAAAAAAAAAAAAAAAAAAAAAAAAAAAAAAAAAAAAAAAAAAAAAAAAAAAAAAAAAAAAAAAAAAAAAAAAAAAAAAAAAAAAAAAAAAAAAAAAAAAAAAAAAAAAAAAAAAAAAAAAAAAAAAAAAAAAAAAAAAAAAAAAAAAAAAAAAAAAAAAAAAAAAAAAAAAAAAAAAAAAAAAAAAAAAAAAAAAAAAAAAAAAAAAAAAAAAAAAAAAAAAAAAAAAAAAAAAAAAAAAAAAAAAAAAAAAAAAAAAAAAAAAAAAAAAAAAAAAAAAAAAAAAAAAAAAAAAAAAAAAAAAAAAAAAAAAAAAAAAAAAAAAAAAAAAAAAAAAAAAAAAAAAAAAAAAAAAAAAAAAAAAAAAAAAAAAAAAAAAAAAAAAAAAAAAAAAAAAAAAAAAAAAAAAAAAAAAAAAAAAAAAAAAAAAAAAAAAAAAAAAAAAAAAAAAAAAAAAAAAAAAAAAAAAAAAAAAAAAAAAAAAAAAAAAAAAAAAAAAAAAAAAAAAAAAAAAAAAAAAAAAAAAAAAAAAAAAAAAAAAAAAAAAAAAAAAAAAAAAAAAAAAAAAAAAAAAAAAAAAAAAAAAAAAAAAAAAAAAAAAAAAAAAAAAAAAAAAAAAAAAAAAAAAAAAAAAAAAAAAAAAAAAAAAAAAAAAAAAAAAAAAAAAAAAAAAAAAAAAAAAAAAAAAAAAAAAAAAAAAAAAAAAAAAAAAAAAAAAAAAAAAAAAAAAAAAAAAAAAAAAAAAAAAAAAAAAAAAAAAAAAAAAAAAAAAAAAAAAAAAAAAAAAAAAAAAAAAAAAAAAAAAAAAAAAAAAAAAAAAAAAAAAAAAAAAAAAAAAAAAAAAAAAAAAAAAAAAAAAAAAAAAAAAAAAAAAAAAAAAAAAAAAAAAAAAAAAAAAAAAAAAAAAAAAAAAAAAAAAAAAAAAAAAAAAAAAAAAAAAAAAAAAAAAAAAAAAAAAAAAAAAAAAAAAAAAAAAAAAAAAAAAAAAAAAAAAAAAAAAAAAAAAAAAAAAAAAAAAAAAAAAAAAAAAAAAAAAAAAAAAAAAAAAAAAAAAAAAAAAAAAAAAAAAAAAAAAAAAAAAAAAAAAAAAAAAAAAAAAAAAAAAAAAAAAAAAAAAAAAAAAAAAAAAAAAAAAAAAAAAAAAAAAAAAAAAAAAAAAAAAAAAAAAAAAAAAAAAAAAAAAAAAAAAAAAAAAAAAAAAAAAAAAAAAAAAAAAAAAAAAAAAAAAAAAAAAAAAAAAAAAAAAAAAAAAAAAAAAAAAAAAAAAAAAAAAAAAAAAAAAAAAAAAAAAAAAAAAAAAAAAAAAAAAAAAAAAAAAAAAAAAAAAAAAAAAAAAAAAAAAAAAAAAAAAAAAAAAAAAAAAAAAAAAAAAAAAAAAAAAAAAAAAAAAAAAAAAAAAAAAAAAAAAAAAAAAAAAAAAAAAAAAAAAAAAAAAAAAAAAAAAAAAAAAAAAAAAAAAAAAAAAAAAAAAAAAAAAAAAAAAAAAAAAAAAAAAAAAAAAAAAAAAAAAAAAAAAAAAAAAAAAAAAAAAAAAAAAAAAAAAAAAAAAAAAAAAAAAAAAAAAAAAAAAAAAAAAAAAAAAAAAAAAAAAAAAAAAAAAAAAAAAAAAAAAAAAAAAAAAAAAAAAAAAAAAAAAAAAAAAAAAAAAAAAAAAAAAAAAAAAAAAAAAAAAAAAAAAAAAAAAAAAAAAAAAAAAAAAAAAAAAAAAAAAAAAAAAAAAAAAAAAAAAAAAAAAAAAAAAAAAAAAAAAAAAAAAAAAAAAAAAAAAAAAAAAAAAAAAAAAAAAAAAAAAAAAAAAAAAAAAAAAAAAAAAAAAAAAAAAAAAAAAAAAAAAAAAAAAAAAAAAAAAAAAAAAAAAAAAAAAAAAAAAAAAAAAAAAAAAAAAAAAAAAAAAAAAAAAAAAAAAAAAAAAAAAAAAAAAAAAAAAAAAAAAAAAAAAAAAAAAAAAAAAAAAAAAAAAAAAAAAAAAAAAAAAAAAAAAAAAAAAAAAAAAAAAAAAAAAAAAAAAAAAAAAAAAAAAAAAAAAAAAAAAAAAAAAAAAAAAAAAAAAAAAAAAAAAAAAAAAAAAAAAAAAAAAAAAAAAAAAAAAAAAAAAAAAAAAAAAAAAAAAAAAAAAAAAAAAAAAAAAAAAAAAAAAAAAAAAAAAAAAAAAAAAAAAAAAAAAAAAAAAAAAAAAAAAAAAAAAAAAAAAAAAAAAAAAAAAAAAAAAAAAAAAAAAAAAAAAAAAAAAAAAAAAAAAAAAAAAAAAAAAAAAAAAAAAAAAAAAAAAAAAAAAAAAAAAAAAAAAAAAAAAAAAAAAAAAAAAAAAAAAAAAAAAAAAAAAAAAAAAAAAAAAAAAAAAAAAAAAAAAAAAAAAAAAAAAAAAAAAAAAAAAAAAAAAAAAAAAAAAAAAAAAAAAAAAAAAAAAAAAAAAAAAAAAAAAAAAAAAAAAAAAAAAAAAAAAAAAAAAAAAAAAAAAAAAAAAAAAAAAAAAAAAAAAAAAAAAAAAAAAAAAAAAAAAAAAAAAAAAAAAAAAAAAAAAAAAAAAAAAAAAAAAAAAAAAAAAAAAAAAAAAAAAAAAAAAAAAAAAAAAAAAAAAAAAAAAAAAAAAAAAAAAAAAAAAAAAAAAAAAAAAAAAAAAAAAAAAAAAAAAAAAAAAAAAAAAAAAAAAAAAAAAAAAAAAAAAAAAAAAAAAAAAAAAAAAAAAAAAAAAAAAAAAAAAAAAAAAAAAAAAAAAAAAAAAAAAAAAAAAAAAAAAAAAAAAAAAAAAAAAAAAAAAAAAAAAAAAAAAAAAAAAAAAAAAAAAAAAAAAAAAAAAAAAAAAAAAAAAAAAAAAAAAAAAAAAAAAAAAAAAAAAAAAAAAAAAAAAAAAAAAAAAAAAAAAAAAAAAAAAAAAAAAAAAAAAAAAAAAAAAAAAAAAAAAAAAAAAAAAAAAAAAAAAAAAAAAAAAAAAAAAAAAAAAAAAAAAAAAAAAAAAAAAAAAAAAAAAAAAAAAAAAAAAAAAAAAAAAAAAAAAAAAAAAAAAAAAAAAAAAAAAAAAAAAAAAAAAAAAAAAAAAAAAAAAAAAAAAAAAAAAAAAAAAAAAAAAAAAAAAAAAAAAAAAAAAAAAAAAAAAAAAAAAAAAAAAAAAAAAAAAAAAAAAAAAAAAAAAAAAAAAAAAAAAAAAAAAAAAAAAAAAAAAAAAAAAAAAAAAAAAAAAAAAAAAAAAAAAAAAAAAAAAAAAAAAAAAAAAAAAAAAAAAAAAAAAAAAAAAAAAAAAAAAAAAAAAAAAAAAAAAAAAAAAAAAAAAAAAAAAAAAAAAAAAAAAAAAAAAAAAAAAAAAAAAAAAAAAAAAAAAAAAAAAAAAAAAAAAAAAAAAAAAAAAAAAAAAAAAAAAAAAAAAAAAAAAAAAAAAAAAAAAAAAAAAAAAAAAAAAAAAAAAAAAAAAAAAAAAAAAAAAAAAAAAAAAAAAAAAAAAAAAAAAAAAAAAAAAAAAAAAAAAAAAAAAAAAAAAAAAAAAAAAAAAAAAAAAAAAAAAAAAAAAAAAAAAAAAAAAAAAAAAAAAAAAAAAAAAAAAAAAAAAAAAAAAAAAAAAAAAAAAAAAAAAAAAAAAAAAAAAAAAAAAAAAAAAAAAAAAAAAAAAAAAAAAAAAAAAAAAAAAAAAAAAAAAAAAAAAAAAAAAAAAAAAAAAAAAAAAAAAAAAAAAAAAAAAAAAAAAAAAAAAAAAAAAAAAAAAAAAAAAAAAAAAAAAAAAAAAAAAAAAAAAAAAAAAAAAAAAAAAAAAAAAAAAAAAAAAAAAAAAAAAAAAAAAAAAAAAAAAAAAAAAAAAAAAAAAAAAAAAAAAAAAAAAAAAAAAAAAAAAAAAAAAAAAAAAAAAAAAAAAAAAAAAAAAAAAAAAAAAAAAAAAAAAAAAAAAAAAAAAAAAAAAAAAAAAAAAAAAAAAAAAAAAAAAAAAAAAAAAAAAAAAAAAAAAAAAAAAAAAAAAAAAAAAAAAAAAAAAAAAAAAAAAAAAAAAAAAAAAAAAAAAAAAAAAAAAAAAAAAAAAAAAAAAAAAAAAAAAAAAAAAAAAAAAAAAAAAAAAAAAAAAAAAAAAAAAAAAAAAAAAAAAAAAAAAAAAAAAAAAAAAAAAAAAAAAAAAAAAAAAAAAAAAAAAAAAAAAAAAAAAAAAAAAAAAAAAAAAAAAAAAAAAAAAAAAAAAAAAAAAAAAAAAAAAAAAAAAAAAAAAAAAAAAAAAAAAAAAAAAAAAAAAAAAAAAAAAAAAAAAAAAAAAAAAAAAAAAAAAAAAAAAAAAAAAAAAAAAAAAAAAAAAAAAAAAAAAAAAAAAAAAAAAAAAAAAAAAAAAAAAAAAAAAAAAAAAAAAAAAAAAAAAAAAAAAAAAAAAAAAAAAAAAAAAAAAAAAAAAAAAAAAAAAAAAAAAAAAAAAAAAAAAAAAAAAAAAAAAAAAAAAAAAAAAAAAAAAAAAAAAAAAAAAAAAAAAAAAAAAAAAAAAAAAAAAAAAAAAAAAAAAAAAAAAAAAAAAAAAAAAAAAAAAAAAAAAAAAAAAAAAAAAAAAAAAAAAAAAAAAAAAAAAAAAAAAAAAAAAAAAAAAAAAAAAAAAAAAAAAAAAAAAAAAAAAAAAAAAAAAAAAAAAAAAAAAAAAAAAAAAAAAAAAAAAAAAAAAAAAAAAAAAAAAAAAAAAAAAAAAAAAAAAAAAAAAAAAAAAAAAAAAAAAAAAAAAAAAAAAAAAAAAAAAAAAAAAAAAAAAAAAAAAAAAAAAAAAAAAAAAAAAAAAAAAAAAAAAAAAAAAAAAAAAAAAAAAAAAAAAAAAAAAAAAAAAAAAAAAAAAAAAAAAAAAAAAAAAAAAAAAAAAAAAAAAAAAAAAAAAAAAAAAAAAAAAAAAAAAAAAAAAAAAAAAAAAAAAAAAAAAAAAAAAAAAAAAAAAAAAAAAAAAAAAAAAAAAAAAAAAAAAAAAAAAAAAAAAAAAAAAAAAAAAAAAAAAAAAAAAAAAAAAAAAAAAAAAAAAAAAAAAAAAAAAAAAAAAAAAAAAAAAAAAAAAAAAAAAAAAAAAAAAAAAAAAAAAAAAAAAAAAAAAAAAAAAAAAAAAAAAAAAAAAAAAAAAAAAAAAAAAAAAAAAAAAAAAAAAAAAAAAAAAAAAAAAAAAAAAAAAAAAAAAAAAAAAAAAAAAAAAAAAAAAAAAAAAAAAAAAAAAAAAAAAAAAAAAAAAAAAAAAAAAAAAAAAAAAAAAAAAAAAAAAAAAAAAAAAAAAAAAAAAAAAAAAAAAAAAAAAAAAAAAAAAAAAAAAAAAAAAAAAAAAAAAAAAAAAAAAAAAAAAAAAAAAAAAAAAAAAAAAAAAAAAAAAAAAAAAAAAAAAAAAAAAAAAAAAAAAAAAAAAAAAAAAAAAAAAAAAAAAAAAAAAAAAAAAAAAAAAAAAAAAAAAAAAAAAAAAAAAAAAAAAAAAAAAAAAAAAAAAAAAAAAAAAAAAAAAAAAAAAAAAAAAAAAAAAAAAAAAAAAAAAAAAAAAAAAAAAAAAAAAAAAAAAAAAAAAAAAAAAAAAAAAAAAAAAAAAAAAAAAAAAAAAAAAAAAAAAAAAAAAAAAAAAAAAAAAAAAAAAAAAAAAAAAAAAAAAAAAAAAAAAAAAAAAAAAAAAAAAAAAAAAAAAAAAAAAAAAAAAAAAAAAAAAAAAAAAAAAAAAAAAAAAAAAAAAAAAAAAAAAAAAAAAAAAAAAAAAAAAAAAAAAAAAAAAAAAAAAAAAAAAAAAAAAAAAAAAAAAAAAAAAAAAAAAAAAAAAAAAAAAAAAAAAAAAAAAAAAAAAAAAAAAAAAAAAAAAAAAAAAAAAAAAAAAAAAAAAAAAAAAAAAAAAAAAAAAAAAAAAAAAAAAAAAAAAAAAAAAAAAAAAAAAAAAAAAAAAAAAAAAAAAAAAAAAAAAAAAAAAAAAAAAAAAAAAAAAAAAAAAAAAAAAAAAAAAAAAAAAAAAAAAAAAAAAAAAAAAAAAAAAAAAAAAAAAAAAAAAAAAAAAAAAAAAAAAAAAAAAAAAAAAAAAAAAAAAAAAAAAAAAAAAAAAAAAAAAAAAAAAAAAAAAAAAAAAAAAAAAAAAAAAAAAAAAAAAAAAAAAAAAAAAAAAAAAAAAAAAAAAAAAAAAAAAAAAAAAAAAAAAAAAAAAAAAAAAAAAAAAAAAAAAAAAAAAAAAAAAAAAAAAAAAAAAAAAAAAAAAAAAAAAAAAAAAAAAAAAAAAAAAAAAAAAAAAAAAAAAAAAAAAAAAAAAAAAAAAAAAAAAAAAAAAAAAAAAAAAAAAAAAAAAAAAAAAAAAAAAAAAAAAAAAAAAAAAAAAAAAAAAAAAAAAAAAAAAAAAAAAAAAAAAAAAAAAAAAAAAAAAAAAAAAAAAAAAAAAAAAAAAAAAAAAAAAAAAAAAAAAAAAAAAAAAAAAAAAAAAAAAAAAAAAAAAAAAAAAAAAAAAAAAAAAAAAAAAAAAAAAAAAAAAAAAAAAAAAAAAAAAAAAAAAAAAAAAAAAAAAAAAAAAAAAAAAAAAAAAAAAAAAAAAAAAAAAAAAAAAAAAAAAAAAAAAAAAAAAAAAAAAAAAAAAAAAAAAAAAAAAAAAAAAAAAAAAAAAAAAAAAAAAAAAAAAAAAAAAAAAAAAAAAAAAAAAAAAAAAAAAAAAAAAAAAAAAAAAAAAAAAAAAAAAAAAAAAAAAAAAAAAAAAAAAAAAAAAAAAAAAAAAAAAAAAAAAAAAAAAAAAAAAAAAAAAAAAAAAAAAAAAAAAAAAAAAAAAAAAAAAAAAAAAAAAAAAAAAAAAAAAAAAAAAAAAAAAAAAAAAAAAAAAAAAAAAAAAAAAAAAAAAAAAAAAAAAAAAAAAAAAAAAAAAAAAAAAAAAAAAAAAAAAAAAAAAAAAAAAAAAAAAAAAAAAAAAAAAAAAAAAAAAAAAAAAAAAAAAAAAAAAAAAAAAAAAAAAAAAAAAAAAAAAAAAAAAAAAAAAAAAAAAAAAAAAAAAAAAAAAAAAAAAAAAAAAAAAAAAAAAAAAAAAAAAAAAAAAAAAAAAAAAAAAAAAAAAAAAAAAAAAAAAAAAAAAAAAAAAAAAAAAAAAAAAAAAAAAAAAAAAAAAAAAAAAAAAAAAAAAAAAAAAAAAAAAAAAAAAAAAAAAAAAAAAAAAAAAAAAAAAAAAAAAAAAAAAAAAAAAAAAAAAAAAAAAAAAAAAAAAAAAAAAAAAAAAAAAAAAAAAAAAAAAAAAAAAAAAAAAAAAAAAAAAAAAAAAAAAAAAAAAAAAAAAAAAAAAAAAAAAAAAAAAAAAAAAAAAAAAAAAAAAAAAAAAAAAAAAAAAAAAAAAAAAAAAAAAAAAAAAAAAAAAAAAAAAAAAAAAAAAAAAAAAAAAAAAAAAAAAAAAAAAAAAAAAAAAAAAAAAAAAAAAAAAAAAAAAAAAAAAAAAAAAAAAAAAAAAAAAAAAAAAAAAAAAAAAAAAAAAAAAAAAAAAAAAAAAAAAAAAAAAAAAAAAAAAAAAAAAAAAAAAAAAAAAAAAAAAAAAAAAAAAAAAAAAAAAAAAAAAAAAAAAAAAAAAAAAAAAAAAAAAAAAAAAAAAAAAAAAAAAAAAAAAAAAAAAAAAAAAAAAAAAAAAAAAAAAAAAAAAAAAAAAAAAAAAAAAAAAAAAAAAAAAAAAAAAAAAAAAAAAAAAAAAAAAAAAAAAAAAAAAAAAAAAAAAAAAAAAAAAAAAAAAAAAAAAAAAAAAAAAAAAAAAAAAAAAAAAAAAAAAAAAAAAAAAAAAAAAAAAAAAAAAAAAAAAAAAAAAAAAAAAAAAAAAAAAAAAAAAAAAAAAAAAAAAAAAAAAAAAAAAAAAAAAAAAAAAAAAAAAAAAAAAAAAAAAAAAAAAAAAAAAAAAAAAAAAAAAAAAAAAAAAAAAAAAAAAAAAAAAAAAAAAAAAAAAAAAAAAAAAAAAAAAAAAAAAAAAAAAAAAAAAAAAAAAAAAAAAAAAAAAAAAAAAAAAAAAAAAAAAAAAAAAAAAAAAAAAAAAAAAAAAAAAAAAAAAAAAAAAAAAAAAAAAAAAAAAAAAAAAAAAAAAAAAAAAAAAAAAAAAAAAAAAAAAAAAAAAAAAAAAAAAAAAAAAAAAAAAAAAAAAAAAAAAAAAAAAAAAAAAAAAAAAAAAAAAAAAAAAAAAAAAAAAAAAAAAAAAAAAAAAAAAAAAAAAAAAAAAAAAAAAAAAAAAAAAAAAAAAAAAAAAAAAAAAAAAAAAAAAAAAAAAAAAAAAAAAAAAAAAAAAAAAAAAAAAAAAAAAAAAAAAAAAAAAAAAAAAAAAAAAAAAAAAAAAAAAAAAAAAAAAAAAAAAAAAAAAAAAAAAAAAAAAAAAAAAAAAAAAAAAAAAAAAAAAAAAAAAAAAAAAAAAAAAAAAAAAAAAAAAAAAAAAAAAAAAAAAAAAAAAAAAAAAAAAAAAAAAAAAAAAAAAAAAAAAAAAAAAAAAAAAAAAAAAAAAAAAAAAAAAAAAAAAAAAAAAAAAAAAAAAAAAAAAAAAAAAAAAAAAAAAAAAAAAAAAAAAAAAAAAAAAAAAAAAAAAAAAAAAAAAAAAAAAAAAAAAAAAAAAAAAAAAAAAAAAAAAAAAAAAAAAAAAAAAAAAAAAAAAAAAAAAAAAAAAAAAAAAAAAAAAAAAAAAAAAAAAAAAAAAAAAAAAAAAAAAAAAAAAAAAAAAAAAAAAAAAAAAAAAAAAAAAAAAAAAAAAAAAAAAAAAAAAAAAAAAAAAAAAAAAAAAAAAAAAAAAAAAAAAAAAAAAAAAAAAAAAAAAAAAAAAAAAAAAAAAAAAAAAAAAAAAAAAAAAAAAAAAAAAAAAAAAAAAAAAAAAAAAAAAAAAAAAAAAAAAAAAAAAAAAAAAAAAAAAAAAAAAAAAAAAAAAAAAAAAAAAAAAAAAAAAAAAAAAAAAAAAAAAAAAAAAAAAAAAAAAAAAAAAAAAAAAAAAAAAAAAAAAAAAAAAAAAAAAAAAAAAAAAAAAAAAAAAAAAAAAAAAAAAAAAAAAAAAAAAAAAAAAAAAAAAAAAAAAAAAAAAAAAAAAAAAAAAAAAAAAAAAAAAAAAAAAAAAAAAAAAAAAAAAAAAAAAAAAAAAAAAAAAAAAAAAAAAAAAAAAAAAAAAAAAAAAAAAAAAAAAAAAAAAAAAAAAAAAAAAAAAAAAAAAAAAAAAAAAAAAAAAAAAAAAAAAAAAAAAAAAAAAAAAAAAAAAAAAAAAAAAAAAAAAAAAAAAAAAAAAAAAAAAAAAAAAAAAAAAAAAAAAAAAAAAAAAAAAAAAAAAAAAAAAAAAAAAAAAAAAAAAAAAAAAAAAAAAAAAAAAAAAAAAAAAAAAAAAAAAAAAAAAAAAAAAAAAAAAAAAAAAAAAAAAAAAAAAAAAAAAAAAAAAAAAAAAAAAAAAAAAAAAAAAAAAAAAAAAAAAAAAAAAAAAAAAAAAAAAAAAAAAAAAAAAAAAAAAAAAAAAAAAAAAAAAAAAAAAAAAAAAAAAAAAAAAAAAAAAAAAAAAAAAAAAAAAAAAAAAAAAAAAAAAAAAAAAAAAAAAAAAAAAAAAAAAAAAAAAAAAAAAAAAAAAAAAAAAAAAAAAAAAAAAAAAAAAAAAAAAAAAAAAAAAAAAAAAAAAAAAAAAAAAAAAAAAAAAAAAAAAAAAAAAAAAAAAAAAAAAAAAAAAAAAAAAAAAAAAAAAAAAAAAAAAAAAAAAAAAAAAAAAAAAAAAAAAAAAAAAAAAAAAAAAAAAAAAAAAAAAAAAAAAAAAAAAAAAAAAAAAAAAAAAAAAAAAAAAAAAAAAAAAAAAAAAAAAAAAAAAAAAAAAAAAAAAAAAAAAAAAAAAAAAAAAAAAAAAAAAAAAAAAAAAAAAAAAAAAAAAAAAAAAAAAAAAAAAAAAAAAAAAAAAAAAAAAAAAAAAAAAAAAAAAAAAAAAAAAAAAAAAAAAAAAAAAAAAAAAAAAAAAAAAAAAAAAAAAAAAAAAAAAAAAAAAAAAAAAAAAAAAAAAAAAAAAAAAAAAAAAAAAAAAAAAAAAAAAAAAAAAAAAAAAAAAAAAAAAAAAAAAAAAAAAAAAAAAAAAAAAAAAAAAAAAAAAAAAAAAAAAAAAAAAAAAAAAAAAAAAAAAAAAAAAAAAAAAAAAAAAAAAAAAAAAAAAAAAAAAAAAAAAAAAAAAAAAAAAAAAAAAAAAAAAAAAAAAAAAAAAAAAAAAAAAAAAAAAAAAAAAAAAAAAAAAAAAAAAAAAAAAAAAAAAAAAAAAAAAAAAAAAAAAAAAAAAAAAAAAAAAAAAAAAAAAAAAAAAAAAAAAAAAAAAAAAAAAAAAAAAAAAAAAAAAAAAAAAAAAAAAAAAAAAAAAAAAAAAAAAAAAAAAAAAAAAAAAAAAAAAAAAAAAAAAAAAAAAAAAAAAAAAAAAAAAAAAAAAAAAAAAAAAAAAAAAAAAAAAAAAAAAAAAAAAAAAAAAAAAAAAAAAAAAAAAAAAAAAAAAAAAAAAAAAAAAAAAAAAAAAAAAAAAAAAAAAAAAAAAAAAAAAAAAAAAAAAAAAAAAAAAAAAAAAAAAAAAAAAAAAAAAAAAAAAAAAAAAAAAAAAAAAAAAAAAAAAAAAAAAAAAAAAAAAAAAAAAAAAAAAAAAAAAAAAAAAAAAAAAAAAAAAAAAAAAAAAAAAAAAAAAAAAAAAAAAAAAAAAAAAAAAAAAAAAAAAAAAAAAAAAAAAAAAAAAAAAAAAAAAAAAAAAAAAAAAAAAAAAAAAAAAAAAAAAAAAAAAAAAAAAAAAAAAAAAAAAAAAAAAAAAAAAAAAAAAAAAAAAAAAAAAAAAAAAAAAAAAAAAAAAAAAAAAAAAAAAAAAAAAAAAAAAAAAAAAAAAAAAAAAAAAAAAAAAAAAAAAAAAAAAAAAAAAAAAAAAAAAAAAAAAAAAAAAAAAAAAAAAAAAAAAAAAAAAAAAAAAAAAAAAAAAAAAAAAAAAAAAAAAAAAAAAAAAAAAAAAAAAAAAAAAAAAAAAAAAAAAAAAAAAAAAAAAAAAAAAAAAAAAAAAAAAAAAAAAAAAAAAAAAAAAAAAAAAAAAAAAAAAAAAAAAAAAAAAAAAAAAAAAAAAAAAAAAAAAAAAAAAAAAAAAAAAAAAAAAAAAAAAAAAAAAAAAAAAAAAAAAAAAAAAAAAAAAAAAAAAAAAAAAAAAAAAAAAAAAAAAAAAAAAAAAAAAAAAAAAAAAAAAAAAAAAAAAAAAAAAAAAAAAAAAAAAAAAAAAAAAAAAAAAAAAAAAAAAAAAAAAAAAAAAAAAAAAAAAAAAAAAAAAAAAAAAAAAAAAAAAAAAAAAAAAAAAAAAAAAAAAAAAAAAAAAAAAAAAAAAAAAAAAAAAAAAAAAAAAAAAAAAAAAAAAAAAAAAAAAAAAAAAAAAAAAAAAAAAAAAAAAAAAAAAAAAAAAAAAAAAAAAAAAAAAAAAAAAAAAAAAAAAAAAAAAAAAAAAAAAAAAAAAAAAAAAAAAAAAAAAAAAAAAAAAAAAAAAAAAAAAAAAAAAAAAAAAAAAAAAAAAAAAAAAAAAAAAAAAAAAAAAAAAAAAAAAAAAAAAAAAAAAAAAAAAAAAAAAAAAAAAAAAAAAAAAAAAAAAAAAAAAAAAAAAAAAAAAAAAAAAAAAAAAAAAAAAAAAAAAAAAAAAAAAAAAAAAAAAAAAAAAAAAAAAAAAAAAAAAAAAAAAAAAAAAAAAAAAAAAAAAAAAAAAAAAAAAAAAAAAAAAAAAAAAAAAAAAAAAAAAAAAAAAAAAAAAAAAAAAAAAAAAAAAAAAAAAAAAAAAAAAAAAAAAAAAAAAAAAAAAAAAAAAAAAAAAAAAAAAAAAAAAAAAAAAAAAAAAAAAAAAAAAAAAAAAAAAAAAAAAAAAAAAAAAAAAAAAAAAAAAAAAAAAAAAAAAAAAAAAAAAAAAAAAAAAAAAAAAAAAAAAAAAAAAAAAAAAAAAAAAAAAAAAAAAAAAAAAAAAAAAAAAAAAAAAAAAAAAAAAAAAAAAAAAAAAAAAAAAAAAAAAAAAAAAAAAAAAAAAAAAAAAAAAAAAAAAAAAAAAAAAAAAAAAAAAAAAAAAAAAAAAAAAAAAAAAAAAAAAAAAAAAAAAAAAAAAAAAAAAAAAAAAAAAAAAAAAAAAAAAAAAAAAAAAAAAAAAAAAAAAAAAAAAAAAAAAAAAAAAAAAAAAAAAAAAAAAAAAAAAAAAAAAAAAAAAAAAAAAAAAAAAAAAAAAAAAAAAAAAAAAAAAAAAAAAAAAAAAAAAAAAAAAAAAAAAAAAAAAAAAAAAAAAAAAAAAAAAAAAAAAAAAAAAAAAAAAAAAAAAAAAAAAAAAAAAAAAAAAAAAAAAAAAAAAAAAAAAAAAAAAAAAAAAAAAAAAAAAAAAAAAAAAAAAAAAAAAAAAAAAAAAAAAAAAAAAAAAAAAAAAAAAAAAAAAAAAAAAAAAAAAAAAAAAAAAAAAAAAAAAAAAAAAAAAAAAAAAAAAAAAAAAAAAAAAAAAAAAAAAAAAAAAAAAAAAAAAAAAAAAAAAAAAAAAAAAAAAAAAAAAAAAAAAAAAAAAAAAAAAAAAAAAAAAAAAAAAAAAAAAAAAAAAAAAAAAAAAAAAAAAAAAAAAAAAAAAAAAAAAAAAAAAAAAAAAAAAAAAAAAAAAAAAAAAAAAAAAAAAAAAAAAAAAAAAAAAAAAAAAAAAAAAAAAAAAAAAAAAAAAAAAAAAAAAAAAAAAAAAAAAAAAAAAAAAAAAAAAAAAAAAAAAAAAAAAAAAAAAAAAAAAAAAAAAAAAAAAAAAAAAAAAAAAAAAAAAAAAAAAAAAAAAAAAAAAAAAAAAAAAAAAAAAAAAAAAAAAAAAAAAAAAAAAAAAAAAAAAAAAAAAAAAAAAAAAAAAAAAAAAAAAAAAAAAAAAAAAAAAAAAAAAAAAAAAAAAAAAAAAAAAAAAAAAAAAAAAAAAAAAAAAAAAAAAAAAAAAAAAAAAAAAAAAAAAAAAAAAAAAAAAAAAAAAAAAAAAAAAAAAAAAAAAAAAAAAAAAAAAAAAAAAAAAAAAAAAAAAAAAAAAAAAAAAAAAAAAAAAAAAAAAAAAAAAAAAAAAAAAAAAAAAAAAAAAAAAAAAAAAAAAAAAAAAAAAAAAAAAAAAAAAAAAAAAAAAAAAAAAAAAAAAAAAAAAAAAAAAAAAAAAAAAAAAAAAAAAAAAAAAAAAAAAAAAAAAAAAAAAAAAAAAAAAAAAAAAAAAAAAAAAAAAAAAAAAAAAAAAAAAAAAAAAAAAAAAAAAAAAAAAAAAAAAAAAAAAAAAAAAAAAAAAAAAAAAAAAAAAAAAAAAAAAAAAAAAAAAAAAAAAAAAAAAAAAAAAAAAAAAAAAAAAAAAAAAAAAAAAAAAAAAAAAAAAAAAAAAAAAAAAAAAAAAAAAAAAAAAAAAAAAAAAAAAAAAAAAAAAAAAAAAAAAAAAAAAAAAAAAAAAAAAAAAAAAAAAAAAAAAAAAAAAAAAAAAAAAAAAAAAAAAAAAAAAAAAAAAAAAAAAAAAAAAAAAAAAAAAAAAAAAAAAAAAAAAAAAAAAAAAAAAAAAAAAAAAAAAAAAAAAAAAAAAAAAAAAAAAAAAAAAAAAAAAAAAAAAAAAAAAAAAAAAAAAAAAAAAAAAAAAAAAAAAAAAAAAAAAAAAAAAAAAAAAAAAAAAAAAAAAAAAAAAAAAAAAAAAAAAAAAAAAAAAAAAAAAAAAAAAAAAAAAAAAAAAAAAAAAAAAAAAAAAAAAAAAAAAAAAAAAAAAAAAAAAAAAAAAAAAAAAAAAAAAAAAAAAAAAAAAAAAAAAAAAAAAAAAAAAAAAAAAAAAAAAAAAAAAAAAAAAAAAAAAAAAAAAAAAAAAAAAAAAAAAAAAAAAAAAAAAAAAAAAAAAAAAAAAAAAAAAAAAAAAAAAAAAAAAAAAAAAAAAAAAAAAAAAAAAAAAAAAAAAAAAAAAAAAAAAAAAAAAAAAAAAAAAAAAAAAAAAAAAAAAAAAAAAAAAAAAAAAAAAAAAAAAAAAAAAAAAAAAAAAAAAAAAAAAAAAAAAAAAAAAAAAAAAAAAAAAAAAAAAAAAAAAAAAAAAAAAAAAAAAAAAAAAAAAAAAAAAAAAAAAAAAAAAAAAAAAAAAAAAAAAAAAAAAAAAAAAAAAAAAAAAAAAAAAAAAAAAAAAAAAAAAAAAAAAAAAAAAAAAAAAAAAAAAAAAAAAAAAAAAAAAAAAAAAAAAAAAAAAAAAAAAAAAAAAAAAAAAAAAAAAAAAAAAAAAAAAAAAAAAAAAAAAAAAAAAAAAAAAAAAAAAAAAAAAAAAAAAAAAAAAAAAAAAAAAAAAAAAAAAAAAAAAAAAAAAAAAAAAAAAAAAAAAAAAAAAAAAAAAAAAAAAAAAAAAAAAAAAAAAAAAAAAAAAAAAAAAAAAAAAAAAAAAAAAAAAAAAAAAAAAAAAAAAAAAAAAAAAAAAAAAAAAAAAAAAAAAAAAAAAAAAAAAAAAAAAAAAAAAAAAAAAAAAAAAAAAAAAAAAAAAAAAAAAAAAAAAAAAAAAAAAAAAAAAAAAAAAAAAAAAAAAAAAAAAAAAAAAAAAAAAAAAAAAAAAAAAAAAAAAAAAAAAAAAAAAAAAAAAAAAAAAAAAAAAAAAAAAAAAAAAAAAAAAAAAAAAAAAAAAAAAAAAAAAAAAAAAAAAAAAAAAAAAAAAAAAAAAAAAAAAAAAAAAAAAAAAAAAAAAAAAAAAAAAAAAAAAAAAAAAAAAAAAAAAAAAAAAAAAAAAAAAAAAAAAAAAAAAAAAAAAAAAAAAAAAAAAAAAAAAAAAAAAAAAAAAAAAAAAAAAAAAAAAAAAAAAAAAAAAAAAAAAAAAAAAAAAAAAAAAAAAAAAAAAAAAAAAAAAAAAAAAAAAAAAAAAAAAAAAAAAAAAAAAAAAAAAAAAAAAAAAAAAAAAAAAAAAAAAAAAAAAAAAAAAAAAAAAAAAAAAAAAAAAAAAAAAAAAAAAAAAAAAAAAAAAAAAAAAAAAAAAAAAAAAAAAAAAAAAAAAAAAAAAAAAAAAAAAAAAAAAAAAAAAAAAAAAAAAAAAAAAAAAAAAAAAAAAAAAAAAAAAAAAAAAAAAAAAAAAAAAAAAAAAAAAAAAAAAAAAAAAAAAAAAAAAAAAAAAAAAAAAAAAAAAAAAAAAAAAAAAAAAAAAAAAAAAAAAAAAAAAAAAAAAAAAAAAAAAAAAAAAAAAAAAAAAAAAAAAAAAAAAAAAAAAAAAAAAAAAAAAAAAAAAAAAAAAAAAAAAAAAAAAAAAAAAAAAAAAAAAAAAAAAAAAAAAAAAAAAAAAAAAAAAAAAAAAAAAAAAAAAAAAAAAAAAAAAAAAAAAAAAAAAAAAAAAAAAAAAAAAAAAAAAAAAAAAAAAAAAAAAAAAAAAAAAAAAAAAAAAAAAAAAAAAAAAAAAAAAAAAAAAAAAAAAAAAAAAAAAAAAAAAAAAAAAAAAAAAAAAAAAAAAAAAAAAAAAAAAAAAAAAAAAAAAAAAAAAAAAAAAAAAAAAAAAAAAAAAAAAAAAAAAAAAAAAAAAAAAAAAAAAAAAAAAAAAAAAAAAAAAAAAAAAAAAAAAAAAAAAAAAAAAAAAAAAAAAAAAAAAAAAAAAAAAAAAAAAAAAAAAAAAAAAAAAAAAAAAAAAAAAAAAAAAAAAAAAAAAAAAAAAAAAAAAAAAAAAAAAAAAAAAAAAAAAAAAAAAAAAAAAAAAAAAAAAAAAAAAAAAAAAAAAAAAAAAAAAAAAAAAAAAAAAAAAAAAAAAAAAAAAAAAAAAAAAAAAAAAAAAAAAAAAAAAAAAAAAAAAAAAAAAAAAAAAAAAAAAAAAAAAAAAAAAAAAAAAAAAAAAAAAAAAAAAAAAAAAAAAAAAAAAAAAAAAAAAAAAAAAAAAAAAAAAAAAAAAAAAAAAAAAAAAAAAAAAAAAAAAAAAAAAAAAAAAAAAAAAAAAAAAAAAAAAAAAAAAAAAAAAAAAAAAAAAAAAAAAAAAAAAAAAAAAAAAAAAAAAAAAAAAAAAAAAAAAAAAAAAAAAAAAAAAAAAAAAAAAAAAAAAAAAAAAAAAAAAAAAAAAAAAAAAAAAAAAAAAAAAAAAAAAAAAAAAAAAAAAAAAAAAAAAAAAAAAAAAAAAAAAAAAAAAAAAAAAAAAAAAAAAAAAAAAAAAAAAAAAAAAAAAAAAAAAAAAAAAAAAAAAAAAAAAAAAAAAAAAAAAAAAAAAAAAAAAAAAAAAAAAAAAAAAAAAAAAAAAAAAAAAAAAAAAAAAAAAAAAAAAAAAAAAAAAAAAAAAAAAAAAAAAAAAAAAAAAAAAAAAAAAAAAAAAAAAAAAAAAAAAAAAAAAAAAAAAAAAAAAAAAAAAAAAAAAAAAAAAAAAAAAAAAAAAAAAAAAAAAAAAAAAAAAAAAAAAAAAAAAAAAAAAAAAAAAAAAAAAAAAAAAAAAAAAAAAAAAAAAAAAAAAAAAAAAAAAAAAAAAAAAAAAAAAAAAAAAAAAAAAAAAAAAAAAAAAAAAAAAAAAAAAAAAAAAAAAAAAAAAAAAAAAAAAAAAAAAAAAAAAAAAAAAAAAAAAAAAAAAAAAAAAAAAAAAAAAAAAAAAAAAAAAAAAAAAAAAAAAAAAAAAAAAAAAAAAAAAAAAAAAAAAAAAAAAAAAAAAAAAAAAAAAAAAAAAAAAAAAAAAAAAAAAAAAAAAAAAAAAAAAAAAAAAAAAAAAAAAAAAAAAAAAAAAAAAAAAAAAAAAAAAAAAAAAAAAAAAAAAAAAAAAAAAAAAAAAAAAAAAAAAAAAAAAAAAAAAAAAAAAAAAAAAAAAAAAAAAAAAAAAAAAAAAAAAAAAAAAAAAAAAAAAAAAAAAAAAAAAAAAAAAAAAAAAAAAAAAAAAAAAAAAAAAAAAAAAAAAAAAAAAAAAAAAAAAAAAAAAAAAAAAAAAAAAAAAAAAAAAAAAAAAAAAAAAAAAAAAAAAAAAAAAAAAAAAAAAAAAAAAAAAAAAAAAAAAAAAAAAAAAAAAAAAAAAAAAAAAAAAAAAAAAAAAAAAAAAAAAAAAAAAAAAAAAAAAAAAAAAAAAAAAAAAAAAAAAAAAAAAAAAAAAAAAAAAAAAAAAAAAAAAAAAAAAAAAAAAAAAAAAAAAAAAAAAAAAAAAAAAAAAAAAAAAAAAAAAAAAAAAAAAAAAAAAAAAAAAAAAAAAAAAAAAAAAAAAAAAAAAAAAAAAAAAAAAAAAAAAAAAAAAAAAAAAAAAAAAAAAAAAAAAAAAAAAAAAAAAAAAAAAAAAAAAAAAAAAAAAAAAAAAAAAAAAAAAAAAAAAAAAAAAAAAAAAAAAAAAAAAAAAAAAAAAAAAAAAAAAAAAAAAAAAAAAAAAAAAAAAAAAAAAAAAAAAAAAAAAAAAAAAAAAAAAAAAAAAAAAAAAAAAAAAAAAAAAAAAAAAAAAAAAAAAAAAAAAAAAAAAAAAAAAAAAAAAAAAAAAAAAAAAAAAAAAAAAAAAAAAAAAAAAAAAAAAAAAAAAAAAAAAAAAAAAAAAAAAAAAAAAAAAAAAAAAAAAAAAAAAAAAAAAAAAAAAAAAAAAAAAAAAAAAAAAAAAAAAAAAAAAAAAAAAAAAAAAAAAAAAAAAAAAAAAAAAAAAAAAAAAAAAAAAAAAAAAAAAAAAAAAAAAAAAAAAAAAAAAAAAAAAAAAAAAAAAAAAAAAAAAAAAAAAAAAAAAAAAAAAAAAAAAAAAAAAAAAAAAAAAAAAAAAAAAAAAAAAAAAAAAAAAAAAAAAAAAAAAAAAAAAAAAAAAAAAAAAAAAAAAAAAAAAAAAAAAAAAAAAAAAAAAAAAAAAAAAAAAAAAAAAAAAAAAAAAAAAAAAAAAAAAAAAAAAAAAAAAAAAAAAAAAAAAAAAAAAAAAAAAAAAAAAAAAAAAAAAAAAAAAAAAAAAAAAAAAAAAAAAAAAAAAAAAAAAAAAAAAAAAAAAAAAAAAAAAAAAAAAAAAAAAAAAAAAAAAAAAAAAAAAAAAAAAAAAAAAAAAAAAAAAAAAAAAAAAAAAAAAAAAAAAAAAAAAAAAAAAAAAAAAAAAAAAAAAAAAAAAAAAAAAAAAAAAAAAAAAAAAAAAAAAAAAAAAAAAAAAAAAAAAAAAAAAAAAAAAAAAAAAAAAAAAAAAAAAAAAAAAAAAAAAAAAAAAAAAAAAAAAAAAAAAAAAAAAAAAAAAAAAAAAAAAAAAAAAAAAAAAAAAAAAAAAAAAAAAAAAAAAAAAAAAAAAAAAAAAAAAAAAAAAAAAAAAAAAAAAAAAAAAAAAAAAAAAAAAAAAAAAAAAAAAAAAAAAAAAAAAAAAAAAAAAAAAAAAAAAAAAAAAAAAAAAAAAAAAAAAAAAAAAAAAAAAAAAAAAAAAAAAAAAAAAAAAAAAAAAAAAAAAAAAAAAAAAAAAAAAAAAAAAAAAAAAAAAAAAAAAAAAAAAAAAAAAAAAAAAAAAAAAAAAAAAAAAAAAAAAAAAAAAAAAAAAAAAAAAAAAAAAAAAAAAAAAAAAAAAAAAAAAAAAAAAAAAAAAAAAAAAAAAAAAAAAAAAAAAAAAAAAAAAAAAAAAAAAAAAAAAAAAAAAAAAAAAAAAAAAAAAAAAAAAAAAAAAAAAAAAAAAAAAAAAAAAAAAAAAAAAAAAAAAAAAAAAAAAAAAAAAAAAAAAAAAAAAAAAAAAAAAAAAAAAAAAAAAAAAAAAAAAAAAAAAAAAAAAAAAAAAAAAAAAAAAAAAAAAAAAAAAAAAAAAAAAAAAAAAAAAAAAAAAAAAAAAAAAAAAAAAAAAAAAAAAAAAAAAAAAAAAAAAAAAAAAAAAAAAAAAAAAAAAAAAAAAAAAAAAAAAAAAAAAAAAAAAAAAAAAAAAAAAAAAAAAAAAAAAAAAAAAAAAAAAAAAAAAAAAAAAAAAAAAAAAAAAAAAAAAAAAAAAAAAAAAAAAAAAAAAAAAAAAAAAAAAAAAAAAAAAAAAAAAAAAAAAAAAAAAAAAAAAAAAAAAAAAAAAAAAAAAAAAAAAAAAAAAAAAAAAAAAAAAAAAAAAAAAAAAAAAAAAAAAAAAAAAAAAAAAAAAAAAAAAAAAAAAAAAAAAAAAAAAAAAAAAAAAAAAAAAAAAAAAAAAAAAAAAAAAAAAAAAAAAAAAAAAAAAAAAAAAAAAAAAAAAAAAAAAAAAAAAAAAAAAAAAAAAAAAAAAAAAAAAAAAAAAAAAAAAAAAAAAAAAAAAAAAAAAAAAAAAAAAAAAAAAAAAAAAAAAAAAAAAAAAAAAAAAAAAAAAAAAAAAAAAAAAAAAAAAAAAAAAAAAAAAAAAAAAAAAAAAAAAAAAAAAAAAAAAAAAAAAAAAAAAAAAAAAAAAAAAAAAAAAAAAAAAAAAAAAAAAAAAAAAAAAAAAAAAAAAAAAAAAAAAAAAAAAAAAAAAAAAAAAAAAAAAAAAAAAAAAAAAAAAAAAAAAAAAAAAAAAAAAAAAAAAAAAAAAAAAAAAAAAAAAAAAAAAAAAAAAAAAAAAAAAAAAAAAAAAAAAAAAAAAAAAAAAAAAAAAAAAAAAAAAAAAAAAAAAAAAAAAAAAAAAAAAAAAAAAAAAAAAAAAAAAAAAAAAAAAAAAAAAAAAAAAAAAAAAAAAAAAAAAAAAAAAAAAAAAAAAAAAAAAAAAAAAAAAAAAAAAAAAAAAAAAAAAAAAAAAAAAAAAAAAAAAAAAAAAAAAAAAAAAAAAAAAAAAAAAAAAAAAAAAAAAAAAAAAAAAAAAAAAAAAAAAAAAAAAAAAAAAAAAAAAAAAAAAAAAAAAAAAAAAAAAAAAAAAAAAAAAAAAAAAAAAAAAAAAAAAAAAAAAAAAAAAAAAAAAAAAAAAAAAAAAAAAAAAAAAAAAAAAAAAAAAAAAAAAAAAAAAAAAAAAAAAAAAAAAAAAAAAAAAAAAAAAAAAAAAAAAAAAAAAAAAAAAAAAAAAAAAAAAAAAAAAAAAAAAAAAAAAAAAAAAAAAAAAAAAAAAAAAAAAAAAAAAAAAAAAAAAAAAAAAAAAAAAAAAAAAAAAAAAAAAAAAAAAAAAAAAAAAAAAAAAAAAAAAAAAAAAAAAAAAAAAAAAAAAAAAAAAAAAAAAAAAAAAAAAAAAAAAAAAAAAAAAAAAAAAAAAAAAAAAAAAAAAAAAAAAAAAAAAAAAAAAAAAAAAAAAAAAAAAAAAAAAAAAAAAAAAAAAAAAAAAAAAAAAAAAAAAAAAAAAAAAAAAAAAAAAAAAAAAAAAAAAAAAAAAAAAAAAAAAAAAAAAAAAAAAAAAAAAAAAAAAAAAAAAAAAAAAAAAAAAAAAAAAAAAAAAAAAAAAAAAAAAAAAAAAAAAAAAAAAAAAAAAAAAAAAAAAAAAAAAAAAAAAAAAAAAAAAAAAAAAAAAAAAAAAAAAAAAAAAAAAAAAAAAAAAAAAAAAAAAAAAAAAAAAAAAAAAAAAAAAAAAAAAAAAAAAAAAAAAAAAAAAAAAAAAAAAAAAAAAAAAAAAAAAAAAAAAAAAAAAAAAAAAAAAAAAAAAAAAAAAAAAAAAAAAAAAAAAAAAAAAAAAAAAAAAAAAAAAAAAAAAAAAAAAAAAAAAAAAAAAAAAAAAAAAAAAAAAAAAAAAAAAAAAAAAAAAAAAAAAAAAAAAAAAAAAAAAAAAAAAAAAAAAAAAAAAAAAAAAAAAAAAAAAAAAAAAAAAAAAAAAAAAAAAAAAAAAAAAAAAAAAAAAAAAAAAAAAAAAAAAAAAAAAAAAAAAAAAAAAAAAAAAAAAAAAAAAAAAAAAAAAAAAAAAAAAAAAAAAAAAAAAAAAAAAAAAAAAAAAAAAAAAAAAAAAAAAAAAAAAAAAAAAAAAAAAAAAAAAAAAAAAAAAAAAAAAAAAAAAAAAAAAAAAAAAAAAAAAAAAAAAAAAAAAAAAAAAAAAAAAAAAAAAAAAAAAAAAAAAAAAAAAAAAAAAAAAAAAAAAAAAAAAAAAAAAAAAAAAAAAAAAAAAAAAAAAAAAAAAAAAAAAAAAAAAAAAAAAAAAAAAAAAAAAAAAAAAAAAAAAAAAAAAAAAAAAAAAAAAAAAAAAAAAAAAAAAAAAAAAAAAAAAAAAAAAAAAAAAAAAAAAAAAAAAAAAAAAAAAAAAAAAAAAAAAAAAAAAAAAAAAAAAAAAAAAAAAAAAAAAAAAAAAAAAAAAAAAAAAAAAAAAAAAAAAAAAAAAAAAAAAAAAAAAAAAAAAAAAAAAAAAAAAAAAAAAAAAAAAAAAAAAAAAAAAAAAAAAAAAAAAAAAAAAAAAAAAAAAAAAAAAAAAAAAAAAAAAAAAAAAAAAAAAAAAAAAAAAAAAAAAAAAAAAAAAAAAAAAAAAAAAAAAAAAAAAAAAAAAAAAAAAAAAAAAAAAAAAAAAAAAAAAAAAAAAAAAAAAAAAAAAAAAAAAAAAAAAAAAAAAAAAAAAAAAAAAAAAAAAAAAAAAAAAAAAAAAAAAAAAAAAAAAAAAAAAAAAAAAAAAAAAAAAAAAAAAAAAAAAAAAAAAAAAAAAAAAAAAAAAAAAAAAAAAAAAAAAAAAAAAAAAAAAAAAAAAAAAAAAAAAAAAAAAAAAAAAAAAAAAAAAAAAAAAAAAAAAAAAAAAAAAAAAAAAAAAAAAAAAAAAAAAAAAAAAAAAAAAAAAAAAAAAAAAAAAAAAAAAAAAAAAAAAAAAAAAAAAAAAAAAAAAAAAAAAAAAAAAAAAAAAAAAAAAAAAAAAAAAAAAAAAAAAAAAAAAAAAAAAAAAAAAAAAAAAAAAAAAAAAAAAAAAAAAAAAAAAAAAAAAAAAAAAAAAAAAAAAAAAAAAAAAAAAAAAAAAAAAAAAAAAAAAAAAAAAAAAAAAAAAAAAAAAAAAAAAAAAAAAAAAAAAAAAAAAAAAAAAAAAAAAAAAAAAAAAAAAAAAAAAAAAAAAAAAAAAAAAAAAAAAAAAAAAAAAAAAAAAAAAAAAAAAAAAAAAAAAAAAAAAAAAAAAAAAAAAAAAAAAAAAAAAAAAAAAAAAAAAAAAAAAAAAAAAAAAAAAAAAAAAAAAAAAAAAAAAAAAAAAAAAAAAAAAAAAAAAAAAAAAAAAAAAAAAAAAAAAAAAAAAAAAAAAAAAAAAAAAAAAAAAAAAAAAAAAAAAAAAAAAAAAAAAAAAAAAAAAAAAAAAAAAAAAAAAAAAAAAAAAAAAAAAAAAAAAAAAAAAAAAAAAAAAAAAAAAAAAAAAAAAAAAAAAAAAAAAAAAAAAAAAAAAAAAAAAAAAAAAAAAAAAAAAAAAAAAAAAAAAAAAAAAAAAAAAAAAAAAAAAAAAAAAAAAAAAAAAAAAAAAAAAAAAAAAAAAAAAAAAAAAAAAAAAAAAAAAAAAAAAAAAAAAAAAAAAAAAAAAAAAAAAAAAAAAAAAAAAAAAAAAAAAAAAAAAAAAAAAAAAAAAAAAAAAAAAAAAAAAAAAAAAAAAAAAAAAAAAAAAAAAAAAAAAAAAAAAAAAAAAAAAAAAAAAAAAAAAAAAAAAAAAAAAAAAAAAAAAAAAAAAAAAAAAAAAAAAAAAAAAAAAAAAAAAAAAAAAAAAAAAAAAAAAAAAAAAAAAAAAAAAAAAAAAAAAAAAAAAAAAAAAAAAAAAAAAAAAAAAAAAAAAAAAAAAAAAAAAAAAAAAAAAAAAAAAAAAAAAAAAAAAAAAAAAAAAAAAAAAAAAAAAAAAAAAAAAAAAAAAAAAAAAAAAAAAAAAAAAAAAAAAAAAAAAAAAAAAAAAAAAAAAAAAAAAAAAAAAAAAAAAAAAAAAAAAAAAAAAAAAAAAAAAAAAAAAAAAAAAAAAAAAAAAAAAAAAAAAAAAAAAAAAAAAAAAAAAAAAAAAAAAAAAAAAAAAAAAAAAAAAAAAAAAAAAAAAAAAAAAAAAAAAAAAAAAAAAAAAAAAAAAAAAAAAAAAAAAAAAAAAAAAAAAAAAAAAAAAAAAAAAAAAAAAAAAAAAAAAAAAAAAAAAAAAAAAAAAAAAAAAAAAAAAAAAAAAAAAAAAAAAAAAAAAAAAAAAAAAAAAAAAAAAAAAAAAAAAAAAAAAAAAAAAAAAAAAAAAAAAAAAAAAAAAAAAAAAAAAAAAAAAAAAAAAAAAAAAAAAAAAAAAAAAAAAAAAAAAAAAAAAAAAAAAAAAAAAAAAAAAAAAAAAAAAAAAAAAAAAAAAAAAAAAAAAAAAAAAAAAAAAAAAAAAAAAAAAAAAAAAAAAAAAAAAAAAAAAAAAAAAAAAAAAAAAAAAAAAAAAAAAAAAAAAAAAAAAAAAAAAAAAAAAAAAAAAAAAAAAAAAAAAAAAAAAAAAAAAAAAAAAAAAAAAAAAAAAAAAAAAAAAAAAAAAAAAAAAAAAAAAAAAAAAAAAAAAAAAAAAAAAAAAAAAAAAAAAAAAAAAAAAAAAAAAAAAAAAAAAAAAAAAAAAAAAAAAAAAAAAAAAAAAAAAAAAAAAAAAAAAAAAAAAAAAAAAAAAAAAAAAAAAAAAAAAAAAAAAAAAAAAAAAAAAAAAAAAAAAAAAAAAAAAAAAAAAAAAAAAAAAAAAAAAAAAAAAAAAAAAAAAAAAAAAAAAAAAAAAAAAAAAAAAAAAAAAAAAAAAAAAAAAAAAAAAAAAAAAAAAAAAAAAAAAAAAAAAAAAAAAAAAAAAAAAAAAAAAAAAAAAAAAAAAAAAAAAAAAAAAAAAAAAAAAAAAAAAAAAAAAAAAAAAAAAAAAAAAAAAAAAAAAAAAAAAAAAAAAAAAAAAAAAAAAAAAAAAAAAAAAAAAAAAAAAAAAAAAAAAAAAAAAAAAAAAAAAAAAAAAAAAAAAAAAAAAAAAAAAAAAAAAAAAAAAAAAAAAAAAAAAAAAAAAAAAAAAAAAAAAAAAAAAAAAAAAAAAAAAAAAAAAAAAAAAAAAAAAAAAAAAAAAAAAAAAAAAAAAAAAAAAAAAAAAAAAAAAAAAAAAAAAAAAAAAAAAAAAAAAAAAAAAAAAAAAAAAAAAAAAAAAAAAAAAAAAAAAAAAAAAAAAAAAAAAAAAAAAAAAAAAAAAAAAAAAAAAAAAAAAAAAAAAAAAAAAAAAAAAAAAAAAAAAAAAAAAAAAAAAAAAAAAAAAAAAAAAAAAAAAAAAAAAAAAAAAAAAAAAAAAAAAAAAAAAAAAAAAAAAAAAAAAAAAAAAAAAAAAAAAAAAAAAAAAAAAAAAAAAAAAAAAAAAAAAAAAAAAAAAAAAAAAAAAAAAAAAAAAAAAAAAAAAAAAAAAAAAAAAAAAAAAAAAAAAAAAAAAAAAAAAAAAAAAAAAAAAAAAAAAAAAAAAAAAAAAAAAAAAAAAAAAAAAAAAAAAAAAAAAAAAAAAAAAAAAAAAAAAAAAAAAAAAAAAAAAAAAAAAAAAAAAAAAAAAAAAAAAAAAAAAAAAAAAAAAAAAAAAAAAAAAAAAAAAAAAAAAAAAAAAAAAAAAAAAAAAAAAAAAAAAAAAAAAAAAAAAAAAAAAAAAAAAAAAAAAAAAAAAAAAAAAAAAAAAAAAAAAAAAAAAAAAAAAAAAAAAAAAAAAAAAAAAAAAAAAAAAAAAAAAAAAAAAAAAAAAAAAAAAAAAAAAAAAAAAAAAAAAAAAAAAAAAAAAAAAAAAAAAAAAAAAAAAAAAAAAAAAAAAAAAAAAAAAAAAAAAAAAAAAAAAAAAAAAAAAAAAAAAAAAAAAAAAAAAAAAAAAAAAAAAAAAAAAAAAAAAAAAAAAAAAAAAAAAAAAAAAAAAAAAAAAAAAAAAAAAAAAAAAAAAAAAAAAAAAAAAAAAAAAAAAAAAAAAAAAAAAAAAAAAAAAAAAAAAAAAAAAAAAAAAAAAAAAAAAAAAAAAAAAAAAAAAAAAAAAAAAAAAAAAAAAAAAAAAAAAAAAAAAAAAAAAAAAAAAAAAAAAAAAAAAAAAAAAAAAAAAAAAAAAAAAAAAAAAAAAAAAAAAAAAAAAAAAAAAAAAAAAAAAAAAAAAAAAAAAAAAAAAAAAAAAAAAAAAAAAAAAAAAAAAAAAAAAAAAAAAAAAAAAAAAAAAAAAAAAAAAAAAAAAAAAAAAAAAAAAAAAAAAAAAAAAAAAAAAAAAAAAAAAAAAAAAAAAAAAAAAAAAAAAAAAAAAAAAAAAAAAAAAAAAAAAAAAAAAAAAAAAAAAAAAAAAAAAAAAAAAAAAAAAAAAAAAAAAAAAAAAAAAAAAAAAAAAAAAAAAAAAAAAAAAAAAAAAAAAAAAAAAAAAAAAAAAAAAAAAAAAAAAAAAAAAAAAAAAAAAAAAAAAAAAAAAAAAAAAAAAAAAAAAAAAAAAAAAAAAAAAAAAAAAAAAAAAAAAAAAAAAAAAAAAAAAAAAAAAAAAAAAAAAAAAAAAAAAAAAAAAAAAAAAAAAAAAAAAAAAAAAAAAAAAAAAAAAAAAAAAAAAAAAAAAAAAAAAAAAAAAAAAAAAAAAAAAAAAAAAAAAAAAAAAAAAAAAAAAAAAAAAAAAAAAAAAAAAAAAAAAAAAAAAAAAAAAAAAAAAAAAAAAAAAAAAAAAAAAAAAAAAAAAAAAAAAAAAAAAAAAAAAAAAAAAAAAAAAAAAAAAAAAAAAAAAAAAAAAAAAAAAAAAAAAAAAAAAAAAAAAAAAAAAAAAAAAAAAAAAAAAAAAAAAAAAAAAAAAAAAAAAAAAAAAAAAAAAAAAAAAAAAAAAAAAAAAAAAAAAAAAAAAAAAAAAAAAAAAAAAAAAAAAAAAAAAAAAAAAAAAAAAAAAAAAAAAAAAAAAAAAAAAAAAAAAAAAAAAAAAAAAAAAAAAAAAAAAAAAAAAAAAAAAAAAAAAAAAAAAAAAAAAAAAAAAAAAAAAAAAAAAAAAAAAAAAAAAAAAAAAAAAAAAAAAAAAAAAAAAAAAAAAAAAAAAAAAAAAAAAAAAAAAAAAAAAAAAAAAAAAAAAAAAAAAAAAAAAAAAAAAAAAAAAAAAAAAAAAAAAAAAAAAAAAAAAAAAAAAAAAAAAAAAAAAAAAAAAAAAAAAAAAAAAAAAAAAAAAAAAAAAAAAAAAAAAAAAAAAAAAAAAAAAAAAAAAAAAAAAAAAAAAAAAAAAAAAAAAAAAAAAAAAAAAAAAAAAAAAAAAAAAAAAAAAAAAAAAAAAAAAAAAAAAAAAAAAAAAAAAAAAAAAAAAAAAAAAAAAAAAAAAAAAAAAAAAAAAAAAAAAAAAAAAAAAAAAAAAAAAAAAAAAAAAAAAAAAAAAAAAAAAAAAAAAAAAAAAAAAAAAAAAAAAAAAAAAAAAAAAAAAAAAAAAAAAAAAAAAAAAAAAAAAAAAAAAAAAAAAAAAAAAAAAAAAAAAAAAAAAAAAAAAAAAAAAAAAAAAAAAAAAAAAAAAAAAAAAAAAAAAAAAAAAAAAAAAAAAAAAAAAAAAAAAAAAAAAAAAAAAAAAAAAAAAAAAAAAAAAAAAAAAAAAAAAAAAAAAAAAAAAAAAAAAAAAAAAAAAAAAAAAAAAAAAAAAAAAAAAAAAAAAAAAAAAAAAAAAAAAAAAAAAAAAAAAAAAAAAAAAAAAAAAAAAAAAAAAAAAAAAAAAAAAAAAAAAAAAAAAAAAAAAAAAAAAAAAAAAAAAAAAAAAAAAAAAAAAAAAAAAAAAAAAAAAAAAAAAAAAAAAAAAAAAAAAAAAAAAAAAAAAAAAAAAAAAAAAAAAAAAAAAAAAAAAAAAAAAAAAAAAAAAAAAAAAAAAAAAAAAAAAAAAAAAAAAAAAAAAAAAAAAAAAAAAAAAAAAAAAAAAAAAAAAAAAAAAAAAAAAAAAAAAAAAAAAAAAAAAAAAAAAAAAAAAAAAAAAAAAAAAAAAAAAAAAAAAAAAAAAAAAAAAAAAAAAAAAAAAAAAAAAAAAAAAAAAAAAAAAAAAAAAAAAAAAAAAAAAAAAAAAAAAAAAAAAAAAAAAAAAAAAAAAAAAAAAAAAAAAAAAAAAAAAAAAAAAAAAAAAAAAAAAAAAAAAAAAAAAAAAAAAAAAAAAAAAAAAAAAAAAAAAAAAAAAAAAAAAAAAAAAAAAAAAAAAAAAAAAAAAAAAAAAAAAAAAAAAAAAAAAAAAAAAAAAAAAAAAAAAAAAAAAAAAAAAAAAAAAAAAAAAAAAAAAAAAAAAAAAAAAAAAAAAAAAAAAAAAAAAAAAAAAAAAAAAAAAAAAAAAAAAAAAAAAAAAAAAAAAAAAAAAAAAAAAAAAAAAAAAAAAAAAAAAAAAAAAAAAAAAAAAAAAAAAAAAAAAAAAAAAAAAAAAAAAAAAAAAAAAAAAAAAAAAAAAAAAAAAAAAAAAAAAAAAAAAAAAAAAAAAAAAAAAAAAAAAAAAAAAAAAAAAAAAAAAAAAAAAAAAAAAAAAAAAAAAAAAAAAAAAAAAAAAAAAAAAAAAAAAAAAAAAAAAAAAAAAAAAAAAAAAAAAAAAAAAAAAAAAAAAAAAAAAAAAAAAAAAAAAAAAAAAAAAAAAAAAAAAAAAAAAAAAAAAAAAAAAAAAAAAAAAAAAAAAAAAAAAAAAAAAAAAAAAAAAAAAAAAAAAAAAAAAAAAAAAAAAAAAAAAAAAAAAAAAAAAAAAAAAAAAAAAAAAAAAAAAAAAAAAAAAAAAAAAAAAAAAAAAAAAAAAAAAAAAAAAAAAAAAAAAAAAAAAAAAAAAAAAAAAAAAAAAAAAAAAAAAAAAAAAAAAAAAAAAAAAAAAAAAAAAAAAAAAAAAAAAAAAAAAAAAAAAAAAAAAAAAAAAAAAAAAAAAAAAAAAAAAAAAAAAAAAAAAAAAAAAAAAAAAAAAAAAAAAAAAAAAAAAAAAAAAAAAAAAAAAAAAAAAAAAAAAAAAAAAAAAAAAAAAAAAAAAAAAAAAAAAAAAAAAAAAAAAAAAAAAAAAAAAAAAAAAAAAAAAAAAAAAAAAAAAAAAAAAAAAAAAAAAAAAAAAAAAAAAAAAAAAAAAAAAAAAAAAAAAAAAAAAAAAAAAAAAAAAAAAAAAAAAAAAAAAAAAAAAAAAAAAAAAAAAAAAAAAAAAAAAAAAAAAAAAAAAAAAAAAAAAAAAAAAAAAAAAAAAAAAAAAAAAAAAAAAAAAAAAAAAAAAAAAAAAAAAAAAAAAAAAAAAAAAAAAAAAAAAAAAAAAAAAAAAAAAAAAAAAAAAAAAAAAAAAAAAAAAAAAAAAAAAAAAAAAAAAAAAAAAAAAAAAAAAAAAAAAAAAAAAAAAAAAAAAAAAAAAAAAAAAAAAAAAAAAAAAAAAAAAAAAAAAAAAAAAAAAAAAAAAAAAAAAAAAAAAAAAAAAAAAAAAAAAAAAAAAAAAAAAAAAAAAAAAAAAAAAAAAAAAAAAAAAAAAAAAAAAAAAAAAAAAAAAAAAAAAAAAAAAAAAAAAAAAAAAAAAAAAAAAAAAAAAAAAAAAAAAAAAAAAAAAAAAAAAAAAAAAAAAAAAAAAAAAAAAAAAAAAAAAAAAAAAAAAAAAAAAAAAAAAAAAAAAAAAAAAAAAAAAAAAAAAAAAAAAAAAAAAAAAAAAAAAAAAAAAAAAAAAAAAAAAAAAAAAAAAAAAAAAAAAAAAAAAAAAAAAAAAAAAAAAAAAAAAAAAAAAAAAAAAAAAAAAAAAAAAAAAAAAAAAAAAAAAAAAAAAAAAAAAAAAAAAAAAAAAAAAAAAAAAAAAAAAAAAAAAAAAAAAAAAAAAAAAAAAAAAAAAAAAAAAAAAAAAAAAAAAAAAAAAAAAAAAAAAAAAAAAAAAAAAAAAAAAAAAAAAAAAAAAAAAAAAAAAAAAAAAAAAAAAAAAAAAAAAAAAAAAAAAAAAAAAAAAAAAAAAAAAAAAAAAAAAAAAAAAAAAAAAAAAAAAAAAAAAAAAAAAAAAAAAAAAAAAAAAAAAAAAAAAAAAAAAAAAAAAAAAAAAAAAAAAAAAAAAAAAAAAAAAAAAAAAAAAAAAAAAAAAAAAAAAAAAAAAAAAAAAAAAAAAAAAAAAAAAAAAAAAAAAAAAAAAAAAAAAAAAAAAAAAAAAAAAAAAAAAAAAAAAAAAAAAAAAAAAAAAAAAAAAAAAAAAAAAAAAAAAAAAAAAAAAAAAAAAAAAAAAAAAAAAAAAAAAAAAAAAAAAAAAAAAAAAAAAAAAAAAAAAAAAAAAAAAAAAAAAAAAAAAAAAAAAAAAAAAAAAAAAAAAAAAAAAAAAAAAAAAAAAAAAAAAAAAAAAAAAAAAAAAAAAAAAAAAAAAAAAAAAAAAAAAAAAAAAAAAAAAAAAAAAAAAAAAAAAAAAAAAAAAAAAAAAAAAAAAAAAAAAAAAAAAAAAAAAAAAAAAAAAAAAAAAAAAAAAAAAAAAAAAAAAAAAAAAAAAAAAAAAAAAAAAAAAAAAAAAAAAAAAAAAAAAAAAAAAAAAAAAAAAAAAAAAAAAAAAAAAAAAAAAAAAAAAAAAAAAAAAAAAAAAAAAAAAAAAAAAAAAAAAAAAAAAAAAAAAAAAAAAAAAAAAAAAAAAAAAAAAAAAAAAAAAAAAAAAAAAAAAAAAAAAAAAAAAAAAAAAAAAAAAAAAAAAAAAAAAAAAAAAAAAAAAAAAAAAAAAAAAAAAAAAAAAAAAAAAAAAAAAAAAAAAAAAAAAAAAAAAAAAAAAAAAAAAAAAAAAAAAAAAAAAAAAAAAAAAAAAAAAAAAAAAAAAAAAAAAAAAAAAAAAAAAAAAAAAAAAAAAAAAAAAAAAAAAAAAAAAAAAAAAAAAAAAAAAAAAAAAAAAAAAAAAAAAAAAAAAAAAAAAAAAAAAAAAAAAAAAAAAAAAAAAAAAAAAAAAAAAAAAAAAAAAAAAAAAAAAAAAAAAAAAAAAAAAAAAAAAAAAAAAAAAAAAAAAAAAAAAAAAAAAAAAAAAAAAAAAAAAAAAAAAAAAAAAAAAAAAAAAAAAAAAAAAAAAAAAAAAAAAAAAAAAAAAAAAAAAAAAAAAAAAAAAAAAAAAAAAAAAAAAAAAAAAAAAAAAAAAAAAAAAAAAAAAAAAAAAAAAAAAAAAAAAAAAAAAAAAAAAAAAAAAAAAAAAAAAAAAAAAAAAAAAAAAAAAAAAAAAAAAAAAAAAAAAAAAAAAAAAAAAAAAAAAAAAAAAAAAAAAAAAAAAAAAAAAAAAAAAAAAAAAAAAAAAAAAAAAAAAAAAAAAAAAAAAAAAAAAAAAAAAAAAAAAAAAAAAAAAAAAAAAAAAAAAAAAAAAAAAAAAAAAAAAAAAAAAAAAAAAAAAAAAAAAAAAAAAAAAAAAAAAAAAAAAAAAAAAAAAAAAAAAAAAAAAAAAAAAAAAAAAAAAAAAAAAAAAAAAAAAAAAAAAAAAAAAAAAAAAAAAAAAAAAAAAAAAAAAAAAAAAAAAAAAAAAAAAAAAAAAAAAAAAAAAAAAAAAAAAAAAAAAAAAAAAAAAAAAAAAAAAAAAAAAAAAAAAAAAAAAAAAAAAAAAAAAAAAAAAAAAAAAAAAAAAAAAAAAAAAAAAAAAAAAAAAAAAAAAAAAAAAAAAAAAAAAAAAAAAAAAAAAAAAAAAAAAAAAAAAAAAAAAAAAAAAAAAAAAAAAAAAAAAAAAAAAAAAAAAAAAAAAAAAAAAAAAAAAAAAAAAAAAAAAAAAAAAAAAAAAAAAAAAAAAAAAAAAAAAAAAAAAAAAAAAAAAAAAAAAAAAAAAAAAAAAAAAAAAAAAAAAAAAAAAAAAAAAAAAAAAAAAAAAAAAAAAAAAAAAAAAAAAAAAAAAAAAAAAAAAAAAAAAAAAAAAAAAAAAAAAAAAAAAAAAAAAAAAAAAAAAAAAAAAAAAAAAAAAAAAAAAAAAAAAAAAAAAAAAAAAAAAAAAAAAAAAAAAAAAAAAAAAAAAAAAAAAAAAAAAAAAAAAAAAAAAAAAAAAAAAAAAAAAAAAAAAAAAAAAAAAAAAAAAAAAAAAAAAAAAAAAAAAAAAAAAAAAAAAAAAAAAAAAAAAAAAAAAAAAAAAAAAAAAAAAAAAAAAAAAAAAAAAAAAAAAAAAAAAAAAAAAAAAAAAAAAAAAAAAAAAAAAAAAAAAAAAAAAAAAAAAAAAAAAAAAAAAAAAAAAAAAAAAAAAAAAAAAAAAAAAAAAAAAAAAAAAAAAAAAAAAAAAAAAAAAAAAAAAAAAAAAAAAAAAAAAAAAAAAAAAAAAAAAAAAAAAAAAAAAAAAAAAAAAAAAAAAAAAAAAAAAAAAAAAAAAAAAAAAAAAAAAAAAAAAAAAAAAAAAAAAAAAAAAAAAAAAAAAAAAAAAAAAAAAAAAAAAAAAAAAAAAAAAAAAAAAAAAAAAAAAAAAAAAAAAAAAAAAAAAAAAAAAAAAAAAAAAAAAAAAAAAAAAAAAAAAAAAAAAAAAAAAAAAAAAAAAAAAAAAAAAAAAAAAAAAAAAAAAAAAAAAAAAAAAAAAAAAAAAAAAAAAAAAAAAAAAAAAAAAAAAAAAAAAAAAAAAAAAAAAAAAAAAAAAAAAAAAAAAAAAAAAAAAAAAAAAAAAAAAAAAAAAAAAAAAAAAAAAAAAAAAAAAAAAAAAAAAAAAAAAAAAAAAAAAAAAAAAAAAAAAAAAAAAAAAAAAAAAAAAAAAAAAAAAAAAAAAAAAAAAAAAAAAAAAAAAAAAAAAAAAAAAAAAAAAAAAAAAAAAAAAAAAAAAAAAAAAAAAAAAAAAAAAAAAAAAAAAAAAAAAAAAAAAAAAAAAAAAAAAAAAAAAAAAAAAAAAAAAAAAAAAAAAAAAAAAAAAAAAAAAAAAAAAAAAAAAAAAAAAAAAAAAAAAAAAAAAAAAAAAAAAAAAAAAAAAAAAAAAAAAAAAAAAAAAAAAAAAAAAAAAAAAAAAAAAAAAAAAAAAAAAAAAAAAAAAAAAAAAAAAAAAAAAAAAAAAAAAAAAAAAAAAAAAAAAAAAAAAAAAAAAAAAAAAAAAAAAAAAAAAAAAAAAAAAAAAAAAAAAAAAAAAAAAAAAAAAAAAAAAAAAAAAAAAAAAAAAAAAAAAAAAAAAAAAAAAAAAAAAAAAAAAAAAAAAAAAAAAAAAAAAAAAAAAAAAAAAAAAAAAAAAAAAAAAAAAAAAAAAAAAAAAAAAAAAAAAAAAAAAAAAAAAAAAAAAAAAAAAAAAAAAAAAAAAAAAAAAAAAAAAAAAAAAAAAAAAAAAAAAAAAAAAAAAAAAAAAAAAAAAAAAAAAAAAAAAAAAAAAAAAAAAAAAAAAAAAAAAAAAAAAAAAAAAAAAAAAAAAAAAAAAAAAAAAAAAAAAAAAAAAAAAAAAAAAAAAAAAAAAAAAAAAAAAAAAAAAAAAAAAAAAAAAAAAAAAAAAAAAAAAAAAAAAAAAAAAAAAAAAAAAAAAAAAAAAAAAAAAAAAAAAAAAAAAAAAAAAAAAAAAAAAAAAAAAAAAAAAAAAAAAAAAAAAAAAAAAAAAAAAAAAAAAAAAAAAAAAAAAAAAAAAAAAAAAAAAAAAAAAAAAAAAAAAAAAAAAAAAAAAAAAAAAAAAAAAAAAAAAAAAAAAAAAAAAAAAAAAAAAAAAAAAAAAAAAAAAAAAAAAAAAAAAAAAAAAAAAAAAAAAAAAAAAAAAAAAAAAAAAAAAAAAAAAAAAAAAAAAAAAAAAAAAAAAAAAAAAAAAAAAAAAAAAAAAAAAAAAAAAAAAAAAAAAAAAAAAAAAAAAAAAAAAAAAAAAAAAAAAAAAAAAAAAAAAAAAAAAAAAAAAAAAAAAAAAAAAAAAAAAAAAAAAAAAAAAAAAAAAAAAAAAAAAAAAAAAAAAAAAAAAAAAAAAAAAAAAAAAAAAAAAAAAAAAAAAAAAAAAAAAAAAAAAAAAAAAAAAAAAAAAAAAAAAAAAAAAAAAAAAAAAAAAAAAAAAAAAAAAAAAAAAAAAAAAAAAAAAAAAAAAAAAAAAAAAAAAAAAAAAAAAAAAAAAAAAAAAAAAAAAAAAAAAAAAAAAAAAAAAAAAAAAAAAAAAAAAAAAAAAAAAAAAAAAAAAAAAAAAAAAAAAAAAAAAAAAAAAAAAAAAAAAAAAAAAAAAAAAAAAAAAAAAAAAAAAAAAAAAAAAAAAAAAAAAAAAAAAAAAAAAAAAAAAAAAAAAAAAAAAAAAAAAAAAAAAAAAAAAAAAAAAAAAAAAAAAAAAAAAAAAAAAAAAAAAAAAAAAAAAAAAAAAAAAAAAAAAAAAAAAAAAAAAAAAAAAAAAAAAAAAAAAAAAAAAAAAAAAAAAAAAAAAAAAAAAAAAAAAAAAAAAAAAAAAAAAAAAAAAAAAAAAAAAAAAAAAAAAAAAAAAAAAAAAAAAAAAAAAAAAAAAAAAAAAAAAAAAAAAAAAAAAAAAAAAAAAAAAAAAAAAAAAAAAAAAAAAAAAAAAAAAAAAAAAAAAAAAAAAAAAAAAAAAAAAAAAAAAAAAAAAAAAAAAAAAAAAAAAAAAAAAAAAAAAAAAAAAAAAAAAAAAAAAAAAAAAAAAAAAAAAAAAAAAAAAAAAAAAAAAAAAAAAAAAAAAAAAAAAAAAAAAAAAAAAAAAAAAAAAAAAAAAAAAAAAAAAAAAAAAAAAAAAAAAAAAAAAAAAAAAAAAAAAAAAAAAAAAAAAAAAAAAAAAAAAAAAAAAAAAAAAAAAAAAAAAAAAAAAAAAAAAAAAAAAAAAAAAAAAAAAAAAAAAAAAAAAAAAAAAAAAAAAAAAAAAAAAAAAAAAAAAAAAAAAAAAAAAAAAAAAAAAAAAAAAAAAAAAAAAAAAAAAAAAAAAAAAAAAAAAAAAAAAAAAAAAAAAAAAAAAAAAAAAAAAAAAAAAAAAAAAAAAAAAAAAAAAAAAAAAAAAAAAAAAAAAAAAAAAAAAAAAAAAAAAAAAAAAAAAAAAAAAAAAAAAAAAAAAAAAAAAAAAAAAAAAAAAAAAAAAAAAAAAAAAAAAAAAAAAAAAAAAAAAAAAAAAAAAAAAAAAAAAAAAAAAAAAAAAAAAAAAAAAAAAAAAAAAAAAAAAAAAAAAAAAAAAAAAAAAAAAAAAAAAAAAAAAAAAAAAAAAAAAAAAAAAAAAAAAAAAAAAAAAAAAAAAAAAAAAAAAAAAAAAAAAAAAAAAAAAAAAAAAAAAAAAAAAAAAAAAAAAAAAAAAAAAAAAAAAAAAAAAAAAAAAAAAAAAAAAAAAAAAAAAAAAAAAAAAAAAAAAAAAAAAAAAAAAAAAAAAAAAAAAAAAAAAAAAAAAAAAAAAAAAAAAAAAAAAAAAAAAAAAAAAAAAAAAAAAAAAAAAAAAAAAAAAAAAAAAAAAAAAAAAAAAAAAAAAAAAAAAAAAAAAAAAAAAAAAAAAAAAAAAAAAAAAAAAAAAAAAAAAAAAAAAAAAAAAAAAAAAAAAAAAAAAAAAAAAAAAAAAAAAAAAAAAAAAAAAAAAAAAAAAAAAAAAAAAAAAAAAAAAAAAAAAAAAAAAAAAAAAAAAAAAAAAAAAAAAAAAAAAAAAAAAAAAAAAAAAAAAAAAAAAAAAAAAAAAAAAAAAAAAAAAAAAAAAAAAAAAAAAAAAAAAAAAAAAAAAAAAAAAAAAAAAAAAAAAAAAAAAAAAAAAAAAAAAAAAAAAAAAAAAAAAAAAAAAAAAAAAAAAAAAAAAAAAAAAAAAAAAAAAAAAAAAAAAAAAAAAAAAAAAAAAAAAAAAAAAAAAAAAAAAAAAAAAAAAAAAAAAAAAAAAAAAAAAAAAAAAAAAAAAAAAAAAAAAAAAAAAAAAAAAAAAAAAAAAAAAAAAAAAAAAAAAAAAAAAAAAAAAAAAAAAAAAAAAAAAAAAAAAAAAAAAAAAAAAAAAAAAAAAAAAAAAAAAAAAAAAAAAAAAAAAAAAAAAAAAAAAAAAAAAAAAAAAAAAAAAAAAAAAAAAAAAAAAAAAAAAAAAAAAAAAAAAAAAAAAAAAAAAAAAAAAAAAAAAAAAAAAAAAAAAAAAAAAAAAAAAAAAAAAAAAAAAAAAAAAAAAAAAAAAAAAAAAAAAAAAAAAAAAAAAAAAAAAAAAAAAAAAAAAAAAAAAAAAAAAAAAAAAAAAAAAAAAAAAAAAAAAAAAAAAAAAAAAAAAAAAAAAAAAAAAAAAAAAAAAAAAAAAAAAAAAAAAAAAAAAAAAAAAAAAAAAAAAAAAAAAAAAAAAAAAAAAAAAAAAAAAAAAAAAAAAAAAAAAAAAAAAAAAAAAAAAAAAAAAAAAAAAAAAAAAAAAAAAAAAAAAAAAAAAAAAAAAAAAAAAAAAAAAAAAAAAAAAAAAAAAAAAAAAAAAAAAAAAAAAAAAAAAAAAAAAAAAAAAAAAAAAAAAAAAAAAAAAAAAAAAAAAAAAAAAAAAAAAAAAAAAAAAAAAAAAAAAAAAAAAAAAAAAAAAAAAAAAAAAAAAAAAAAAAAAAAAAAAAAAAAAAAAAAAAAAAAAAAAAAAAAAAAAAAAAAAAAAAAAAAAAAAAAAAAAAAAAAAAAAAAAAAAAAAAAAAAAAAAAAAAAAAAAAAAAAAAAAAAAAAAAAAAAAAAAAAAAAAAAAAAAAAAAAAAAAAAAAAAAAAAAAAAAAAAAAAAAAAAAAAAAAAAAAAAAAAAAAAAAAAAAAAAAAAAAAAAAAAAAAAAAAAAAAAAAAAAAAAAAAAAAAAAAAAAAAAAAAAAAAAAAAAAAAAAAAAAAAAAAAAAAAAAAAAAAAAAAAAAAAAAAAAAAAAAAAAAAAAAAAAAAAAAAAAAAAAAAAAAAAAAAAAAAAAAAAAAAAAAAAAAAAAAAAAAAAAAAAAAAAAAAAAAAAAAAAAAAAAAAAAAAAAAAAAAAAAAAAAAAAAAAAAAAAAAAAAAAAAAAAAAAAAAAAAAAAAAAAAAAAAAAAAAAAAAAAAAAAAAAAAAAAAAAAAAAAAAAAAAAAAAAAAAAAAAAAAAAAAAAAAAAAAAAAAAAAAAAAAAAAAAAAAAAAAAAAAAAAAAAAAAAAAAAAAAAAAAAAAAAAAAAAAAAAAAAAAAAAAAAAAAAAAAAAAAAAAAAAAAAAAAAAAAAAAAAAAAAAAAAAAAAAAAAAAAAAAAAAAAAAAAAAAAAAAAAAAAAAAAAAAAAAAAAAAAAAAAAAAAAAAAAAAAAAAAAAAAAAAAAAAAAAAAAAAAAAAAAAAAAAAAAAAAAAAAAAAAAAAAAAAAAAAAAAAAAAAAAAAAAAAAAAAAAAAAAAAAAAAAAAAAAAAAAAAAAAAAAAAAAAAAAAAAAAAAAAAAAAAAAAAAAAAAAAAAAAAAAAAAAAAAAAAAAAAAAAAAAAAAAAAAAAAAAAAAAAAAAAAAAAAAAAAAAAAAAAAAAAAAAAAAAAAAAAAAAAAAAAAAAAAAAAAAAAAAAAAAAAAAAAAAAAAAAAAAAAAAAAAAAAAAAAAAAAAAAAAAAAAAAAAAAAAAAAAAAAAAAAAAAAAAAAAAAAAAAAAAAAAAAAAAAAAAAAAAAAAAAAAAAAAAAAAAAAAAAAAAAAAAAAAAAAAAAAAAAAAAAAAAAAAAAAAAAAAAAAAAAAAAAAAAAAAAAAAAAAAAAAAAAAAAAAAAAAAAAAAAAAAAAAAAAAAAAAAAAAAAAAAAAAAAAAAAAAAAAAAAAAAAAAAAAAAAAAAAAAAAAAAAAAAAAAAAAAAAAAAAAAAAAAAAAAAAAAAAAAAAAAAAAAAAAAAAAAAAAAAAAAAAAAAAAAAAAAAAAAAAAAAAAAAAAAAAAAAAAAAAAAAAAAAAAAAAAAAAAAAAAAAAAAAAAAAAAAAAAAAAAAAAAAAAAAAAAAAAAAAAAAAAAAAAAAAAAAAAAAAAAAAAAAAAAAAAAAAAAAAAAAAAAAAAAAAAAAAAAAAAAAAAAAAAAAAAAAAAAAAAAAAAAAAAAAAAAAAAAAAAAAAAAAAAAAAAAAAAAAAAAAAAAAAAAAAAAAAAAAAAAAAAAAAAAAAAAAAAAAAAAAAAAAAAAAAAAAAAAAAAAAAAAAAAAAAAAAAAAAAAAAAAAAAAAAAAAAAAAAAAAAAAAAAAAAAAAAAAAAAAAAAAAAAAAAAAAAAAAAAAAAAAAAAAAAAAAAAAAAAAAAAAAAAAAAAAAAAAAAAAAAAAAAAAAAAAAAAAAAAAAAAAAAAAAAAAAAAAAAAAAAAAAAAAAAAAAAAAAAAAAAAAAAAAAAAAAAAAAAAAAAAAAAAAAAAAAAAAAAAAAAAAAAAAAAAAAAAAAAAAAAAAAAAAAAAAAAAAAAAAAAAAAAAAAAAAAAAAAAAAAAAAAAAAAAAAAAAAAAAAAAAAAAAAAAAAAAAAAAAAAAAAAAAAAAAAAAAAAAAAAAAAAAAAAAAAAAAAAAAAAAAAAAAAAAAAAAAAAAAAAAAAAAAAAAAAAAAAAAAAAAAAAAAAAAAAAAAAAAAAAAAAAAAAAAAAAAAAAAAAAAAAAAAAAAAAAAAAAAAAAAAAAAAAAAAAAAAAAAAAAAAAAAAAAAAAAAAAAAAAAAAAAAAAAAAAAAAAAAAAAAAAAAAAAAAAAAAAAAAAAAAAAAAAAAAAAAAAAAAAAAAAAAAAAAAAAAAAAAAAAAAAAAAAAAAAAAAAAAAAAAAAAAAAAAAAAAAAAAAAAAAAAAAAAAAAAAAAAAAAAAAAAAAAAAAAAAAAAAAAAAAAAAAAAAAAAAAAAAAAAAAAAAAAAAAAAAAAAAAAAAAAAAAAAAAAAAAAAAAAAAAAAAAAAAAAAAAAAAAAAAAAAAAAAAAAAAAAAAAAAAAAAAAAAAAAAAAAAAAAAAAAAAAAAAAAAAAAAAAAAAAAAAAAAAAAAAAAAAAAAAAAAAAAAAAAAAAAAAAAAAAAAAAAAAAAAAAAAAAAAAAAAAAAAAAAAAAAAAAAAAAAAAAAAAAAAAAAAAAAAAAAAAAAAAAAAAAAAAAAAAAAAAAAAAAAAAAAAAAAAAAAAAAAAAAAAAAAAAAAAAAAAAAAAAAAAAAAAAAAAAAAAAAAAAAAAAAAAAAAAAAAAAAAAAAAAAAAAAAAAAAAAAAAAAAAAAAAAAAAAAAAAAAAAAAAAAAAAAAAAAAAAAAAAAAAAAAAAAAAAAAAAAAAAAAAAAAAAAAAAAAAAAAAAAAAAAAAAAAAAAAAAAAAAAAAAAAAAAAAAAAAAAAAAAAAAAAAAAAAAAAAAAAAAAAAAAAAAAAAAAAAAAAAAAAAAAAAAAAAAAAAAAAAAAAAAAAAAAAAAAAAAAAAAAAAAAAAAAAAAAAAAAAAAAAAAAAAAAAAAAAAAAAAAAAAAAAAAAAAAAAAAAAAAAAAAAAAAAAAAAAAAAAAAAAAAAAAAAAAAAAAAAAAAAAAAAAAAAAAAAAAAAAAAAAAAAAAAAAAAAAAAAAAAAAAAAAAAAAAAAAAAAAAAAAAAAAAAAAAAAAAAAAAAAAAAAAAAAAAAAAAAAAAAAAAAAAAAAAAAAAAAAAAAAAAAAAAAAAAAAAAAAAAAAAAAAAAAAAAAAAAAAAAAAAAAAAAAAAAAAAAAAAAAAAAAAAAAAAAAAAAAAAAAAAAAAAAAAAAAAAAAAAAAAAAAAAAAAAAAAAAAAAAAAAAAAAAAAAAAAAAAAAAAAAAAAAAAAAAAAAAAAAAAAAAAAAAAAAAAAAAAAAAAAAAAAAAAAAAAAAAAAAAAAAAAAAAAAAAAAAAAAAAAAAAAAAAAAAAAAAAAAAAAAAAAAAAAAAAAAAAAAAAAAAAAAAAAAAAAAAAAAAAAAAAAAAAAAAAAAAAAAAAAAAAAAAAAAAAAAAAAAAAAAAAAAAAAAAAAAAAAAAAAAAAAAAAAAAAAAAAAAAAAAAAAAAAAAAAAAAAAAAAAAAAAAAAAAAAAAAAAAAAAAAAAAAAAAAAAAAAAAAAAAAAAAAAAAAAAAAAAAAAAAAAAAAAAAAAAAAAAAAAAAAAAAAAAAAAAAAAAAAAAAAAAAAAAAAAAAAAAAAAAAAAAAAAAAAAAAAAAAAAAAAAAAAAAAAAAAAAAAAAAAAAAAAAAAAAAAAAAAAAAAAAAAAAAAAAAAAAAAAAAAAAAAAAAAAAAAAAAAAAAAAAAAAAAAAAAAAAAAAAAAAAAAAAAAAAAAAAAAAAAAAAAAAAAAAAAAAAAAAAAAAAAAAAAAAAAAAAAAAAAAAAAAAAAAAAAAAAAAAAAAAAAAAAAAAAAAAAAAAAAAAAAAAAAAAAAAAAAAAAAAAAAAAAAAAAAAAAAAAAAAAAAAAAAAAAAAAAAAAAAAAAAAAAAAAAAAAAAAAAAAAAAAAAAAAAAAAAAAAAAAAAAAAAAAAAAAAAAAAAAAAAAAAAAAAAAAAAAAAAAAAAAAAAAAAAAAAAAAAAAAAAAAAAAAAAAAAAAAAAAAAAAAAAAAAAAAAAAAAAAAAAAAAAAAAAAAAAAAAAAAAAAAAAAAAAAAAAAAAAAAAAAAAAAAAAAAAAAAAAAAAAAAAAAAAAAAAAAAAAAAAAAAAAAAAAAAAAAAAAAAAAAAAAAAAAAAAAAAAAAAAAAAAAAAAAAAAAAAAAAAAAAAAAAAAAAAAAAAAAAAAAAAAAAAAAAAAAAAAAAAAAAAAAAAAAAAAAAAAAAAAAAAAAAAAAAAAAAAAAAAAAAAAAAAAAAAAAAAAAAAAAAAAAAAAAAAAAAAAAAAAAAAAAAAAAAAAAAAAAAAAAAAAAAAAAAAAAAAAAAAAAAAAAAAAAAAAAAAAAAAAAAAAAAAAAAAAAAAAAAAAAAAAAAAAAAAAAAAAAAAAAAAAAAAAAAAAAAAAAAAAAAAAAAAAAAAAAAAAAAAAAAAAAAAAAAAAAAAAAAAAAAAAAAAAAAAAAAAAAAAAAAAAAAAAAAAAAAAAAAAAAAAAAAAAAAAAAAAAAAAAAAAAAAAAAAAAAAAAAAAAAAAAAAAAAAAAAAAAAAAAAAAAAAAAAAAAAAAAAAAAAAAAAAAAAAAAAAAAAAAAAAAAAAAAAAAAAAAAAAAAAAAAAAAAAAAAAAAAAAAAAAAAAAAAAAAAAAAAAAAAAAAAAAAAAAAAAAAAAAAAAAAAAAAAAAAAAAAAAAAAAAAAAAAAAAAAAAAAAAAAAAAAAAAAAAAAAAAAAAAAAAAAAAAAAAAAAAAAAAAAAAAAAAAAAAAAAAAAAAAAAAAAAAAAAAAAAAAAAAAAAAAAAAAAAAAAAAAAAAAAAAAAAAAAAAAAAAAAAAAAAAAAAAAAAAAAAAAAAAAAAAAAAAAAAAAAAAAAAAAAAAAAAAAAAAAAAAAAAAAAAAAAAAAAAAAAAAAAAAAAAAAAAAAAAAAAAAAAAAAAAAAAAAAAAAAAAAAAAAAAAAAAAAAAAAAAAAAAAAAAAAAAAAAAAAAAAAAAAAAAAAAAAAAAAAAAAAAAAAAAAAAAAAAAAAAAAAAAAAAAAAAAAAAAAAAAAAAAAAAAAAAAAAAAAAAAAAAAAAAAAAAAAAAAAAAAAAAAAAAAAAAAAAAAAAAAAAAAAAAAAAAAAAAAAAAAAAAAAAAAAAAAAAAAAAAAAAAAAAAAAAAAAAAAAAAAAAAAAAAAAAAAAAAAAAAAAAAAAAAAAAAAAAAAAAAAAAAAAAAAAAAAAAAAAAAAAAAAAAAAAAAAAAAAAAAAAAAAAAAAAAAAAAAAAAAAAAAAAAAAAAAAAAAAAAAAAAAAAAAAAAAAAAAAAAAAAAAAAAAAAAAAAAAAAAAAAAAAAAAAAAAAAAAAAAAAAAAAAAAAAAAAAAAAAAAAAAAAAAAAAAAAAAAAAAAAAAAAAAAAAAAAAAAAAAAAAAAAAAAAAAAAAAAAAAAAAAAAAAAAAAAAAAAAAAAAAAAAAAAAAAAAAAAAAAAAAAAAAAAAAAAAAAAAAAAAAAAAAAAAAAAAAAAAAAAAAAAAAAAAAAAAAAAAAAAAAAAAAAAAAAAAAAAAAAAAAAAAAAAAAAAAAAAAAAAAAAAAAAAAAAAAAAAAAAAAAAAAAAAAAAAAAAAAAAAAAAAAAAAAAAAAAAAAAAAAAAAAAAAAAAAAAAAAAAAAAAAAAAAAAAAAAAAAAAAAAAAAAAAAAAAAAAAAAAAAAAAAAAAAAAAAAAAAAAAAAAAAAAAAAAAAAAAAAAAAAAAAAAAAAAAAAAAAAAAAAAAAAAAAAAAAAAAAAAAAAAAAAAAAAAAAAAAAAAAAAAAAAAAAAAAAAAAAAAAAAAAAAAAAAAAAAAAAAAAAAAAAAAAAAAAAAAAAAAAAAAAAAAAAAAAAAAAAAAAAAAAAAAAAAAAAAAAAAAAAAAAAAAAAAAAAAAAAAAAAAAAAAAAAAAAAAAAAAAAAAAAAAAAAAAAAAAAAAAAAAAAAAAAAAAAAAAAAAAAAAAAAAAAAAAAAAAAAAAAAAAAAAAAAAAAAAAAAAAAAAAAAAAAAAAAAAAAAAAAAAAAAAAAAAAAAAAAAAAAAAAAAAAAAAAAAAAAAAAAAAAAAAAAAAAAAAAAAAAAAAAAAAAAAAAAAAAAAAAAAAAAAAAAAAAAAAAAAAAAAAAAAAAAAAAAAAAAAAAAAAAAAAAAAAAAAAAAAAAAAAAAAAAAAAAAAAAAAAAAAAAAAAAAAAAAAAAAAAAAAAAAAAAAAAAAAAAAAAAAAAAAAAAAAAAAAAAAAAAAAAAAAAAAAAAAAAAAAAAAAAAAAAAAAAAAAAAAAAAAAAAAAAAAAAAAAAAAAAAAAAAAAAAAAAAAAAAAAAAAAAAAAAAAAAAAAAAAAAAAAAAAAAAAAAAAAAAAAAAAAAAAAAAAAAAAAAAAAAAAAAAAAAAAAAAAAAAAAAAAAAAAAAAAAAAAAAAAAAAAAAAAAAAAAAAAAAAAAAAAAAAAAAAAAAAAAAAAAAAAAAAAAAAAAAAAAAAAAAAAAAAAAAAAAAAAAAAAAAAAAAAAAAAAAAAAAAAAAAAAAAAAAAAAAAAAAAAAAAAAAAAAAAAAAAAAAAAAAAAAAAAAAAAAAAAAAAAAAAAAAAAAAAAAAAAAAAAAAAAAAAAAAAAAAAAAAAAAAAAAAAAAAAAAAAAAAAAAAAAAAAAAAAAAAAAAAAAAAAAAAAAAAAAAAAAAAAAAAAAAAAAAAAAAAAAAAAAAAAAAAAAAAAAAAAAAAAAAAAAAAAAAAAAAAAAAAAAAAAAAAAAAAAAAAAAAAAAAAAAAAAAAAAAAAAAAAAAAAAAAAAAAAAAAAAAAAAAAAAAAAAAAAAAAAAAAAAAAAAAAAAAAAAAAAAAAAAAAAAAAAAAAAAAAAAAAAAAAAAAAAAAAAAAAAAAAAAAAAAAAAAAAAAAAAAAAAAAAAAAAAAAAAAAAAAAAAAAAAAAAAAAAAAAAAAAAAAAAAAAAAAAAAAAAAAAAAAAAAAAAAAAAAAAAAAAAAAAAAAAAAAAAAAAAAAAAAAAAAAAAAAAAAAAAAAAAAAAAAAAAAAAAAAAAAAAAAAAAAAAAAAAAAAAAAAAAAAAAAAAAAAAAAAAAAAAAAAAAAAAAAAAAAAAAAAAAAAAAAAAAAAAAAAAAAAAAAAAAAAAAAAAAAAAAAAAAAAAAAAAAAAAAAAAAAAAAAAAAAAAAAAAAAAAAAAAAAAAAAAAAAAAAAAAAAAAAAAAAAAAAAAAAAAAAAAAAAAAAAAAAAAAAAAAAAAAAAAAAAAAAAAAAAAAAAAAAAAAAAAAAAAAAAAAAAAAAAAAAAAAAAAAAAAAAAAAAAAAAAAAAAAAAAAAAAAAAAAAAAAAAAAAAAAAAAAAAAAAAAAAAAAAAAAAAAAAAAAAAAAAAAAAAAAAAAAAAAAAAAAAAAAAAAAAAAAAAAAAAAAAAAAAAAAAAAAAAAAAAAAAAAAAAAAAAAAAAAAAAAAAAAAAAAAAAAAAAAAAAAAAAAAAAAAAAAAAAAAAAAAAAAAAAAAAAAAAAAAAAAAAAAAAAAAAAAAAAAAAAAAAAAAAAAAAAAAAAAAAAAAAAAAAAAAAAAAAAAAAAAAAAAAAAAAAAAAAAAAAAAAAAAAAAAAAAAAAAAAAAAAAAAAAAAAAAAAAAAAAAAAAAAAAAAAAAAAAAAAAAAAAAAAAAAAAAAAAAAAAAAAAAAAAAAAAAAAAAAAAAAAAAAAAAAAAAAAAAAAAAAAAAAAAAAAAAAAAAAAAAAAAAAAAAAAAAAAAAAAAAAAAAAAAAAAAAAAAAAAAAAAAAAAAAAAAAAAAAAAAAAAAAAAAAAAAAAAAAAAAAAAAAAAAAAAAAAAAAAAAAAAAAAAAAAAAAAAAAAAAAAAAAAAAAAAAAAAAAAAAAAAAAAAAAAAAAAAAAAAAAAAAAAAAAAAAAAAAAAAAAAAAAAAAAAAAAAAAAAAAAAAAAAAAAAAAAAAAAAAAAAAAAAAAAAAAAAAAAAAAAAAAAAAAAAAAAAAAAAAAAAAAAAAAAAAAAAAAAAAAAAAAAAAAAAAAAAAAAAAAAAAAAAAAAAAAAAAAAAAAAAAAAAAAAAAAAAAAAAAAAAAAAAAAAAAAAAAAAAAAAAAAAAAAAAAAAAAAAAAAAAAAAAAAAAAAAAAAAAAAAAAAAAAAAAAAAAAAAAAAAAAAAAAAAAAAAAAAAAAAAAAAAAAAAAAAAAAAAAAAAAAAAAAAAAAAAAAAAAAAAAAAAAAAAAAAAAAAAAAAAAAAAAAAAAAAAAAAAAAAAAAAAAAAAAAAAAAAAAAAAAAAAAAAAAAAAAAAAAAAAAAAAAAAAAAAAAAAAAAAAAAAAAAAAAAAAAAAAAAAAAAAAAAAAAAAAAAAAAAAAAAAAAAAAAAAAAAAAAAAAAAAAAAAAAAAAAAAAAAAAAAAAAAAAAAAAAAAAAAAAAAAAAAAAAAAAAAAAAAAAAAAAAAAAAAAAAAAAAAAAAAAAAAAAAAAAAAAAAAAAAAAAAAAAAAAAAAAAAAAAAAAAAAAAAAAAAAAAAAAAAAAAAAAAAAAAAAAAAAAAAAAAAAAAAAAAAAAAAAAAAAAAAAAAAAAAAAAAAAAAAAAAAAAAAAAAAAAAAAAAAAAAAAAAAAAAAAAAAAAAAAAAAAAAAAAAAAAAAAAAAAAAAAAAAAAAAAAAAAAAAAAAAAAAAAAAAAAAAAAAAAAAAAAAAAAAAAAAAAAAAAAAAAAAAAAAAAAAAAAAAAAAAAAAAAAAAAAAAAAAAAAAAAAAAAAAAAAAAAAAAAAAAAAAAAAAAAAAAAAAAAAAAAAAAAAAAAAAAAAAAAAAAAAAAAAAAAAAAAAAAAAAAAAAAAAAAAAAAAAAAAAAAAAAAAAAAAAAAAAAAAAAAAAAAAAAAAAAAAAAAAAAAAAAAAAAAAAAAAAAAAAAAAAAAAAAAAAAAAAAAAAAAAAAAAAAAAAAAAAAAAAAAAAAAAAAAAAAAAAAAAAAAAAAAAAAAAAAAAAAAAAAAAAAAAAAAAAAAAAAAAAAAAAAAAAAAAAAAAAAAAAAAAAAAAAAAAAAAAAAAAAAAAAAAAAAAAAAAAAAAAAAAAAAAAAAAAAAAAAAAAAAAAAAAAAAAAAAAAAAAAAAAAAAAAAAAAAAAAAAAAAAAAAAAAAAAAAAAAAAAAAAAAAAAAAAAAAAAAAAAAAAAAAAAAAAAAAAAAAAAAAAAAAAAAAAAAAAAAAAAAAAAAAAAAAAAAAAAAAAAAAAAAAAAAAAAAAAAAAAAAAAAAAAAAAAAAAAAAAAAAAAAAAAAAAAAAAAAAAAAAAAAAAAAAAAAAAAAAAAAAAAAAAAAAAAAAAAAAAAAAAAAAAAAAAAAAAAAAAAAAAAAAAAAAAAAAAAAAAAAAAAAAAAAAAAAAAAAAAAAAAAAAAAAAAAAAAAAAAAAAAAAAAAAAAAAAAAAAAAAAAAAAAAAAAAAAAAAAAAAAAAAAAAAAAAAAAAAAAAAAAAAAAAAAAAAAAAAAAAAAAAAAAAAAAAAAAAAAAAAAAAAAAAAAAAAAAAAAAAAAAAAAAAAAAAAAAAAAAAAAAAAAAAAAAAAAAAAAAAAAAAAAAAAAAAAAAAAAAAAAAAAAAAAAAAAAAAAAAAAAAAAAAAAAAAAAAAAAAAAAAAAAAAAAAAAAAAAAAAAAAAAAAAAAAAAAAAAAAAAAAAAAAAAAAAAAAAAAAAAAAAAAAAAAAAAAAAAAAAAAAAAAAAAAAAAAAAAAAAAAAAAAAAAAAAAAAAAAAAAAAAAAAAAAAAAAAAAAAAAAAAAAAAAAAAAAAAAAAAAAAAAAAAAAAAAAAAAAAAAAAAAAAAAAAAAAAAAAAAAAAAAAAAAAAAAAAAAAAAAAAAAAAAAAAAAAAAAAAAAAAAAAAAAAAAAAAAAAAAAAAAAAAAAAAAAAAAAAAAAAAAAAAAAAAAAAAAAAAAAAAAAAAAAAAAAAAAAAAAAAAAAAAAAAAAAAAAAAAAAAAAAAAAAAAAAAAAAAAAAAAAAAAAAAAAAAAAAAAAAAAAAAAAAAAAAAAAAAAAAAAAAAAAAAAAAAAAAAAAAAAAAAAAAAAAAAAAAAAAAAAAAAAAAAAAAAAAAAAAAAAAAAAAAAAAAAAAAAAAAAAAAAAAAAAAAAAAAAAAAAAAAAAAAAAAAAAAAAAAAAAAAAAAAAAAAAAAAAAAAAAAAAAAAAAAAAAAAAAAAAAAAAAAAAAAAAAAAAAAAAAAAAAAAAAAAAAAAAAAAAAAAAAAAAAAAAAAAAAAAAAAAAAAAAAAAAAAAAAAAAAAAAAAAAAAAAAAAAAAAAAAAAAAAAAAAAAAAAAAAAAAAAAAAAAAAAAAAAAAAAAAAAAAAAAAAAAAAAAAAAAAAAAAAAAAAAAAAAAAAAAAAAAAAAAAAAAAAAAAAAAAAAAAAAAAAAAAAAAAAAAAAAAAAAAAAAAAAAAAAAAAAAAAAAAAAAAAAAAAAAAAAAAAAAAAAAAAAAAAAAAAAAAAAAAAAAAAAAAAAAAAAAAAAAAAAAAAAAAAAAAAAAAAAAAAAAAAAAAAAAAAAAAAAAAAAAAAAAAAAAAAAAAAAAAAAAAAAAAAAAAAAAAAAAAAAAAAAAAAAAAAAAAAAAAAAAAAAAAAAAAAAAAAAAAAAAAAAAAAAAAAAAAAAAAAAAAAAAAAAAAAAAAAAAAAAAAAAAAAAAAAAAAAAAAAAAAAAAAAAAAAAAAAAAAAAAAAAAAAAAAAAAAAAAAAAAAAAAAAAAAAAAAAAAAAAAAAAAAAAAAAAAAAAAAAAAAAAAAAAAAAAAAAAAAAAAAAAAAAAAAAAAAAAAAAAAAAAAAAAAAAAAAAAAAAAAAAAAAAAAAAAAAAAAAAAAAAAAAAAAAAAAAAAAAAAAAAAAAAAAAAAAAAAAAAAAAAAAAAAAAAAAAAAAAAAAAAAAAAAAAAAAAAAAAAAAAAAAAAAAAAAAAAAAAAAAAAAAAAAAAAAAAAAAAAAAAAAAAAAAAAAAAAAAAAAAAAAAAAAAAAAAAAAAAAAAAAAAAAAAAAAAAAAAAAAAAAAAAAAAAAAAAAAAAAAAAAAAAAAAAAAAAAAAAAAAAAAAAAAAAAAAAAAAAAAAAAAAAAAAAAAAAAAAAAAAAAAAAAAAAAAAAAAAAAAAAAAAAAAAAAAAAAAAAAAAAAAAAAAAAAAAAAAAAAAAAAAAAAAAAAAAAAAAAAAAAAAAAAAAAAAAAAAAAAAAAAAAAAAAAAAAAAAAAAAAAAAAAAAAAAAAAAAAAAAAAAAAAAAAAAAAAAAAAAAAAAAAAAAAAAAAAAAAAAAAAAAAAAAAAAAAAAAAAAAAAAAAAAAAAAAAAAAAAAAAAAAAAAAAAAAAAAAAAAAAAAAAAAAAAAAAAAAAAAAAAAAAAAAAAAAAAAAAAAAAAAAAAAAAAAAAAAAAAAAAAAAAAAAAAAAAAAAAAAAAAAAAAAAAAAAAAAAAAAAAAAAAAAAAAAAAAAAAAAAAAAAAAAAAAAAAAAAAAAAAAAAAAAAAAAAAAAAAAAAAAAAAAAAAAAAAAAAAAAAAAAAAAAAAAAAAAAAAAAAAAAAAAAAAAAAAAAAAAAAAAAAAAAAAAAAAAAAAAAAAAAAAAAAAAAAAAAAAAAAAAAAAAAAAAAAAAAAAAAAAAAAAAAAAAAAAAAAAAAAAAAAAAAAAAAAAAAAAAAAAAAAAAAAAAAAAAAAAAAAAAAAAAAAAAAAAAAAAAAAAAAAAAAAAAAAAAAAAAAAAAAAAAAAAAAAAAAAAAAAAAAAAAAAAAAAAAAAAAAAAAAAAAAAAAAAAAAAAAAAAAAAAAAAAAAAAAAAAAAAAAAAAAAAAAAAAAAAAAAAAAAAAAAAAAAAAAAAAAAAAAAAAAAAAAAAAAAAAAAAAAAAAAAAAAAAAAAAAAAAAAAAAAAAAAAAAAAAAAAAAAAAAAAAAAAAAAAAAAAAAAAAAAAAAAAAAAAAAAAAAAAAAAAAAAAAAAAAAAAAAAAAAAAAAAAAAAAAAAAAAAAAAAAAAAAAAAAAAAAAAAAAAAAAAAAAAAAAAAAAAAAAAAAAAAAAAAAAAAAAAAAAAAAAAAAAAAAAAAAAAAAAAAAAAAAAAAAAAAAAAAAAAAAAAAAAAAAAAAAAAAAAAAAAAAAAAAAAAAAAAAAAAAAAAAAAAAAAAAAAAAAAAAAAAAAAAAAAAAAAAAAAAAAAAAAAAAAAAAAAAAAAAAAAAAAAAAAAAAAAAAAAAAAAAAAAAAAAAAAAAAAAAAAAAAAAAAAAAAAAAAAAAAAAAAAAAAAAAAAAAAAAAAAAAAAAAAAAAAAAAAAAAAAAAAAAAAAAAAAAAAAAAAAAAAAAAAAAAAAAAAAAAAAAAAAAAAAAAAAAAAAAAAAAAAAAAAAAAAAAAAAAAAAAAAAAAAAAAAAAAAAAAAAAAAAAAAAAAAAAAAAAAAAAAAAAAAAAAAAAAAAAAAAAAAAAAAAAAAAAAAAAAAAAAAAAAAAAAAAAAAAAAAAAAAAAAAAAAAAAAAAAAAAAAAAAAAAAAAAAAAAAAAAAAAAAAAAAAAAAAAAAAAAAAAAAAAAAAAAAAAAAAAAAAAAAAAAAAAAAAAAAAAAAAAAAAAAAAAAAAAAAAAAAAAAAAAAAAAAAAAAAAAAAAAAAAAAAAAAAAAAAAAAAAAAAAAAAAAAAAAAAAAAAAAAAAAAAAAAAAAAAAAAAAAAAAAAAAAAAAAAAAAAAAAAAAAAAAAAAAAAAAAAAAAAAAAAAAAAAAAAAAAAAAAAAAAAAAAAAAAAAAAAAAAAAAAAAAAAAAAAAAAAAAAAAAAAAAAAAAAAAAAAAAAAAAAAAAAAAAAAAAAAAAAAAAAAAAAAAAAAAAAAAAAAAAAAAAAAAAAAAAAAAAAAAAAAAAAAAAAAAAAAAAAAAAAAAAAAAAAAAAAAAAAAAAAAAAAAAAAAAAAAAAAAAAAAAAAAAAAAAAAAAAAAAAAAAAAAAAAAAAAAAAAAAAAAAAAAAAAAAAAAAAAAAAAAAAAAAAAAAAAAAAAAAAAAAAAAAAAAAAAAAAAAAAAAAAAAAAAAAAAAAAAAAAAAAAAAAAAAAAAAAAAAAAAAAAAAAAAAAAAAAAAAAAAAAAAAAAAAAAAAAAAAAAAAAAAAAAAAAAAAAAAAAAAAAAAAAAAAAAAAAAAAAAAAAAAAAAAAAAAAAAAAAAAAAAAAAAAAAAAAAAAAAAAAAAAAAAAAAAAAAAAAAAAAAAAAAAAAAAAAAAAAAAAAAAAAAAAAAAAAAAAAAAAAAAAAAAAAAAAAAAAAAAAAAAAAAAAAAAAAAAAAAAAAAAAAAAAAAAAAAAAAAAAAAAAAAAAAAAAAAAAAAAAAAAAAAAAAAAAAAAAAAAAAAAAAAAAAAAAAAAAAAAAAAAAAAAAAAAAAAAAAAAAAAAAAAAAAAAAAAAAAAAAAAAAAAAAAAAAAAAAAAAAAAAAAAAAAAAAAAAAAAAAAAAAAAAAAAAAAAAAAAAAAAAAAAAAAAAAAAAAAAAAAAAAAAAAAAAAAAAAAAAAAAAAAAAAAAAAAAAAAAAAAAAAAAAAAAAAAAAAAAAAAAAAAAAAAAAAAAAAAAAAAAAAAAAAAAAAAAAAAAAAAAAAAAAAAAAAAAAAAAAAAAAAAAAAAAAAAAAAAAAAAAAAAAAAAAAAAAAAAAAAAAAAAAAAAAAAAAAAAAAAAAAAAAAAAAAAAAAAAAAAAAAAAAAAAAAAAAAAAAAAAAAAAAAAAAAAAAAAAAAAAAAAAAAAAAAAAAAAAAAAAAAAAAAAAAAAAAAAAAAAAAAAAAAAAAAAAAAAAAAAAAAAAAAAAAAAAAAAAAAAAAAAAAAAAAAAAAAAAAAAAAAAAAAAAAAAAAAAAAAAAAAAAAAAAAAAAAAAAAAAAAAAAAAAAAAAAAAAAAAAAAAAAAAAAAAAAAAAAAAAAAAAAAAAAAAAAAAAAAAAAAAAAAAAAAAAAAAAAAAAAAAAAAAAAAAAAAAAAAAAAAAAAAAAAAAAAAAAAAAAAAAAAAAAAAAAAAAAAAAAAAAAAAAAAAAAAAAAAAAAAAAAAAAAAAAAAAAAAAAAAAAAAAAAAAAAAAAAAAAAAAAAAAAAAAAAAAAAAAAAAAAAAAAAAAAAAAAAAAAAAAAAAAAAAAAAAAAAAAAAAAAAAAAAAAAAAAAAAAAAAAAAAAAAAAAAAAAAAAAAAAAAAAAAAAAAAAAAAAAAAAAAAAAAAAAAAAAAAAAAAAAAAAAAAAAAAAAAAAAAAAAAAAAAAAAAAAAAAAAAAAAAAAAAAAAAAAAAAAAAAAAAAAAAAAAAAAAAAAAAAAAAAAAAAAAAAAAAAAAAAAAAAAAAAAAAAAAAAAAAAAAAAAAAAAAAAAAAAAAAAAAAAAAAAAAAAAAAAAAAAAAAAAAAAAAAAAAAAAAAAAAAAAAAAAAAAAAAAAAAAAAAAAAAAAAAAAAAAAAAAAAAAAAAAAAAAAAAAAAAAAAAAAAAAAAAAAAAAAAAAAAAAAAAAAAAAAAAAAAAAAAAAAAAAAAAAAAAAAAAAAAAAAAAAAAAAAAAAAAAAAAAAAAAAAAAAAAAAAAAAAAAAAAAAAAAAAAAAAAAAAAAAAAAAAAAAAAAAAAAAAAAAAAAAAAAAAAAAAAAAAAAAAAAAAAAAAAAAAAAAAAAAAAAAAAAAAAAAAAAAAAAAAAAAAAAAAAAAAAAAAAAAAAAAAAAAAAAAAAAAAAAAAAAAAAAAAAAAAAAAAAAAAAAAAAAAAAAAAAAAAAAAAAAAAAAAAAAAAAAAAAAAAAAAAAAAAAAAAAAAAAAAAAAAAAAAAAAAAAAAAAAAAAAAAAAAAAAAAAAAAAAAAAAAAAAAAAAAAAAAAAAAAAAAAAAAAAAAAAAAAAAAAAAAAAAAAAAAAAAAAAAAAAAAAAAAAAAAAAAAAAAAAAAAAAAAAAAAAAAAAAAAAAAAAAAAAAAAAAAAAAAAAAAAAAAAAAAAAAAAAAAAAAAAAAAAAAAAAAAAAAAAAAAAAAAAAAAAAAAAAAAAAAAAAAAAAAAAAAAAAAAAAAAAAAAAAAAAAAAAAAAAAAAAAAAAAAAAAAAAAAAAAAAAAAAAAAAAAAAAAAAAAAAAAAAAAAAAAAAAAAAAAAAAAAAAAAAAAAAAAAAAAAAAAAAAAAAAAAAAAAAAAAAAAAAAAAAAAAAAAAAAAAAAAAAAAAAAAAAAAAAAAAAAAAAAAAAAAAAAAAAAAAAAAAAAAAAAAAAAAAAAAAAAAAAAAAAAAAAAAAAAAAAAAAAAAAAAAAAAAAAAAAAAAAAAAAAAAAAAAAAAAAAAAAAAAAAAAAAAAAAAAAAAAAAAAAAAAAAAAAAAAAAAAAAAAAAAAAAAAAAAAAAAAAAAAAAAAAAAAAAAAAAAAAAAAAAAAAAAAAAAAAAAAAAAAAAAAAAAAAAAAAAAAAAAAAAAAAAAAAAAAAAAAAAAAAAAAAAAAAAAAAAAAAAAAAAAAAAAAAAAAAAAAAAAAAAAAAAAAAAAAAAAAAAAAAAAAAAAAAAAAAAAAAAAAAAAAAAAAAAAAAAAAAAAAAAAAAAAAAAAAAAAAAAAAAAAAAAAAAAAAAAAAAAAAAAAAAAAAAAAAAAAAAAAAAAAAAAAAAAAAAAAAAAAAAAAAAAAAAAAAAAAAAAAAAAAAAAAAAAAAAAAAAAAAAAAAAAAAAAAAAAAAAAAAAAAAAAAAAAAAAAAAAAAAAAAAAAAAAAAAAAAAAAAAAAAAAAAAAAAAAAAAAAAAAAAAAAAAAAAAAAAAAAAAAAAAAAAAAAAAAAAAAAAAAAAAAAAAAAAAAAAAAAAAAAAAAAAAAAAAAAAAAAAAAAAAAAAAAAAAAAAAAAAAAAAAAAAAAAAAAAAAAAAAAAAAAAAAAAAAAAAAAAAAAAAAAAAAAAAAAAAAAAAAAAAAAAAAAAAAAAAAAAAAAAAAAAAAAAAAAAAAAAAAAAAAAAAAAAAAAAAAAAAAAAAAAAAAAAAAAAAAAAAAAAAAAAAAAAAAAAAAAAAAAAAAAAAAAAAAAAAAAAAAAAAAAAAAAAAAAAAAAAAAAAAAAAAAAAAAAAAAAAAAAAAAAAAAAAAAAAAAAAAAAAAAAAAAAAAAAAAAAAAAAAAAAAAAAAAAAAAAAAAAAAAAAAAAAAAAAAAAAAAAAAAAAAAAAAAAAAAAAAAAAAAAAAAAAAAAAAAAAAAAAAAAAAAAAAAAAAAAAAAAAAAAAAAAAAAAAAAAAAAAAAAAAAAAAAAAAAAAAAAAAAAAAAAAAAAAAAAAAAAAAAAAAAAAAAAAAAAAAAAAAAAAAAAAAAAAAAAAAAAAAAAAAAAAAAAAAAAAAAAAAAAAAAAAAAAAAAAAAAAAAAAAAAAAAAAAAAAAAAAAAAAAAAAAAAAAAAAAAAAAAAAAAAAAAAAAAAAAAAAAAAAAAAAAAAAAAAAAAAAAAAAAAAAAAAAAAAAAAAAAAAAAAAAAAAAAAAAAAAAAAAAAAAAAAAAAAAAAAAAAAAAAAAAAAAAAAAAAAAAAAAAAAAAAAAAAAAAAAAAAAAAAAAAAAAAAAAAAAAAAAAAAAAAAAAAAAAAAAAAAAAAAAAAAAAAAAAAAAAAAAAAAAAAAAAAAAAAAAAAAAAAAAAAAAAAAAAAAAAAAAAAAAAAAAAAAAAAAAAAAAAAAAAAAAAAAAAAAAAAAAAAAAAAAAAAAAAAAAAAAAAAAAAAAAAAAAAAAAAAAAAAAAAAAAAAAAAAAAAAAAAAAAAAAAAAAAAAAAAAAAAAAAAAAAAAAAAAAAAAAAAAAAAAAAAAAAAAAAAAAAAAAAAAAAAAAAAAAAAAAAAAAAAAAAAAAAAAAAAAAAAAAAAAAAAAAAAAAAAAAAAAAAAAAAAAAAAAAAAAAAAAAAAAAAAAAAAAAAAAAAAAAAAAAAAAAAAAAAAAAAAAAAAAAAAAAAAAAAAAAAAAAAAAAAAAAAAAAAAAAAAAAAAAAAAAAAAAAAAAAAAAAAAAAAAAAAAAAAAAAAAAAAAAAAAAAAAAAAAAAAAAAAAAAAAAAAAAAAAAAAAAAAAAAAAAAAAAAAAAAAAAAAAAAAAAAAAAAAAAAAAAAAAAAAAAAAAAAAAAAAAAAAAAAAAAAAAAAAAAAAAAAAAAAAAAAAAAAAAAAAAAAAAAAAAAAAAAAAAAAAAAAAAAAAAAAAAAAAAAAAAAAAAAAAAAAAAAAAAAAAAAAAAAAAAAAAAAAAAAAAAAAAAAAAAAAAAAAAAAAAAAAAAAAAAAAAAAAAAAAAAAAAAAAAAAAAAAAAAAAAAAAAAAAAAAAAAAAAAAAAAAAAAAAAAAAAAAAAAAAAAAAAAAAAAAAAAAAAAAAAAAAAAAAAAAAAAAAAAAAAAAAAAAAAAAAAAAAAAAAAAAAAAAAAAAAAAAAAAAAAAAAAAAAAAAAAAAAAAAAAAAAAAAAAAAAAAAAAAAAAAAAAAAAAAAAAAAAAAAAAAAAAAAAAAAAAAAAAAAAAAAAAAAAAAAAAAAAAAAAAAAAAAAAAAAAAAAAAAAAAAAAAAAAAAAAAAAAAAAAAAAAAAAAAAAAAAAAAAAAAAAAAAAAAAAAAAAAAAAAAAAAAAAAAAAAAAAAAAAAAAAAAAAAAAAAAAAAAAAAAAAAAAAAAAAAAAAAAAAAAAAAAAAAAAAAAAAAAAAAAAAAAAAAAAAAAAAAAAAAAAAAAAAAAAAAAAAAAAAAAAAAAAAAAAAAAAAAAAAAAAAAAAAAAAAAAAAAAAAAAAAAAAAAAAAAAAAAAAAAAAAAAAAAAAAAAAAAAAAAAAAAAAAAAAAAAAAAAAAAAAAAAAAAAAAAAAAAAAAAAAAAAAAAAAAAAAAAAAAAAAAAAAAAAAAAAAAAAAAAAAAAAAAAAAAAAAAAAAAAAAAAAAAAAAAAAAAAAAAAAAAAAAAAAAAAAAAAAAAAAAAAAAAAAAAAAAAAAAAAAAAAAAAAAAAAAAAAAAAAAAAAAAAAAAAAAAAAAAAAAAAAAAAAAAAAAAAAAAAAAAAAAAAAAAAAAAAAAAAAAAAAAAAAAAAAAAAAAAAAAAAAAAAAAAAAAAAAAAAAAAAAAAAAAAAAAAAAAAAAAAAAAAAAAAAAAAAAAAAAAAAAAAAAAAAAAAAAAAAAAAAAAAAAAAAAAAAAAAAAAAAAAAAAAAAAAAAAAAAAAAAAAAAAAAAAAAAAAAAAAAAAAAAAAAAAAAAAAAAAAAAAAAAAAAAAAAAAAAAAAAAAAAAAAAAAAAAAAAAAAAAAAAAAAAAAAAAAAAAAAAAAAAAAAAAAAAAAAAAAAAAAAAAAAAAAAAAAAAAAAAAAAAAAAAAAAAAAAAAAAAAAAAAAAAAAAAAAAAAAAAAAAAAAAAAAAAAAAAAAAAAAAAAAAAAAAAAAAAAAAAAAAAAAAAAAAAAAAAAAAAAAAAAAAAAAAAAAAAAAAAAAAAAAAAAAAAAAAAAAAAAAAAAAAAAAAAAAAAAAAAAAAAAAAAAAAAAAAAAAAAAAAAAAAAAAAAAAAAAAAAAAAAAAAAAAAAAAAAAAAAAAAAAAAAAAAAAAAAAAAAAAAAAAAAAAAAAAAAAAAAAAAAAAAAAAAAAAAAAAAAAAAAAAAAAAAAAAAAAAAAAAAAAAAAAAAAAAAAAAAAAAAAAAAAAAAAAAAAAAAAAAAAAAAAAAAAAAAAAAAAAAAAAAAAAAAAAAAAAAAAAAAAAAAAAAAAAAAAAAAAAAAAAAAAAAAAAAAAAAAAAAAAAAAAAAAAAAAAAAAAAAAAAAAAAAAAAAAAAAAAAAAAAAAAAAAAAAAAAAAAAAAAAAAAAAAAAAAAAAAAAAAAAAAAAAAAAAAAAAAAAAAAAAAAAAAAAAAAAAAAAAAAAAAAAAAAAAAAAAAAAAAAAAAAAAAAAAAAAAAAAAAAAAAAAAAAAAAAAAAAAAAAAAAAAAAAAAAAAAAAAAAAAAAAAAAAAAAAAAAAAAAAAAAAAAAAAAAAAAAAAAAAAAAAAAAAAAAAAAAAAAAAAAAAAAAAAAAAAAAAAAAAAAAAAAAAAAAAAAAAAAAAAAAAAAAAAAAAAAAAAAAAAAAAAAAAAAAAAAAAAAAAAAAAAAAAAAAAAAAAAAAAAAAAAAAAAAAAAAAAAAAAAAAAAAAAAAAAAAAAAAAAAAAAAAAAAAAAAAAAAAAAAAAAAAAAAAAAAAAAAAAAAAAAAAAAAAAAAAAAAAAAAAAAAAAAAAAAAAAAAAAAAAAAAAAAAAAAAAAAAAAAAAAAAAAAAAAAAAAAAAAAAAAAAAAAAAAAAAAAAAAAAAAAAAAAAAAAAAAAAAAAAAAAAAAAAAAAAAAAAAAAAAAAAAAAAAAAAAAAAAAAAAAAAAAAAAAAAAAAAAAAAAAAAAAAAAAAAAAAAAAAAAAAAAAAAAAAAAAAAAAAAAAAAAAAAAAAAAAAAAAAAAAAAAAAAAAAAAAAAAAAAAAAAAAAAAAAAAAAAAAAAAAAAAAAAAAAAAAAAAAAAAAAAAAAAAAAAAAAAAAAAAAAAAAAAAAAAAAAAAAAAAAAAAAAAAAAAAAAAAAAAAAAAAAAAAAAAAAAAAAAAAAAAAAAAAAAAAAAAAAAAAAAAAAAAAAAAAAAAAAAAAAAAAAAAAAAAAAAAAAAAAAAAAAAAAAAAAAAAAAAAAAAAAAAAAAAAAAAAAAAAAAAAAAAAAAAAAAAAAAAAAAAAAAAAAAAAAAAAAAAAAAAAAAAAAAAAAAAAAAAAAAAAAAAAAAAAAAAAAAAAAAAAAAAAAAAAAAAAAAAAAAAAAAAAAAAAAAAAAAAAAAAAAAAAAAAAAAAAAAAAAAAAAAAAAAAAAAAAAAAAAAAAAAAAAAAAAAAAAAAAAAAAAAAAAAAAAAAAAAAAAAAAAAAAAAAAAAAAAAAAAAAAAAAAAAAAAAAAAAAAAAAAAAAAAAAAAAAAAAAAAAAAAAAAAAAAAAAAAAAAAAAAAAAAAAAAAAAAAAAAAAAAAAAAAAAAAAAAAAAAAAAAAAAAAAAAAAAAAAAAAAAAAAAAAAAAAAAAAAAAAAAAAAAAAAAAAAAAAAAAAAAAAAAAAAAAAAAAAAAAAAAAAAAAAAAAAAAAAAAAAAAAAAAAAAAAAAAAAAAAAAAAAAAAAAAAAAAAAAAAAAAAAAAAAAAAAAAAAAAAAAAAAAAAAAAAAAAAAAAAAAAAAAAAAAAAAAAAAAAAAAAAAAAAAAAAAAAAAAAAAAAAAAAAAAAAAAAAAAAAAAAAAAAAAAAAAAAAAAAAAAAAAAAAAAAAAAAAAAAAAAAAAAAAAAAAAAAAAAAAAAAAAAAAAAAAAAAAAAAAAAAAAAAAAAAAAAAAAAAAAAAAAAAAAAAAAAAAAAAAAAAAAAAAAAAAAAAAAAAAAAAAAAAAAAAAAAAAAAAAAAAAAAAAAAAAAAAAAAAAAAAAAAAAAAAAAAAAAAAAAAAAAAAAAAAAAAAAAAAAAAAAAAAAAAAAAAAAAAAAAAAAAAAAAAAAAAAAAAAAAAAAAAAAAAAAAAAAAAAAAAAAAAAAAAAAAAAAAAAAAAAAAAAAAAAAAAAAAAAAAAAAAAAAAAAAAAAAAAAAAAAAAAAAAAAAAAAAAAAAAAAAAAAAAAAAAAAAAAAAAAAAAAAAAAAAAAAAAAAAAAAAAAAAAAAAAAAAAAAAAAAAAAAAAAAAAAAAAAAAAAAAAAAAAAAAAAAAAAAAAAAAAAAAAAAAAAAAAAAAAAAAAAAAAAAAAAAAAAAAAAAAAAAAAAAAAAAAAAAAAAAAAAAAAAAAAAAAAAAAAAAAAAAAAAAAAAAAAAAAAAAAAAAAAAAAAAAAAAAAAAAAAAAAAAAAAAAAAAAAAAAAAAAAAAAAAAAAAAAAAAAAAAAAAAAAAAAAAAAAAAAAAAAAAAAAAAAAAAAAAAAAAAAAAAAAAAAAAAAAAAAAAAAAAAAAAAAAAAAAAAAAAAAAAAAAAAAAAAAAAAAAAAAAAAAAAAAAAAAAAAAAAAAAAAAAAAAAAAAAAAAAAAAAAAAAAAAAAAAAAAAAAAAAAAAAAAAAAAAAAAAAAAAAAAAAAAAAAAAAAAAAAAAAAAAAAAAAAAAAAAAAAAAAAAAAAAAAAAAAAAAAAAAAAAAAAAAAAAAAAAAAAAAAAAAAAAAAAAAAAAAAAAAAAAAAAAAAAAAAAAAAAAAAAAAAAAAAAAAAAAAAAAAAAAAAAAAAAAAAAAAAAAAAAAAAAAAAAAAAAAAAAAAAAAAAAAAAAAAAAAAAAAAAAAAAAAAAAAAAAAAAAAAAAAAAAAAAAAAAAAAAAAAAAAAAAAAAAAAAAAAAAAAAAAAAAAAAAAAAAAAAAAAAAAAAAAAAAAAAAAAAAAAAAAAAAAAAAAAAAAAAAAAAAAAAAAAAAAAAAAAAAAAAAAAAAAAAAAAAAAAAAAAAAAAAAAAAAAAAAAAAAAAAAAAAAAAAAAAAAAAAAAAAAAAAAAAAAAAAAAAAAAAAAAAAAAAAAAAAAAAAAAAAAAAAAAAAAAAAAAAAAAAAAAAAAAAAAAAAAAAAAAAAAAAAAAAAAAAAAAAAAAAAAAAAAAAAAAAAAAAAAAAAAAAAAAAAAAAAAAAAAAAAAAAAAAAAAAAAAAAAAAAAAAAAAAAAAAAAAAAAAAAAAAAAAAAAAAAAAAAAAAAAAAAAAAAAAAAAAAAAAAAAAAAAAAAAAAAAAAAAAAAAAAAAAAAAAAAAAAAAAAAAAAAAAAAAAAAAAAAAAAAAAAAAAAAAAAAAAAAAAAAAAAAAAAAAAAAAAAAAAAAAAAAAAAAAAAAAAAAAAAAAAAAAAAAAAAAAAAAAAAAAAAAAAAAAAAAAAAAAAAAAAAAAAAAAAAAAAAAAAAAAAAAAAAAAAAAAAAAAAAAAAAAAAAAAAAAAAAAAAAAAAAAAAAAAAAAAAAAAAAAAAAAAAAAAAAAAAAAAAAAAAAAAAAAAAAAAAAAAAAAAAAAAAAAAAAAAAAAAAAAAAAAAAAAAAAAAAAAAAAAAAAAAAAAAAAAAAAAAAAAAAAAAAAAAAAAAAAAAAAAAAAAAAAAAAAAAAAAAAAAAAAAAAAAAAAAAAAAAAAAAAAAAAAAAAAAAAAAAAAAAAAAAAAAAAAAAAAAAAAAAAAAAAAAAAAAAAAAAAAAAAAAAAAAAAAAAAAAAAAAAAAAAAAAAAAAAAAAAAAAAAAAAAAAAAAAAAAAAAAAAAAAAAAAAAAAAAAAAAAAAAAAAAAAAAAAAAAAAAAAAAAAAAAAAAAAAAAAAAAAAAAAAAAAAAAAAAAAAAAAAAAAAAAAAAAAAAAAAAAAAAAAAAAAAAAAAAAAAAAAAAAAAAAAAAAAAAAAAAAAAAAAAAAAAAAAAAAAAAAAAAAAAAAAAAAAAAAAAAAAAAAAAAAAAAAAAAAAAAAAAAAAAAAAAAAAAAAAAAAAAAAAAAAAAAAAAAAAAAAAAAAAAAAAAAAAAAAAAAAAAAAAAAAAAAAAAAAAAAAAAAAAAAAAAAAAAAAAAAAAAAAAAAAAAAAAAAAAAAAAAAAAAAAAAAAAAAAAAAAAAAAAAAAAAAAAAAAAAAAAAAAAAAAAAAAAAAAAAAAAAAAAAAAAAAAAAAAAAAAAAAAAAAAAAAAAAAAAAAAAAAAAAAAAAAAAAAAAAAAAAAAAAAAAAAAAAAAAAAAAAAAAAAAAAAAAAAAAAAAAAAAAAAAAAAAAAAAAAAAAAAAAAAAAAAAAAAAAAAAAAAAAAAAAAAAAAAAAAAAAAAAAAAAAAAAAAAAAAAAAAAAAAAAAAAAAAAAAAAAAAAAAAAAAAAAAAAAAAAAAAAAAAAAAAAAAAAAAAAAAAAAAAAAAAAAAAAAAAAAAAAAAAAAAAAAAAAAAAAAAAAAAAAAAAAAAAAAAAAAAAAAAAAAAAAAAAAAAAAAAAAAAAAAAAAAAAAAAAAAAAAAAAAAAAAAAAAAAAAAAAAAAAAAAAAAAAAAAAAAAAAAAAAAAAAAAAAAAAAAAAAAAAAAAAAAAAAAAAAAAAAAAAAAAAAAAAAAAAAAAAAAAAAAAAAAAAAAAAAAAAAAAAAAAAAAAAAAAAAAAAAAAAAAAAAAAAAAAAAAAAAAAAAAAAAAAAAAAAAAAAAAAAAAAAAAAAAAAAAAAAAAAAAAAAAAAAAAAAAAAAAAAAAAAAAAAAAAAAAAAAAAAAAAAAAAAAAAAAAAAAAAAAAAAAAAAAAAAAAAAAAAAAAAAAAAAAAAAAAAAAAAAAAAAAAAAAAAAAAAAAAAAAAAAAAAAAAAAAAAAAAAAAAAAAAAAAAAAAAAAAAAAAAAAAAAAAAAAAAAAAAAAAAAAAAAAAAAAAAAAAAAAAAAAAAAAAAAAAAAAAAAAAAAAAAAAAAAAAAAAAAAAAAAAAAAAAAAAAAAAAAAAAAAAAAAAAAAAAAAAAAAAAAAAAAAAAAAAAAAAAAAAAAAAAAAAAAAAAAAAAAAAAAAAAAAAAAAAAAAAAAAAAAAAAAAAAAAAAAAAAAAAAAAAAAAAAAAAAAAAAAAAAAAAAAAAAAAAAAAAAAAAAAAAAAAAAAAAAAAAAAAAAAAAAAAAAAAAAAAAAAAAAAAAAAAAAAAAAAAAAAAAAAAAAAAAAAAAAAAAAAAAAAAAAAAAAAAAAAAAAAAAAAAAAAAAAAAAAAAAAAAAAAAAAAAAAAAAAAAAAAAAAAAAAAAAAAAAAAAAAAAAAAAAAAAAAAAAAAAAAAAAAAAAAAAAAAAAAAAAAAAAAAAAAAAAAAAAAAAAAAAAAAAAAAAAAAAAAAAAAAAAAAAAAAAAAAAAAAAAAAAAAAAAAAAAAAAAAAAAAAAAAAAAAAAAAAAAAAAAAAAAAAAAAAAAAAAAAAAAAAAAAAAAAAAAAAAAAAAAAAAAAAAAAAAAAAAAAAAAAAAAAAAAAAAAAAAAAAAAAAAAAAAAAAAAAAAAAAAAAAAAAAAAAAAAAAAAAAAAAAAAAAAAAAAAAAAAAAAAAAAAAAAAAAAAAAAAAAAAAAAAAAAAAAAAAAAAAAAAAAAAAAAAAAAAAAAAAAAAAAAAAAAAAAAAAAAAAAAAAAAAAAAAAAAAAAAAAAAAAAAAAAAAAAAAAAAAAAAAAAAAAAAAAAAAAAAAAAAAAAAAAAAAAAAAAAAAAAAAAAAAAAAAAAAAAAAAAAAAAAAAAAAAAAAAAAAAAAAAAAAAAAAAAAAAAAAAAAAAAAAAAAAAAAAAAAAAAAAAAAAAAAAAAAAAAAAAAAAAAAAAAAAAAAAAAAAAAAAAAAAAAAAAAAAAAAAAAAAAAAAAAAAAAAAAAAAAAAAAAAAAAAAAAAAAAAAAAAAAAAAAAAAAAAAAAAAAAAAAAAAAAAAAAAAAAAAAAAAAAAAAAAAAAAAAAAAAAAAAAAAAAAAAAAAAAAAAAAAAAAAAAAAAAAAAAAAAAAAAAAAAAAAAAAAAAAAAAAAAAAAAAAAAAAAAAAAAAAAAAAAAAAAAAAAAAAAAAAAAAAAAAAAAAAAAAAAAAAAAAAAAAAAAAAAAAAAAAAAAAAAAAAAAAAAAAAAAAAAAAAAAAAAAAAAAAAAAAAAAAAAAAAAAAAAAAAAAAAAAAAAAAAAAAAAAAAAAAAAAAAAAAAAAAAAAAAAAAAAAAAAAAAAAAAAAAAAAAAAAAAAAAAAAAAAAAAAAAAAAAAAAAAAAAAAAAAAAAAAAAAAAAAAAAAAAAAAAAAAAAAAAAAAAAAAAAAAAAAAAAAAAAAAAAAAAAAAAAAAAAAAAAAAAAAAAAAAAAAAAAAAAAAAAAAAAAAAAAAAAAAAAAAAAAAAAAAAAAAAAAAAAAAAAAAAAAAAAAAAAAAAAAAAAAAAAAAAAAAAAAAAAAAAAAAAAAAAAAAAAAAAAAAAAAAAAAAAAAAAAAAAAAAAAAAAAAAAAAAAAAAAAAAAAAAAAAAAAAAAAAAAAAAAAAAAAAAAAAAAAAAAAAAAAAAAAAAAAAAAAAAAAAAAAAAAAAAAAAAAAAAAAAAAAAAAAAAAAAAAAAAAAAAAAAAAAAAAAAAAAAAAAAAAAAAAAAAAAAAAAAAAAAAAAAAAAAAAAAAAAAAAAAAAAAAAAAAAAAAAAAAAAAAAAAAAAAAAAAAAAAAAAAAAAAAAAAAAAAAAAAAAAAAAAAAAAAAAAAAAAAAAAAAAAAAAAAAAAAAAAAAAAAAAAAAAAAAAAAAAAAAAAAAAAAAAAAAAAAAAAAAAAAAAAAAAAAAAAAAAAAAAAAAAAAAAAAAAAAAAAAAAAAAAAAAAAAAAAAAAAAAAAAAAAAAAAAAAAAAAAAAAAAAAAAAAAAAAAAAAAAAAAAAAAAAAAAAAAAAAAAAAAAAAAAAAAAAAAAAAAAAAAAAAAAAAAAAAAAAAAAAAAAAAAAAAAAAAAAAAAAAAAAAAAAAAAAAAAAAAAAAAAAAAAAAAAAAAAAAAAAAAAAAAAAAAAAAAAAAAAAAAAAAAAAAAAAAAAAAAAAAAAAAAAAAAAAAAAAAAAAAAAAAAAAAAAAAAAAAAAAAAAAAAAAAAAAAAAAAAAAAAAAAAAAAAAAAAAAAAAAAAAAAAAAAAAAAAAAAAAAAAAAAAAAAAAAAAAAAAAAAAAAAAAAAAAAAAAAAAAAAAAAAAAAAAAAAAAAAAAAAAAAAAAAAAAAAAAAAAAAAAAAAAAAAAAAAAAAAAAAAAAAAAAAAAAAAAAAAAAAAAAAAAAAAAAAAAAAAAAAAAAAAAAAAAAAAAAAAAAAAAAAAAAAAAAAAAAAAAAAAAAAAAAAAAAAAAAAAAAAAAAAAAAAAAAAAAAAAAAAAAAAAAAAAAAAAAAAAAAAAAAAAAAAAAAAAAAAAAAAAAAAAAAAAAAAAAAAAAAAAAAAAAAAAAAAAAAAAAAAAAAAAAAAAAAAAAAAAAAAAAAAAAAAAAAAAAAAAAAAAAAAAAAAAAAAAAAAAAAAAAAAAAAAAAAAAAAAAAAAAAAAAAAAAAAAAAAAAAAAAAAAAAAAAAAAAAAAAAAAAAAAAAAAAAAAAAAAAAAAAAAAAAAAAAAAAAAAAAAAAAAAAAAAAAAAAAAAAAAAAAAAAAAAAAAAAAAAAAAAAAAAAAAAAAAAAAAAAAAAAAAAAAAAAAAAAAAAAAAAAAAAAAAAAAAAAAAAAAAAAAAAAAAAAAAAAAAAAAAAAAAAAAAAAAAAAAAAAAAAAAAAAAAAAAAAAAAAAAAAAAAAAAAAAAAAAAAAAAAAAAAAAAAAAAAAAAAAAAAAAAAAAAAAAAAAAAAAAAAAAAAAAAAAAAAAAAAAAAAAAAAAAAAAAAAAAAAAAAAAAAAAAAAAAAAAAAAAAAAAAAAAAAAAAAAAAAAAAAAAAAAAAAAAAAAAAAAAAAAAAAAAAAAAAAAAAAAAAAAAAAAAAAAAAAAAAAAAAAAAAAAAAAAAAAAAAAAAAAAAAAAAAAAAAAAAAAAAAAAAAAAAAAAAAAAAAAAAAAAAAAAAAAAAAAAAAAAAAAAAAAAAAAAAAAAAAAAAAAAAAAAAAAAAAAAAAAAAAAAAAAAAAAAAAAAAAAAAAAAAAAAAAAAAAAAAAAAAAAAAAAAAAAAAAAAAAAAAAAAAAAAAAAAAAAAAAAAAAAAAAAAAAAAAAAAAAAAAAAAAAAAAAAAAAAAAAAAAAAAAAAAAAAAAAAAAAAAAAAAAAAAAAAAAAAAAAAAAAAAAAAAAAAAAAAAAAAAAAAAAAAAAAAAAAAAAAAAAAAAAAAAAAAAAAAAAAAAAAAAAAAAAAAAAAAAAAAAAAAAAAAAAAAAAAAAAAAAAAAAAAAAAAAAAAAAAAAAAAAAAAAAAAAAAAAAAAAAAAAAAAAAAAAAAAAAAAAAAAAAAAAAAAAAAAAAAAAAAAAAAAAAAAAAAAAAAAAAAAAAAAAAAAAAAAAAAAAAAAAAAAAAAAAAAAAAAAAAAAAAAAAAAAAAAAAAAAAAAAAAAAAAAAAAAAAAAAAAAAAAAAAAAAAAAAAAAAAAAAAAAAAAAAAAAAAAAAAAAAAAAAAAAAAAAAAAAAAAAAAAAAAAAAAAAAAAAAAAAAAAAAAAAAAAAAAAAAAAAAAAAAAAAAAAAAAAAAAAAAAAAAAAAAAAAAAAAAAAAAAAAAAAAAAAAAAAAAAAAAAAAAAAAAAAAAAAAAAAAAAAAAAAAAAAAAAAAAAAAAAAAAAAAAAAAAAAAAAAAAAAAAAAAAAAAAAAAAAAAAAAAAAAAAAAAAAAAAAAAAAAAAAAAAAAAAAAAAAAAAAAAAAAAAAAAAAAAAAAAAAAAAAAAAAAAAAAAAAAAAAAAAAAAAAAAAAAAAAAAAAAAAAAAAAAAAAAAAAAAAAAAAAAAAAAAAAAAAAAAAAAAAAAAAAAAAAAAAAAAAAAAAAAAAAAAAAAAAAAAAAAAAAAAAAAAAAAAAAAAAAAAAAAAAAAAAAAAAAAAAAAAAAAAAAAAAAAAAAAAAAAAAAAAAAAAAAAAAAAAAAAAAAAAAAAAAAAAAAAAAAAAAAAAAAAAAAAAAAAAAAAAAAAAAAAAAAAAAAAAAAAAAAAAAAAAAAAAAAAAAAAAAAAAAAAAAAAAAAAAAAAAAAAAAAAAAAAAAAAAAAAAAAAAAAAAAAAAAAAAAAAAAAAAAAAAAAAAAAAAAAAAAAAAAAAAAAAAAAAAAAAAAAAAAAAAAAAAAAAAAAAAAAAAAAAAAAAAAAAAAAAAAAAAAAAAAAAAAAAAAAAAAAAAAAAAAAAAAAAAAAAAAAAAAAAAAAAAAAAAAAAAAAAAAAAAAAAAAAAAAAAAAAAAAAAAAAAAAAAAAAAAAAAAAAAAAAAAAAAAAAAAAAAAAAAAAAAAAAAAAAAAAAAAAAAAAAAAAAAAAAAAAAAAAAAAAAAAAAAAAAAAAAAAAAAAAAAAAAAAAAAAAAAAAAAAAAAAAAAAAAAAAAAAAAAAAAAAAAAAAAAAAAAAAAAAAAAAAAAAAAAAAAAAAAAAAAAAAAAAAAAAAAAAAAAAAAAAAAAAAAAAAAAAAAAAAAAAAAAAAAAAAAAAAAAAAAAAAAAAAAAAAAAAAAAAAAAAAAAAAAAAAAAAAAAAAAAAAAAAAAAAAAAAAAAAAAAAAAAAAAAAAAAAAAAAAAAAAAAAAAAAAAAAAAAAAAAAAAAAAAAAAAAAAAAAAAAAAAAAAAAAAAAAAAAAAAAAAAAAAAAAAAAAAAAAAAAAAAAAAAAAAAAAAAAAAAAAAAAAAAAAAAAAAAAAAAAAAAAAAAAAAAAAAAAAAAAAAAAAAAAAAAAAAAAAAAAAAAAAAAAAAAAAAAAAAAAAAAAAAAAAAAAAAAAAAAAAAAAAAAAAAAAAAAAAAAAAAAAAAAAAAAAAAAAAAAAAAAAAAAAAAAAAAAAAAAAAAAAAAAAAAAAAAAAAAAAAAAAAAAAAAAAAAAAAAAAAAAAAAAAAAAAAAAAAAAAAAAAAAAAAAAAAAAAAAAAAAAAAAAAAAAAAAAAAAAAAAAAAAAAAAAAAAAAAAAAAAAAAAAAAAAAAAAAAAAAAAAAAAAAAAAAAAAAAAAAAAAAAAAAAAAAAAAAAAAAAAAAAAAAAAAAAAAAAAAAAAAAAAAAAAAAAAAAAAAAAAAAAAAAAAAAAAAAAAAAAAAAAAAAAAAAAAAAAAAAAAAAAAAAAAAAAAAAAAAAAAAAAAAAAAAAAAAAAAAAAAAAAAAAAAAAAAAAAAAAAAAAAAAAAAAAAAAAAAAAAAAAAAAAAAAAAAAAAAAAAAAAAAAAAAAAAAAAAAAAAAAAAAAAAAAAAAAAAAAAAAAAAAAAAAAAAAAAAAAAAAAAAAAAAAAAAAAAAAAAAAAAAAAAAAAAAAAAAAAAAAAAAAAAAAAAAAAAAAAAAAAAAAAAAAAAAAAAAAAAAAAAAAAAAAAAAAAAAAAAAAAAAAAAAAAAAAAAAAAAAAAAAAAAAAAAAAAAAAAAAAAAAAAAAAAAAAAAAAAAAAAAAAAAAAAAAAAAAAAAAAAAAAAAAAAAAAAAAAAAAAAAAAAAAAAAAAAAAAAAAAAAAAAAAAAAAAAAAAAAAAAAAAAAAAAAAAAAAAAAAAAAAAAAAAAAAAAAAAAAAAAAAAAAAAAAAAAAAAAAAAAAAAAAAAAAAAAAAAAAAAAAAAAAAAAAAAAAAAAAAAAAAAAAAAAAAAAAAAAAAAAAAAAAAAAAAAAAAAAAAAAAAAAAAAAAAAAAAAAAAAAAAAAAAAAAAAAAAAAAAAAAAAAAAAAAAAAAAAAAAAAAAAAAAAAAAAAAAAAAAAAAAAAAAAAAAAAAAAAAAAAAAAAAAAAAAAAAAAAAAAAAAAAAAAAAAAAAAAAAAAAAAAAAAAAAAAAAAAAAAAAAAAAAAAAAAAAAAAAAAAAAAAAAAAAAAAAAAAAAAAAAAAAAAAAAAAAAAAAAAAAAAAAAAAAAAAAAAAAAAAAAAAAAAAAAAAAAAAAAAAAAAAAAAAAAAAAAAAAAAAAAAAAAAAAAAAAAAAAAAAAAAAAAAAAAAAAAAAAAAAAAAAAAAAAAAAAAAAAAAAAAAAAAAAAAAAAAAAAAAAAAAAAAAAAAAAAAAAAAAAAAAAAAAAAAAAAAAAAAAAAAAAAAAAAAAAAAAAAAAAAAAAAAAAAAAAAAAAAAAAAAAAAAAAAAAAAAAAAAAAAAAAAAAAAAAAAAAAAAAAAAAAAAAAAAAAAAAAAAAAAAAAAAAAAAAAAAAAAAAAAAAAAAAAAAAAAAAAAAAAAAAAAAAAAAAAAAAAAAAAAAAAAAAAAAAAAAAAAAAAAAAAAAAAAAAAAAAAAAAAAAAAAAAAAAAAAAAAAAAAAAAAAAAAAAAAAAAAAAAAAAAAAAAAAAAAAAAAAAAAAAAAAAAAAAAAAAAAAAAAAAAAAAAAAAAAAAAAAAAAAAAAAAAAAAAAAAAAAAAAAAAAAAAAAAAAAAAAAAAAAAAAAAAAAAAAAAAAAAAAAAAAAAAAAAAAAAAAAAAAAAAAAAAAAAAAAAAAAAAAAAAAAAAAAAAAAAAAAAAAAAAAAAAAAAAAAAAAAAAAAAAAAAAAAAAAAAAAAAAAAAAAAAAAAAAAAAAAAAAAAAAAAAAAAAAAAAAAAAAAAAAAAAAAAAAAAAAAAAAAAAAAAAAAAAAAAAAAAAAAAAAAAAAAAAAAAAAAAAAAAAAAAAAAAAAAAAAAAAAAAAAAAAAAAAAAAAAAAAAAAAAAAAAAAAAAAAAAAAAAAAAAAAAAAAAAAAAAAAAAAAAAAAAAAAAAAAAAAAAAAAAAAAAAAAAAAAAAAAAAAAAAAAAAAAAAAAAAAAAAAAAAAAAAAAAAAAAAAAAAAAAAAAAAAAAAAAAAAAAAAAAAAAAAAAAAAAAAAAAAAAAAAAAAAAAAAAAAAAAAAAAAAAAAAAAAAAAAAAAAAAAAAAAAAAAAAAAAAAAAAAAAAAAAAAAAAAAAAAAAAAAAAAAAAAAAAAAAAAAAAAAAAAAAAAAAAAAAAAAAAAAAAAAAAAAAAAAAAAAAAAAAAAAAAAAAAAAAAAAAAAAAAAAAAAAAAAAAAAAAAAAAAAAAAAAAAAAAAAAAAAAAAAAAAAAAAAAAAAAAAAAAAAAAAAAAAAAAAAAAAAAAAAAAAAAAAAAAAAAAAAAAAAAAAAAAAAAAAAAAAAAAAAAAAAAAAAAAAAAAAAAAAAAAAAAAAAAAAAAAAAAAAAAAAAAAAAAAAAAAAAAAAAAAAAAAAAAAAAAAAAAAAAAAAAAAAAAAAAAAAAAAAAAAAAAAAAAAAAAAAAAAAAAAAAAAAAAAAAAAAAAAAAAAAAAAAAAAAAAAAAAAAAAAAAAAAAAAAAAAAAAAAAAAAAAAAAAAAAAAAAAAAAAAAAAAAAAAAAAAAAAAAAAAAAAAAAAAAAAAAAAAAAAAAAAAAAAAAAAAAAAAAAAAAAAAAAAAAAAAAAAAAAAAAAAAAAAAAAAAAAAAAAAAAAAAAAAAAAAAAAAAAAAAAAAAAAAAAAAAAAAAAAAAAAAAAAAAAAAAAAAAAAAAAAAAAAAAAAAAAAAAAAAAAAAAAAAAAAAAAAAAAAAAAAAAAAAAAAAAAAAAAAAAAAAAAAAAAAAAAAAAAAAAAAAAAAAAAAAAAAAAAAAAAAAAAAAAAAAAAAAAAAAAAAAAAAAAAAAAAAAAAAAAAAAAAAAAAAAAAAAAAAAAAAAAAAAAAAAAAAAAAAAAAAAAAAAAAAAAAAAAAAAAAAAAAAAAAAAAAAAAAAAAAAAAAAAAAAAAAAAAAAAAAAAAAAAAAAAAAAAAAAAAAAAAAAAAAAAAAAAAAAAAAAAAAAAAAAAAAAAAAAAAAAAAAAAAAAAAAAAAAAAAAAAAAAAAAAAAAAAAAAAAAAAAAAAAAAAAAAAAAAAAAAAAAAAAAAAAAAAAAAAAAAAAAAAAAAAAAAAAAAAAAAAAAAAAAAAAAAAAAAAAAAAAAAAAAAAAAAAAAAAAAAAAAAAAAAAAAAAAAAAAAAAAAAAAAAAAAAAAAAAAAAAAAAAAAAAAAAAAAAAAAAAAAAAAAAAAAAAAAAAAAAAAAAAAAAAAAAAAAAAAAAAAAAAAAAAAAAAAAAAAAAAAAAAAAAAAAAAAAAAAAAAAAAAAAAAAAAAAAAAAAAAAAAAAAAAAAAAAAAAAAAAAAAAAAAAAAAAAAAAAAAAAAAAAAAAAAAAAAAAAAAAAAAAAAAAAAAAAAAAAAAAAAAAAAAAAAAAAAAAAAAAAAAAAAAAAAAAAAAAAAAAAAAAAAAAAAAAAAAAAAAAAAAAAAAAAAAAAAAAAAAAAAAAAAAAAAAAAAAAAAAAAAAAAAAAAAAAAAAAAAAAAAAAAAAAAAAAAAAAAAAAAAAAAAAAAAAAAAAAAAAAAAAAAAAAAAAAAAAAAAAAAAAAAAAAAAAAAAAAAAAAAAAAAAAAAAAAAAAAAAAAAAAAAAAAAAAAAAAAAAAAAAAAAAAAAAAAAAAAAAAAAAAAAAAAAAAAAAAAAAAAAAAAAAAAAAAAAAAAAAAAAAAAAAAAAAAAAAAAAAAAAAAAAAAAAAAAAAAAAAAAAAAAAAAAAAAAAAAAAAAAAAAAAAAAAAAAAAAAAAAAAAAAAAAAAAAAAAAAAAAAAAAAAAAAAAAAAAAAAAAAAAAAAAAAAAAAAAAAAAAAAAAAAAAAAAAAAAAAAAAAAAAAAAAAAAAAAAAAAAAAAAAAAAAAAAAAAAAAAAAAAAAAAAAAAAAAAAAAAAAAAAAAAAAAAAAAAAAAAAAAAAAAAAAAAAAAAAAAAAAAAAAAAAAAAAAAAAAAAAAAAAAAAAAAAAAAAAAAAAAAAAAAAAAAAAAAAAAAAAAAAAAAAAAAAAAAAAAAAAAAAAAAAAAAAAAAAAAAAAAAAAAAAAAAAAAAAAAAAAAAAAAAAAAAAAAAAAAAAAAAAAAAAAAAAAAAAAAAAAAAAAAAAAAAAAAAAAAAAAAAAAAAAAAAAAAAAAAAAAAAAAAAAAAAAAAAAAAAAAAAAAAAAAAAAAAAAAAAAAAAAAAAAAAAAAAAAAAAAAAAAAAAAAAAAAAAAAAAAAAAAAAAAAAAAAAAAAAAAAAAAAAAAAAAAAAAAAAAAAAAAAAAAAAAAAAAAAAAAAAAAAAAAAAAAAAAAAAAAAAAAAAAAAAAAAAAAAAAAAAAAAAAAAAAAAAAAAAAAAAAAAAAAAAAAAAAAAAAAAAAAAAAAAAAAAAAAAAAAAAAAAAAAAAAAAAAAAAAAAAAAAAAAAAAAAAAAAAAAAAAAAAAAAAAAAAAAAAAAAAAAAAAAAAAAAAAAAAAAAAAAAAAAAAAAAAAAAAAAAAAAAAAAAAAAAAAAAAAAAAAAAAAAAAAAAAAAAAAAAAAAAAAAAAAAAAAAAAAAAAAAAAAAAAAAAAAAAAAAAAAAAAAAAAAAAAAAAAAAAAAAAAAAAAAAAAAAAAAAAAAAAAAAAAAAAAAAAAAAAAAAAAAAAAAAAAAAAAAAAAAAAAAAAAAAAAAAAAAAAAAAAAAAAAAAAAAAAAAAAAAAAAAAAAAAAAAAAAAAAAAAAAAAAAAAAAAAAAAAAAAAAAAAAAAAAAAAAAAAAAAAAAAAAAAAAAAAAAAAAAAAAAAAAAAAAAAAAAAAAAAAAAAAAAAAAAAAAAAAAAAAAAAAAAAAAAAAAAAAAAAAAAAAAAAAAAAAAAAAAAAAAAAAAAAAAAAAAAAAAAAAAAAAAAAAAAAAAAAAAAAAAAAAAAAAAAAAAAAAAAAAAAAAAAAAAAAAAAAAAAAAAAAAAAAAAAAAAAAAAAAAAAAAAAAAAAAAAAAAAAAAAAAAAAAAAAAAAAAAAAAAAAAAAAAAAAAAAAAAAAAAAAAAAAAAAAAAAAAAAAAAAAAAAAAAAAAAAAAAAAAAAAAAAAAAAAAAAAAAAAAAAAAAAAAAAAAAAAAAAAAAAAAAAAAAAAAAAAAAAAAAAAAAAAAAAAAAAAAAAAAAAAAAAAAAAAAAAAAAAAAAAAAAAAAAAAAAAAAAAAAAAAAAAAAAAAAAAAAAAAAAAAAAAAAAAAAAAAAAAAAAAAAAAAAAAAAAAAAAAAAAAAAAAAAAAAAAAAAAAAAAAAAAAAAAAAAAAAAAAAAAAAAAAAAAAAAAAAAAAAAAAAAAAAAAAAAAAAAAAAAAAAAAAAAAAAAAAAAAAAAAAAAAAAAAAAAAAAAAAAAAAAAAAAAAAAAAAAAAAAAAAAAAAAAAAAAAAAAAAAAAAAAAAAAAAAAAAAAAAAAAAAAAAAAAAAAAAAAAAAAAAAAAAAAAAAAAAAAAAAAAAAAAAAAAAAAAAAAAAAAAAAAAAAAAAAAAAAAAAAAAAAAAAAAAAAAAAAAAAAAAAAAAAAAAAAAAAAAAAAAAAAAAAAAAAAAAAAAAAAAAAAAAAAAAAAAAAAAAAAAAAAAAAAAAAAAAAAAAAAAAAAAAAAAAAAAAAAAAAAAAAAAAAAAAAAAAAAAAAAAAAAAAAAAAAAAAAAAAAAAAAAAAAAAAAAAAAAAAAAAAAAAAAAAAAAAAAAAAAAAAAAAAAAAAAAAAAAAAAAAAAAAAAAAAAAAAAAAAAAAAAAAAAAAAAAAAAAAAAAAAAAAAAAAAAAAAAAAAAAAAAAAAAAAAAAAAAAAAAAAAAAAAAAAAAAAAAAAAAAAAAAAAAAAAAAAAAAAAAAAAAAAAAAAAAAAAAAAAAAAAAAAAAAAAAAAAAAAAAAAAAAAAAAAAAAAAAAAAAAAAAAAAAAAAAAAAAAAAAAAAAAAAAAAAAAAAAAAAAAAAAAAAAAAAAAAAAAAAAAAAAAAAAAAAAAAAAAAAAAAAAAAAAAAAAAAAAAAAAAAAAAAAAAAAAAAAAAAAAAAAAAAAAAAAAAAAAAAAAAAAAAAAAAAAAAAAAAAAAAAAAAAAAAAAAAAAAAAAAAAAAAAAAAAAAAAAAAAAAAAAAAAAAAAAAAAAAAAAAAAAAAAAAAAAAAAAAAAAAAAAAAAAAAAAAAAAAAAAAAAAAAAAAAAAAAAAAAAAAAAAAAAAAAAAAAAAAAAAAAAAAAAAAAAAAAAAAAAAAAAAAAAAAAAAAAAAAAAAAAAAAAAAAAAAAAAAAAAAAAAAAAAAAAAAAAAAAAAAAAAAAAAAAAAAAAAAAAAAAAAAAAAAAAAAAAAAAAAAAAAAAAAAAAAAAAAAAAAAAAAAAAAAAAAAAAAAAAAAAAAAAAAAAAAAAAAAAAAAAAAAAAAAAAAAAAAAAAAAAAAAAAAAAAAAAAAAAAAAAAAAAAAAAAAAAAAAAAAAAAAAAAAAAAAAAAAAAAAAAAAAAAAAAAAAAAAAAAAAAAAAAAAAAAAAAAAAAAAAAAAAAAAAAAAAAAAAAAAAAAAAAAAAAAAAAAAAAAAAAAAAAAAAAAAAAAAAAAAAAAAAAAAAAAAAAAAAAAAAAAAAAAAAAAAAAAAAAAAAAAAAAAAAAAAAAAAAAAAAAAAAAAAAAAAAAAAAAAAAAAAAAAAAAAAAAAAAAAAAAAAAAAAAAAAAAAAAAAAAAAAAAAAAAAAAAAAAAAAAAAAAAAAAAAAAAAAAAAAAAAAAAAAAAAAAAAAAAAAAAAAAAAAAAAAAAAAAAAAAAAAAAAAAAAAAAAAAAAAAAAAAAAAAAAAAAAAAAAAAAAAAAAAAAAAAAAAAAAAAAAAAAAAAAAAAAAAAAAAAAAAAAAAAAAAAAAAAAAAAAAAAAAAAAAAAAAAAAAAAAAAAAAAAAAAAAAAAAAAAAAAAAAAAAAAAAAAAAAAAAAAAAAAAAAAAAAAAAAAAAAAAAAAwETAQsBEwE3ATMBSwFnAZMBfwFrAXsBewF/AUcBOwFLAWMBiwGDAYsBtwH7ARsCAwIbAiMCMwJzAn8ClwKPAo8CqgKqAgIDDgMOAyoDKgN2A14DTgNWAz4DWgNiA0oDNgM2A1IDYgNqA44DvgPaA/ID/gPWA+YDBgQKBPoDCgTuA84D+gPKA8ID/gMSBA4ENgQmBNIDtgO2A9oDugNeAzoDKgNCA3IDigOeA6YDzgPmA7IDzgPuA74DmgOCA6oDzgO6A8YDogOqA+YD0gPuA/YDCgQqBEIETgQ2BDYELgQeBD4ETgReBHIEjgTKBN4EDgUuBVkFZQU2BUEFQQVZBV0FaQWFBaEF2QX5BSEGVQZ5BpEGfQaNBq0GpQa9BrEGuQbFBtkGMQdNB2EHxQfVB+AHFAgYCBgI/AcQCCQILAg8CBgIOAhwCJgIoAiMCJwIlAiECHAIhAiACFQITAgMCBgILAj0BxAIMAgsCEQIYAggCAQIIAj8B+wHsQdhB1EHLQcZByUHDQcBBwUH8QbhBtkG3QatBokGmQaJBmEGOQYhBvkF5QX9BQUG5QXdBQEG/QXtBeEF2QXVBc0FqQV5BXUFdQWJBYkFrQWlBZUFjQWFBaEFjQWpBaEFiQVpBTIFIgUuBRYF9gT2BMYEpgSCBFoEWgRiBBoE6gPqA84DlgNqA14DGgMGA+YCpgJvAi8CLwL/AdMBwwGPAU8BNwH/AM8AswCDAD8AFwArAN3/xf/N/5X/mf9B/wn/8f7B/sX+hf59/mn+Lf4V/gH+If4t/hH+1f3R/e39rf2J/XX9Tv1S/Sb9Ev0C/Rb9Gv0O/TL9Iv0W/RL99vze/O786vzG/Lb8gvxi/Ir8ivyq/K78mvyi/JL8YvxS/Fr8WvxK/Pb73vvW+9778vvm+wL8Hvwm/Bb8Fvwa/Cb8Ivwy/Cr8/vsK/Pr7/vsa/Br8Lvwa/A78Jvw6/Gb8Svwm/D78Ivwi/Eb8OvxK/E78OvxO/Ib8ivx2/Jb8ovzK/OL85vzK/OL8/vzW/M78+vwy/Sb9Mv1G/Vr9cf2F/ZX9hf2h/aH9of2d/aH9uf2V/X39lf25/dH96f3l/QX+Af7R/eX99f0B/hn+Pf4t/hn+Qf5d/qH+uf7B/uX+yf7V/u3+Bf8h/y3/Mf8t/1n/ef+1/+n/AAALAAMACwAvAFcATwBjAJcAmwDLAPMAAwErATcBVwGLAb8BywHXAf8BBwI7AlcCYwKTAm8CogK6AvIC/gLKAo4DTgOqA/4DcgPmA7oD1gMWBPoD9gPeAy4EUgR6BKYEngSaBLIEvgS6BMYEwgTKBLIEtgSaBIoEggR2BJoEtgSyBG4EfgSeBJoEigRaBBYE5gPSA84D2gPCA6oDkgNqA3oDdgNCAzYDBgPSAs4CugJ/AlsCOwIbAgsCHwIfAucB6wHvAeMB8wHTAZsBfwFjAVMBKwEPAfcAHwETAQMBMwEjASsBJwETARMBEwHzAO8A+wDfAL8A1wDbAMsA5wDrAOsA6wDfAO8AywDXAOcAuwDHAJ8AcwCTAJMAtwDPAL8AzwC/ANMAxwCjAJcAZwBbAEMACwAHAO3/zf+5/53/kf+F/3H/Xf9l/33/Qf85/zH/Df8h/93+3f7Z/sH+zf6Z/on+ef5x/o3+Xf41/j3+Jf49/kH+Kf5B/m3+mf6R/nH+nf6t/pn+jf5l/nn+rf6p/p3+kf5l/oH+ff5V/oX+if5x/nH+cf5d/l3+Yf5h/lX+Zf6F/n3+rf69/qn+uf6x/q3+uf7F/sH+sf6p/rn+sf6p/rH+jf6p/tX+xf7V/tX+0f7V/q3+sf65/p3+wf7V/uX+Ef/x/un+4f7Z/hH/Bf/x/g3/7f71/g3/Ef8N//X+Af8J/+3+uf6l/rn+zf7x/gX/4f7B/tn+8f79/u3+8f79/vH+7f7R/gH/Af8F/z3/Nf9p/2H/Yf+p/33/hf+x/7H/yf/t/xMAEwAbAC8AEwAHAB8AGwAnADsAPwBLAE8AXwBTAD8AMwA3AFcAfwCjAJ8AjwCLAHsApwCzAJ8AnwCLAJcAhwCrAM8A2wAfAR8BKwFrAXsBhwG/AbMBpwHPAbsBpwGHAXcBvwH/AQsCPwJzAlcCTwJLApMCrgKTAqICkwKeAqICrgLKAuIC8gISA0IDTgNyA2IDhgO6A8oD0gOuA9YD2gPuAwYE8gMaBEoESgRqBHIEfgSWBK4E4gT6BAIF/gQOBRoFQQVpBV0FQQVZBXkFaQWxBcEFrQXBBcEF3QXJBdUF0QWtBdUF1QXxBfUF8QURBv0FDQYhBgEGFQYBBhEGHQbpBQEG/QX5BQEG5QW9BeUF8QW1BZkFiQWVBZEFeQVdBV0FdQVtBX0FnQWZBYkFpQXBBeEF5QW9Bd0FAQb5BfkF2QXtBTEGXQZ9Bm0GYQZxBnkGiQaJBnEGcQZ9BnkGgQZpBnEGbQZBBnUGmQaVBo0GjQaNBnkGcQZtBkUGBQbxBe0FCQbtBfUFHQb9BfEFuQWJBXkFcQVFBTYFPQX+BPIE/gTmBCYFzgTaBCYFdgT2BNYEhgTmBOoEJgS6A3oEngPCAxoEbgPyAwYERgRWBMYDqgNyA3YDrgN6A1IDEgPaAvoCAgMKAxID6gL6AgoD7gICAwYD5gLaAu4C6gK+AmcCYwKTAo8CmwKXApsCbwKeAncCfwKiAhMCNwL7AUMC9f+F/iMAif/HAB8Bxf+9/8H/5wCPAUsBuwHzAPX/KwCTABMBEwEHAY8AcwD/AHsBOwJTAncCTwKnAccBlwFHAgMAPf7F/8H+xwAvAs8ANwAN/5n/3f8TAIMA1f+R/2X/Uf8F//H+Lf9N/73/mf+V/13/Cf9p/3X/zf8zACMALwDR/73/+f8fAJcA6wAnAScBMwEfAd8A3wDLAMcAFwFvAYcBbwFjAUsBLwFfAX8BvwHzAdsBuwGnAY8BVwF3AZsBdwGnAWMBIwE7AfcAEwG7AJsA/wD3AFsBEwGjAIMASwB7AJcAvwDDAF8ALwBLAEcARwBnAHMAawBDAA8A/f8DABsAKwD9/+3/LwBTAHcAZwAzAFcAkwCvAMcA0wCrAK8AtwDTAOsAywC3AJ8AwwDTANcA5wDDALcAowCnAJ8AdwCHAG8AYwBfAI8A2wATAX8BdwF7AacBvwH7AfMBCwITAhcCQwJTAqIC4gIuA1IDJgNGA1YDJgMuA0YDUgNWA1IDPgM6A04DXgNeA2YDfgN2A4oDsgOuA74D2gO2A6IDqgNaA2YDigNqA4oDjgOiA6YDngO+A6IDqgPGA64DdgMaAxYDHgM2A1oDJgMWAwoDLgNCAwYD4gKqApsCrgKbApMCZwJXAmcCOwIrAicCFwIvAjsCJwIjAvsB3wELAhMCEwITAtsB6wH3Af8BEwILAicCHwInAl8CawJbAmsCfwKTApcCcwJvAmcCPwJrApsC3gL6AgoDBgO6AroCkwKHApMCawJjAmsCYwJTAi8CIwJTAmsCiwJ3AkMCOwIbAjcCkwKTAnMCewJ7AqYC3gIKAwYDygLOAhIDAgPaAuICygK2Aq4CogK2ArICtgLaAvoC/gLaAu4C8gKyAsICzgKmArICfwJPAlsCiwKLAmsCngKiAqIClwKTArICogKuAtoCAgMeAx4DOgNWA14DXgN6A4IDmgOyA5oDdgNeA4YDggNWA0oDSgNSAz4DTgMGAw4DZgMuA1oDNgMOAxYDGgM+A/4C4gKyApcCiwKPApcCjwKmApcCdwIjAvMB5wGrAcMBzwHbAc8BZwFbAVsBdwGTAXcBWwEnATsBOwEzARMBwwCzAJ8AhwCrALMAvwDXAOMA+wDvAOMACwEfASsBGwHjAP8AOwFjAVcBRwEzAfsAMwFzAUMBOwEjAf8AHwHvALMAjwB7AIcAhwCjAHcAVwB3ADsAQwBDAEsAfwBDAC8AJwD1/8X/uf/d//X/3f/J/73/rf+h/4n/ff+N/43/ef9h/yn/Ef8N/y3/Uf9N/1H/Rf8x//3++f4B/zX/Nf/l/gn/5f6t/q3+tf7d/tX+4f7V/nX+Zf5N/jn+Yf49/hX+Af79/fn99f05/k3+Wf5t/lX+ef55/n3+qf6t/r3+xf6Z/l3+Lf4N/gX+Qf5F/hn+Lf5R/nX+af5d/kH+Ff4h/gH+wf2V/aX9rf29/d394f31/dH91f3J/a39of11/YH9jf2R/a39lf1O/Wn9qf3J/f39+f3t/c390f0F/hH+Hf41/kn+Pf4x/hn+Ff4d/kn+af6d/tH+4f7x/s3+0f7F/un+Kf8l/zn/Yf9x/2n/lf+1/73/vf/B/8H/0f/R/63/tf+d/7n/1f/J/9H/sf+1/6n/rf/Z/9n/9f8PAP3//f/5/+H/7f/l//H/5f/h/93/yf/t//n/GwAbAP3/7f+5/6X/sf+1/7X/rf+x/5n/nf+h/2H/af9x/23/kf+R/5n/bf8h/yH/Lf9Z/13/Uf9N/yn/If/9/g3/Df/h/hX/Hf8h/wn/Ef9J/03/Xf9N/03/Vf9h/33/df91/3n/Zf9V/3X/if9x/1X/Xf+h/73/yf+5/4X/mf+t/+H/JwA/AD8ACwDt/9n/4f8fAFsARwA/AHsAXwBfAIsAhwDLAOcADwEHAesAEwETAVMBnwG7Ab8BvwG3Ac8B4wH3ASMCEwITAjMCLwI3AkMCXwKyAuoC4gLiAuoCFgNKA4oDogOSA54DbgNiA3oDggO+A+ID9gP6A9oDzgP2AwYELgQuBDIEVgRKBEIEHgQaBDYEUgR2BGoEbgSaBLYEtgTGBMIErgTCBOoE+gTWBMIEugSqBK4EugTKBAIFKgU9BUkFOQVBBTIFNgVBBTYFPQUuBR4FMgUqBVUFuQXVBc0FxQWdBYEFqQW5BdEF4QXFBbkFzQXlBSEGPQYpBjkGUQZJBlEGcQZdBjkGKQYRBgUGBQYNBiEGNQZdBl0GWQZpBmkGgQaJBoUGgQZ9BjkGGQYtBlUGXQZJBnEGmQahBoEGoQapBnkGYQY9BjkGSQY9BjUGHQYZBi0GLQY1Bi0GHQbxBdkF2QXZBc0FtQW5BZ0FZQVpBW0FXQV9BakFpQWhBYUFbQVZBVkFhQV9BT0FDgUyBQoFHgXqBPoEGgW+BM0FgQVuBDIEKgT6BDYFQQWeBJoDqgMiBAoF4gSuBIIEogP6AxIE1gPSAzoDUgNyAx4DKgMGA94C2gIWA/oC/gIuA8oCsgJ/Ak8CfwJvAk8CMwILAv8BBwILAjcCNwL7ATcCWwJPAlsCBwLfAdsB1wELAg8CKwI/AkcCWwJXAoMCogLOAt4CugKmAroC4gLqAhIDJgMqAwoD+gIqAz4DSgNKAz4DRgNGAzIDIgMKA/oCHgMuAyYDKgMmAy4DcgOKA4IDogOeA3oDPgNKAzoDFgMmAw4DGgPuAvICHgMaAyYDCgPmAsoCtgKqAqoCqgKXAocCqgKeApcC3gLuAhoDKgP2AuICtgKiAq4CqgK2AroC1gLSAs4CCgP+AioDPgNKA4YDfgOWA5YDngOGA1oDVgM+A1IDagOKA64DugPWA/ID5gPWA84DygPGA9IDxgO2A+ID7gMWBBYE7gMCBBYEGgQaBCoE+gP+Ax4E8gMGBN4DmgOuA+YD9gPaA+ID3gPOA7YDhgOSA44DXgNOA1YDJgMCAw4D8gLyAg4DDgMOAw4D7gK6Ao8CYwJ3AncCVwIvAisCNwIrAlcCdwKXAq4CkwKyAqoCYwI3Aj8CTwI/AlMCYwJTAj8CQwJXAksCawKDAoMCrgK2ArICogKqAtYCxgKXApMCpgLKAsoC2gLyAuIC9gL+AgIDDgMOAwYD+gLGAq4CtgKyAsYC1gL+Ah4DQgNGAz4DTgM6AzYDHgMeAxoDDgNKA0oDJgMyAzoDRgNeA3IDZgNaA0IDCgPyAuYCygK+AroCogKTAqYCygLuAvICBgMqAzIDNgMiAxIDQgNeA14DSgNWA3oDbgOyA94DsgOqA4oDxgPqA9YDzgPKA+oDzgPiA9oDvgPWA8YD3gPaA5oDjgOWA1oDKgM6A0IDSgMSA+4C/gLWAtYCBgMGA9IC5gLqAsICxgKXAn8CbwJLAjsCIwI/AhsC0wHvAQMC8wHjAc8BkwF/AW8BZwF/AW8BRwEfAQMB/wDzAOsADwEXARMBBwEbASsB/wALAdMAxwDrAMMA2wDPANsABwEHARsBFwEPAQMB/wAfARcBBwHnALsAxwDbAOsA1wCvAOMA3wDPAOcAqwB7AH8AdwBDAB8A/f8AABcAAwDh/7H/if+p/7X/hf95/1n/Nf8V/xX/8f7B/vH+0f69/qX+jf6Z/nn+hf6V/n3+Nf49/kn+Nf4l/v39Gf7l/d39+f3x/Rn++f3t/f392f3R/b39tf3R/bH9jf19/Xn9gf19/Yn9if2R/XH9rf3l/c39Bf4V/t396f0F/iH+Rf45/nn+of6l/tH+rf6h/un+7f4F/w3/Cf/9/gX/Qf9d/2X/Wf+N/6H/jf/F/8X/1f/p/+H/FwADAO3/+f8HAA8APwBTAEsAgwCXAIsAcwB/AGcAbwB3AEsAgwCTAIsAuwC7ALsA5wDzANMA2wDjAPMA5wC7AO8A3wCXAJsAlwCfAMMAywDrAPcA9wADAfcA9wD7AAMB6wDvAO8A7wAjATsBVwFPASsBJwEjATcBOwE/AWMBbwFTASMBIwErATsBYwFXAWMBewF/AYcBkwGrAcMBtwHDAaMBmwGrAY8BjwGXAa8BowGfAbcBswG3AdcB7wHnAccBnwGPAXcBnwHvAeMB4wEfAh8CKwJTAoMCugKiApcCtgK2AtoCygK+AgIDSgNiA0IDcgOuA7ID2gPSA/IDFgT2Aw4EAgQKBB4ELgRaBH4EwgTeBMoE3gTeBMoEwgTCBNIE2gTGBL4EygSiBJoEigR+BKoEpgSiBK4EogSaBJoEbgRyBHYEQgRKBEYERgQ2BDoEWgRKBGIEXgQqBCIEJgQeBB4E7gPCA9YD9gPiA+oDBgT+AwoEAgTyA/YD8gPuA/oD7gPqA9YDzgPSA9oD4gPOA8oDrgOmA64DrgOiA7oDwgNaA2oDegM6A14DQgMSAwoD7gL6AuoC5gLaAsoCvgKyAqICjwKPAlcCPwJTAmMClwK6AroCogKqApsCngKiApsC0gLGAsICxgKqAqoC0gLmAtoC1gLCAq4CxgLeAvIC2gLaAuICtgKiAo8CrgLCArYCxgLaAvYC/gLOAs4C2gK6Aq4CngJ3AmsCngKqAsYCrgKPAq4CvgLGArICygLSAroCiwJ/Am8CRwI3AjMCcwJzAoMChwJ/ApsCgwKTAmMCZwJjAj8CXwJTAosCugKbAosCsgKqAqICwgK2ArYCqgKPAn8CWwJPAlMCKwI/AmMCSwI7AkMCRwJDAkMCRwI7AgsC8wHzAfMB3wHXAdsBwwGrAdMB7wHvAesB0wHvAfcB5wHHAacBiwGbAdcB2wHrAd8B8wH/AecB5wHPAdsB1wHDAdMBqwGLAYcBiwG/AdcB3wHjAdcB1wHLAcsBywGnAZ8BowFvAYsBcwFbAXMBewGrAZ8BrwG7AacBmwGvAZcBawFvAUsBPwEjATsBbwFXAZMBwwGXAZsBpwGLAY8BcwFzAV8BIwEDAd8A3wDvAAcBIwEHAfsAFwELAesA4wDPANMA5wDXAMcAowCvALsArwDLANsA1wDLANMAvwCrAK8AawBjAGcANwBTAEMAIwAjAB8AOwAzADcAPwAfAA8A9f/1//n/9f/l/+3/3f/R/wMABwAPABsACwAHADMANwAnAE8ABwDB/9H/wf+h/53/mf+Z/73/wf/F/83/5f8AAO3/3f/R/9H/4f/x/+3/6f/Z/8n/zf/d/wAAAAD5//3/3f/V/9H/tf+1/6H/nf+1/9n/0f/J/83/qf+5/9X/zf+p/5n/jf+N/53/nf+Z/5n/if9p/3H/Vf9N/3n/Pf89/03/Lf89/xn/Mf8l/w3/Mf8V/zH/Rf9B/1n/Tf9R/03/Wf91/4H/gf+J/43/jf+l/73/qf+l/+X/EwATAAMA9f/5/wAACwAXAPH/1f/l//H/6f/d/+H/7f/h/9H/zf/B/53/qf+Z/2n/gf9l/4n/vf+h/7n/wf/F/83/6f/h/8X/zf+t/7H/uf/B/+3/5f/x/wsADwAfAC8AQwBPAEcAOwAzACcAGwAnAD8AVwBjAFsASwBPAE8ANwAnAEMAZwBfAFsAUwBPAFsAUwCLAJ8AowC3AK8AywDrAAMB6wDzAO8AFwE/ARMBGwEnATsBZwF3AasBrwGjAc8BrwHbAfMBCwIzAisCJwLvAQ8CGwL7ARMCRwJjAm8CrgLGArYC2gLWAsoCxgLaAsoCsgLuAvoCHgM6AzoDWgNmA3YDbgNaA0oDTgNKAw4D+gLmAsYC0gLWAuIC3gL2Ag4D+gICA/YCAgMKA/oCAgPiAqYCmwLOAtoC1gLmAvYCDgMOAw4DNgNWA04DRgM2AzYDMgNOA2oDngPCA9YD/gPqA/YDEgQaBBYELgQmBAYE9gP2A/ID7gP+Ay4EZgRmBFoEZgRCBDIEVgRiBFYENgQ2BEIEPgRGBHIEigR+BHoEegSKBFoEQgRmBDYEHgQeBP4D8gPyAwIE4gP6A/YD4gPmA7oDsgO6A6YDkgN2A1YDKgMWAxYDGgMuAwYD7gIWAxYDFgPiAsYC1gLWAtICpgKPAn8CiwKHAoMCdwJXAmMCcwKHAosCawJLAksCSwI3AhsCAwL3Ac8BtwHnAQMC+wHbAcMBrwHTAesBswGfAXsBcwFnAU8BiwGzAZsBiwGfAcMB2wHrAcsBtwG3AacBqwGXAXsBfwGDAW8BawFrAXMBewF/AZMBpwGbAYcBkwF/AV8BSwE7AUMBWwFzAZsBlwGXAZMBjwGbAYcBjwGnAWsBawF/AVsBkwGPAXMBkwGHAaMBqwGbAZsBhwGLAYMBcwFbAXsBfwF3AacBhwG7AdMB1wH3AdcB5wH3AesBBwIDAucB8wH7AfsBCwIfAhsCHwIbAjMCVwIvAgMCEwLvAa8BowF7AXMBiwGHAXcBgwGfAYcBfwFvAVcBZwFbAR8B7wDLAL8AvwCvAOcA+wD7APcA9wAPAfsABwHvAOsA4wC7AN8AswCXAKcAqwCzAL8AhwBnAGsAVwBvAFsAMwAPABcAKwAfAA8ABwAHAAcAKwA3ACsAIwAjABsAHwAjAAAA/f8AAO3/9f8AAPn//f8HACMARwA3ADsAVwBLAFsAgwB/AFsASwA3AE8AewCXAMMAwwC/ANcA0wDDANMA4wDvANcA0wDnAN8A3wDPAOsABwELAe8A3wD/AAMB+wDfAKMAmwB3AEsAXwBXAE8ATwAnACcALwATACMAIwAAAPX/AwADAMn/wf/Z/7X/tf+V/43/of+Z/6X/ef+F/5n/Zf9V/0n/Mf8d/wH/9f7N/rX+nf6l/sH+qf6N/nn+bf5d/i3+Af4B/sX9uf3x/e399f3R/bn9of2B/YX9lf2h/bH9rf2N/X39bf1a/UL9Vv0u/SL9Rv1C/U79Qv1O/WL9Yv1G/Ub9Ov0K/Qr99vz+/Bb9Fv0q/Sb9Ev3+/AL9Ev0u/R79Cv0K/Qb9Ev32/Ab9Cv0e/Ub9Qv1i/Ur9Kv0i/U79Yv0+/Tb9Ev0i/Sr9Qv1i/WX9Xv1G/Vr9ef2x/cH9wf3d/d391f25/cX93f35/UH+Sf5l/oX+gf6R/q3+rf61/s3+zf7t/vn+6f71/hX/Gf8R/zn/Sf9V/03/Of85/0H/Tf9Z/0H/Mf9J/33/if+J/43/mf/V/93/2f/N/93/AADd/+3/8f+5/83/uf/F/+n/8f8rACsAKwA7AEcAZwCHAJMAjwCXAJMAdwBrAIMAfwBbAGsAlwC7ANcAvwCvANcAywCfAKsArwCXALcAzwDPAM8A+wAvAScBUwFzAXMBlwGjAc8BCwIbAicCTwKTAroCygLyAh4DggOaA6oDxgO+A+oD4gP2AyYEPgRmBJIEkgS6BP4EBgUuBU0FVQV1BY0FrQXVBcUFvQXNBckF7QUFBhEGGQY5BlUGaQaNBoUGiQaVBoUGhQaVBm0GkQa1Bn0GhQa5BskGxQbVBtUGwQaxBpkGXQYpBgUG1QX1BQ0G9QX9BQUGEQYtBkUGMQYpBgkG2QXZBd0FxQWdBbkFtQWlBbkFtQWlBcUFtQWhBaEFkQWhBW0FTQVVBVkFZQVtBZEFlQVpBWUFVQVhBX0FSQVBBTkFVQVdBSYFUQU9BQoFWQVNBVUFjQWZBdEFkQV5BaUFpQW5BYUFbQVtBXkFnQWZBcEFyQXJBdEF0QXlBeEF8QX9BdUFpQWZBZEFmQW5Bb0FpQWlBdEFvQWJBZkFtQXBBcEFrQWxBZkFfQWRBX0FkQWVBYUFoQWZBYkFdQWZBZkFWQVVBSIFBgUmBRYFGgVFBWUFRQVZBW0FRQU5BWEFfQVlBUEFBgXSBLoEvgTmBOYE2gTeBMYEugSWBJYEmgRmBFIENgQuBBYEJgQ6BBYESgRGBEYEQgQSBEYELgQaBCIEBgQeBCoEEgQCBA4EOgRWBDoEDgQmBE4ESgQeBB4EEgTaA+4D0gOSA34DfgN6A4oDsgO6A+IDAgTyA/oD4gPqA/ID5gPqA64DmgO2A74D+gMWBAoEAgQGBCoEIgQeBDIERgRCBDIEJgQuBFoEfgSeBLYEvgS2BNoE+gTmBA4FNgUuBTIFNgVNBWUFfQV5BWEFfQWdBb0F4QXlBdEF1QXRBd0F0QWlBZEFbQVtBVkFaQV5BX0FsQVtBWUFVQUeBSIFKgUSBc4EsgRqBDIEEgQCBA4EJgQWBAYE2gOeA64DlgNqAzoDQgM6Ay4DVgNaA1IDLgMeAyoDGgPqAvYCxgKXAp4CewJfAhsC7wHfAdMB7wHvAdsB3wHjAaMBawFbAUMBKwEXAQMB8wADAdsA4wDrAPMAFwHbAM8A1wDPAKcAswC3AJ8AqwCXAJMAewCXAJ8AdwBjAEsAawB7AF8ATwBvAEcAIwAjAAcABwALAP3/4f/d//n/+f/Z/9H/xf/B/7X/qf+B/1n/Of8h/yn/Lf8d/w3/Ff/5/gn/Cf8V/yn/8f4J//3+2f7F/qX+1f7V/uX+9f7d/tn+1f7Z/r3+sf6h/oX+cf5p/pH+cf5N/ln+Tf5N/kX+Vf5Z/lX+bf5R/h3+Ff4d/s39sf3h/bH9kf2h/YX9ef1l/Vr9Vv02/TL9Tv1W/V79df11/Wn9Xv1a/VL9cf15/aH92f2d/aX9jf2R/b39uf3F/Zn9lf2p/bn9tf21/dH9tf2x/an9vf25/an9qf2R/aX9nf2N/Xn9cf1x/XH9hf1t/Wn9Vv1t/YX9cf1t/WL9Tv1G/Ur9Sv1a/XH9gf2J/ZH9bf1e/XH9ef15/WL9Uv1W/W39bf2R/bX9tf29/cn94f3p/fn99f0N/kn+Gf4R/in+Jf49/i3+Pf51/n3+Zf5V/mH+df5t/j3+df6l/o3+kf6V/pn+ff6p/rX+uf61/pn+1f7N/u3+Bf8B/wX/1f4N/yX/Af8B/9H+zf7t/uX+5f75/g3//f7x/hX/Nf8J/+H+9f4h/x3/Hf8l/x3/Xf9d/13/bf9R/3H/Wf9x/5X/gf91/3X/nf+J/5X/kf+R/6X/of/B/7n/mf+d/5X/jf+V/33/bf95/4X/df+F/7H/uf+p/6H/tf/B/63/vf/R/7X/sf/F/8n/4f/1/+X/4f/x/+n/BwArACcAXwBfADsAPwBLAF8AbwBrAEcAZwB/AJcAxwDHAN8AwwCPAK8AswCTAJcAkwDPAO8ACwE3AUcBdwGXAdcB7wEHAiMCGwJDAlsCgwJ7AocCygLaAh4DNgNeA6IDjgO6A+YD4gMKBPoD8gPeA8YD7gMGBBoEHgQyBDoEUgRqBHIEkgR2BGoEUgROBDIEAgQ+BFIEbgSKBI4EngSeBKoEngSOBIoEegRuBFoELgQ+BGoEegSSBLYEugTeBBIFAgUWBfoE4gTmBMIE1gS2BLIEsgSuBOoE4gTiBBYF+gQGBRIFFgUiBQIFFgUOBQoF9gTyBBYFIgVZBVUFUQWBBWkFaQV5BVkFVQVFBTIFOQU9BWEFaQVlBXUFZQVxBXEFdQV5BYkFnQV9BXEFXQV1BXkFRQU5BTIFIgUOBSIFRQVBBTYFMgU9BTIFFgXqBMIE5gQCBd4E9gTeBLIE5gS+BL4E0gSeBKYEkgRmBGIEWgRGBEYEVgRKBGoEhgSSBJYEegRyBG4EbgSGBHIETgRKBCYEDgQeBEIEYgRuBGYEZgRiBFIEUgRKBDYENgQWBMoDqgPKA+4D4gMKBB4EAgQeBCoE/gMKBCYEBgQOBAIE4gPuA+YD+gMSBP4D8gPiA/YDBgT6AxoEDgTiA8YDygPWA7YDxgPCA64D2gPeA84D5gPyA8YD9gMSBBIEEgQGBBYE+gPyAxIEEgQaBDIESgRuBE4EVgR2BHIEWgROBE4EEgQuBEIEUgRmBG4ElgR6BGoEagR2BH4EggR+BFoEQgQaBAoEMgRKBGYEngSWBH4EmgSeBH4EggSWBGYEKgQWBAoECgQiBBoE6gPmA+YD2gPuA/ID+gP+A+4D2gO6A8oD0gPaA/ID9gPyAw4ELgQqBA4EIgRGBCYENgQ+BF4ETgQWBBIE/gM2BEYESgRCBCoENgQyBDoEJgQ2BAoE+gMCBLYDmgOKA3oDcgN+A5YDYgM+A1IDVgNGAxoD6gLGApcCbwJbAlsCZwJfAlMCTwIrAi8CJwL7AScCCwK3AbMBdwE3ATsBKwEPARcB+wDHAKsAtwCzAKcAewBTAG8ATwA/ADMALwAjAB8ARwA/AF8AVwAXAA8ASwBXADMAMwAbABsAEwADABsAAwAbADMAVwBrAE8AVwBzAGMAMwArABMABwAAAPn/AwAPAAAA9f8HAPn/+f8PAB8AGwAPAAMA/f8PAPn/9f8DAP3/5f/V/+X/5f/h//X//f8LAPn/7f/1/+X//f/l/8H/8f8LAPn/5f/R//H/9f+9/8H/of+F/3n/Wf9V/0H/Kf8p/yn/Nf8t/xn/Mf8d//H+4f7h/un+zf7F/qH+if69/t3+wf6l/sX+2f7p/un+6f7h/qn+uf7B/rX+nf55/pn+tf6p/tn+0f7B/tH+wf7J/tX+tf6V/rn+0f7h/gn/2f61/sH+tf7t/hn/Df/x/tX+0f7R/tH+qf6d/rX+ff5h/oH+qf6h/qX+wf6p/qn+rf6t/r3+of6Z/qn+df6R/pX+df6B/mn+gf6Z/p3+pf6p/qH+hf6V/oH+kf61/pn+tf61/qX+mf6N/oH+ef6d/sn+1f7h/rn+nf69/rX+vf7N/q3+wf7t/g3/Gf8Z/y3/Jf9J/2X/Xf9h/2n/mf+t/7H/wf/5/xMAGwBbAE8ASwBrAFsAYwBfAF8AXwB/AHcAYwB3AFcAZwCHAI8AnwCvAJcAewB7AIcAnwC3AL8AowDLAMsA4wAnASsBTwE7AW8BkwGnAcMBvwHnAecB8wEXAj8CVwJPAlMCXwJfAm8ChwKuAqoCvgLiAuYCDgPqAvYCRgNSA24DggPKAwYECgQeBCIENgRKBE4EVgRmBEIEHgRSBG4EmgSuBK4EwgS+BNIEugS+BMIEjgSaBHYETgRSBDYEagSWBKYEsgSqBJoEjgSiBMYExgSaBHoEZgROBGYEVgRiBIoEagSqBNoE1gTmBLoEogSiBFoEVgROBCoEQgQuBDoEFgT6AwYEDgRCBDoEUgQyBA4EMgQeBPYD5gPyAwoEBgQiBDYEGgQGBCYEOgQOBA4E/gPmA9YD1gPSA8oDugOWA54DjgOaA54DigOGA2oDYgNGAzoDMgMuA/oCygLaAtoC6gL+Ag4DBgMCAyIDCgPuAuYC8gLyAtYCygK+Ar4C2gLaAtIC5gL6Ag4DMgMuAxYDIgMeA/4CGgMiAwYD+gIKAxYDPgN2A3YDWgNiA04DPgNuA0oDJgMaAwoDEgMKAxoD9gLWAtoCugKbAosCdwJXAjsCGwIXAh8CDwLXAcsB7wHbAeMB3wHLAa8BZwFnAVMBUwE/Af8A0wBzAEMAUwBHABcAGwAvACcALwADAO3/1f/B/9X/jf9V/1n/Tf9V/2X/bf9p/23/af9R/y3/7f69/rX+vf6t/qH+Vf4l/jX+Tf5l/jX+If4p/kn+Wf4l/vn9/f0F/uX92f25/Yn9if2B/Yn9hf02/T79Wv1S/W39Mv3e/Lb8svzG/I78bvxW/B78JvxK/GL8Vvw6/CL8EvwO/BL8/vsW/DL8MvxC/Br89vs2/H78rvy6/Ib8Svwq/D78Zvx6/BL8svvC+677uvuq+377avta+4b7Yvti+477avtq+177kvu+++b7Hvwi/BL86vtG/Kb8tvy6/Kb8rvwK/Sr92vym/Ir8vvwe/XX9Pv3i/Lb8nvz6/Bb9/vyy/Fr8dvxq/Fr8Wvwu/H78vvy+/K78Zvxi/Jb82vwK/Q79Bv0u/T79Tv1l/S79Dv0W/SL9Gv3e/OL8Fv0m/SL9yvxy/Hb8lvzm/Cr9Cv3S/NL8/vwq/VL9qf21/fX9Rf4V/hX+7f0l/rX+bf45/vH9jf29/Yn9gf3l/b39/f3t/Y39sf15/QH+Zf4Z/qn9Mv2d/VX+If8p/23+Hf45/rX+4f7l/qn+zf5h/xX/Tf85/+n+uf/h/+3/5f91/13/Vf9B/4n/of8d/1n/Df/V/hH/Hf87AEMACwDB/+3+ff/d//n/awD9/93/AwDF/wsANwAnAD8AawCbAIsAfwBnAJcABwHfAKcAZwBPAIsAbwBvAJ8A0wCbAJsApwCrAB8BTwGHAUMBHwEfAR8BkwFjApMC6wHbAdcBOwLGAu4CzgKmAh4DSgP6AmMCJwJvAvoC0gOGAxIDlwJjAnoDCgSCBJoDngJqA94DsgRiBMIDwgMKBCIFwgTWBPIEmgSNBckFAQa9Bc0FMQaZBUEGKQYRBoUGKQZ5BsEF7gRVBSUGqQYlBpkFbgQSBAoFnQWJBhkGCgXCBPIEuQW5BekFJQapBqUHFQfNBR4FvQUVBxwI9Ad5Bj0GKQZhBgEHgQaRBk0GfQbNBk0GlQZ1Bm0GiQbRBkkGMgVhBtkGBQftBrUFpQWtBQkH8QbRBeUF/gQlBoEG6QXJBcIEFQZJBoEGtQfZBoEGxQbRBoUGuQb9BkUHpQatBTkFtgQiBaUF+QatBmEFWQXOBAUGCQdpB00HDQbVBsoEYgTZBjkHNAmtBuoDYgRiBKEHFAgJBkkFdgSRBd0F7QVBBXIE9QX9BWUGwQXqBKUFIgXtBdkGDQbRBdkFqQVdBpEG/QYlB6UG1QbxBcEGSAgFByUGcQXyAzYFZQexBaoDxgLWAroEiQXxBWIEugLeA+oE9QV1BSoDsgN1BX0G5Qb6A/ICtgRdBigIdQbeBEEFxQU5BxkHdQZhBtkGPQdBB7UG+gTRBUEG0QXNBlEF1gRFBQYFVQYWBRoFfQZ9BdkFMgQWA+YEGgWdBukFzgLWA2UFSQdZB2EFtgQWBOEFKQd5BnUF8gStBYkFcQYiBQIDhgSyA9IECgWvAWsBxwHGA8IE9gJPAQAAlwIOBd4EqgMLAWMCFgQaBSoF8wHbAWcBdgN9BqYCTwGHAdsBJQZSBHsBUwHvAHUF1QVXAosA7f9CA1UFdgRzAR8AbwIOBM0FrgKZ/p3/0gJdBrkF/wCR/gAAhgRFByIFLwLB/3MC9QYxB4oDiwA7AnoDVQapBhcBcf/vAMYELQfCBGsAPf6bAu0FRQZ6BLMAGwEXAkoE2QWmArIDdgPOA3EFLwKLAlIEnQUWBeIDZwJjAm4EDgW5BW4DWwKvAfIC4QW+BKIDOwGbAoYEQgPGA+sBPgNhBUYDrgIXATMBbgRFBf0FzgLx/pMCegO2BJUFmwHvAZsC3gT+BFIDVwL3AfEFygPmBOIDcf+KBCYDbQW1BU8AYwLXAcoEaQYuA6sBpwHWAvIE3QUGAyMBgwEqBEkFEgRnArcBHgOXAlcCcgM5BY4ExgP3Aan/FgMaBCYE1gOvAIX/4wHKBFYEYwJ3AM8AdwK6A+4CNwGTAIH/9gNOBDcCAwFt/SMCQQVpBQcClf0vASIE+QUiBPn+5f2DAOYDAgOPATn+df5/ArcB9gKx/9X/vwFvAT0FawCd//MAAwGpBVMCff+h/rH+pgNuAzMBcwAZ/rMA/gIHAs8Akf7LABcC9wDjAVcAiwA3ATMCtgKx/qsAiwAN/yMC+f/Z/33/Nf/rADn+mf+LAOn/YwDh/+H+Wf8zAU8AIwEbADcAuwEvAB8AOwBp/8sBTwKB//sAef9DAFMCfwBTAU3+Bf77AAcAAgNZ/778gwDZ/v4CowAh/s3/vf4PAdcAZwDJ/T3/UwGh/s8ALf9O/YMAfwAXAZn/Wf7t/gX/HwIHAE3+3f1K/DsAtwBl/k3+df/t/tH/MwGV/an+qwDF/+MAzf+F/gn+tf97ANX+Zf3W+53+ywGB/x79RvxS/ecAbwADAKb8XvvLABn/jf6d/2X+wf6DAKMBgf4V/qH9xf9HAncAAf9O+x3/jgOaAxcAZvs5/zMAfgPqAqH9hf4V/jcCVwJx/0L9YvtLAA3/ewBHAPb7vf9x/s8AVf+a/L8AGv1XAO8AKv33ACX/hwBLAfH9sf9x/y8A1f/x/13/Wf9jACn+ZwLR/4H+PwH9/VsBSf7C/FcCdf+1/9393vvvAGn/1wAbAIr8OwER/vX9HwJN/2cAWwBp/m3+5wGrAY3+3wBnAI3+EwALAp8BhwDt/lX/qwGiA1oD5wFvADsBBgOXAu4CowHDAXMCjgPrAVcA/wFTAtoENgTaAhn/LwCpB84DRQVuA8b82gNWBGIDpgPDAGIEVgNDAoYE4wCBBSkHFgPCBMoCpgJSA40G3QY7AbIDxwFCAxAKDgRTAOMA/gJBBwoDWwHiA0cCwQYGA1MA8gRPANoEXQU5BdoCxf39BdYDJAhxBlb9ogPd/1EGdAnl/gIEAADaA9wHfwBJBdX+FgNZB9sAOgS5/TcCtQW2AnIEmf5jAXMBXgOuBFn/SwGF/ZYD4gQfAN4C8vuHAjIFHwJaBP3/IgNuBJoD2gN/AGcCXgN/AYMC5wALAA8CJgPKAq4CEwHt/0sChgOSAwMC8wCLAT8C9gNrAvX+9wC+AuIC+gPZ/3MA7gKiAlMCIwLaAl8AJwL3AQMBKwJ7ArMB3gIuBHX/sgKXAgYEvgS9/qoCswDCAzYEGwISBIX+2gNnAmsCmgMnAMYEOwHuBC8CIf76A/MAsQV9BYsAmwHB/54EDQaiAyMC7f27AX4E3QU2Bc3//f/uA2EFzgOyAncBawDOAm4EZgRuAz8AAwDGA+EF2wHjAd3/UwARBroErgIl/5H+0gJ1BvIEVwHl/1MAYgNiAyYDowF7ACcApwA2BVcCNwG7ACcAggMzAgMCvf+V/6YCAgMfAgcAMwHXAKsAKQYfAVb7LgSPAUMAewI2/RID8gJnAXsC3vw9/nMARwGyBKoDtf2G/AH+3wBlBW8Arf7a+6f51QWRBcL7+f9t/ZX/rQcAAJX/Cv2t/t4E0wHyBBH/c/oDAG3/YgRDAgr8Ef9q+88AdgOV/vn+6vuZ/dIDNgWR/6L81vxfAiIE/f/9/iL9CwJbArcBewHq/L8Bkf7XABcCvf9zAnv58f9HAfsBEgV++9n+tvymAmoD/f1tBV78sf11//MAOAlbAYX+Uv1TANkG8QX3ACn+zwHmA10G5gKR/bcB0gLGA68BQf9HAM394gTOAl8BFgNG/F4DSgNbAlkFAf9jAYMCpwCbAgAAjf7uAvYCDf/p/xn+JgPVBQMC7f/D+UsCVQXyA/oDq/jR/xcCxgIMCq78Sv3d/tMBiwqfAf39nf4N//EFkAgm/Xn+qwAq/X8KXgQC/EX+UwDdBS8C/wHO+jX+zgKaA50GS/hd/5cAAf/ICc3+Ov1x/1n/QQY7AeX91f1h/iQIMwKB/XX/r/htBZ0FNf43Aqv4jf9hBs8AsgLB/QcA0gPt/58B3f41/+sANwDnAfcAHf+r+q4CIwF3AOoCOPep/1MBygJmA4L8nf6u/MMAxwGmAtoCtf0a/G3/8gI6BNYCjvyp/WsCoQYzAgX/wf/B/S4EkgOmAmH/HvynAQH+HwLKAyb9df7q/PIEcwLy/J8AzvuF/yMB3f+J/hsB5wHZ/rMA0f7bANYCwgNDAXcASf9i/FIEvwEvAu8Adf32BPr63wFeAxr9cAqDAab85f/J/8ICFQayA2n/mwDq+84EvgPV/YUGfvtn+gYEKwHVBb8Ab/rCA2cAMwJDAqX++QXp/TMC2wE3ALkHvvwKBYYEQwK+Anf5RQVDAiEGiQVY96X+pwGRBv8Bp/krAt39AAA0CCcCrgIp/2X91gJ+A1YDIwDd/1H/ewIkCM8Arf5Z/+X+3gSuArn9lvseA64C5wCFB3f5pvzh/gH/xQex/hn/bf39/TcCdgOTAGv6pf4aAycAKf6O/Cn+fQabAY78Tv2p/b4EKgXl/n/6Qv3B/+H/UApjAh/5zf2j+XgJSAm9/qX+oPc1BmUGNgUrAg301gPqA/4DlQdC/NX9PwFFB/YDAwGTAJr7ygIMCYMCfwC+/MX+eAlqA73/DPhK/EUFSgSBBc/5of7l/339zAmN/hH/sgIe+/kGCgUDAT3/jwE9BYMBiwBB/+8AZwJACGH/jf4XAqsAnAh6A8MA9wC2BBIDuwBWBHn+ogIyA6UFYQUfARoFhf79Bm0H2wArAMH/cAjeAq0GZwHK+3QIKgNdBsYC9vp1BrUFAgTNBacBef43Am0HnQcmA777e/oSBa8MpgPF/rL7PQXmDZsCFf8G/DMArwuzCg0GSf9W+ycAHQbiDYkFyf0O/Y3+VAlhB0UF/f43+rkHiAlLAVUFof0K/dQJzgOdBwsBBPhFBvoC1AjNBgD3dwCTAlQJugQx/isB8f0xBu4EMwLiAyYE3f2fANIEtQUwCKf47wEeBYX/EAo1/tsAngRh/vYCwwAuBIkFdwFvAjMA5gJSAxsC6wD1/o0GMf+mAj4E1/nACK4Dsf2WA28AUQWlBl8Bzvxd/n4DrAmMCWX/9f69/TcBSAodBskFJvxm/PwH/QYgCQr9h/ljAjoDawx/ABb7AwKJ/kgKAQajAXMArvvmBGsA3gLJBVH/Lf62AtUGKf/qAtYCJwAiBGX/af+HAbcBQQf1/UL72wFJ/lgIxwAl/vn/IvvaBK8AuwAK/d39if9mA3EG8/izAOMBDwDWAof5i/nd/t4ENgQPADMAAvseA90FtwHN/8D2rgLKAv8BDAq7+ksBAwJd/3gJMvw1/6YDmwHhBe3/ovvR/ZIELQYx/9b6UvxDAZUHTQcTAIL7+f/1BVIE9wDp/fL8mwGFBuYEq/kl/+0FegRzCor80f4DAQ8BnwzB/u8B6f55/e8K1gM9/2P6pf2JB5UHqgJ3+R77RgQRBqICY/gP+UcBAwGNBnn/ff2NBaX+jgPTAYMA7f9aA3cLSgP/AQr9MwCFBhUGLAq9/n/4agPYB5IEFv2J/tX9DAgcCVD3ef4U+McBVRHR/wn/M/oy+zQKuQY2BUn/vPdGBMAIngOzASD4IwI2DloELwCQ9179Cg6QCCYD8/k/+uEGIAmrDDr8/Pdt/Q8CaRFLApH98fSm/LERqwH2BJT3fPclEBoEpgQC/Ab7SArSA0kHOwD/+NcAxQYxBsoEmf7u+30GywE+A44Dif3WBLUG4Ajx/Xj3EgRBBjgIrgKe/J4EfgQWA4MCTf/3AIkH8AgyAy3/DPijAdMLMwuKBBXz7vzZBVUGXQcO/J788f7VBUUGGf9a/c4CcQVCBPEGs/qnAbgJ5gKpBXv5uvvvCxoNCAqP+an0jgTtBmYP1QeO8jr7kf6KDa8LF/oa/FT3xAmiDrcA3f2M9rID7Q/TClcCJ/k9/hwJAREICM/5wvvHAUYNfAn3ANH9GvzKDhYO+f6V/Uf4TgQAEzgJywEX+lL7RAiTDGwJgf/x/qIE1wxjC7MAef9h/jgJhg32BLICaf2xB/oNVQV7AaL8rAg5ELsMDwHa+4gJiQd+DnUG6vtBB8oEYRAgCJ773gLDAKsMeg/qBPr6b/o0CqIOsg2XAhT4iQemDUIP9QbJ82H+ewxXDMEPSv1x9b0FvgLhEAQKT/keBDr8DwwNEDb84wBS+2kHGRHpBeIEm/imAmsMHQeMCHX9fwIaBL8BLQbaA00HpwHqArYCXf4tBioDNAg8CgX/dwKSA0UGEAouA9EGBQep/VcCGwKiA8oO9gNR/2X+Xf9aDh4NvAgnAOv5NwI2BY8MqAjX+NID6QYVBwcLj/q1/8oDQg18E5MAowCb+In+9Q+tENwHl/kW/VMBVRDpD0sA6wCj+KEGdRGPAYIEGf7++ygKrQfrDGkFsf8ICN4CZwyhB+H/XAjF/vgI8wu1/6UGXgTaAoUGkgOuAwEG+gR1BtIECQeACZ0FgQVWBNEG/AnpBRYFiQdjAn0HXwymA5sL/gPR/kwKUf/jDHsL9wBJB2H+mQbZBuYDVQWjAXUGLAi5BhsCmgMCBSEGdQbh/pIEof5VB5sLtvyECZ4ERAgXC0cC2AjJ/poEvQ+7CvQI1f56/DYFfBIVESsATwEW/VEHlxbBBq4CN/rR/44OPAlnDI786vuJBtQJBg8B/9n9Rf8DC+QSagOjAS78GgQWDbwJcQYb+ub8UAiWDqsK6f4q/f/5BAiNEB3/bwEZ/kL75wutBy8CUgT/ABgJrQY7AY4EUwE0CYAJ4wENB33+Kvw0CRwJkAnuAjP4Pf9uBDgI0wsjAYX/DwL/AOQJiQXvARX+nvzcCNkF8QbHAFP53gRtB7MLEAiR/2X9twHnDBkHhAkxBh8AbQdaA9QITQU5/2UHQQXMCXsAr/qjAB3/LRCVBVcAzgM/+EQIjQeECeAHUv2hBWr8BgWfDJEG+gPK++IDQQW9B9EHRf56A/YCygStBQMCkwJZ/yIDrgQoCBsAFPYj+vv5/gShBXL8S/l99J/6ZwAHAhH/NPb09o77af9bAhv5OfOZ9Nb8fQW5/xP5RvFZ9GMB1gSnATz2B+5Y9jX/QgM9/mLwVO3i8qL76f368Y3oiegW8aP5CPeg7bPkG+Wq8Q782Pfh6szgRubY9er7mPf16HXgKerM92f4EOxy5rne1ueY9yryN+/x3nLcA+/x84HzSuat38zipep99GboTOLN36XffvCQ6yzjzODv2vXoaOwN6rLn/txs4WLoCeq56YPjNOGx6f3oxerS567cguc87C7xy+6o4Tbmmudu8JLyFOzJ6cHfOOuQ9erwv+1H5B7mt++Z9Ebxw+UM42PuNfV49lbyZ+Ov4//tF/kL+uPu4Ow56gD2gf9I9nryM+5d9S3/5f7f+AfwEvIq+8YCwf9A9srxWfXt/RIDpf6c9oH1O/hB/7oCYv0r+Sv5qwFmBL8A1f9e+98AMQcRBpYENf8vAI0GjAnYCDoEgwAWBfsMKg44CioDIwLECGcM4Q+XDBoFtgO9BZcMLg/7C70H/gSxB2AKog02DegJLAmsCb4Njg0zDFsLswqaDo0Q8RG+DdMKJwySDVwSDREmDs8LnwpiDrUQ4RBKDzsMTApGDZERoRFNEDoNhwrfDBUQfRDKDt8KwwqeDWYPkRBqDucMOg2VEJQTDRHuDSMLYg0AEzAUIRG7DKcMPRCXFSYYkBTpEEIPXBKLFl8XRxZsEqURwBSaF2MXTBNhERQTXxa2GIYXvBQ8E+8VFhkCGnIZsBTQE4MWwhdVGgIYKxVDFk8XBhoCGt4XFhhmGC0apRv5GvUazhmRGvgc0BwoHTUcuRvwHMQdIB7IHB0bkRrpGxUcTRyVHI0bhRvaGZIZ6Rp5G2UcFRueGQIZnhiyGXUawRpBGuIY7hg2GWIZTRoxG20cdRwxG3Ea8hnpG1weUB48HdEaLRp1Gywd3B4UHVkbiRv4HHMfyB4oHZ0boRsUHp8fix/8HMEaDRvMHPQd5B0pHM4ZNhm2GcEaYRvqGbIX2xbnFsoXFhj/FqsVTxW/FVMVvBSAE+gSsBOUE4gTIRJZEO0PgRB0Eh0S6Q9iDeMM0g4ZEO0P5wwcChAJRAoLDEwK9Ae1BdYElQbZBm0FRgNbAe8B6gIaA+MB2f5C/cn9Kf/l/+H9nvtn+p/5evve+5f6Q/p/+AT4FPgQ+Of4M/io99z37Pe3+Pv4A/nn+bv5X/qK+7b7OvyW/DL9Cf7N/un+Bf9d/3X/twBfAWsBxwFbAVMBawGvAdcBKwHvAEsACwC9/7X+uf51/gH+gf0C/Mr6K/q/+XP5/Pec9fHzjvJC8bfvnO2g7EDsXOvl6eLmZ+Pg4TDifOIE4RLdNNhJ1WnVcNZZ1ZLR+My5ypnLJM1ozN7ID8UDxcHJPM6r0I/P0MxTz8nU39pd3zngJOLD5aDrzvEl9Rj3DPgi+28AtgM2BbUFmQVhB1wJSApECTEGLgXyBAoFfgS7AAH+/vtn+mf6Z/jM9bLyS/CS8Grwq++U7TjrKepF6SHpaekJ6jXq0ekG6Gvlz+Rb5eLnoehL5SDhXt3q3P7dJd6G27XUA88YzQjOTM5rztfPt8/P0NLROtK900zWut2D5aXo+ep063jtFfSm+w4EFAgtB8kHCApeD6MVBhkKGuYXKxUbFZ8WHhiGGOcVFBToElERYBI9EBcM2AncCZMMBw0DC90GXwJGA2AJzg0PDawIygMmBR8LhRF0FIYPcArACEMLJRGZERoNvQYfAa3/IwFfAjMAP/ot81/ueOtV6snpPuaV4JvaYdW90wrT2tLl1YDWHdW91KnULNcC3ffjqepY7Xzss+8t9Zb8nQUICnMM1wwGDg8VyRqEHqMgUB+sHkgeqB5/IHMfFB3cHMEbNRspGmcV0BP1ETEQpBK1EG4ObwttB4wJdwq7CwcNBAp0CcwJ5wvpDw0RaRFBEUkQ+RDBEWURURE+D0MMyAlhBb8B4wBHAZMAmvuR81jrVuY25k7nx+RC3K7R+MsYzMbRHNep1cPQactUzenVOd+e563oIufN6ePvg/pyAzUHZAp/DA0QBxexGzQftyFjIUokWSWyI5YjeyAvICMh9B68HaYZrxXQFDwTLRJtEBINwwo0CZUHTQcZB8EHZAlsCIUHLQepBxcMzQ8hEnQSjg9aDyER9BODFlQU4RDzDIQJrAkkCGIEpf+X+vj3efVW8ajrY+S93s7cCtyk2FrSdctJydTMj9BN1NbRwM3jzl3U7OCh6GXqdOsw7O3zgf6hB64N+wxWDUwTNRp3IYokmiLrIV8hSiS0J40lEiKgHaUb5BzgHAkbqhfcEuEPsQ8eD8YO+wvgCGgIaQd8CLAJtAl7ChgK3woyDZYOuRBIE5AUaxXgFIgU9xTnFPsUGBSFEToOpwroB80FswFS/Vj2R+907Enpoufc4i/andOEzJXKoMwczSTOXcuayGrIecpC0+PZ4t3g4dziYui77zv4mwEaBVAJ2ww5ERIYDRxPIR4jbiPVJX0l3SVNJbIjYiMvIaQeQRs6GF8XKxaTFUwT7g4fC6wI3AmjCzsLeAkhBoYE3QabCiYOSg/KDWoN9g3pEFcVJxdvF2cVrBJgEpgSFBPhERoOxAnmBNMBsf86/Lz2q+9h6bPkdOLx3t/ZKtM5y+rIScnkywjOacrOyALHLcp91ILbqOGo4pTiWuhH8Ir81QWUCFQKZwstEQIa0yDFJKYjFiJKIl4kSCcVJ50kpyBgHTkbfhm2GSoYIxVJEvoOdwzoCbgJtwowCkwJ5AfhBkkG/AerC6oOnRBNENkP4RA0ExcXMRrZGnIYsBQ0E6wTYBQQFIEQtwpeBP3/Gf7e+uT1D+5C5ojhst0/2+zWk88CyXPEs8SyyEXKBcqqyJrHIMxF1Orc9OI35Sroy+1Y94sCowoWDtIOcBIaGQshGSdsKDgndiThJNgntCkAKVYkix+dGx4ZHhkOGrYYDBSGD08LpAlsCp8L+wxECvEG0QWZBqcKrg2xDwEQwg45ELwSsxZqGdYYGhjPFmsWixarFTAUuRDfDGwJWQU3AS78ePeO8qzsFufE4N7blNd200PQhclPxGDBbMKGyC3KLcveyH7HPM542MPk8erc6yjt4vFG/VgKPBMjFgcV6xVRG6Yj+yp2LCAp3SSSI30lGScNJ8YifRzOF6AUHxYLFxsV9RGjDNgJ6AjACSsMywvsCXwIHAgsCi8MOg7hEGkRfBIcFBMV3xZDF04YmhnyGKoXNBTREIoOkwyjCygIEwJi+930qvC37YnocOI720HUq9BozUXLT8Z4wdnALcEbxe7GFskByyDNgdXm3NPkkemc7BX0qvthBkIPzBJwFIMVwRrKIugoLyqxJsIizyDSIv0lqSX7IGIYXBPZEWwSfxZfFVkQfAjSBOgHVAn+DZ4N8AitBkEGzwx9EJUR6BKVEFASqxX2GA0ciRr+GLoYOhk1GgoYkBSxED8MjAm1ByoE6f1M9ifwtOs+55DihtzZ1JvPZM0AzHbH1MHavQq9ZMPdySPP288UzMPQ09ma5rHz/PZz+bb7iwFKD1IZgx+XH40cbyAxJd8ptiyAKSElgyFHITIiSyDFGxMWUBIdEJURHBOhEJsMfAhECYcLyg15EOYNuwuLDEkQBxaaF1IY/hdPF2UbYx+DIfcgdB0FHIEc0B2AHaIY+BI+DmgKgAiRBSX/MPcG8ZTscuic4nLbkdTrz8vOcM0qyAnBxrzavDfEQM2i0ULRrM3f0Drcxeq49378Uvx5/SoECRH0HYojIiJ7H6sfBSX7KsIsjClaI8QeeB5fH5gdLhiREOsLBwweDxUR5g6dB2ID8QUsCp0QQRG7DEwKxAmZEaYYwhkGGh8WZxYdG8cfdiOnIEEcVRqFGuwcERyDFvkP2Am5Bh0GLgPi/G3zreoi5uTi6d532S7SgcuWyP7Gp8R1wFa86rwxwfLIl8+m0rHT8NZh4OHqqPbN/hMChQbLC/sVSB4uIsUkjiMVJTgnmCnvKskl/iEIH8gc1BwGGYgUrQ/oCacKXg3uDoYPBAqxBugIDwxoEhsWfBP5ECkQHxXAHX8g8yB3Hwkc+B62I50mvSajILEc/RvlGq0blhcNECAKNgSDAp3/5/gq8nXp9+NM4SrczNaX0P3KScn+yKLGWcCavKq83MFUzZ3UP9mU2ATYA+RL79r7zQapBucKYg+7FtojNSVtJb0kvyEhJ3AoxCdlJcgcthmuGLYXVxf1EFwK1QYlBqsKVg8NEBIN1Qd5B9oNLxWxG8gcMxeEFMMWfB0tJuAnRSXvIFQeIiKNJS0nPiQYHfYZ1hhOGKcWZRAECWYDCwAh/vP5RvL16Vfj9d/O3SjYQ9AByi/Fz8V2yHvEWMFmvD68Jsgn0Iva5t0j2uzhWugg90UGkAiWDgYO3RGdHMcf1SSSIhAfZyGLIA8hPB5nF7ASIRDlD5oPwwsmBcMAof7bAAwIywzODVQKkQXFBl8MlxW8HTAesRq7FtsWXB0OI5klWiSfH0ge9B7nH2sgYRs/FkAUOBPoEjIO6QXl/QD4UPcc9+ryfOtY4Vfa9Nfl1crRTcv7xYjC6MN/xBnA2r37uuzBt89k2AHgot193iLodvJ+BI8M5wySD64OXhhrIR4iHiMlHMEawB28HEAeAxbLDIsKzAifDM8LgQWZ/+v5wvtKA3YNxRGKDVgJqQVbC7IXFyH9JaMfehlKGawdASfoKIEm2yE4He8fGiJTIYkb+BNJEgwTJBRREQAJsf9P+aP4f/lg9nfuU+V53mfbR9qB1NTMasdbxDbIhcm7xA3BD7t1wC/Pi9rT5VfkCOLZ6XryLgPqDkkQkBOMEyoZEiOjId8f4Rs3F/AcJB05G88VrQd+A1YD0QVAChYE7f2D+dj2AABECZYNtQ9MCuwIjg7TFRQfHyGYHTEbIRsDINEk5iN/H20bvhkgHdcfFRw/FsIOiwvCDS4NRwtmBLr7l/gg9rn0XvC+5/Thjt072zTYV88Cx+TC7MEDxk7HTb+3uYm2h7vcy0DWEeCI4fXeueh77y79OAlMCpURGBOCGAcgXRzFGm8V1BOqGGIYhhcxEI0FGwC5/jcBIwI3ABL8I/o++5n9QQbzCk4NPRAqD6MWJRvwHekkFyDXH9IipSSjK+QnliN3IIEcgyFWIhMhWB1MFC0SWBJwErEQ0AleBL8Auf46/fz3W++q59Pkl+SH46LcstGFyjPGPckYzpnKf8bRwOG/SctB1fXe3+Tb5GzsdfWrAPMKtwzyDiUSMhnzIWok0yF1GjcV+xSHFpYXjBKnC0UG9gK2A3MCNf8e/LP6yf1nAhAJRg69ELQT+BNDF3UbqB1OJN0l8SStJgokZiSKI8MfRB9hHGUc8ByZGt4YYBOmDk4NFwzXClAIKgQfAY39m/gF9SvvmekC5hjjuOB72mbSMMzex1LH8cn6yLPFaMLhv0fGH9Cb2XPj+ucT7rD26f3BBtMLag5AFBoaRyF1JS4itB1vFwwUbxXsEy0Swg1oCMEGwgMLAhn/Hvt2/NH/bQVYCmoNdBTOF8oZoB4kHYcf+SVYKZYujystJjklpiKJJTklKyCEHZIZvRrIHP0auxYGD0cMFg22DR4NDAgvAjb9Fvsb+kX1V+6K50fjAOHS3c3V7MxNyQbI8MxcztLI/8UMwt7I4NY04fnq5+2N9JH90gR2DhUQ4RAXFeEbmSX8J2okFRx8FPwScBKwEuIOUAldBkYEeQW+A5n+gvse+9MAvQeiDQMVxhlRG50cWB40Hzoi7CcDLMIsTCmVJjklsiOaIjgeORqCGHoYVRsVGxMXyRB3C68LFwyLC7QJ1QUWA5n/Gv3n+Jbwperu5qPkuOLu3KHVD9A5y2HKfctuyKLG+8U+yJ7Ri9kQ4v3oRO2k9gX/2AceD3kRTxXSGDwepiKfIfQe8hh/FWwU7RDyDmQKLgUaA6cBDwGB/wb90vyJ/+4CQAjGDZgTqRoEHfcfFiJ/IIIjDSZEJ/gnFSVOJIYjWyG8Hg4aDxYgEygTIxUPFWwTrQ+7DBsLUAglBnID5wC9/zX+Evwg97/vMekL5CXgbtxI1svPaMxRyuDL+MsGx2fFHMN/xqLSi9qz4wHrkvB2/B4EvwpiDtsM2RD7FXwdYiJ3HyUcCxZMEjUQtwoZBysCUwCeAtICSgO5/9770vzd/eMBHQdzCtUPDhn+ImgnqChMJyMhvyByJBklPSYaJD8hGiJLIEkc4xYaD78Lng3pEPMUrBQ9EIoNywvcCBoF2wDi/EL7t/q/+bT2f+765rzhJ9tJ1cfPIMzEy4vO39DszW3KNscSyULTfttP5KTsRfNx/2QJQg8NERIOhg/nFCUcbyAwHn0a3xUoFDkSJwxxBtX/ff5PAo4D3gOTAFL9Bf9rASIFtQckCV4PzhgGIqAndCc2JHoifiPpJMUkbyGIHncfRyFvIfAcbxU5ENYOzRBsEt0RvQ+CDrkPpg/7DOkGFwBC/TL8kvtv+R309+7N6ibnfOLD2YPQFMzYy+fO8898zHHKLcl3zpTXztvM4i7nh+7d/Q0Gyg0FEXYPdBRLF+UatRuyF5cW9xSrFnwU9g1UCdMB1wAfAa3+Pf8O/Fr9SwKSA7EGQQaVBsYNbBTVGycg0x/fIdoixiMiJIsfKRyVGvEaJB39GncXfBMhEJ0QTg/GDT8MVApbDBoNuww8CiYEfwGB/5n9QvuJ9Z7xU+5Q6xHpXOJD2gbT18960R7R89AozqHKGM3fz4HVL9uF3ivlmOzA93MA9QXzCggKcg4lEvAT9hgXFqcWKxfQE6AUJg9ECqkGKwLSAm8B8wF/Ac8A1gPWAhIFKQb1BXcL9g40FJYYVRqkHbAeWyHLIeAenB7lG9Ea8RtiGS4Y3xawFHQUwBKREFoOGg1zDDMLGwssCDkGtQUbAjMACvyg9kH0rvAX7v3q4uWU4e7cuNhN1RLSu87MzVzNZM2X0ALSSNbe223gsucg7YX0e/pHACkHBAliDkkQbRFHFcASEBRwE6kQRRGODRMMlAn5BfIEIwIPAvMA/wCmAm8BvgN+BLUFewqTDB0RyBSHFdoYfhl9Gr0b7hlhGvIYZhgyGT8XPxeEFKgSORJGD1IP/wwHDCsMBAloCfkGdgSSAxX/Kv2X+az1VfS68BPuoerK5gvk4d++2zTX4dPy0QLRKtG70ELRJtOY13bcYOHX5SXpO/DY9VL8tgJWBEAJ5wvaDtQSjRGIEnUR6RCxEeIO/g1ECjQIZQeuBOoEMwJ7AV8CcwFeA/oC4gMMCBQKog2eD0kQbBPTFdYYahnyF1cXaxYqGAoYMxbEFEUSdBPQE3AS+RCCDZsMgwxfC1gJ+QW2A8sBkwCV/pv6cPdZ9CLy6+8Q7DHpFuYg47DgZtzr2UzYIdZg1v3TLtJS0zXVL9ry3VjiduYg7AH0u/i5/pcAIgOECNQJtg5yD+YOzRHhEcwUUBMFEXoPJwznDNgJ3AeFBs4DqQUWBWEFOQbiBIUHvAmPC48MJg3JD7URGBQ3Fn8WVBMaGIUcGxYbFscVlBI/Fy4YGBMREn0RhRDNEP4OWww4Cq0HGQbWBEcCQf+S/G/5EPcw9k3zm+/A7BHqNuiH5bzggt1y2wfa39mU12DYX9nj2hXgzOHS5tnqT+5R9Tf4+f1PAeYDOAlUCW4N3g5WD4wTBRIYFIgTHRGYEh4P1g4aDZQJhwrsBxAInAhVBq0H6QaFB9wJoAkHDPcM5g3REI0QjBJoFAQU3xUvFX8VixZrFdMW5xUzFX8VtBMAFFwSVRCCD8sM0wvQCdEGFgWvAYX/Zf1D+kv4MfVN827xe+7I7KnpMueP5BThed823Svb39k32WvZetvG3WHgo+Ra5kjrs+/p8xf5d/pl/wsCfQU4CkAKng1eDloPlBLdEI0RrRB6DmYP6wyvCwsLbAicCAUHNQaxBsoEvQU5BfEFYAiZB6QJowpHC/4Nlg9lET0S1BLsE2AUqBTgFHwUQBQEFGQTuBLtEHYPSg7XDJMLJAm9Bn4EQwIPAI39LvvP+BD3efWN8zLxL+7U64Xpjufz5DThgd823ZLb+9o72afZo9oC3RThG+SC57TrdvCY9T/5svwXADIDAQfQCbMLWg5hEDkSPBRoE/gSLRLNEL0Q3g3vC2wKtAjACG0HzQbBBdYEdQW5BVUG2QZtB0QIrAmHCmsMDg9BEIASDBOcE/sUqBR7FbgUrBPcExATHBPxEQEQ8g4eDbcLlAmJBkIEuwHJ/xH+lvvH+fj3hPYV9Y7yN/DX7VzrXemK5hTj0ODN3nrdBtzH2sPaFtzl3gTip+VO6GTsMvGg9Q/6dvzx/xYDxQYLCwsMug5JEIERoBRgE3wTbBJVEPkQ3g1TDIMKEAioCLUG+QU9BVYDygTGBLoEdQbdBjgJ5wq3C2oNug11EIgS2BNTFfMUQxZfFkcWBxbcE4AT3BKNEVUQXg6zDCsL7An4BzYFNgNTAdH/gf5q/Or6Y/kU+CD3ofTy8aPvtO0w6xros+Rg4cXfEd6O3HrbI9ty3c3fQOPi5kXpL+5q8gD3ivtp/UMBxgStB68LLg1SD/0R6BLQFKwU4BOIE5UR5RByDocLcAo8CHUHNQZ+BKIEHgQqBN4EWgSeBKkG0QesCScLgwvqDQ0QoBKYFBsVExa/FmMXNxfjFXgUIBM5EqERxQ8eDmINVwy3C+wJ+QaqBOIC9wGrAGX+avzi+iv6j/mw97D1HfP+8H/v+Oz96Rrnk+TE4sjgtd7y3e7dCeAQ42bmAepo7V7y3Pan+kX+9wDKBCQIhwq6DV4PVRGAE1QUGxVMFKwTCBNlEfEP/wzLCoAJvQdZBwUGjgSGBGoEMgV9Bc0FkQeACWMLYwx6DQYPzRB8E1sVBxazFjcX3hcqGBsXAxZDFcAUGBT8Es0RERDyDiIOTwzjCvgIDQdZBq4EDgPPAUsAVf8F/nb8zvq/+Nj2vfSC8qfvHOwF6YbmS+SM4VXf8t153rDgAOMS5y3qe+459Lv4Jf7zAIYDEQewCc8Mxg6dEKgSCBTfFT8WRxVwFMASdRFiDycMhAk5B9EFzgS6A4sCiwI2A9IDhgTqBFEGpQe4CasKwwuCDQIOYRBRER0SpBPgE8wUpBQAFKATSRKtEW0Qkg4WDl8MvwsPC9gIiAgFBwkGRQUOA5sB4f/l/iH+0vym+/f5EPiA9unzjvFH72Ts1epi5zPkaOEN3lLc29qq22rdMOHy5RHqbvBd9Uv6of9TAmUFoQcACrsMBg4pEBURxBJIFEgTLBPdEH4O1wxICSUHOgTLAS8BKwBLAA8AWwDfAYcCxgPaBCUGsAiLCtcMXg6CD4UR6BIbFe8VFxZHFn8V7xWMFOQS3RHJD24Pkg7qDboNZww3DBcLdAmcCOUGSQZ9BaoDOgP7AfcAjwCV/iL9CvuX+JD2EfML8Ojs6enO5gzjsd/O27jYUdXZ1HTXJ9uo4WLm6OzN9KP6XwJ1BiAJzwyODXURaBJtEegTHRJQEyATwg7qDRQJsQXqA2H+Mvwf+Uz3B/kv+Pv5avtx/TcCXgOJBgwJGwsdEKASJxU7FnsW5hfqGBoaOhlWGB8XjxULFfkRFg+bDDgK8AmQCIQItAgsCFQJgAgcCEUHoQWFBvkF6QUdBvYEeQVaBFMCJwA2/Cf5FfVy8BTsAue7463fP9ug19LRC8+1yonJ385S0urdguZj7rb7/gIiDrgUwxVGGbIXlhl2GTsVPBTeDjoOewxFBp4Dzvs3+Lj1XvCX72TsyOyS8LHzk/im/AsC9AfvDGERWBNrFkEa4BxbH9QdYB0cHSkbrRpDFtgSXRC6DesMUAlNBw0GwQU0CNwH5AgECr8Kpg0qDasMnwsQCi8L3wocCtwI1QeVB1kGSgTd/yb7kPdt81fvEetS5rjiJeAy3GjXPtKEzErI6MOzxOnKYtOQ4cTs0/gVBg4PIhkBHIkaRhmjFXsVXBKqDWgKNgVWBMsAcvvU9oPuSOup6F7myua25njrsvGn+K3/GgWfC+kQXxViGFoYORrdGxAdWB71GnoYuxXwEpUQhwvICOEFMgUJBl4EzgS6BJkGZAoPC0cMpwxWDYIP2g7uDfcLNArTClgKpwqwCQgIQAiFBmYEtwCi++D3xfNi8KjsQui75JTh3t3H2cHUQM45ypvEEMLuyLPQNeAT78v48Qb5D0UaWyBYHeUaRxXIFBwULg83DHIEHwI3Ab/6mPYQ7d7n6eh66FjsVO0i8fv5EwKzCx0QTBOSFy0aXB7EHe0azRoWGugcdB0+GOATmg+GDfcL/AdiBGsCngR0CBcLMwz/CxYPDBMcFGgT7RCaD70QMRHlDy4NvwqTCqsLmwv4CJkGFQYBBn0F2wFS/ef5+PaV9DPwveqz5GThwd6n2e3U0M2RyhbIK8UkzGLTwd8m8T783Ak8E2EaTyHXH6QddxdwEzkS3wxDC8IEUf/9/RD3cfSv7gHpVeoR67rwVfWL+tICeAngEsYX8hn9G7UbLB7sHfUbzhmeF8YYshfvFIIPhAkYCFEHQQedBWYEeQfPC1URiBJNEb0RABMjFpMVTBNBEeEPuRFdEc4OhwvgCHAJQAqMCd0GxgMyAzoDlwLB/yr70Pd59F7xGO3C5tHfT9vc11LTU89Ryb/FcMIbxj7SDt3b7VL7RAmuF28fkSZCIywf8hlEE6ASBwuNBiMCtvu3+knz++5t6pvlDeks6x7yY/ih/hAJYg/eFwEcERzAHrgddB7oHZEathlPFxYYwhcwFPkQ3AmFBkEF4gN9BTYFPAg2DUwT5hk9G6kbLhlvF3sXBxWoE/EQqg+NEBUQMg/bC0wIMQYqBV0FhgRGBK4EYQU9BsoDJwDG++T2GfNr7sHp3+Pt3oPa9dSq0QDNjsi7xE3J4NeG5tv59QbdDygdZSW3KygpQB/2FxgTgBOeD7UHif+492j2GfPr7VLo5OLq5/rwi/mPAe0F2wwzFsgdcyGDH8AdwB3kHrcfNRuvFWURZRABEmYPlwo2Ba4CJgXYB5gJBAqXDHwSZhjsHCEcQhmqFwcXAxfoE+EP4ww7DJoN/wzLCkkHaQXRBT0GcQbOBCoEKgVNBmkGLgPV/u/5gfWC8mfuRekc4zLdDNgl1LrRrM0Jy7bG8sbZ1LfjWfWJBd4OohlmI2MqaCh7H0MVCw37C8gIRwIC+zXzEvEH8Jjt7eln5cbnK/Ar+ioDoAj2DWsV5BwXIS8g+ByhGukayRueGHQTjg7jDFoPPg//C1kG+wGuA4EHaArrCrMLARBvF0QefB4aGkcVZBPkFDwU/RAyDXMLZg0+D84N1AjSBEIEnQacCcQIAQe9BhwINAkpBrn/PPf68f/uFeue5jHfN9kU17TWSdU20uzMysbEzYbcoeoK/I0Gmg+QHZgn8yoZJRIZug6DCuwIVgM6+1Hzf++a8AfwBO1y6P7lfOx49rX/MQcnC+URoRrzIDIicB0CGL8VrxawFCUQNAouBfUFHQfcCPkG9gIeBOYENQe4CRgKLwyxEWYY3Rp5G5oYyBNAE0kRtg2DCl0HqQeoCf8KvAlFBooEdgTtBaUG1QVpBX0FaQdMCDYF3f/T+NLyy+5B6sbmcOLp3gbclNe51AbRd87lyaLGs8+C3e/v4gNSD7oXcx/BJJkkbB0BEqkGZgM+A68ANv3x9F/vi+5M7dTseelS6Mfux/l1BpIONRKDFZIZyB0MHuoZFBSVEGUR0RH1D88L8AdgCOgIuQcyBO3+If/iAywJIg0mD3ERexZ1HIUcQhjMEqoOXg99EKoO3wokCLQIkwrjCqkHggN7AvoEiAhkCa0HiQVNBckGXQWV/8T3GvEP7iTsKuh44m7caNh81qXVetKgzRnKH8WIzO7bCek6/CQJEBOMHl4kLiRBHKERBQeLAv8Bzf0j+g30S/An8LzsDesq53PlAOw99a8AQAmKDjAT+hdpGzUacxatEIoNog1qDU8MfQcKBF8ClwKVBbID4wAfAKcBgQbPC/EPkRBJEsgUhxXTFb0RzwyfCvAJcwp0CdgHJQf9BsUHqQdhBQIDVwLKA+kFWQYuBUoDbwLrAf3/Tvtt9PPuNOsp6UbmdeCL2hzXFdZE16nVt9AozE3JZdTP5F3zHgPQCbUQeRpYHzAeFxY0ClMBFwE7Al3/B/pm8nPup+6U7Szs3eiV6ILxBv34B1oOgg9sEgMWdhjaF7QS1g0nDIIOeRAGD8cKEQeMCFgJuAihBTcA7wDpBTMMZRDJERQTyxWqGeIYBBQODmQKvwuGDhYP1wyrCi8LUg16DfQJ5gSDAuoEoAiPCowJKQYGBQYFRgN5/nz2C/AQ7Wvu4+2V6Hzi/9qw2JPZTNgp1avQuMzC0hDj0+6O/PIERAmMFJIZXRsbFawJLgOLAB4D/f/z+ObwUOxL7tTsQOxi6Prl4+5b+ZIExwo3C+YN/RErF5sWNRELDHAJ9wwaD4INFAjfAUMCDgXdBjYFxwCvAKkF+wutEE0Reg/lD5gSIBQREu8MaAgoCLMKHwyDC/QI9QaRB4gIUAhBBuIDzgSdByAJmAgVBhIDawHN/wb8jPbm8KDtHOzF6uHo6+Ss4AHfpt2u2wfZCdUv0ODNxNgX5ULyXwL8B2IOPBN3FWwUKwxGBML8FvyN/n394voV9Sbx5+587ePtEeuw7Fn0pf3oCHYPyRH0EpgTwBMpEoIOpAngB5gJ+wtbDJQJpQUHAgMCYQXBBuEGLQfJBzML0RDwE+wSPRGiDnYN1g5yDhsMyAk4CRgKGwzzDLcLtAkUCMAIMAmMCDUHyQXhBYUGHQbSA0sAivxX+aj2UfOf74Tsyehu54rmHONg4Xbdk9nw15XVftH11I3gUepb+roEKAgyDuEPPRGKDo0Gmf+e/HX+Wf8J/tf4PfPm8XrwCvLi8PvuRfQG/CEH4g7dEKER1RCdEQkSjg8nC2QIBAoXDGYOJg0UCIEFaQWECCgK8AmgCUwJ9ww5EeAT3BNUEn0R9RDFESERHg9ODXcMLg0mDg4PTg7rDN8M8wzbDMsLsAlsCGkH5Qa5BhYF2gIbAV3/xvzH+bj1lvHL7oDrwejP5Qjisd/u3fPak9nx1YLTBt6S50XzCwHiBPAIhwxSDm8MHQc3ARb8jf1bAE3/XvxQ9430xfMR87nz5vFl9D78zgQHDZYPIg/mDgIPeg/WDTgK6AeoCNcL1g4yDtwJYQYKBcIE5QXxBgAIswoqDxgT6BMEFEwTmRHtEdUPqwxDDMsM8g7BECEQWg1XC68LiwwPDacL7AkECgsLSwwzC0wIYQWeAyYEDgQbAoX+r/pI9xH03vGM7f3oHueH44DhpeCS3FfbQ9ok1/LcZ+Wo7Rr7DwHFBSsLHwzWDeMKHgXJ/7X9Rf79/pH9M/mo9tnzWfPd9MHzxPUO+2MBIAk+DmoPqg/9D70PMg9mDacLPwsbDHYOpg43DCgKPAi9B6wJowujDAYOXg+tELQT5BTAE+kRJg+eDvIOtQ99EFYPfg9xEA0RCREuDyoN9wu7Cz8MJwxHCywKdAksCXAInQaCA0MBtf8p/pb8c/lg9nXz/vHH70zs+ejT45DhWOE84cThcd693vrlZO3H+EcAlwEmBfQIBwzvC8EGUf+y+9L8+f41/xL8a/iI91P5Ovye/Hv6HvwfAigJlg/BEUkQ+Q/VECES1RDjDNAJcAkSDaUQfRAmDjsMIwzKDbYOiwyoCTwKEg94FJcWsBSpELoOPRBBEZUQgg6nDJoO+RGsE+0Rgg2rCp8K6wvXC3gJGQdhB8QJEwuQCVkFhwGXAL8A7f+u/OP4ZPaF9aj1dvLn7ZXpouYO58rms+Wr46Dh5d+v47DsHvIL+jH+/f5zAn4DpgQPApH/YvyP+rn+Mf91/fr66/iz+K/6+f7J/v3/5gOFB/YNqRC1D1YO9g32DgYP9g6SDQ8MWg1BEOEQOg/rDH8L4wyaDhkQCRDKDsUPhRGwEoQSeRBKD54PmRDZED0Qjg/iDtEP2RCZECoPsg12DVYNUwxwCnwIZQdVBz0HXQaOBNYCDwJHAf3/8f32+/76r/o7+oz3CfO/7pDrheqR6k7ow+W34yTjnejD7WbxIfW89rf6LwA2BNIEmwLbAOn/VwDp/yL9X/qn+Xr7lf3x/jH/Lf9/AbkFpAiUCDQIeAh/CmYOkRDZD84NNg2KDRoO5wxACtAI1AmSDUoPMg8CDqcMhg7tD5YPpg3fCosLbg7FEPkQng6/DLcMPg6eDlcMVAr8CfsL4g7mDl8MhAmtBxgIHAhFBhIE1gIeBIEFAgVbAiH+ZvzW/Ob87vvQ9zHzVvFW8OPvw+5A7P3qROuQ7LTsyOtk7Gfu+fJ49/b6Ev2d/i8BmwDh/xr9v/i/+Cf5U/qa+zb8df6Z/7MBZwJfAAcBbwIWBagIrwrLC+cMkg1WDbcL0AiBBiIFcQbgCAAKfwtvDP8Mcg5yDqcM7wo8CawIUArbC8cMng2uDYoN0wxzCzwJgQdpBxgIvAnHCo8Lywv7CiAKSAjVBdYDugKiAlID+gMSBGoDJwJbAOH9cvuz+aD3pPZ49hX0NvLe8PPu1+4/7njsIOuZ6gnrfOv87ADtrO1+8LrygfXU98/50/kL+h/6n/jE91j3JPiD+db7avtm+8r84vzp/vX+ff5t//cBuQVpB1EHgQapBk0HJAgUCFUGAQZZBnUHUAk0CRwJ0AmzCmsLqwoICXUH/QbkB/QIvAh0CJQIPAngCWQJiAgZB70GmQcwCFQIyQdxB3EHaQehBq4ELgODAjcCpgJ7AusBgwGDAMn/Zf4q/I/6H/mU90T2JfTO8q7yQvKu8tLx3vAG8crw6++07eDrtOsz7nLxafO1823zKfVk99/4T/k49/z1IPiv+Xv6e/pT+t77Wv01/6H/of+/AQYDhgOSAx4DtgPpBUEG9gQqBOYDDQb0B4gIbAiQCIgJYwsfDKgJGAg5BxAIAArUCewI9AdcCEwJDAn0B60G+QbcCKcKKws8CkwJ9AioCMEHBQYaBPoDaQXpBqUHYQY2BdYEvgQqBF8CcwB5/xsA2wA/AOH9t/qf+Gj3DPal9EHznvIZ9G31gfXR9NHzAfTB9A31zfR99Fn1MPf3+Pf5w/nq+jL8vf2N/mX9Xv2V/asBqgI/Ak4EVwL1BZQJBAksCUEHeQe4CFAJQAngB1wI5wrKDZ4Pcg+iDtoOpg9NENIObwz7C7cMgg4eD3INawscCosKpwqYCcgImAhQCt8M7g3/DM8K8AgkCHUH3QX+A0IDOgT9Bc0GWQXuAisBdwDTACsB4wB7ALMAiwAt/2r8S/g19WnzsvIl813zCfRN9Xj2ePZp9T30LfNV87HzdfQh9RD2u/hz+QP6v/pX+jf6Wvv2+5P6ivv+/D3+YwIRB9UFfwLCAh8AhwB6BNoCUwKxBZgJPg0eD4oNqwrHCqcMFg1DDLcLhwuzDAYP0g5fC9QIBAl8CcwJwAlYCJQIDwv7DP8MMwsoCSQI4AicCXgIFQf1BpkHpAjsCBUH8gQ+BBoEggNHAgcBFwEKAzYFnQVWBIMCLwHB/+X9+vr89/D2UPdf+HP4gPeg9gz3BPhH+Cz35PVU97P5Mvyy/BL7m/qa+2n9rf5d/vb7FvyR/W3++f4K/ar7x/nu+ysAEwKBBgwITAiYCBkH0QbxBfEGlAi4CZsLWwwvDBsLdAlFB1EG/QbkCP8KrwwWDh4Nnwu8CS0H2QXuBFkFgQalB2wJJAo8CnwJ1Qd9Bn0FYQX1BbUGXQehB6kHEQeVBXIDKwG1/zH/3f9fAQYDHgSCBPoDogKzAC3+3vur+Yv4g/iL+H/4IPj099z37PdD+Lv4V/mP+jL8Rv2t/UL9uvym+5/6U/r7+TP68vpe+2L7Ivye/Pr82f3p/ocAawKmA+YDTgQOA+oCCgPvAXcC+gJmBLkGWAgYCVwJ2AiQCAQIxQYRBtUFZQa1BnUGkQUaBM4CRwJPAlsCFgPKBNUGnAgsCTQIIQctBlEFmgTWA5oD+gPaBG0FQQWWBIYDLgPqAosCIwKzAQMCZwKqApMC9wEPARsA7f7d/Vb9Gv2V/en9Gf4B/vn9Vf4d/t39Iv1e/Dr8svyN/U3+4f7t/r3+bf5x/Q78x/pj+f/4z/kq+xL93f43AP8AQwHrAKsA8wBTAZsBDwIbAv4CrgQOBR4FwgNfAl8CIgOyBFUFnQVxBT0FBgXyA6oCqwGHAV8C4gMWBYkFbQVZBXkFUQXOBF4EUgTyBNEFCQalBR4F7gTSBLIEdgRuBIIEsgQGBZ4E+gMiA6oCrgKXAuICHgM2Aw4DZwKfAcMAnwDrAF8BwwEfAocCrgLKAj8CFwHZ/9n+sf6x/qX+gf6B/s3+jf5J/i3+Df5p/iH/3f+DAJ8AXwAXALX/Mf+d/sX+Yf+nACcC/gLGA6YDxgNKBGIExgQOBfEF/QYxB50GqQUuBCoDygJzAu4CngP6BFEGrQYlBtoEGgR+Az4DrgM2BIkFrQZJBxUH+QVBBb4ESgQSBCIEPgTSBPYEbgSyA1cCTwHLALMAtwDfAIcBPwL+AkoD5gJfAscBkwEvAdsA3wDXAFcBVwEzAfsAbwBvAE8AJwDp/7H/3f8jADsA0f8h/yX+df0m/Qb9Kv1G/bn9Tf7Z/vn+Gf85/zX/Xf+R/+H/BwB3AI8AMwD1/2H/Bf/B/qH+sf7V/oX/BwAjAG8ANwDB/3X/4f6p/mn+ff65/t3+Ef/d/vX+3f4B/xH/Bf8x/wn/Rf8R/83+Sf7N/aX9Yv3R/fX9cf7Z/oH+kf4t/s39hf0W/fr83vwS/SL9Gv3a/Gr8avyK/Ob8Uv0h/r3+Qf/N/6n/nf+h/33/If+9/h3+Vv3K/D78uvuW+6b7Cvye/DL92f0F/kH+Yf5B/k3+Of5N/mn+yf7p/uH+tf5N/iH+/f0B/in+of4p/43/wf+N/y3/if61/TL9wvzm/F799f3Z/jn/xf/d/4X/Nf+N/i3+7f3x/UH+Uf59/nX+7f15/eb8fvx6/Ob8if0B/sX+Ff/1/nn+df1e/Ir7Kvvq+vL6dvsW/Kb8Fv0u/UL9Sv1O/ZX98f0Z/kX+hf6B/pH+Tf7V/XH9Vv0+/R79Pv0+/aH9Ef55/sX+0f4F/yX/Rf85/yH/Zf+F/+H/DwA/AL8ADwFfAVsBRwEzAQcBzwCvALcAnwC3AMMAhwBjADcAMwCLANMAEwE7AWcBjwG/Aa8BPwHDAEsABwDF/33/kf/9/5MAMwFbAVsBMwHXALcAOwAXAAsA7f/5/+H/+f/B/6H/rf+V/7H/qf/x/08ApwATATMBUwEzASMBNwFjAZ8B3wFvAhoDhgOaA5YDZgMGA9YCmwJfAmMCcwKLAtYCFgP2AjoDggOSA+YD9gMKBO4D9gNeBH4ErgTKBMoEngR2BFIEMgQ+BEYEWgSaBNoE9gTqBNYEzgTOBLIEugTmBCYFEgWmBG4ECgTKA74DxgMmBKoEJgWJBaUFgQUyBcoEVgTiA3YDJgMaAyYDTgNSAzYDSgNWA1oDUgNOA0IDRgMaA64CXwJHAk8CZwI7AvMB+wEvAqIC4gLuAhYDQgOCA3oDFgPeAoMCMwIzAg8CCwL/ATsChwKyAuIC9gJmA5oDvgPiA+YDDgTyA9IDqgOSA4oDrgPmA/4DSgR6BG4EbgRWBEYEagRiBEIE/gOWA2YDPgMeA/4CDgMaAzYDagN6A34DdgMqA/YCwgI7Av8B2wHHAdsBAwIfAg8CDwLTAc8B8wHTAcMBtwHPAbMBiwF3AQ8BvwCjAIcAhwC/AO8ANwGnAf8BOwIzAjMCHwLzAecBxwHXAfMBOwJvAn8CxgLWAs4C0gLSAroCWwI7AkMCLwJDAlsCkwK6AiIDOgM2A5oDygMGBPID2gPyA94DygO6A6IDmgOqA7YD3gPiA9YD4gPqA9oDygPCA8ID1gPmAwIE5gOiA44DdgMyA0YDYgN2A7YDugPeA/IDAgT2A6oDggNiA2IDjgOaA44DigN6A14DLgPSAmsCSwI/AjMCWwJrAmcCfwKeArICrgJnAlMCNwL7ASsCQwJTAlsCDwL3Ab8BfwGbAZMBvwH3AQMCLwI7AiMC7wHnAecBwwHjAesBAwI7AjsCPwI7AlsCfwJ7Ap4CzgL+AkIDZgOCA7IDogN+A3YDcgOWA74DxgOqA7oDygPGA9IDugOiA8ID6gPmA9IDwgPuAx4EOgRyBJoErgSaBKIEmgSOBI4ETgROBHYEWgQqBBoEGgTqA9oDvgN+A3IDjgOqA7YDsgOKA4IDhgNuA2YDVgNiA2YDhgOyA8YDugO2A8YDsgNyA0oDWgNuA24DXgNKAx4DEgMSA+IC3gL+AioDDgP2AiIDIgMCA/IC3gLSAuYCEgNeA4IDcgOCA64DmgOKA54DhgNuAyYD+gL2AgYDEgPmAs4C1gLmAvYCPgM+AzoDYgM6Ay4D8gLSArICewKmAsYC6gIaA14DOgMeAzoD9gL2AsYCsgLKAosCewIrAu8B9wH3AQ8CCwJDApsC0gImAy4DNgNGAxYD+gLGAqICngKeArYCugK+Ar4C1gLiAt4CzgKqAqoCwgLCAocCiwKeAp4CpgKqArIClwLCAt4C+gJGA0YDcgOGA1YDggOaA4IDbgOaA7YDvgP2A/IDAgQWBB4EGgTmA6IDbgN2A4oDXgNeA3oDbgNWA2IDYgM2A4oDrgOaA74DqgO+A84DtgOmA5oDggN+A4YDegOCA34DdgOGA5IDhgOCA2YDTgM2Aw4DIgM2Ay4DYgN6A2oDYgNCAxoD6gLSAqYCgwJXAhcCCwL7AfMBywHLAcsBswHTAa8BiwF7AWsBowGfAW8BYwFbAXMBkwGXAasB8wEzAksCUwJjAmcClwKyApMCgwJvAmcCWwJnAnMCfwJ/AksCKwLjAcsB1wHXAdsBuwGTAacBrwG3AasBqwG/AbcBqwGzAdcB9wELAusBBwIfAiMCQwJbAo8CngKPAq4CvgKiAsICngLCAgoDFgNOA04DMgMKAwoDTgN+A34DegOOA64DtgOqA6oDggNiA3oDegOWA6IDogPKA+4DEgQKBBoEIgTWA+IDDgQqBCYEHgQSBB4ETgQuBC4EVgReBJoEwgS+BNIEvgSyBMIEhgRaBEYEQgRqBI4EwgTqBMoElgSKBH4EZgROBBIE4gPqA94DjgNSAz4DJgNCA1IDNgMmAwoD/gIGA/YC4gLOAsICngKLAqICZwIrAi8CEwIjAkMCOwIfAjsCKwIjAhMCywHnAbcBdwFvAWcBgwGDAYsBpwGjAX8BWwELAecA/wDzAOcA2wCzAI8AhwB7AE8AKwArADcAIwAPAA8ADwD1/83/tf+V/1n/Jf8h/wX/8f7t/vH++f7t/tX+ff5J/h3+7f3p/aH9Yv0u/Rb9Dv3e/K78mvyO/G78QvxG/EL8Pvxm/G78fvxK/D78TvwW/Bb87vu2+8L70vvi+977ovua+5b7dvtS+xr76vrq+ib7Mvsu+1r7XvuK+6b7fvuG+2b7Xvt2+3L7Zvti+3b7kvuS+3b7Uvs2+077Nvsi+xL77vru+tr6x/q/+oP6i/qn+of6f/p7+pv6u/ra+tL6v/re+tr6t/q3+qP6h/qP+nv6c/qD+nf6Z/qH+nv6Y/pr+m/6U/or+iP6H/r7+eP54/nj+ev5E/ob+hf6F/oX+h/6I/or+vf50/nj+ef52/nP+d/57/n3+QP6D/r7+RP6L/ob+jf6P/pP+lv6V/pj+nf6n/q/+s76Bvs2+2r7ivui++L77vve++77/vv2++r7FvxW/Hb8ivym/Lr8wvzO/A79Sv1a/YH9jf2B/Yn9ef2N/aX9ff2V/c395f0N/i3+Nf5Z/mX+Tf5l/l3+Zf5t/n3+lf5l/m3+ff6R/p3+yf7d/sH+5f7R/r3+qf6N/oX+lf61/sH+3f4B/x3/Jf8F/+3++f7x/uX+1f7x/hH/Cf8V/xH/Ff8h/0H/Mf9R/33/af+d/63/wf/p//n/9f8TADsARwBzAH8AfwCXAIsAlwCbAKcAywDbAOcADwEHAQMBHwE3AUcBYwGXAZ8BtwHjAfMB+wHfAdsB7wHrAeMB9wEvAm8CiwKuAtYCEgM2A04DlgOqA6oDwgPaA8YDogPCA+oD4gPKA+4DDgT+AwIE8gMWBDYEDgQeBDIEQgROBFoEigR6BF4EagR6BH4EigSWBLIEsgSqBK4EbgSaBKIEhgSeBLIE8gT+BC4FSQUiBUEFRQVNBYEFhQV9BZkFwQXpBTEGVQZlBmkGWQaNBq0GwQb1BukG7Qb5BhkH+QatBrUG0QbtBjEHUQcZByUHJQchBzEHKQddB0kHHQc5B1EHJQdZB5kHgQeNB5UHfQd5B4UHeQeBB30HXQctBw0HKQcBBwUHNQcpBzEHKQdJB2kHdQeJB40HlQd1B10HSQc5B0EHLQcZBw0H5QbxBvUG6Qb9BtEGpQaNBqEGhQZhBjkGRQZtBkkGWQZpBnEGjQaxBqEGgQaFBlEGXQZhBkUGEQYBBi0GEQYpBk0GVQZNBkUGWQYVBikGRQYVBhEGBQYRBjEGPQZFBk0GPQY5BkkGaQaNBnUGfQaBBmEGZQZFBi0GFQYFBiEGHQYJBh0GKQYVBiEGIQbdBcEFxQXFBbEFdQWFBW0FZQVtBVUFZQVdBVEFQQUyBRoF/gTaBMYEsgTCBK4ElgSiBGIESgRGBDoELgQWBAIE8gPeA8YDqgOKA24DZgM+AxoDGgMqA0YDKgMuAyYD+gLqAvYCFgMGA+oC1gLCAsYC6gICA+4CDgMCAwIDLgMiAwoD9gL+AtICngKbAp4CsgK2At4CAgP+AgYDGgMCA/YC+gLKAsYCngJbAlcCXwJXAlcCTwJLAk8CMwInAu8BtwHTAc8BqwGLAVsBOwFDAXcBdwFjAYsBnwGzAdcB0wHrAd8BwwHHAdsBywGvAc8B6wEDAhsCEwITAhcCJwJDAlMCXwJXAlcCZwJnAmsCVwJ/AsYCqgK6AuIC9gIGA/4CCgMuAyIDGgPqAtoC9gLWAv4CIgMaA+4C2gIWAxoDJgNSA0oDOgMaAwYD7gLiAhYDSgNqA14DWgN2A54DvgOeA34DbgNmA1oDLgM2AyIDEgMyAwoD8gL2AvYCwgK2AsoCqgKiAn8CdwI3AvMB3wHDAc8BwwG3Aa8BqwGzAZ8BqwHPAaMBlwG7Ab8B2wHrAdsB7wEHAgsCEwILAgsCJwJHAjMCSwJPAjMCNwIHAh8CGwILAg8CAwIXAuMBwwHrAecB4wHzAeMBswF7AWsBZwFTAV8BXwFvAW8BbwF3AVMBNwE7ATsBCwEXAeMAzwDjAKMAvwDXAMMAywDLAL8AqwDHAMcAkwCHAGMAYwBTAA8AAAAbAA8ADwAvACcANwAzAC8AOwAzADcAVwB7AI8AbwBnAJcAlwCXAKcAtwC/ANcA/wATAQ8BEwErATcBMwEjARcBMwFHAU8BcwGLAacBjwF7AY8BlwGTAZsBtwG/AbcBpwGnAdsB4wHvASMCIwIfAh8CFwIfAhMCHwIbAtcB2wG/AXsBmwGnAasBzwHvAdsB0wHfAeMB+wHXAa8BjwF7AYsBswF7AWsBiwGDAZ8BlwGHAYcBiwFnAT8BKwEDAe8AGwFDAVcBcwFzAXsBqwHLAc8B6wHfAecBCwJDAksCEwInAhcCJwIjAgMCLwI7AkMCSwI3AgsCFwIrAvsBvwGjAa8BvwHXAdMB3wHbAe8B/wHTAdsB4wH3AesB0wHbAZ8BnwGPAXMBgwF3AYsBjwFHAR8BMwEfASsBIwELAeMAwwC7AMcA6wDjAAcBHwEnAT8BGwEHAf8A+wArARsBDwEAAAAAAwAAAP3/+f/5//n/AAADAAAAAAD5//3/AAADAP3//f8AAAMA/f/5/wAAAwD9//n/AwD5//3/AwD9//n/9f8DAAMAAAADAAAAAAADAAMAAAAAAAAAAAAAAAAAAAADAAMAAAAAAAMAAAAAAAAAAAAAAAMAAAAAAAAAAwADAAMAAwADAAMAAwAAAAMAAwADAAMAAwADAAMAAwADAAsABwAHAAMAAAADAAAA/f/9/wMAAwADAAMAAwADAAMAAwADAAAAAwADAAMAAwALAAcAAwADAAAAAwAAAAAAAAADAAMA/f8AAAAAAwAAAAMAAwADAP3/+f/9//n/AAAAAP3/AAADAAMAAAALAAcAAwAHAAcAAwAAAAMAAAADAAMAAwAHAAMAAAADAAcAAwAAAAAAAAAAAAAAAAAAAAAA/f/5/wAAAAAAAPn/AAADAAAAAwDx//3/AwAAAAMAAAAAAAAAAwADAP3/+f8AAAAA/f/5//3/8f/5/wAAAAAAAP3/AwD9//3/AAAAAAAAAwD9//3/AAD9//n/AAD9//X/9f8AAPn//f8DAP3/+f8AAAMA+f/5/wAAAAAAAAMAAAADAAcA/f/5//3/AwAAAP3/+f/5//n//f/5//n/AAD9//n//f/5/wAA/f/9//3/+f8AAAMAAAADAAMAAAAHAP3//f8DAAAAAAAAAAMA/f/9/wcA/f8AAAMAAAADAAMAAAAAAAAAAwADAAAAAAAHAAMAAAAAAAAAAAAAAAMAAwADAPn/AAAAAAAAAwAAAAAAAAAAAP3/9f8AAAAAAAAAAAMAAwADAP3/+f8DAP3//f8LAAcA8f/9/wAA8f/5/wMABwD9//3/AwAAAAMA/f/9/wMA/f8AAAMA/f8AAAAAAwADAAMA1f/R/yMAJwDd/9X/CwAHAO3/FwBHANn/nf8zAEcA4f8nABsAif8PAG8Awf/5/18Axf/N/0cA2f/p/2MA8f/N/w8A8f/9/y8A9f/1/w8A1f8LACMA7f8TABcA0f/1/y8ACwALAAsA5f/5/xcACwADAAsAAAD1//H/CwAXAPH/BwAXAN3/5f8TAAMAAwAHAPn/+f/9/w8AGwALAPX/AwAHAPn/EwD9//H/CwDt/+n/EwALAPH/9f8AAAMA/f/5/wcABwDx/wMACwD5//3/AAD9/wsAAwDx//3/AAD9/wAA9f/5/+3/7f8LAAMA8f8AAAcA+f8AAAMA9f8DAAsA/f/9//3//f8HAAcA9f/x//3/AwD5//3/EwAHAPH/AAAHAPn/CwADAO3/AwAXAAAAAAAPAPn//f8PAAMAAAAAAOn/+f8PAAsA+f/5/wAA/f8AAAMA8f/9/wsAAAD1/wMAAAD1/w8AAwD5/wAA/f8HAAcA7f/x/w8A+f/x/w8AAwDx//n/+f/1/wMABwADAPn//f8HAAMA/f/5//3/+f8LABsA8f/t/wsAAADp/wcAEwD5//3/BwAAAPX/AwADAAAAAAD9/wAAAAAPAAsA+f/9/wMAAAAAAAMA+f/1//3/AAD9/wAABwADAP3/+f8AAAAAAwADAPn/+f/1/wAAAAAAAAAAAAADAP3//f/9/wAABwADAP3/9f/5//n/AwAAAPn/+f8AAAcA/f/5/wsACwAHAP3/+f8HAA8A9f/t/w8AAwAAAA8AAwAAABsADwDx/wMAAwD5/xcACwDt//3/BwD9/xcACwD5/wcABwD5/wcACwAAAA8ABwAAAAMAAAADABMACwAAABMA/f/9/wsAAAAAAAsA9f/5/wsA/f8AAAMA5f/1/xcAAwADAAcA8f/5/w8AAAAAAAMA7f/9/wAA9f8AAPn/9f/9/wsACwD9//X//f8AAAMABwD5//H//f8DAP3//f/9//3/AwAHAP3//f/9/wAAAwD5//X//f8DAAMAAAD5//3//f/5//n/9f/9/wMA+f/1/wMA/f/5/wMA8f/x/wsABwAAAAcAAAD5/wcACwD9//3/BwADAAcACwD5/wcADwAAAAMABwADAAcAEwD9//3//f/9/wcAAwD1//3/DwD9//3/AwADAAcAAAAAAP3//f8AAP3/9f/5/wMAAAAHAAAA6f/5/xMA+f/x/wcAAAD5/wAA+f/t/wAAAAD5//3/AAD9/wcA/f/1//3/+f8AAAcA9f/x/wMAAADx//3/AAAHAAMAAwAAAPX/AwAPAAMABwADAPn/FwATAPX/AAAHAPX//f8HAAAAAAAAAAcACwD9//3/AAD9//X/AAD5//n/AwD9//3/AAADAP3/+f/5//n/+f8DAAcA/f/9/wMABwADAPn//f/5//3/AAADAAMAAAAHAAAAAwAAAPX/AwALAAAA+f/9/wMA/f8AAAsABwAAAAMAAAAAAAMAAAAAAAAAAwAAAAcABwDx//H/CwALAAMA+f/9/wsABwADAP3/+f8DABcADwD5//X/AAALAA8ACwD9/wMABwADAP3/AAADAP3/+f8AAAMAAAD9/wsA9f/x/wcA9f/1/wMA/f8AAAcAAAD1/wAACwAHAPn/AAADAAAACwAHAP3/AwAAAAAABwD9//3/AAD5//X/AAD9//3/BwD9/wAAAAD9//X/+f8DAPn/AwADAPn//f8HAAMA/f8DAAAA/f8HAAsA/f8AAAMABwD5//3/BwD9//3/AwAAAPn/AAADAP3//f8AAAMA/f/9//X/+f/9//H//f/9/wAAAwD5//X/9f/9/wAABwADAAAAAAALAAcAAwADAAMAAAAAAAcAAAAAAAAAAAAHAAMAAwADAAAAAwADAAMAAwALAAAA/f8DAAAABwALAAMA/f8AAAMAAAD9/wAAAAADAP3/8f/5//n/+f/5/wAA/f8AAP3/AAADAP3/AAADAP3/+f8AAAcA/f/5//3/AwADAAAA/f/x//n/AwD9//n//f8AAAMA/f8AAAAA+f8DAPn//f/9/wAA/f8AAAcAAAD9/wAAAAD1//X/AAAAAAMA/f/9/wsAAAADAP3/+f8AAAAAAwADAAMAAAADAP3/+f/9/wAA/f/5//n/+f8AAAMABwADAAAAAwADAAcAAwALAAcA/f8AAAAA/f8HABMABwAAAAcA/f/9/wMAAwAHAAMABwADAAsABwADAAMAAwD9/wAABwADAAcAAAAAAAcABwADAAAABwAAAAcADwAHAA8ACwADAAMAAwADAAsAAwAAAAcAAAAHAAMAAwD9/wcABwADAAcAAwALAAcAAAADAAcAAAAAAAAAAwAAAAMABwD5/wAA+f/5/wMAAAAAAAAA+f8AAAAAAAD5/wAAAwAAAP3//f/9//X/+f/5//n/+f/9//n/7f/t//n/9f/t//n/9f/1//H/9f/9//n//f/1//H//f/9//3/+f/5//n/AAD9/wAA/f/1/wAA/f/5//3//f/1//n/+f/9/wMAAAD5//3//f/5//n/AAAAAAAA/f/1//3/AAADAAMAAAAAAAAABwAHAAMAAAADAAAA/f/9/wAAAwD9/wAAAwADAAAAAAAHAAcAAwD9//3/AAADAAcA/f8AAAAAAAALAP3/AAAHAAcAAwALAAsAAwADAAcAAAAAAAsACwAHAAMAAAADAAcABwAHAAMAAAAAAAMAAwADAAMA/f8AAAMAAAD9/wAAAwD5/wAA+f/5//n/9f/9/wAA9f/5/wAAAAD5//H/AAD9//n/+f/5//X/+f8AAPX/+f/9/wAAAwAAAP3/AwAHAAMAAwADAAAAAwADAP3/AAADAP3//f8DAAMAAAADAAMABwAAAAAAAwAAAP3/AwD9//3//f/5//3//f8DAAcA/f/5/wAAAwAHAAMAAwADAAMABwALAAcAAAAHAAMA/f8DAAcAAAADAAsABwAHAAcAAAADAAsABwATAAsACwAHAAAACwALAAcACwALAAMAAAADAAAABwADAAsABwADAAsAAwAHAP3/AAADAAAAAwD9/wAAAAD9//n//f/5//3/BwD5//n//f/9//X//f8LAAMAAAD9//X/+f8TAA8A7f/x/wMABwADAAsA9f/l/wAAIwAPAOH/+f8LAAsA+f/l/ycAyf/1/0sA4f/V//3/AAD5/+X/CwDp/+3/EwD1/w8A+f/t/xcAAAAAAPn/9f8HAPn/9f8AAAAA9f/x/+3/AAALAAMADwD5/wcAAwD9/wsA8f8HAPX/CwAHAAAAAADt/wcAAAALAA8A/f/p//H/DwAfAAMA9f/x/+X/GwAnAO3/8f/t/+3/IwAXANX/6f8HABMADwAPAPX/0f8jADcASwADAO78fwLbAZH/Pf6Z/rcBMwEfALH+Kf/XANMAEwBJ/7H/UwCXAMH/nf+XALH/uf8LAFsAXwBp/4X/ewCDAPn/ef/R/0cAFwCTAFX/Vf9rAJ8AXwAp/6H/UwCnAMn/hf8jAA8AWwB5/+H/IwA7AEMAhf+h/z8AFwAPANn/7f9TANH/tf8TAPX/SwATAN3/tf/B/zsAGwDx/9n/xf8PAE8Atf/l/xMABwAXAOX/AAD1/+X/JwATAMH/7f8LABsA8f/R//H/FwAXAAsA7f/l/+3/KwAjAPH/3f8PACMAAAD9/xMA9f/9/wMAAADt/wMAGwAXAAAA4f8rABsA6f8rAA8A+f/h/x8AOwDt//X/5f83AAMAAwD5/+n//f8TADsA2f/5/w8ABwArAAsAGwDN/ysAGwDp/9n/AwAXABcAAwDN/+n/PwAbAP3/xf/Z/w8AMwAnAOX/xf/t/yMAHwAAAO3/4f/9/yMA5f/Z//n/OwADANX/AwD9/xMAGwALAOX/DwAnAA8A5f/h/0MACwDl//n/BwAnAPX/9f/5/+X/LwD9/+H/zf8rACsA3f/Z/+n/+f8HADsABwCx/+X/FwATAAMABwD5/+3/MwAHAOX/+f8bACMA3f/1/xMADwD9/+H/JwD5//n/FwDx//H/AwAHAOH/4f8jAB8A6f/B/wsAHwD5/+3/xf8TABMAQwDh/83/AwAXAA8A8f/1//H/HwDt/93/CwAPAAsA5f/t/xcAHwDd/7X/GwAvAPn/GwCt/93/LwBXALn/vf8fACsAvf/9/wMAFwDx//3/6f8XACcA6f8fAOn/2f8TAB8A/f/l/w8A5f8bAEsAxf/N//H/bwAjAOH/yf8TABcAAwAjANX/CwALALn/DwAvAAsAtf+5/zcAKwDx/8H/AAATAC8AFwCp/8n/ZwBXAP3/nf8LAEcABwDx//3/+f8bAAMACwDd/wMAIwAXAMH/9f9fAPX/8f8fAAMACwAHABMAAAATAB8A5f8HAAAAIwDp/+X/HwATAAcA2f/d/1sA9f/t/9n/IwArAN3/5f/V/1cACwDJ//3/5f8rAB8A6f/t/9H/GwD9/xMA/f/Z/+X/2f8vAO3/BwATAL3/AAAXAAMA2f/p/0MA4f8vAAAABwDt/wsAQwDV/+3/EwADAAcAAADx/wAA7f9bANn/9f/R/z8A7f8HAA8A8f/J/z8AIwDV//H/KwADAOX/5f8PAAsAJwD1/53/HwA3ABsAff/Z/18AKwC9/83/9f9PAPX/AACZ/xcAZwD1/9H/3f8zABcA2f/9/93/PwAXAM3/rf/x/3cAHwDN/63/DwBHABsAzf/F/w8AZwDJ/9H/2f9TAP3//f/J/9X/SwBnANX/yf8XAEcA6f/t/1MAAwD1/5n/ZwDl/wMA6f83AKH/5f8bAG8Aof/h/+n/SwD1/+3/BwAHAAAA6f8HANn/FwArACMAbf8LAEsANwCB/yMAMwAXAJH/LwALAEcA3f8AAL3/DwBvAOX/xf/p/18A3f/B//3/VwA3AO3/pf8PAF8AAwDB/5X/hwDl//X/mf83APn/GwATAM3/rf+nAP3/JwBF/3sAEwCHAOn/nf/B/7cACwCt/1H/6wDt/63/2f/x/1MA7f9zAG3/Uf+XALMA1f/9/i8A3wC9/93/jf9DAD8ADwCx/3H/YwCDAKH/rf/B/8cA6f+d/6n/4f/XAL3/CwCN/ycAMwArAO3/tf8zAIsAnf+x/wsA6wDx/w3/NwBbADMAuf83ANX/bf+7AH8Asf8V/5MAvwC9/3X/+f8vAMsAAwCZ/yn/WwBvAdH/vf6h/ysBlwB9/2X/sf9PACcBQwCN/u3+qwH7AAH/jf7DAP8Aof+9/53/4f87ADcB9f81/s3/YwGXAC3/Df/jAB8AKwBl/4n/ewBfAEMA4f4PAKcA3f87AOH/DwDZ/93/2wCR//X/nf9vAJ8AOf/J/8X/9wA/APX+4f8vAHsA6f/h/18AJf/5/x8AuwAXAAX/yf+5//8AiwD1/mH/cwBjAWn/mf4zALMAawEp/6n+jf8XAbMB3f4x/nMAVwHfAL39hf/XAHcBuf85/t3/MwG7ALX/ff5jAJ8AxwCx/+3+5f9DACcBtf9Z/0cAuf+nAJX/mf+rAJMAOwBR/tn/XwGbAOH+df8fAfH/0f9h/9H/VwAzAW8ASf7p/mcBVwEx/5n+JwFbAK3/Sf9t/3MAjwDzAL3+yf5HAPcAYwBF/1cAif/t/8MAef+F/wMA9wAXAP3+QwB1/58Avf+jAN3/Yf97ALn/AwA7ALn/iwDZ/6MACf+x/2sA/f+3AOn/IwD5/jH/7wEnAIn/Sf/PAFcASf/1//H/EwDPAGn/7f/p/vsA9f+B/4sASwBx/8H/CwB3AIH/9wBHACX/lf+PAB8B9f6F/58ABwBDAPH/Zf/F/yMA+wBR/yMAAwDZ/4X/vf9nAa3/mf8DAEn/mwDx/1sA0f85/0sAhwC3AJH/Tf6/AC8BYwEV/pX+LwEnAYcAkf7h/o8AJwGHAbX9bf5DATMCJwBi/QAAOwHvAAAASf6p/wcBkwFJ/8H9lwA3ASMA9f75/18Alf/t/1MA1f/F/2MAkwAp/8X/LwDbAMX/PwA/ADMAzf+h/+n/xwC/AGsARf9t/ysAWwC7AA8Abf+l//X/3wArAP3/Jf8F/xsB1wBDAH3+pf+fACcAEwEx/2H/bf8DAWMBcf79/2X/4wA3AUH/LwB5/i8B1wAt/68Anf7bAIMAAAC1/339bwHbANn+ef95/xsBGf41/48AZf8x/3X+7f9fAYH/4f0K/Z8ACwLF/rn9Rf/F/8n/tf7h/+n93f53AQAADf6N/VcADwFt/hX/Uf/t/6n/+f65/2X/kwCvACn+Ff4XAK4CZwAd/rX/ZwBzAHH/TwATAZsAawFd/0X/CwAjAuMBBwAHAO3/fwD3AGMA9wBXAYsBJwArAJsBpwBHAQMCrgKbAf8AIwGzAGcCagR7Afn/3f8aA/4DewE1/3L8jwJ2BM8Bgf1K/VMBOwDN/YX/dwHmAm/5dvuF/w4DQf+W/Br9kvsd/v8Aef4e/Wf6Of7Z/rn/Wv0D+qH+KwD1/hr7ovy/AW3/7vza/B3+jwGB/TX/Nf7zAJMAKvx1/n3/9wFDAV78uf1a/QcCRwFW/IH97vxfAeX/wvyW/Lr8xwDl/4H9CwDJ/jMAXf5jAOcBPwFyA4cBXwHeAkoESgRfAlkFWQaiBP4EQgNhBQ4FYQdhBU4D4gQCBR4FcwKbAiYEfgMyA7MAuwCjADMA6wADADsAMf+d/03/of7d/03/CwGeAmcALwBPAAoD5gPaA0IDGgPSBLID8gNKBBoDpgRuBGUGRgRR/iH+kgQ9Bcr83vrB/2sCrf489pz35/hd/1kGK/jY7Kryg/p2+wL90gK99An0LPZu/McAy/ju/M782vpvANn+zgQd/tr6cf2XAGkGBgO1/dH9Tv2CBL77Z/oi/f3+Qvy59Mv5rwBB/xD3zfPW+i79Vv1t/zMAof9T+gX+HwLOAiYDvQXJB2oD8gNACgwKLQb2BE8MLg20CIAICAhECPUGMQd4CJEGjgSnAcX/jgPDAHH+Hv2V/y8Aw/qD+JD2z/nV/UH+Iv2892z3iPcH+lsAfgMzAIL8ef0F//3+dQaACI0FygJDAjoEqgMxBtAIqAj1BqX9Fv0iBAEG8QVfAHn9ovz6/O3/cwC3AAb8vvsJ/1X/Gf+W/DH+fQf0Cf77ZfM/Ap8KEgTVBRAKEgNq/LX9ngNpBa4ELwKCA53/9/j7AHIEjf/v+UL7ggPOBDX/1fOf+jIDkgMe/BvvEfT+/HX9EPh19cf4cPdN9I3z0/nq+lr8pf0R9UT23f8aA/b8g/k9/5sCawEW/Y/6VvxSBBoFG+8y/cgSW++f5doCUwHHAJQIo/jz7ZH9UwHl/jgJZQbvAS0GHAqdBoMAqQbfCgsNCRFiD+gJJgOyAoUHiwvqDlQKigMV/13/VwGF/zMAqvx6/NH+v/mN9Cj4Sv1q+3P5Wv1/AF3+DvuS/H8BswAOBGUFJwBt/zX/DwCPAZoD9QZlB3kF8f3q/CMCswEeAwQIkQcWBBH/vvt5/xIDUgOxBTMBUwHZ/p39ZwDh/UMB8wD9/i8CKgV7AiH+Vf47Am0FmAkpBo39bvw3AkQJDQeiAnn+Sf7yAm78Ef8WA8YESgQ/+iP5Fvxl/+z2EfTN/nL7SfS+8En1I/qF9XLwGO1W/cQJ+wCJ6eTg9vuuDl4NWwLX+Mv5lf12A0UFAgUwCmEHBwBd/soEfAgF/jj2YvCa5lflaOxt/coE+/jO54Lcueku/CID8gNHAhIFvQbDCkEQERKoE2IPrRASGFEc4hm1EUQKxgMVBrIOAg7VBUr8ufQq8cz1Jf8AALv6lfR77svuzfRy+xr8m/pZ/msBBQdkCekGBwISA2YNtRFhEeoOSwt3Cv0G9gSmBJUF1Qe/AVX1DeuF6DryAf8CBVb7Y+4N6+rwFv16BEUFcwIbAPoCbQYACT8LbQWB/5IElg39EQ4OtgRH+E7yuf1fDFINAgXC/Av6EvxGA9kG6gKO/Nf5+f2ECE0R+wsC/XrwwvHJ/g8M2g3yAtD2zPch/s4DVQdZ/2LwqOyL+tAInwEq8m/lpOIV8x4NVRGk9vbn7ep19AMBcAgpB/78Uv1PAEH1v/m7CoYOcf0s9nX9ff9aBJMKFQeB/b39zAhbAg7mkMPEwuvtrRyDIT3/COML2Q7cN+9cCTAfgiRzFr0GfQY0E1sWqBPGF88VnBQFHJYiixX6/F31S/B28W4D+AkHAvfvBOPZ39rnO/qd/UD2wPUq/GsCTAgPC4UHwQfTC4wSTRpAH5oYLAqqA70F4woFEX4NLgQs937wefSH+IL8R/ny8ETsCudB6cLyDf4J/+r7vvxHAWkGRAiLCsEGrQUDDOURTBJ6D78Kdvyg9pH+qQa/DGwJ2wEZ9E/vUPZ/+Yr8HwJVBj8CIvwm/Fn+TgQ9BkEFbQdzC98KNQbVBVoDJvxa+0sCVAnvCjYFmwA+/Fb8Cf7w9uLyHfQF/nYEpwHa8UPvFv3d/nzt5ucL77f51wHJBZ77qOur+gYORAn7AMEHNgRo9lMBVBQtEM0FRvwf+Z/4bf7xBk3/cwEpB3kF1f2n733eY8Xcw7rcagRoHQsL9em82PjgtfQCBPYYaiKrH+oZ3BQGGYoZ+hkODxQK5xarIEQf8Q9l/QXrO+Wa8Br7VwDe/Ifuu+OS5inzO/m++0H/ff13ATgKORFZEYYOfg/qDfER2xULFtQT+wtjAs/45/kB/x3/xf0P+QD2TvEP747xOfMr+df5V/og+Jz2u/mW/GIEKAnXDNINxwrnCnwJqAg5B/AIuwyzCugHUwHD+G30bPZx/kMBwf6U9tfvkvLk9ln/6Af6DdQJhwELADcCGAi2DsYOoAn5BYkHmQUfAGX/0f4K/Wr7G/oD+k3+SQZCBIX1uerg7GP4nwAnAPX9Svx6/Db7pvxeBBMLdg3R/3bovd756hb8fwIsCgoORAjKApv5Zuhz5Yn/Ig+QCD8LQRIuA7ftS/CJ/XQJDhgpEXD2LPZ1EPwc4f/ZyVyZ05tk7IUvyCgq+4ngbtum0hzjNwz0MtU6fRyDCnUb+DEJJ+QHPf89B2oZhi0vLI4P3eqg12bRatxL+I4OGg9t9ePa/9iP7jcA4vx/+nMBcwzGGFchbyD1EX8Ch/o7AaEa4i0SJLgIFPdW8bfumPUbAD3+xvI47CrxC/p5/WD3++3t6Anq5PU7C1gUHQcP+qP5lwEDDEwUeBQQCl8Chf8VBpERpg9rALD1n/g49xD2kf2rAL/5FfTz+HL80f3J/8n+tvsC/AIDfAm5EUoYeBLVBib9sf7yBOcLNRBcCUMBZ/oE94D3APjl/XcBYgPx/2f67Pb28JLxg/qHAaH/of5GA4MA6PZh9HP65QZAFLIXnQWH5OTW3ODHAZYXgg8T+mfvhvy2An8B6wvsB+3+b/p7AckPhg88Cmn+Q/oh/+0GiQdFB9QURRKG3DCOAYCf2bQyWDL7+bbb5OKO2+3TA/nwMX06rxWjCkQoJTs2JO0FawB0CXAUdiQhMDchNvxj2iLJk8+87OMKlwrs61TY/uXe+uH9xfQx8/b6PgT/FTcsGS8aGZ3+K/isCHoi6DGkJ6INm/h+8B7xDPgz+RTs2d4z5G7w9PdQ9pzsjeDv2Zbmbf8aGr4iABS7Af3+rQdJEMwepSWBEdD2NfN6BMIO1AiJ/gLxl+Oz41Xz4f+x/bbxiOzI9UYDWAkMCcoEyvwj+ioE1BT1GqATdwqeBKMBbwLpBdwIyQYLAUH+CwLNBwYFu/oZ8yXzYvutB64NbAgnAEr7evtrAB4FiQZvAbL7Vv15/w8BFf9l9dbxof1/CtwJcf6J9c76Af9P+Gj20fRI69TrIPc3AhAKZwydBgj3WvFy/OICKgU8CM0GQwAV/6sBXQWzCtQJ5f52+6kHZBSaFyQJe9mOnf2Uy8+YEpcfiQYd86vlWtIUzcbx/x8qI1MMRRCRMXg9fCgsFNwIJwDqBO8fxjgcMxcXYfP11WvQuej4CBYOEPYU4YPjaOvf7vD3gvyE7LjhoPZxGtcrXyFiDysAg/oUCdMhni6hJgAUygJG/LICVAmRBYn0x+WJ6gf62wGi+wrxrOKV1evaavJbDAgU8gJ07bfu+f2TAtAIwBOREQQIWAlgFHMXuwyQ96XpjvCpBS4YBBR9Bhv6eOvu5pvuzvuVBXkFJv1L+q4CEQabAO77Zf3J/7IC/wxHFhQUHAlX+oD2AwI0Cu8KFwvACPoCdvyj+q78pf0e/Eb8wf0KA/8KxAip/+f4xfQN9Rb9RAk2Dy8LdwF7+fT2u/li/DMA/QWFBbMBpf6d/v3/6/nH7qjs5fP/+GH/1QbhBnn/zfRg69Puff+hBXUGUg18CRr9WvsGA40GzgOLABsAWgNNBjUGOgOfACX/hf7LADP57uYd36XfTd+46y79hwGc9mLwJfXU9ZT33wHbCjMMOg2QEw4ZiRumGcQU+g39BigK+xQKGWQTnwzNBRb7SfQ49/b7G/os9y/5O/ro96D28PXx8xbxSvK/+tsBGQaDCvgJ4gRXAhoEAAiXDHYPORC6DuMLqAmUCPEGawE+/XH+VwAnAKH+YvtY9gry0vAN9EP4r/kc+Hj3q/i7+s39If8h/1r9TvzN/V8A8gP4ByYFnf1t/doCsQYBB40FEgQ2BE0FkQWFBl0G6wGJ/UX+MwIGBBsCmf4u/Tb8wvy1/l3/Cf/Z/nn+vf8/AroC+gL/AdX+Vf+3AYIDqgRuA/MB+wBl//X9lf31/WX+Zf5Z/8sAkf/m/Iv6K/nH+ar8Sf5V/jn+Df+V/qr7H/pf+ib80f3R/ysC+wHN/yn/pwA1/hL7gf3N/lX+SwDvAbcBef3e+k79Fv1+/JX//wHl/9X+MwCvAIMAjf9x/i78EvxfAPoDSwKvAO8BxwDZ/64C1gPPAZX9f/ia+xn/SvyK/Mn/If9m+zr9Kf8e/Sn/xf82/RcB7QbxBTIERgT2A38BGwA+A7YERgOSA6oDUwJaA84CiwBp/4sA/wBl/1MBwgObAYcADwHDAAsAHwHCAmsBRwFPAkMCDwITAlsB4f69/wYDpgJLAZMBlwHN/0H/cf7d/tYCXgOB/p3+LwIp/0H+NwLfAFL9Pf+J/mH+/gIbAp39Ef8DADb9Tf4fAAcAOwIHARn/8wFjAeH+/f7h/0n+zf0LAZcBGwEjAOX/BgNh/iL9YwJrAHH+HwFt/2n/ewETAXb7if4hBo3+7vtWA0sCEv2l/aIDPwE9/soD8f7q+6YCkwBR/hsAEwBd/sH+7f/K/O3/cf+7+DX+pwGp/WL7Fv0rAZ3/Xf9t/mX9HgMTAI3/cwLt/rH/7wEfAh3+af+SA8b8Jf7aBGH/ef0N//n+tf7p/scAUf7R/vsBd/oC/Z0G5wCt/icCif7h/8kF2gPm+gcBsgSb+lsA0gLB/64Cw/mbAQYF3/kCBHcCHvyuAun/0f7R/YcCjgSz+g3/JgQ/AH3/PwH3AaL7KwKJBX77pwFzAjn/dgSZ/pz32wG+Aj79tgIPAVr88f2ECJ3+5/gtBnIDC/nmA4YEMfRhBwwJCfTV/toE5gNL+TX/UQdv+s8BFgPp/k798QVHAY/5gwLRBfz32wFYCAHz7QYkCrT1bvzjCgH+j/h9B0cAcPbeAvAH8PbB/rQJv/pu/IEFsgJX+MoCYAns9b3+6wqR/n/6sQcPAEf5mQW+Axv5x/qFEUP59vC/FVz3pvLFEU/4YPbaDtb8+fKHCwsC0PUYCen9cf/kCBj2if5QCdD37f8MCAT4ovvFBQr7lwEyBQT2NwA5B+39ovx1/13+fgSy/Cr9BgTWAiP6UgR/AD3+9Ack9nkFMwEG+4YES/qqBNIEDvx+A/z3Jf5VBYL7IvwtB178ngOFBbv5iwCW/JkHpfNPAZgJfvH7Cy4EgfS1/nQJwwAJ9ckFYgPaA2n0PAih/3MB1vsh/ukG7vLoCXsBd/qzAZn9GgPi/KYDmf9L+CcLif8r+XQItf9a+3IEGgP+8VoDvQXXAR/5NwJ3AnP4egMXAIoDHPhDAi4Dff6NBQz2+Amy/BP55Aks95n/FAlD+Uf5QRFf+nX0iRC6/Kz3lf3sCJ39K/g9B+r8jwvO8nIDxwot8x3+kwrp8xsAmwyn+V79PwFh/oH+4gTF/ar7Bwst9XsAcAhJ/zP4qgTmAnn9Cvw3AdYDRv3O/LgI+/ny+wcC+f92BPb8ngLH+roCbgSq+4YD0Pd1Bt/4kAmu+1sC0vzd/a0HhwDN/c78hQeC8ssLSwHE9TIDmAjq/Fz3GwGHCisC9+3BBp4EdwIv+fn/6wz/+frw+xVR9NL8Og468q8K/vsPAPoDnPY0CTb80wFuBGj2fg898678WBPJ6nkHDv0CA2gJluY5Gq3+1eg6In/lmwD0Ej/uwgQ3AIkHCv0z+LgJ5wFe/BT3iBRj71P6YxXx8wL8OQVxBW/5cvtJBZ0F0vFODpXzAgNyDgflrhcQ91D2oBOQ7Z0HYAlM7fUPBvJ9By8BH/p7AVL9lwyQ9of4pQdUCt/tMg4r+eT3MRAq8jcBygRV/4n9mgQ7+nn/swDx/6cBUvsiA6EG+fNS/FYNIf7y+joDIwH09g4EaAj6/P/50wGh/9sAqf7OBA77xgIKBLD2qQXnASX13g3T+Pn+qwGq+2kFcwFd/pv4OAn6+uYC8f0V/6kGC/lZBTv5ywvU9hQK8PfB/V4O5+0VBgYDlf33ANH/Uf6P+qAUrvDa+2cCcQaXAXH0mBSr70EFTQUx9CwK/PcFBrP6CQcW/DX/TQXP73AUJ/pK8r0QG/oK/WgJsvyG8hMXB/D+/BAJ/vq4CXztrg0ECv3oKQe6DhT2yvsGA0oE2QVD7i0HlwI/+IoPX+7mA2wSUOKbDGcMw+91BsYC4Qac6/AJgxUG3VIPIAoo4mUaYQb2568Mm/ohB/kFH/AiBaQI8/jyBFv5OApy+yH0Rg4R9Y0FX/rECRD4Lf/pD0bmlRvC8ND3LBNi8M8MyvrSDQrnYwv5BjDtTxWl6RIOxfQICUv5xwCCD1zi2yCy8OD1hxX59K3+4QUM+PX/zBJf5D0Q/PUV/qIExf01BtsB8f5O57go0OyF/yoEd/huDhPv4g659LIDXgT6+5sA6vJvDIUGHuanFU79VPeHC0H+tPbECSYECvGcCa/4rAmc9q0FAAmg7XIPdvGgCaMKGujKDk78iwAnC8b75+1GDc8BU/qYFB3Vahl6A1L8xwDy8f0bK+RuDwX+xPZd/6kRxPfd9AoZoelCDbPvDBS/+R3+6vx9/zsWR9o8H3LybwKuBNf4/wvF6hcWzPZH+DUSYfPx/nIEOv19/5MKueinDAAApO2VL5zM6BO1B0HqwCf91Y4NhBLr+IzstQdVGmng/g2xBfbxAv0/IDrnA/nMHGrRdChCAxjY3B4D+uvtphhq/N7yif4uA+QIt+2fC5cAdvzJBub6pQYI99wJd/qfAXcLe+V4HmPuAvvnC6n/DPhh9ecWqucfDLYCBwFu/BD3GxZh82EFvgJi51cWQAqY4m0aXPZo9vsWnOxcCrPlAhqmA4noyi03xskaoBKU4jkRifWnAK39uAmG8lYPl/l99WsVL+XnCsr6Cg4AAEb9Sv21/nEa99ohEmkGhOzdEC78c/lLAZsKDepyDn8KXO1DAHcAYQfOAgcBjucMHrby2PWkHTnebxco9h0GXQVd4P0vAevB6Hgovd8REboC2vE1EqbxbwCwCEztRBSPAS7oWB2q8X/6GRLX7jUHjg7a5yH/SxUF6v4Dkwxm8hsBGgUnAQrxYAlJ/yD2ZRAzAorw3RGR/TX00xVF6mX+iB6Z6Nv5DhoJ6eL8KRAJ9Vb7XAgDAov4uRGX44gJ1B5L0Foiw/hm8usUHOJBEooD8fPiDpX0JQbjAMn/5gJP+K8BuBOX5b0FrAiS8kwTAucAEzn0Y/iNJpzYxBTd/S/v+BPqA7L7suczFzMC+/gACSX0nf45/5cBZfRnFxnzXfShJRneWgNYE0/jRRGvCvbmQhhk93j3qwsS8qL8nBLXADX0Jg+n+qb80gKmAgn/JerSLKbdYxUx9BPwPyFa3QcXNvKLAOQJLuivIYrnVvxtHOfk7xW59GbnQxf2+qcAdg2s7AoDrxWX+aTtxwyb+c8BsgQG/IoNI/odBrnzYvzNB2fleyEi6AkGfxaJ1ccgrPey8s0Q6Qa37g8NbAh/5BgT4wCC534jd/nu5kIO6f0ECpnqWBIDAtfj0SRLAMrR5jh56W3f5DwV3m4DfQZF87kcE9rEFL77lvLwEhbxVBJU9i7ywRAM99z2yxXP+GYDcQWB8/zrdg1+Du8ATvJcCJ/vnBInC6Th0xWx//sBMwI65uElI+9256E5XMylEUsrubWoHoYNS+OCGXrx8g3S3dYEsRvA4hgUoQdq8AUGAelgFKgTvd5nFY/4/wvL+ObyUhhF84n9awzD+bXzTQXcHbHVMAj0HDjWVRrBBc3ejiRy8GcBXv3H+OERQuc0E24NluddEPXqYg1HFvTWMRCbC47dGg6pJOTWnQXnHyPb1wyiAy/w1hnWA7DiHg6aDlHqmf+xHKneAwKyDen09BNF3wcVWgQx9Z8LaBPx6rPa4DHc7Av6WRqS5q78TvtdG0fvSf/OGGXqbwEPAnIDIf9g7TIFIg+F8+EPwQXz4+MLtwGQ9WkQEwFG52oYgAkD5U8ANhih6U77DBNZ9Hn+tg10Cc/ZAwtCJMTCFhmPIefjvQ/Q9UbytQc7FcPkpxU7DK/Q6SWbAkXp7OEZJVkF++OVOTjWIv29G+nfbwHECR8WJOyS8qkaIPaY9hsWANdAExcWUOEjFaz3swD1D7rmUQXPDALoWxed8yT2KB6g6/QJVf7n+A8BRAgX7sb8Phmt/tL61vrjAJr70wxDAIPuowpdBbX/KPfKA+n9ZPZeDWYEJwLOBPfvNwJXAqvvPAmrCvLwDwwZEgDhXQZKBKLxyRsg7Z300wzmBB7ycRCXDNLmpgSgCNYEyehuD5sWOM6WGDUR7d9FGgryAAqJ/gP6zwA99DEQsfSS/GIPoPUzAEgKAwBK8TP6CgQuDUEH4fNV/5n/Tg9o7f3+Fxaw4DQTngOs4gc10Ncl/h4j39jFEVsAOfU8CaoEtwFfAlb8zgT5/T7ymQfE93by0RGF/1EFVwBTAsLyqf37C278uwEF/6T1sg1zAiD2QQX7AOL8Og6s7I8LkfSh/+cLKv2tBgn+7/hL+lIYnvCu8ucMRPdYCqT3/gNuBKXzXAp+Dg/6O9sAKcn/OenREZP4WwIfAu30awG9Bbr8afMWGM/usvGfIazi5wsbFSTj1Aj0EzbmRQYGDgj3DPcZEq30oPb5ERf6fvuPAhr8/vzt/YERkvKG+74Zl+7x894ZNO3qAuEPY+OHCxUHgPeF/rYNjvv9/pMCLvzCBOXqgxWTALvu9BMP+o390wE/ARH0cgTECfHyygMsCtPlvwxDF87mPAoeBDPv3xWU9qICWAn+5jAJMwB59YcWW/pW+18M6uclEvr8IemiGIL8b/iNBvsBQ/quAjcABPceDv3yLf62BEH+hQVSBLf67wGJ/okH0f2F/r4Ej/m6/BIPufNS/aEFfvI5BSIFtfMPDLkHSO09EL78wfOp/wMN2PY5/+UQgvEhBqcA7wGb+Fr8Og6P+MYC7/gh/wwTw++x/5QTV+5G+4cMkPdv+rASE+46DSb7CwHX+Kj1cBOfAFPvwwweDcnpqQYaDYjhERKmD/Hplf6IErD1/wF1B4Lw4RDQ9Q306RDQ94n0cB1S8brxMxb19KIEawAdBjD3Av1/C8L7k/kdB+sAI/mLAdAICvK+A4YEGO0fDDsCUv1ACcLykBJ090n1Wg7q+p/66g4U97LxFRIKAy31y/l3FyLyk/lFBcIEWPdS/OwS/Pf99AQUsPZi8e0aifXm+6sKQwDe5xURSf7m8oQTefMrAKAUkue/AcAUGvFB84MVtPcf+gwKnPUa/E4PewLX7jURnf5F9MYOQf589vb66wzG/N3z4wr9BirxzgNgEwLmgf0YFCfu0g1s9jEH6wGv+TMM4uZZEFH+KPZlEPcBBeuYCc4Na/hP+dIDkwCJ9LMMYwDk9fsMVvsC8fERV/nf+dYNt/mg9Z0bVvHh81UQ8fP4B1IECgUP+Un+AAkA92n0OxbH75T1tBKH+LMARgMvAQYEFPZSDrTs4wpG/NsA1wED+hEHHPaiDXT3k/p5Bg0GEfVGAxERevA3+kUR4PYz+ZIOjvBWA/YNJekREH8AEfVGA2MCvvx/AY3/7wH9BgX1rgNICFr8a/kACA77zf0vDGLx7Ak4978AZgQ19JIPcfQAChf6agQKBYX0wwu7+QAAm/kNBj4E+fIICMr8rQbsB1ry1PYeDbMKEeu2BDkR7ekvAYQScvIY99URFvz5/cQIl+4lEWP6VvKeGQbm3f8wE0PwuwtpBfj2kvyJB8H+8f+++5P6GQb2ApX/CfWiDk3/evDOF9LyBvLNGh/6hPaY944NWg2+5+3/6B5I4Vv4hx/X7ccAkf0yD43q4wCZHA3fkgRVGjfu2vKQFAIDMOwGDvkFcvBzARkRJ/AkCA8A9+/3FK78D+66DUgKbOJfC6EQEPY/AAz2kRGh/qTsPgMxEG8Bx+5SDtr7sf7q/LcLoOxiDZwItOvZD8/43/hMCnD3kQdC/UL9hwwZ8xcB+gKJB/P5gfTpD3/4U/k/FebyygKTAlj2UQfK+qkFrf9J9GYP9vtX+LH/SREZ6m3/jhe28gT4twsB/y7yeAmPAN0FEv3X+dEGAwEC/eX+agR2+0XzoBJa/WL9hf7l8wsVUAiE4jsLkwxB83f5mQYyDt7yavzhDwH0tvwXC2D2KwE9Bkn0owzL75cLAwDp85wS0PbpBi3z+wqmAqD1SQa2+3X9Kg5Q7CQITRDN6fsBeBQG8VX0yBw96Rj4yxbXAdXp7AnIFNzgjwKzH0neuf+tJrHfT/B+LZTrUufIHR4FD+TxBtkbpOHg93QpHOJa8ikc3f+e8nz2kB359Czr5B6Q9fj2jQe5/Qn/0wDZBQX1oQbV/bX+DwzN83z2/RGB9UX+IAkC/KX+Df48CJMCXPZTAP4E2wBj+DIOKfOj+cURgvIkCDD2MwB8Eg/vxQcd/rr8PwCG+x0SO+/a+1MWVfQd82kR/Qb96Y/4JB4B/7TXVB6KGLzNiQVmNzDOm/rbNS/PUfXdL7T2yco1Oiv4odP6OJflIwHLAbbyCxW59HD3Qg1C/L77mAn7AELxOQdYHWjXcgToE5v5rvH9Bj0SNeAWGjcAL9uRL0fvFvHbDKr79AkP5Qokaf7z2IcVBBPM633+zQ9n+C/vug2zFajYrAmQFOj3ifQjAN8Vu+4g9kESgAk23JwT4hejzqkkXAqUzE0mxQ9QzjsguQ8gzSkb8Rqh00wT5QZM97YNZvFf+TUbtO356hAyuNY1/iYkZ9uVEa3/AfMOJODgGPjmItHepwGjFrfuuf5mDlL8nvuj+U0GIAn09a/4fgMJBioDRfUWBHkGuvH/C8MB2vyL+voE0AjL7hn/yBT09aryHAp9EcvvE+8wJ6XoXuaTNY/ZvPX3NELSIv0LKxng2/g1Je3eGvx3IUvlkg6J9e7wDyGF6nEFKAnH+Vv5oAgvAAn1Cg/o7FUH2RBJ4LERVBMX5Nn/qxYw67X95g4g90EFJvvz+YkGGxWE7Vj2DwznAYP58gNZ/v7wVxdB/vvtvBOd/b/lUSVI9t7b3ylE9qXqcBTBByLx5vpAE/z3nvKwEjH+0fMwCh3+ovwi/UcMU/oU7RgdhPc3+BAJ7PUlBxfvyBJ1BermVBOFB2HqIwAUHfHoBwIiGLbbeg3LCs/tjg7V864NTfWt9KQnu9q5BlIY9d7KAokbSujuAsEPC/D4B8D2aQZnAobyMg9O/CsC3f2q+8sLP+/oCRYFtPbu+yIDvwzW8vX+uAm/+aL8Pwsl/gPwBRH7AJT1rg0b+vvvwQX5EO7ynvxcE3js2f6OGLHpogJACTzr4Q/l/Yj2aBRE7aMK4wE49wML4PVp/woOQ/ro9sML5fMfACQUsvHm8OgTkgMw7bcAtxWX7yj36B247Pj1FhiQ9S31nBP09+LndSYN9Rzigi168hPkJRtXAUH06wFiBDX+8fP3CzIEuvIyDqoCVenvFd0GJ+QFElf6gfV1EMT3lwK7CoXoXArqGUHfnPXaLQLcl/koKLbbJQcAHTvlXvtXDLL8rvznAWoEbf0y8hAdzvLj74kaBucDAs8VyOuy/EkRs/kr+O4EnwxN8/n+7BOE7O3/+g6l8+T35wvm+yL87Aj59P0FWQdK8RUSwfQ89/sVgO2y/CAdZPf/2nMf2wzr2Roa2gJC/aX0twBMEojtdvIUHXP59uZ2GIgJbekkClYD3fQBBmMBkvzh/ZwSCOz18zI4cNZG5uM+H9oF9FUaufMx9KIOHAmw7FMLbQYA7MIOagR59UYDxvw+A3EH/+1nFQ79Et2EKAoDUt16D44NlOuJBp0HEwGl80AJogSJ6TER9QaX+B776wAFEFDtT/qNGnH0fvA5Eif5lPX9EZD2lwDx/179ogQC/GEHcQdb790Gvvu1BvwHremJB9oOzeo4CqoNkOKWDfMM6OKTC4oNtvDmAzoPaPaL+AIPavFqBPkRCtMBHFAdg9BkCf8VzvAv+JcMMvt+Awn+v+0dHBj4K+9bHyrmBf4RHDTse/o6DQr80AjU9+T2Yg8d9KoE2/l5BoUcCdap86QznOIv7ggo/epu8vEaffT5878WifSK8aIZ4fRr+lgJlf7cCQXplwpNENbm1BKI7Sr8ASWM4a3+oRCM9wL9OQcG/SL82f2+Ak4Dvf9CA5H+LQc77hX+rCef0CL9Pjec16zrii4M7H3paCdc7UPw/SQT76/v6xZQ9kf6PQXaBNDsIQZJGw3rEgSBBj3z8wor+mX1hg9B9dsBtQZT+NcK2fOnC2sAUOzQEh8AxOI6GIMWbtsxBzoOTOz1Glv5qOI/F1wKv+7l/cAIgPf+AvsBevzxBmoDGPdjAioFrfMvCxsB7vBFBk8Lu/rH+KoN6PbS8PERhwLR/0/4m/qKGOLw/vAME1X1AgXLDPDr3AlICJvuggTt/kkHc/rJ/kgJcvKLCi79/vvOAl4DMf7n+IsLCgN87QMAeyDW5u/vUCno6//tmSVA7UPlPiOp/dPZPiJtEEHUthfTFnnV3wHdJbbn/+3MHWMBD+TrC3wTpOt6/PAdod+vAEUmN9sLAHoYqvGJ/WsCIgWk6xoNNxXi5+H/sRFo6/f52xZw7CX/xhnK+k/uDf9SGbv4YtwtJs8KK8V8KWEaeMLjFYElOtMcCLwdtOGBBpQJ1vKHAXn+1Q/D7dICzxZ+5+YDSBTY1tEaqxUT2wML/gKy/HcKBfMTAHMKn/rSBG3p2Ak4HS7SqxaIFNrcFg8WA2/6YAnbACDjeRxmDhXWyxbrCrjrKf+CDSH+N/nCA4b7hwG5BTH+swDR8zsM9woN4HQT3BMP2vcL0Bzb5eLyyB4O8sft2hhd9U3/bAhLAEv54PaeBAMNBPgHAQoPCt5cEhcgBtPN/okmjOHC8vYsf+XZ6Osq/PZs4lEcmvJO+2UcT9sxErUa+tGME1YPO+SrFfT3tfNoFH3zRAkeA3jh/xTtD77c+xX1BYvvfQb1/W4P5+0HALIZPd+gCJwT/d7zFqgTHM77FXMfftxx/XYPyQaZ6f4CCAo3+toC2vsACCn0ovu+F6D3cPciDoXzfgMWDnjsXQWUCNXq1g3VB130gf86A3sCJgRh9YP5qRCp/o7ynAhtBhXzDAqXArvvfBRD8Ov4JhkB9ZDstxYDAWn13wuv+dz1CQcYFMTh2f9uItDhYwDvFEX0k/mHAbEGhf3W+y4FJwCA96ML5wHJ81AJIgTx8kj2JxW1/Q/6AgSn+VQJt/je+vcKUPZGBGYOlemjCuMKqd9xG6kHoOFLFrL8HepjINbwuPUrFuoDNtydBUUxENj16X43GujP5YwosfMv7tkPCf7H7w8VDwx91F4YnSTzxagUuheR1FYYUQZZ6QQT3f/f75INVvtm/HMBvwzS8gLykRrJ/TLyPwx0CITrOwKpEJz1kPZLAMYZDPjE4g4Y9Qa256oOTQdi8OoCmwC8CGH/9+4YCYgS2epd/2MV1vD187UavPak6wAdN/jW5lcW4Afl6JMM3g6r4xgImBSZ4PkQtQe84Nkagg0W5nEHewJ/+k4EiAh89x3qSiTK+jnqZBNN/1Dr8AfvFSjix/pXKubc7f5aI07dzwwSDSXpTQe9BUMArfMECOkPLeoLAocL2vFBB53/PgQr8PsLjBKg14AS+Ru/2aIDzRqB6KX/6An89SoDuQcHACz2Hvw8CEsAtvvfCkj3f/ryGLrnPv1cHl3pXAn189n/jg0k7eUGNg9t6dr67yBi8uLy4RF6+2L7MwI6/XgJvf7Z6vUb7vxS6KMWW/r28cgTmf1E45kRUAqc65URFv1L8NMW/vw3+IkGcPeACab8OfU9EE8CkfRY9ncX3wHM4PsVLQfV3iUbNgWG5gcWMf+z+EsCzgIS/Uv5tAlt9TcMqwH865sWs/jZ6H0lwvzQ2IYtc/nX2f8fTwF96Q8NRg4V6goE8g5L5GwUvQZS53IP+wxe6EEFaBOt6bMBIxUH7hP6NxZf+oPupAgOBQoF2vGt/qcMDPgZ/nH+Ewzg9ufu1RrJ/onohRuD+NbxpxZg91r81gOR/fb7ARLt8+DscB4o+KHqEhjF9On9jg9E7XkHFwvT70QJtgOq8gsCqwyI7F0QfQb/5G4ZWPev76sVrPb3+CAKTvyG+zwJOwEL+VML8++fALMWZvGB/twHR/liBCYFoPW7+O8UXfQH7kMh0vL/4zUm5f+T2QoYqBPU4FEHNhhU4fAJEhoN1AQJtS9zxR78UUSDzsPltTvH7gvlExZz+j4ERfWn+mkc9ekGA1YPtO1a/eUQTvzp6AYaff/h6qwdwPah6AcgMvzR6DYP1QfL7zYFKAqj70AINQbN9AYF1wCU9rMK+woY4YkGtB2t35cK0wwM4ioYlQfh6TgIjQYo9vn9pRHD7UIEZg1Y66QIGf+h/4UH0Pbh/4QJhPd7ASUHsvFDANgTs+7l/QoZQO1z+bsV4PZ19HQIqQYa8TsC0g3W8OYEhBIp1lEcORK8zdkmXvwX5DIkoPZ54IsfVQcc4Y0aof9r5SQU/wFS8o0HQwJD+cH/0Qai/LMBSQck9yv6vQ/f+cH0gBRq/MD1uwp5/5P6ivzTCkT2GwB2A8L7gg9u5o390yD56Xn0qRsH+hTtMgM6DmH/KfQYCgIDlPbo990QOwCg7EESwf8c97L83QWXDKbwQwAUCdr7ugLKAiv6VPfnDJX9EfPkEtb7svKnDHn9agPqBPj1iQbT+In95RGZ6k8CGBRO6FEF2Alc9g4DXwA/AYD2SQdeDtPlWwLzH//jUfSZJWDsvOwjITD3a+WYFAAKf+9ZBocB0vyzAQn/Bwwk93j3VRGS+/n07gQWDf76EvH9Bm0HXfSrAFYPufTm8uUQ+gMv8OEGgQUV9F8AZBQS8T7yyyH98yzsjRo+8UT2tREJ9Ef5Fg57AOr7vQfg938B5wwc68QJuAmG8g8BcQei/Pz2JwwHAdLwKwzTAST2mgMP+TkG/Akp9fX/lwrN/uf4ZgQ5BZXz1wHyBHn/Pvzq/J0GTQYU+B/vSxcW/VLoyREICdPvJf6ZEbf5qvEpEV0GT+9LAGoNHvzq8osKYQfN9IMAlQVz+BoF9Ak37pMBMg3y/GcAff5R8/YOcQc87IcBHAnV/Wn9sgJx/k4DDf/j+e8AHwB/AgsCs/oi/esBvQah//76Gvx6A4IElvye/IoEUgSXAXb7/PY5EUr9S/BBEPX99fO5BfQI8vtg9jQJ+AcY7R4F1REd6qT35iI89t/j2Rq/ABzr/wzwCWrwrvwoFEbx/Pe7ClEFyvqk9o4NCf/a8rkF2QZO++b6qQfK/Kv5uQ+PAeryjQYJBwD2if+OBG8A0f9X+m0FgwAc9uwJTwJq8usKLvtI90EQz/na+o8B9f7cCKX/wfPoB2oE4eqDFrYEMOJgFFAInOzbAfcWg/h26AcXvgRl6bkGZg8l9G8AfgTA99YChQay+3v6FwFzAnv52f7rC6b8I/l1B2oDKPhXApwIkPZ6/JsMFf7d9PAHogM3+I4EIv2HAI8A2wETAG78tgSnABL8GwKN/cb89gPvAbf5/gLOBFHzVgO1Bd76/gIi/BUHRf86+/AHB/o2+8sMXf7M9Y8CfAmPAkz20f1yA9AI/Pbc9TES+f4v7ssKTg2G8dj2gxVS/D7oqxbhBk7nLAjSDZryMv0mBYcA/f47ACv4zQfwCbLwRwAGDhn+OPaYCeoDifN7AdMKR/mi+ykHjwLL+Zf65AgWAyvvpwCAE27yW/hGDTP6CwLuAl77mgMp/0MAvf4A92cM7f7Y9qYN+vtd9FgJ8Ae89cf6CRDrAC3qGRClB8fvGgR5Btr7Kf4HAoX/x/iCBGEFUPbGA1H+/wCRB1HzKf/HCgr8jQUz+sv4XwuTAcL7EvzKAxID4vyPAhL91f+hB/L7JPf0B/QHM/ArANgSCvJi/C4NxPZP+XgI4Ad/71MBHg6F9UL9cQYXACL9KvwwCWr7afUVEmX+9fIEChn/6f4p/1sAvQWA9p4Cnf+6AnsBePfFB/oCwfPnARoFUwE9/lv4gwDsCH39uPViDfIEC+4CBfYNWfUi+68LtwBu8aYCvg27+cT3CAo1/oD3uwrKAjb8i/rLAJUHQPa9/0gIX/qq/Dr8jAivAR/6MgMa/LoEyvu2+9EHawF6/HX9hgSZ/YMAzQXa/A/5AQZ3AnD2egRZB+D39wAiBV78JwCVBgL8xf+yA2X/TwAe/Sn/DgVB/r/58gPWBLv6kwLmAur6ewLDAUb85gJXAY3/hf7e+50GEf66+5YEPvtPAaYC6PfuAjcC3vxLAT8C/f93+pcBKgMG/cMACgNB/oX+hwDS+28CDwEP+YYEHwAC/YEF0f0rAcYCWf6LAUsBHwJq/LX/ggM+/A8BcwIu/ZH/QwBTAOH+MwAfAaMAgf83ASYEjf/h/gIDLf/x/YsCfwFy/I8ABgRi/Bn+CgNZ/3n93wHaAjb9pwATAjb9Jf+qAoH+ovuPAKX/LvzPAK3/Fvyp/8cAhwBp/zsAGwD1//H/of0DAaICff3Z/fsAvf4Z/1sAxf/l/oX/2wEl/439dwLyAv78TwACBGn+df8WA08BTf+7AY8BOf+2AoMAMf8/AdsADwCl/zsBdwBrAKsBCf/l/3cC8f4B/gMCIwGV/ln+hwHTAQb99f/bAWX93f4DAZX9Zf8XAVn+Uf7LAF8ATf43AJH/xf+h/hn/HwFZ/in/qwDh/43+TwCzAEn/UwAPAU3/GwB7AZH+owBvAdX+/wAvAen+7f+fAScAOf8/AV8A7f5nAC8BRf+d/0sB1f+9/9cA9f89/3sAuf+N/48AVf9fANcAlf83ABsAlwBrAGsAvf89/+MAMwCt/93/0wDd//3+GwE1/83+QwCp/7H/Yf/5/zn/vf7DAFn/kf9jABcBcgTF/Vj3tgKFBwX+kf36ArH9ivtiA1MCTf65/aYDtwFO+4H//gJfAsH+kwA1/psAawJJ/oMAjwBjAGX+/f6F/58A+f+1/3cBEf8t/+cB/f8x/y8BtwD9/nX/9f/B/83/1f8bADMASf9DAI8ALwEfACn/kwEvANH/2wBLAFMAvf+/ALMA3f8Z/6cAXwHJ/q3/DwFTAGX/rf8DARsAlf9bAOH/If87AD8A1f4p/ysAwf8p/ycAiwDd/2cAcwDV/8X/YwBrAL3/Wf/p/8n/wf/9//n/JwCV/0H/of8vANn/qf+XADsAgf8PADsAFwA7AKcAOwDZ/48ADwALAC8Alf8vANX/vf9bAFH/mf9bAMH/YwDZ/83/uwDJ/wAAAAB/AC8AVf+rABcAbf83ACsAlf8XAPn/AwArAKn/TwDN/5n/qf8DAKn/bf9DAOn/vf81/wsA8f+J//X/6f8DACMAPwCp/zcAZwDh/6X/+f8vAHH/5f/HAA8Agf/vANn/Vf83AZX/Wf+zAG3/3f/PAIX/zf+7AAcA8f87AKn/LwAXAa3/Hf9PACsAff/t/6H/pf+3AMH/sf9bAPn/ff9zAG8A5f8bAFsA4f9h/zsAUwCJ/+H/fwDx/0n/4f8fAP3/iwAvACcAhwBTAHn/WwB7AAMALwAjAMX/If+bAJMAhf/J/zcBVf8B/wsAVwAPAL3/OwC9/zcAbf9bAEMAjf+/ALcAMf+h/38AswBt/9X/hwBTADn/AwBnAJX/gf9vALn/wf8bAJ3/VwCHAJn/YwCPAKX/9f+l/4sA9f8TAKcApf+9/0sAxf+Z/ycAwf9h/53/+f9TAHH/+f/TALn/4f8HAOX/DwADAFsAAADt//H/4f8DAPH/uf87AN3/wf8XAKn/XwAXAMH/ewDp/yMAdwDZ/y8A/f/F//H/0f/V/z8AGwADADcA2f9HADMAFwA/APn/UwD9/xcA/f+5/z8Aqf/p/8n/of8vAAsAQwArADsAIwAnAAcABwArADcAEwC5/93/TwCF/+X/PwDN/7H/1f8bAHH/AACjAL3/qf+fAO3/Mf9bAF8Aaf/p/6MAlf+F/8sAvf8DAHMA2f+t/xcABwDV//X/8f/5/ycAyf/R/8H/zf9HAL3/BwADAPX/EwAbAP3/GwATAA8A7f+9/5n/TwDx/4X/swDx/23/gwBbAG3/BwCrAPH/lf9DAFMA2f8bAIMA8f/B/zMAxf/d/yMA1f8bAC8Ahf/l/4MAAwDB/y8AJwCp/83/QwDt/9H/VwDt/4H/+f/9/53/4f/5//3/FwDh/+3/CwDp//X/FwDR/wAA3f/x/0cAEwD1/w8A4f/J/x8ABwDt/wMAHwALANX/BwAbAN3/vf/9/+X/xf9nABMA0f9PABsACwBzAAMA/f+DANH/xf9bACMA5f83ACMAsf8AAC8A5f/p/xcA8f/d/+n/AwD1/ysAMwDl/zsABwDd/ysA7f/p/0cA1f/R/wcAzf+p/8n/GwDJ/6n/LwD1/+X/XwAAAPX/XwAbAO3/WwD1/xcAZwCx/9n/GwCh/6X/3f/R/9H/7f/t//3/PwBXACcAIwAvAEcALwAHACcA8f8TAEMAzf/F//n/zf/J/7n/BwADAKX/HwBLALX/DwCHAPX/4f8nACcAyf8PAHcAof8bAGMAzf/N/xsAEwAHAA8A6f/l/w8AKwD1/wcAtf/x/wsAtf8AAB8A+f8TAAAA7f8fAAAAGwAHAPn//f/p//n/EwDZ/9X/IwDB/7H/AwADAN3/9f8zAOn/AwBLAPn/KwAAAB8APwDJ//H/5f8HAC8A8f8HAA8Aqf8DABMA/f8TAPH/SwAfAA8AOwAAABcAGwDh/9X/5f/N/+n/EwDR/9H/HwDx/+n/FwAnABcA/f8HADsA9f/l/zMA1f/V/x8Azf/F//n//f8AAOn/CwC5/+n/UwDt/+3/QwADANn/DwBLAPX/2f9PABMA3f/9//X/HwD1/wMAIwDZ/9n/AwA/AP3/CwAXAOX/wf/t/wsA6f8rAA8Axf8fAAcAuf/x//H/9f/h//3//f+l/y8AVwDh//3/CwDp/+H//f8zAOn/EwATAM3/AADt/+3/BwAPANn/DwAnAOn/DwBHAA8A8f/9/+X/7f8bABMA1f8fAAsAwf8LABcAyf/t/zcAGwD9//3/7f/x/ysA5f/N//n//f8HACMAJwAAABcAOwArAPH/HwAfAP3//f8DAAAA1f/1/93/1f8nAAMA0f8bABcA8f8XADcAHwD1/ycAQwDd/wAAJwDp/+3/5f/J/8X/BwDl//H/EwDd/xMAJwAvACsAKwArAA8AKwAbAOH/AADd/8n/7f/5/9X/rf8fAAMAvf83ABcA1f83AE8AHwADAAsABwDt/ysAFwDV//3/AADd/w8AAACx//3/GwDp/xcAMwADABcAUwA3AA8ANwD9//H/IwAAAAcACwDt/8n/xf/h/9H/4f/t/8X/EwAnAAcAGwAbAP3/DwAzAOH/8f/9/83/2f/Z/+n/1f/l/+3/vf8PADcA/f8/AEMAKwAHAC8AHwCp/wcA2f+p/+n/6f/R/9X/JwAPAO3/VwArAPn/VwAXAOn/IwD9/6X/0f/9/7n/xf/d/7n/vf83AAAA6f8zACMAGwArAEcAGwArAC8A2f/J/+H/1f/Z/93/3f/t/+X/DwAXAMn/AwArAPn/9f8XAAMA8f8vAC8A9f8AAAcABwALAP3/IwAXAOH/7f8zAA8Ayf8nAAAApf/h/xMAzf/F/ycA6f/l/x8ANwADAAsAYwA3AAAAIwAfAO3/DwArAO3/7f8PANH/xf8AAOH/1f8nAB8A+f8fAA8AAwAzACsA/f8DAC8A7f/9/xsAyf/d/9n/tf+9/8X/yf+1//n/CwDV/wMAMwALAAcAQwAzAOn/EwAvAMn/2f/9/73/wf/1/+H/zf8PABcABwA/AEcAKwA/AEMAJwA3ACMABwADAOn/4f/N/9X/6f/Z/+X/BwADAPH/GwBHAA8AFwBLAAsAHwAvACcAGwD1/wcA+f/9/+n/5f8bAOH/vf8DAPH/4f/1/wAA5f/t/z8ACwD9/ycADwAbABMAGwALAPX/AADx/9X/wf/Z/+n/1f/V/wMAIwATAC8APwAbABcAJwAjAP3/CwAjAO3/yf/V/7n/xf8DAOn/2f8DAP3/+f8fACcADwAbAAcADwAAAOn/BwDt/8X/wf/Z/9n/xf/9/+X/4f8rACcAJwAvADMALwAfADcAEwD5/9X/3f8DAMH/1f/5/9n/4f8XAAsAAwBHACsAFwATAPn/BwAPAAsAyf/Z/+n/yf/9/wAA2f8AACMADwAXAB8AKwAfAAsAGwDx/8X/zf/p/83/zf8AAN3/3f8HAP3/BwA7ABsAEwA3ABcA9f8jABsAzf/x//H/qf/J/+X/0f/l/wAA+f8AAAAAHwAvACsAIwArACMA9f8TACMA9f8LAA8A6f/R/+X/+f/l/+n/7f/h/73/sf8LABcAAwAzAC8ABwAnAFcAOwAzAD8ACwDx/wAA4f/F//H/7f/R//X/AwDt/wMAHwAjACsAMwAfAAAADwAfAAcACwAjAPX/5f8DAPn/8f/t/wAA5f+5//H/8f/p/+3//f8DAAAAFwAvACcAGwA/ACcA+f/9//H/0f/p/wcA0f/R//n/6f/d/w8AKwD9/wsAHwAHAPn/GwATAOX/3f8AABMA/f8PACMA+f8LADMA+f/t/xMA9f/p/wcADwDx/wcADwADAB8AKwArACMAEwDl/wsAHwDh//X/9f/B/+n/AwALABMACwDx/+H/+f8AAAcAEwDp/wMAFwAAAAsAAwALAA8AAwAHAPX/5f/5/wsA7f/N/wAAAwDd/xMAJwD1/w8AKwALAA8ADwD9/wMA+f/l/+X/7f/1//3/5f/N//X/EwD9/w8AJwADAA8ARwAjAAsALwADAMX/yf/Z/+H/0f+5/9n/+f/1/ysAEwDF/ysAXwAPAAsAEwDh/xMAQwD9//3/IwAXACcAJwD5/wAA+f/F/73/rf+1//n/BwDZ/+n/BwAfADsAMwArACsACwDx/+n/sf/V/wAA1f+1/9H/6f8PADcADwDx/+3/8f/x//n/CwAXAAsADwAHAAsANwBTADsAEwATAAAA1f/d/83/wf/d//X/3f/V/wcAFwAnACsAMwAzABsAFwD9/+H/AAADAOX/4f/t/wAADwAjADMAFwD1/wsA+f+t/+H/HwDl/93/EwDx/9n/HwAzAAMAAAAzAA8A+f8PAAsA8f/5/w8A2f/N/wsAHwDR/9H/7f/B/9n/GwDl/9X/HwAvAC8AKwAjAAMA/f8PAAcAyf+5/9X/2f/l/wsADwATADMAOwA3AD8APwATAP3/8f/R/9H/5f/d/9n/9f8jADMACwAbAFMAOwAzADcA7f/N/wMAAwDp/wMAAwD1/wMADwAPAPn/CwAbAOX/4f/9/+X/3f8PABcA7f8PACcAAwAHABsADwAAAPn/8f/Z/+H/DwAfAPH/5f8AANX/7f8TAO3/7f/5/9X/7f8DABMANwAzAAcAGwAXAPn/FwD5/9H/9f/Z/7H/yf/N/93/AAAbAAsA/f8TAB8ANwArAA8ACwD1//H/+f8HAAAA8f8AAM3/zf/t//X/DwAAAPH/7f/5/xcAJwA3ABcACwATAPH/6f/1//H/8f/1/+3/1f/1/wcAAwAjABMAAAAHAAMA7f/h//3//f/Z//X/+f/l//3/DwAPABMAHwD9//X/AwALAB8AGwD5//H/8f8LABMA/f/1/+n/4f/t/xcA/f/x//n//f8LAAAAAAD9/wAAAAD5/wAABwAPAAMAEwAbAA8AEwALAPn//f8DAPn/8f/J/8H/2f/p/wsAFwAPAA8AJwAbAA8AFwAAAAAA/f/d/8X/zf/h//3/EwAAAPX/8f/t/wsAGwAHAAsA7f/J/93/+f8fAC8AJwADAAMAGwAvACcAEwD1/9n/2f/R/+H/AAAjAC8AHwAnAB8ALwA/ADMAIwAAAOH/0f/V/9X/5f8DAAAA8f/l//X/HwA3ADcACwDZ/9X/5f/p//H/8f/h/+n/6f/d/+n/FwAfABMA/f/t//H/9f8HAA8A5f/Z/+3/6f/x/w8AGwAbAC8ACwD9/w8AJwAvABMA+f/1/+H/AAALAPH/8f/9/+3/6f8AAA8AHwAnADcAJwAfACsAMwA3AC8AHwDx/+n/9f/t/+n/AwADAPH/8f8PAC8AKwArACMA/f/9/wMA8f/x//X/8f/d/93/9f8DAAAABwAAAO3/7f/p/9n/2f/R/9H/0f/R//H//f8AABsALwAHAAAAFwD5//H//f/d/8X/4f/l/+H/6f/1/w8ADwAHABsAFwAPACsAIwAAAAMAEwAHABMAHwALAAMAAAADAPn/AAALAPX/5f/9/wsAAwAPACcAEwAHABMACwALABcAAwDl/+H/6f/N/9H/9f/x/93/5f/t/+X/BwArAA8AAAALAAAA3f/x/wMA4f/V/+H/2f/V//n/DwAHABMAHwAPAAsAGwATAP3/8f/p/9X/0f/l/+3/8f8LAA8AAAAXAC8AOwAjAA8AEwADAO3/8f/x/+X/+f8HAN3/5f8PAAAABwAbABcAEwATAB8AGwALABcAIwADAPX/8f/p//X/CwADAOH/9f8HAAAABwArACsAHwAbABcABwD9/w8ABwDp/9X/4f/l//X/AAD1//n/AwALAAcADwAPAAcACwAHAPH/7f/x//H/9f/p/+X/7f/p//3//f/x/wAABwAHAAsAFwAPAAsABwADAP3/AAADAAcABwAAAAAACwALACcAHwAHABMACwAAAAsAFwAHAP3/BwADAAMACwALAAsA/f8PABMABwAPABcADwADAAcACwAPABMAGwALAP3/9f/p//H/8f/x/+n/3f/5//3//f8XABsAAAAHAAcA9f/9/wMA/f/p/9H/yf/R/+X/BwAAAPH//f/9//3/AwATAA8AAAD9/+n/4f8HAA8A/f8DAAMA+f/5/w8AEwAHAAsAEwDl/9n/AwAHAPn/AwADAAcACwAbAA8AEwAjAAsA7f/p//3/4f/V/+3/4f/N//H/AwDt//X/FwALAP3/AwAHAPH/9f/t/8n/0f/5//3/6f/1/wMAAAADAAsAAAD9/wcA/f/x/wAADwAHAA8AEwD9//3/FwAbAAsACwALAAMA/f8PABsADwATACMADwAbADMAEwALAAcA8f/p//3/+f/x/wAACwALAAAAGwAnABcADwD5/+n/6f/x//H/3f/l/93/3f/1//3/AAAHAAAA7f/x//X//f/1//n/6f/Z/+n/+f/x//3/EwD9/93/6f8AAAMAEwAPAPX/5f/9/w8ABwATABMAAwD9//3/CwALABcAFwD1//H/DwADABMALwAnAAcA/f8LABMAGwATAPX/3f/h//X/BwAPAAcAAwADAAMACwATABcAHwD9/+X/7f/l//3/FwAPAPX/6f/t/wAADwAPAAAA9f/l/+H/5f/9/xMADwD9/+n/7f/5/xsAMwAbABMADwAHAA8AEwAXAA8A/f/l/9X/4f8LABsAEwAXAAcAAwALABMAGwATAA8A9f/Z/+H//f8HAAcABwDx//X//f8HABcAFwALAAAA6f/p/+3/AAALAAcA9f/p//H/AAAHAA8AAwDt/+H/3f/h/+3/AwADAAMA+f/x/wcAEwAPAP3/5f/h/9H/0f/t/wAABwAAAAMAAwAHABcAGwAPAAMA9f/p//H/9f8AAAcAAAD1/wAACwATABcAEwAHAPX/7f/9/wAABwAbAA8ABwALAAsAEwATAAcAAAADAPn/9f/9/wMABwD5/wAAAwADAA8AAwAAAOX/2f/h/+n/8f/t//H/9f/x/wMADwAXABcAAwADAPn/4f/l/+n/7f/p/+X/6f/t//n/EwAvAB8ABwD1//H/9f8AAAsAAwD1/+n/8f8HAAsAGwAjAA8ACwD9/wMACwAAAP3/7f/d/+X/+f8XABcADwADAAMAAADx//X/AwALAPn/5f/l/+n/AAALAAsA/f/1/+n/6f/x//X/AADx/+H/2f/l/wMAGwAXAA8A/f/x/wAACwALAAcABwD9/+3/9f8DAB8AKwAPAAcA+f8AABMADwALAAAAAwADAAAAAAAPABsAGwAAAO3//f8HABcAEwAHAAMAAwADAP3/CwAXAAsA+f/1/+3/9f8HAAMA/f8AAAAAAAADAA8AEwAbABcA+f/t//3/BwAPAAcAAAD1//n/AwALAAsACwALAAAAAAADAAAABwAXAA8ABwAHAA8ACwD5/+n//f8DAAMA/f/p//X/AwAXABcAGwAAAPH/AAALAA8AEwAXAPH/6f/9/wAAFwAXABsAAwADAAAABwAPAAAA9f/J/83/3f/t/wMAEwAAAOn/6f/1/wsAFwAPAPX/zf/B/8n/5f8DAAcAAAAAAAAACwAjAC8AGwAAAPX/3f+9/8H/7f8bACsABwDJ/73/AABbAHcAQwDl/7H/wf/x/wsABwALAOn/5f/V/+H/JwBLAEMACwDV/8n/4f8PAB8ADwD1/93/2f/V//H/AwATAAMA6f/V/9n/AAAjAB8AAAD1//H/AAAPABcAEwAHAPn/2f/R/+n/CwAXAA8A+f/t/+3/AAAnADcALwATAPH/1f/p/w8AFwATAOX/yf/R/+n/AwATAB8ACwD5//H//f8PACcAKwAHAN3/0f/V//n/FwAfAB8A/f/x//3/CwAnADcAJwAHAP3/8f/x/wcAHwAbAAsA/f/p//H/CwAXABcAEwAAAAAABwAPAB8AGwALAPn/5f/d//X/AAAPAAsA8f/l//X/BwATABsAFwAAAO3/8f/x//X/9f/p/+3/3f/R/+H/+f8HAA8AAAD5//n/+f8LAAsAAwAHAP3/7f/l//H//f8LAA8A/f/x//H//f8DAAsAGwAPAAMAAwADAAcAEwAPAAAA+f/t/+n/+f8HABMACwALAAMABwALABsAIwAjABsA9f/p/+X/8f8HAAcAAwDx//X/DwAfABcAEwAXABcAEwAHAP3/BwADAAsAAwDt//H/+f8DAA8AFwADAPn//f8HAAsAEwAPAPn/BwAHAP3/AAD5/+n/6f/5//n/AAADAPH/9f/9/wMAGwAbAA8A+f/p//H/7f8AAAMA9f/t/93/6f8DAA8AAwADAAcABwD9//3/BwADAAAAAwAAAPX/+f/1/wAAAAAAAAMAAAAHAAMAAwAHAAsADwALAAcA+f/5//X/+f8DAAMABwADAPn/AAD1//H/AAADAPX/7f/x/+3/8f/9/wMA+f/x/+3/6f/p/+3/8f/t//3/7f/p//H//f8AAAAADwAHAPn/+f8DAAAAAwD9//X/7f/5/wMA/f8HAAMAAAAHAAcADwD9/wAACwD5//n/+f/5//3/CwAHAP3/BwALAAcACwATAAMAAAADAPX/BwAPAA8A/f/9//3/9f8DAAsACwAPAA8AAwD5/wcAFwATABMAEwAPAAAAAAAHAAAABwAAAAAA+f8AAAcA9f8HAA8ABwADAAcAAwAPAAcAAAD9//X/AwD5/+3/9f/x//n/AwD9//X/7f/x//3/AAAAAAcABwAHAAAA8f/9/wcACwADAAAAAwADAA8ABwADAAMACwALAAsABwD1//3/9f/1/wcAAwADAAsAAAALAAcABwAPAAsAAwAAAAAAAwADAAcA+f/x/wAAAwD9/wAAAAD9/wAAAAAAAAMA/f8AAAAAAAADAAMAAwADAPn//f8AAP3/AwAAAAAAAwD1/wAABwD9/wcAAwAAAPn/+f8DAAMA+f8AAAMA/f8AAAAA/f8DAAsABwALAAsACwD9//H/AAADAP3/+f/x//X/+f/t//H//f8DAPn/7f8AAP3/9f/9/wAABwD9//n/AAAHAAAA9f/x/+n//f/9//X//f/t//3//f/t//H/BwALAAAA9f8DAAMAAwATAA8ABwAAAAAABwAPAAMAAwADAAsABwD5//3//f8DAA8ADwD5/wAABwD9//X/+f8HAAcA+f/5//X/AAALAAcAAwAHAAcADwAHAAAAAwADAAcABwD5//n/AwAHAAMA/f/5//X/AAADAPn/8f/9//3//f8HAAMACwAXAAsADwD9//3/BwADAAcA9f8AAAAA9f/1/+n/8f/1/+3//f/5//X/8f8DAAAAAAAHAP3/CwAAAAsAEwAPAAcAAwAHAAMABwAHAP3/8f8DAAsAAwD1//3/CwALAAcA/f/1//3/AwADAPX//f8HAAAABwD1//3/BwAHAPn/9f/1//3/AwD5//X/7f/x//n//f/9//n//f8DAAcABwAAAAAABwAPAAMAAwD9/wAA/f/1//X/9f/5//H/AAD5//3/AAAAAAMAAwAPAA8ACwADAPn//f8HAAsACwALAAsABwAHAA8ADwAPAAcACwALAAAACwALAAsADwALAA8A/f8AAAAA8f8AAAMA+f/5/wAAAAALAAsABwAHAA8AAwAHAAcACwAAAAcABwD1/wAA/f/5//n/8f/1//n/8f/1//n/+f/1//n/AAAAAAcAAAAAAAAAAAD5//3/CwD9//X/+f/1/wAA9f/x/wAAAwADAPn/AAD9//X/AAADAAsAAAAAAAsABwADAAAABwAHAAsACwAHAAsAAwAAAAMAAwD5/wAABwAHAAAA9f/5//n/+f8AAAMAAwAHAAcA+f/x//3/BwAHAAsA/f/t//X/+f8AAAMA9f/1//X/+f/t//n/AAD9/wcAAAAAAAMABwAHAAsAAwADAPn/AAD5//X/AAD9/wMA+f/9/wsAAwADAAcA+f/5/wAAAwAAAAAA/f/1/wAA/f/1/wAAAwAAAP3/+f/1//3/EwD9/wAAAwD9/wcA9f8AAAMAAAADAAAAAwAAAAcACwADAPX//f8HAAsAAwD9/wAA/f/1//3/AAAAAAMAAAAAAAAAAwAAAAMABwADAAMAAAAAAAMAAwD5//3/AAD1//X//f8AAAAAAAADAAMA+f/5//X/AAD1//3/CwADAPn/AAALAAMAAwADAAAABwADAAAAAwAHAAsACwALAAcABwAHAAcACwADAAcA/f/5/wMAAwAHAAsAAwALAAcACwAPABMACwAHAAsAAwAAAP3/AwAAAAAAAwAHAAMAAAAAAAcAAwD9//X//f8DAAAACwAHAP3/9f/9/wMACwADAAAAAwD5//3/AAADAAAA9f/9//n/+f8DAAAAAwADAAMA+f8AAPn/9f8DAAMA/f/x//3/AwD5/wAAAwADAP3/9f/9/wMAAwD5//X/AwD5//3/AAD1//X/AAADAAAAAAADAAcA+f/1/wMA/f/9/wMAAAADAPn//f8AAAAABwAAAAcAAAD5/wcABwATAAsAAwAAAAAAAwAAAAsABwD5//H/AAAAAAAAAwD5//3/AwAAAAcABwAPAAcABwD5//3/BwAAAAcA+f/9/wcA+f/1/wAA/f/5//3/7f/x//X/9f/5//H/AAD5//3/+f/9/wMA9f/5//n//f8DAAAABwADAAMAAAD1/wMA9f/9/wAAAwAHAAAAAwD9/wcACwADAAAA/f/9/wcABwAAAP3/+f/1/wAAAAAAAPH/+f8DAP3/AwADAAsAAwALAAMABwAPAAcAAwD9//3/AwADAAcAAAAHAAcABwADAAAACwAHAAsABwD5//3/AwADAAMAAwAAAAMABwD5//3/BwADAPn/AAD5//3/AwD9/wcAAwAAAAAAAAD9/wMAAAALABMA/f/1/wAABwAHAAcAAAADAAcACwAHAAcACwALAAsAAwADAAAABwAHAP3/9f/5/wMA9f8DAAcAAAAHAAAA+f/9/wcABwAHAPX//f/9/wMACwAHAAcABwADAAAABwAHAP3/9f/5//n/9f/1//3/CwAAAP3/+f/9/wMA+f/5//X/AwD1/+X/8f/9/wAAAADx//X//f8DAAcAAwD9/wAA/f/5/wcAAAADAP3/+f8HAAcABwALAA8AAwAAAAcADwALAAcACwAHAAMACwAHAAMAAAAAAP3/BwADAAMA+f/9/wcA9f/9/wMA/f8HAAsAAwD5//3/BwADAAAAAwD9//X/AAD5//n/CwALAAMAAAADAPn//f8DAAcACwAAAPH/8f8DAP3/AAADAP3/8f/t//3/AAAHAAMA9f/5/wAAAwD1//3/AwD9/wAAAAADAPn//f8DAAAAAwD1//n/BwADAAAAAwAPAAcA/f8DAAAAAwADAAcAAwAAAAMAAwAAAAAAAwD5/wAA+f/1/wMAAAAHAPX/8f/1//3/BwD5//X/7f/1//X/8f8AAPX//f8DAPn/9f/9/wAAAAAAAPX/AwAHAAcACwAAAAsABwAHAAMADwALAAMABwD9//3/AAALAA8AAwADAAAAAAAAAAAAAAAAAAMADwAHAAAA+f8AAAAA9f/5/+3/AwADAAAA9f/x/wMAAAAAAAcABwAAAPn/9f/9/wAAAAAAAAAAAwD9/wAACwALAAsAAwD1//3/BwATAAsAAwD5//H/+f8AAAMA/f8LAP3/8f/5//H//f/9/wMAAAAHAAcAAwAHAAcACwAHAAsAAwAHAAMAAAAHAAcA+f/1//n/CwALAAMACwAPAAsAAwADAAcABwAHAAMAAwADAP3/8f8AAAMABwALAAMAAwD9/wsABwD5//H//f8HAA8ADwD5//3/AwD5//3/AwD9//n/+f/5//H/8f/5//H/AwADAPn/9f8AAAAAAwD5//H//f8DAA8A/f8AAAMA/f8DAAMA9f8AAAcABwD9//H/AAAAAAAABwAHAAMAAwD9//X/AAAHAAAAAAADAAMAAwADAP3/+f/5//X/9f/9/wMAAwAAAPn/9f/9/wMAAAAAAAMA8f/t/wAAAwADAPn/9f/x//n/CwADAAcA+f/9/wMA+f/1//n/+f/1//n/8f/x//X/AAALAAAAAAADAAAAAwD9/wMAAwAAAAcAAAADAAAAAAAAAAcAAwAAAAAAAAALAAsABwD9/wMACwAHAA8ACwAHAAsAAwD9/wMAAAADAAsABwAPAAcA+f/9/wMAAAADAPn//f8DAAcABwD1//3/AAAAAAMAAwD9//n/+f/x//X/9f/9/wcAAAAAAPn/AAAAAP3/CwD9//3/AAADAAcABwAHAAAABwADAAAAAwADAAMABwAHAAcAAAAAAAAAAAADAAcAAAAAAP3/AwALAAMABwAPAAsABwALAAcACwADAAsACwADAAMAAwALAAcAAAADAAMABwADAP3/AAAAAAMABwAPAAAA9f/1//X/9f/1//X/9f/5//X/9f/5//H/AAADAAcAAAAAAAMABwAHAP3/BwADAAMA/f/x//3/AAAAAAMAAAADAP3/9f/9/wcABwADAAAAAAD5//X/9f8AAPn/+f8AAAMA/f/x/wAAAAADAPn/8f8DAPn//f8HAPH/9f/1//n/AwDx//H/AAAHAAsAAAAAAAMA/f8AAAMAAwAHAAcABwALAAMA+f8DAAMAAAADAAcAAwAAAAMAAwAAAA8AAAD1//n//f8AAAMAAAD1//n/8f8HAAAA9f/5//3/AwD5//3/9f8AAPX/8f/5//X/9f/x//3/AwD9//X/+f/x//X/9f/9//n/7f/5//n/9f/1/+3/9f/1//3/AAD9/wMA+f/9/wcABwALAAMAAAADAAcABwAPABMACwAHAAcABwALAAcACwATAAcABwAHAAcACwAHAAcACwADAAcABwAAAAcAAAAHAAsAAAADAPn//f8DAAAABwD9//X/AAD5//3/AAD9//X/9f/5//X/8f8AAAMA9f/9/wMABwD5//3//f/x/wAA+f/x//n/9f/1//3/AAD5//n//f8AAP3/8f/9/wAAAAADAPn//f8DAAcAAwD9/wAAAwAHAA8ACwAAAP3/AwALAAAAAAD9/wMACwADAAcAAwAAAAMAAAAAAAsACwAHAAMABwALAAMAAwAAAAMAAwAAAAcA+f/9/wMAAAAAAP3/AwADAAAAAAADAAcABwADAAAAAAAAAAAAAwAAAAMA/f8LAAcA+f8AAPX//f8AAAMABwADAAAAAAAAAPn//f8LAAMAAAADAPn/AAD5//H/AAD9//X/9f/1//n/7f/1//n/9f/1/+3/9f/x//3/AwD1//3//f/1//3/+f/1//n/9f/5/wcA/f/1//X//f8AAAAABwADAAMA+f/9/wMAAAADAAcABwADAPn/+f8AAAAAAAADAA8A/f/9/wsABwAPAAAABwAAAAMACwADAAsADwALAAcABwALABMAEwADAAMADwALAAcA/f/5/wcAAwAPAAMAAwALAAcABwADAAcAAwAHAAsABwADAPn/9f/5/wMAAwAAAAMAAAAAAAMAAwAAAAMA+f8AAAcA+f/1//n/9f/5//H/AAD5//3/BwD1/wAA+f8AAP3/9f/5//H/9f/5/wMA/f/1//3/AwAAAPn//f8AAPn//f8DAAAAAwD1//3/+f/5/wcABwALAAMAAAAAAAAABwADAAAAAAD9/wcAAwAHAAMA/f8DAP3/8f8DAAMA9f8DAP3/9f/1//X/+f/t//H/AAD9/wMA9f8AAPn/8f/1//3//f/x/wAAAwD5//n/BwAHAAcACwAHAAAACwD5//3//f/9/wAAAwADAP3/BwAHAAcAAwAHAAMAAAAHAAAAAwADAAAAAwD9/wcAAAAHAAMA/f8DAAAAAwAHAAcAAwD1/wAABwAAAAMA/f8DAA8ABwD1/wMAAAADAAMAAAADAP3/AwD5/wAA+f/5/wcABwAHAAAACwAAAPX/+f/1//n/8f/p/+3/8f/x//3/AAAAAAAAAwADAAMA/f8AAP3/9f/9//3/AwD5//3/AwADAAcA+f/9/wMACwADAAAAAwADAAsABwD9/wcAAwADAAsAAAADAAMAAwAHAP3/CwAHAAMAAwAAAAMACwADAAAAAAADAAcA9f/5/wMACwALAAAA+f8AAAAA/f8DAAAAAwAAAAAA+f/1/wAABwD9/wAAAwADAAMA+f/1//n/8f/9//3/AAAAAAAABwD5//X/+f/1//3/AAAAAP3/9f/1//H/9f8AAP3/8f8AAPn/AAD9//X/AAD9/wAAAAADAAAAAAADAP3//f8AAPX//f8DAPn/9f/5//X//f8DAP3/AwD5//H/AAAHAP3/8f8AAAAABwAHAPH//f8HAAMADwALAAsAAwADAAsAAwADAPX/AwALAAAABwADAP3/BwAHAAMAAAAHAAsAAAAAAAMAAwAPAPn/AAD5/wAAEwAAAAMABwAHAAMABwALAAMABwAHAAsABwADAAAABwADAAAAAwAAAAAAAAAAAAAABwAPABMACwAHAAcAAwADAAMA+f8AAP3/BwAHAPH/AAD5/wcA/f/5/wAA+f8AAP3/AwADAAcAAwAHAAMA/f/5//X/AwD1/wAA+f/5/wAAAwD5//3/AwAAAAAAAAAAAP3/AAD5//H//f8HAAcAAwADAAAAAAAAAP3/AwAPAAsACwD9/wAA/f/t//X/8f/5//X//f8AAP3/BwD9//H//f8DAPn/9f8AAAAAAAD9//H/7f/9/wMA+f/1//3/AwD9//n//f8AAAAAAAD5//n/CwAHAAAACwAHAPn/+f8DAAMA+f/1//X/AwADAAcABwD1/wMA+f8AAP3/9f/5//X/AAAAAAMAAAAHAAcA+f/9/wcAAwAAAP3/9f/9//3/AwAHAAMAAwAAAPn//f8DAPn/+f8HAAAABwAPAAMAAAADAAMA/f/1//3/+f/5//n/9f/5//H/AAADAAMAAwD5//3/BwAHAPn//f8AAAcABwAHAPX/9f/5//X/+f/9/wMA9f8AAPn/+f/1//3/AwAAAAMA+f/x//3/BwADAAMAAwADAAAAAwADAAMAAwAAAAAA+f8AAPn/AAAHAAsABwADAAsACwALAAcACwAAAAcACwAHAP3//f8DAP3/DwAHAAMA/f/9/wMAAAD9/wAAAwD1//X//f8AAAAAAwAAAAcAAwAAAP3/9f/5//X//f/1//3/9f/9//n/+f8AAAMAAwADAAcABwADAP3/BwADAAAAAwAHAAAACwAHAAMADwADAAsADwAPAAMAAwAPAAsACwADAP3/AwAHAAcACwAAAAMAAwADAAcABwAHAAcABwALAAAABwAAAAMABwADAAMACwALAAAAAwAHAAcACwADAAAA/f/9/wMA+f8AAAMAAAAAAP3/AwD1//H/AAAAAAMA9f/9/wMA+f/5//X/+f/5//X/9f/1//X//f/5//X/9f/9/wMAAwADAP3/AAADAPn/9f/9/wAAAAADAAMA9f/p//X/9f/1//H/+f/x//3/AwD9/wMA+f/9//n//f8AAAcA/f/1//H/9f/5//X/8f/t//n/9f/9/wAAAwD5//X//f8AAAAAAwAHAAAABwALAAAABwADAAAABwAHAAAAAwALAAsAAwAAAAAAAwAAAAMAAwAAAAAAAwADAAcAAwAHAAcACwD9//n/CwALAAMA+f8AAAAAAAADAAAAAAAAAAcAEwAHAPn/9f/9/wMAAwD9//H/AAADAPX//f8DAP3//f8AAAAAAwADAPn/8f8AAPn//f8AAP3/AAD9/wcABwADAPn/9f8DAAMAAAAAAAAA/f/1//X//f8AAAAAAAAAAAAA+f/9/wAA/f8AAAAAAwADAAMA9f8AAAcACwAPAAMACwADAAAAAwALAAMADwAHAAAAAwAAAAMA/f8HAAMA+f/5//X//f8HAAAAAAAAAAAAAwALAAMAAAAAAAAAAwADAAAAAwATAAsAAwAAAAsABwAHAAsAAAAHAAMABwADAAAAAAADAAcACwAXAP3/AAD9/wAA/f/5//n/8f8AAPn/+f/5//X/8f/9//3/8f8AAPn/9f8DAAcAAAAAAAAABwADAAMACwAAAAAAAwAAAAMAAwD9//X/+f/1//X/9f/9/wMA+f/1//n/8f/t//3/+f8AAAMAAAAAAAAAAwADAAcA+f/9/wMA/f8HAAAAAAAHAAcABwAAAAAA/f8DAAMAAwD1//3/BwAAAAcA+f/9//3//f8DAP3/9f/5//n/9f/9/wAAAwAAAAMAAwD9/wcAAwADAAcACwADAAMABwD5//3/+f/5/wcACwADAAAAAwAAAAAAAAAAAAAAAwD9//X/+f8DAAAA/f8AAAMAAAAAAAAAAAAAAAAAAAADAAsAAwD9/wMAAwALAAsAAwAAAAcABwAHAAcABwD5//3/AAAAAAMAAAAHAPX/AAALAAMA/f/1/wAAAwAAAAcABwAAAAsABwAAAAMA/f8AAAMABwADAAAA+f/t/wMAAwD9/wcAAwAHAAAAAwALAAMACwADAAcAAwAAAAMAAAADAAsAAwAAAAMAAAADAAMA/f/t//3/AAAAAPn/+f8HAAMA+f/9/wAA/f8DAPn/AAADAPX/AAD5/wAA/f/x//X/8f8AAAAAAwAHAAAABwALAAAAAwAHAAcABwD9/wAA+f/5/wsA+f/9/wAAAAAAAAAAAwD5//3/AAADAAMABwADAAAAAwADAP3/8f8AAAcABwADAPn/+f8DAAMAAAAPAAcA/f/9/wAAAAADAA8AAAAHAAMABwAAAAcAAwAAAAAA7f/9//3/9f/x//3/AAAAAAcA9f/t//3//f8DAAMAAwALAAcAAwAHAAsAAwAAAAMAAwD9/wMA9f/x//n/+f8HAP3/9f/1//X/9f/t//X/8f/9//n/9f/9//3/9f/5/wAAAAADAAAA+f/9/wcAAwAAAAMAAwAHAAcAAAADAAsA+f8DAAcA9f/1//n/+f/1/wAAAAADAPn/9f/5//n/AAADAPn/9f/5/wAA/f/9/wMACwALAAAABwADAAAABwAHAAAAAwADAAAABwADAAcAAwADAA8AAAADAAcABwAHAAsAEwAPAAMACwALAA8AEwD5//3/AAAHAAsAAwD5//3/BwD5/wMA+f/5/wMA/f/1/wAAAwADAP3//f8DAPn/9f/9//n/8f/9/wMA+f8AAAMA9f/x/+3/8f/1//3/AwAAAAAA+f/5//n/AAD9//H/AwADAP3/AAAAAAMAAAAHAAcA9f/9/wMAAwAAAAAAAwADAPn/AAADAPn/AAAAAPX/AAADAAMAAwD9//X//f8DAPX/+f/1//n/AAAHAAMAAAADAP3//f8AAAMACwADAAcAAAADAA8AAAADAAcABwAPAAcAAwD5//3/AAD1/wAAAAAAAAMA/f8HAAAAAAAHAP3/AwALAAcA/f/9/wcA9f8AAAsABwALAAcAAAAAAAcABwAHAAsAAwAPAAsA/f8HAP3/AwALAAcABwAAAA8ACwALABMABwALAAMAAAAAAAAAAwD5//X/AwADAPn/9f8AAAMA/f/5//n/+f/1//n/9f8AAPn/9f/9/+3/8f/5/wAAAAAAAPn/8f8AAAAABwAAAPX//f8DAAAA8f/x//H/7f/x//n/AAD1//H//f8DAAAAAAADAAcABwAAAAAAAwD9//n/+f/x/wAA+f/1//n/9f/5//X/9f8AAAAAAwD5//X/+f/5//X/AAD9//X/9f/t//3/AAAAAPn/AAADAAAAAwADAAMA/f/1//3/AAAAAAAAAwADAAAAAAD5/wAAAwAAAAAAAwALAAsADwAPAAsADwAHAAAAAwAAAAcACwADAAAAAwAHAAcAAwAAAAAABwALAAAAAAAHAAcABwAHAAAAAwAAAAAABwADAAAAAAAAAAAAAAADAAMAAAD9//3/AwALAAMAAAAAAAAAAAAAAAMAAAADAAAABwAAAPH/AAAAAAAAAAADAPn//f8HAAsAAwAAAAMABwAHAA8ACwAPAA8AAwAAAAMACwAHAAMAAAADAAMABwADAAAABwADAAAAAwAAAAMAAAAAAAMAAAADAAMA/f/5//X/AAD5//n/BwADAAsABwAHAAMAAAADAAAAAwD5//n/9f/9/wAAAAD9//3/AAAAAPn/8f8AAAAA+f/5//X/AAD5//X/+f/1//X/8f/9//n/9f8AAAAAAAAAAAMAAwAAAAAAAwADAAAAAAD9/wsAAwD9/wcAAwAAAAAA/f8DAAcACwADAP3/BwADAAMA/f/9/wAAAAAAAAAA/f8AAAsACwADAAMA/f/1//n/7f/5/wAAAAD9//X//f8AAAcABwD9/wMABwAHAAMAAAAHAAMABwAHAAAAAAAAAAMAAAAAAAcABwAHAAcABwALAAMAAAAHAAcABwD5//3/AwAAAAAA/f8LAAMABwADAAAAAwADAAsAAAADAPn//f8HAP3/AAAAAAMA9f/x/w==\" type=\"audio/wav\" />\n",
              "                    Your browser does not support the audio element.\n",
              "                </audio>\n",
              "              "
            ],
            "text/plain": [
              "<IPython.lib.display.Audio object>"
            ]
          },
          "execution_count": 28,
          "metadata": {},
          "output_type": "execute_result"
        }
      ],
      "source": [
        "import IPython.display as ipd\n",
        "\n",
        "\n",
        "streaming_model = torch.load('checkpoints/final_model_streaming.pt')\n",
        "audio, labels =  next(iter(val_loader))\n",
        "audio_sample = torch.Tensor(np.zeros(shape=2*16_000).tolist() + audio[labels.tolist().index(1)].tolist() + audio[0].numpy().tolist())\n",
        "ipd.Audio(audio_sample.numpy(), rate=16_000)"
      ]
    },
    {
      "cell_type": "markdown",
      "metadata": {
        "id": "FvPTmyE0Veea"
      },
      "source": [
        "Моделька неплохо отрабатывает - улавливает слово уже на его первом чанке (5 чанк на графике)"
      ]
    },
    {
      "cell_type": "code",
      "execution_count": 29,
      "metadata": {
        "id": "8QxQvd1XVb3v"
      },
      "outputs": [
        {
          "data": {
            "image/png": "[encoded data removed]",
            "text/plain": [
              "<Figure size 432x288 with 1 Axes>"
            ]
          },
          "metadata": {
            "needs_background": "light"
          },
          "output_type": "display_data"
        }
      ],
      "source": [
        "visualize_streaming(streaming_model, audio_sample)"
      ]
    },
    {
      "cell_type": "code",
      "execution_count": null,
      "metadata": {},
      "outputs": [],
      "source": []
    }
  ],
  "metadata": {
    "accelerator": "GPU",
    "colab": {
      "collapsed_sections": [],
      "provenance": []
    },
    "gpuClass": "standard",
    "kernelspec": {
      "display_name": "Python 3.9.11 64-bit",
      "language": "python",
      "name": "python3"
    },
    "language_info": {
      "codemirror_mode": {
        "name": "ipython",
        "version": 3
      },
      "file_extension": ".py",
      "mimetype": "text/x-python",
      "name": "python",
      "nbconvert_exporter": "python",
      "pygments_lexer": "ipython3",
      "version": "3.9.11"
    },
    "vscode": {
      "interpreter": {
        "hash": "aee8b7b246df8f9039afb4144a1f6fd8d2ca17a180786b69acc140d282b71a49"
      }
    },
    "widgets": {
      "application/vnd.jupyter.widget-state+json": {
        "196fd1c3998742a4bd30e95fb7ef099d": {
          "model_module": "@jupyter-widgets/controls",
          "model_module_version": "1.5.0",
          "model_name": "DescriptionStyleModel",
          "state": {
            "_model_module": "@jupyter-widgets/controls",
            "_model_module_version": "1.5.0",
            "_model_name": "DescriptionStyleModel",
            "_view_count": null,
            "_view_module": "@jupyter-widgets/base",
            "_view_module_version": "1.2.0",
            "_view_name": "StyleView",
            "description_width": ""
          }
        },
        "24cfe5e8de2f4e9a8c7e6d02ce1cc046": {
          "model_module": "@jupyter-widgets/base",
          "model_module_version": "1.2.0",
          "model_name": "LayoutModel",
          "state": {
            "_model_module": "@jupyter-widgets/base",
            "_model_module_version": "1.2.0",
            "_model_name": "LayoutModel",
            "_view_count": null,
            "_view_module": "@jupyter-widgets/base",
            "_view_module_version": "1.2.0",
            "_view_name": "LayoutView",
            "align_content": null,
            "align_items": null,
            "align_self": null,
            "border": null,
            "bottom": null,
            "display": null,
            "flex": null,
            "flex_flow": null,
            "grid_area": null,
            "grid_auto_columns": null,
            "grid_auto_flow": null,
            "grid_auto_rows": null,
            "grid_column": null,
            "grid_gap": null,
            "grid_row": null,
            "grid_template_areas": null,
            "grid_template_columns": null,
            "grid_template_rows": null,
            "height": null,
            "justify_content": null,
            "justify_items": null,
            "left": null,
            "margin": null,
            "max_height": null,
            "max_width": null,
            "min_height": null,
            "min_width": null,
            "object_fit": null,
            "object_position": null,
            "order": null,
            "overflow": null,
            "overflow_x": null,
            "overflow_y": null,
            "padding": null,
            "right": null,
            "top": null,
            "visibility": null,
            "width": null
          }
        },
        "35808aae0a8144099fbf4316e8bba587": {
          "model_module": "@jupyter-widgets/base",
          "model_module_version": "1.2.0",
          "model_name": "LayoutModel",
          "state": {
            "_model_module": "@jupyter-widgets/base",
            "_model_module_version": "1.2.0",
            "_model_name": "LayoutModel",
            "_view_count": null,
            "_view_module": "@jupyter-widgets/base",
            "_view_module_version": "1.2.0",
            "_view_name": "LayoutView",
            "align_content": null,
            "align_items": null,
            "align_self": null,
            "border": null,
            "bottom": null,
            "display": null,
            "flex": null,
            "flex_flow": null,
            "grid_area": null,
            "grid_auto_columns": null,
            "grid_auto_flow": null,
            "grid_auto_rows": null,
            "grid_column": null,
            "grid_gap": null,
            "grid_row": null,
            "grid_template_areas": null,
            "grid_template_columns": null,
            "grid_template_rows": null,
            "height": null,
            "justify_content": null,
            "justify_items": null,
            "left": null,
            "margin": null,
            "max_height": null,
            "max_width": null,
            "min_height": null,
            "min_width": null,
            "object_fit": null,
            "object_position": null,
            "order": null,
            "overflow": null,
            "overflow_x": null,
            "overflow_y": null,
            "padding": null,
            "right": null,
            "top": null,
            "visibility": null,
            "width": null
          }
        },
        "3e7db11942b74d1a84b1244988f0edd9": {
          "model_module": "@jupyter-widgets/controls",
          "model_module_version": "1.5.0",
          "model_name": "LabelModel",
          "state": {
            "_dom_classes": [],
            "_model_module": "@jupyter-widgets/controls",
            "_model_module_version": "1.5.0",
            "_model_name": "LabelModel",
            "_view_count": null,
            "_view_module": "@jupyter-widgets/controls",
            "_view_module_version": "1.5.0",
            "_view_name": "LabelView",
            "description": "",
            "description_tooltip": null,
            "layout": "IPY_MODEL_b117d8f573444a83b6f28fdab4e1f3af",
            "placeholder": "​",
            "style": "IPY_MODEL_196fd1c3998742a4bd30e95fb7ef099d",
            "value": "0.001 MB of 0.001 MB uploaded (0.000 MB deduped)\r"
          }
        },
        "62f343e0d0c042a992e387ab3fc0b235": {
          "model_module": "@jupyter-widgets/controls",
          "model_module_version": "1.5.0",
          "model_name": "ProgressStyleModel",
          "state": {
            "_model_module": "@jupyter-widgets/controls",
            "_model_module_version": "1.5.0",
            "_model_name": "ProgressStyleModel",
            "_view_count": null,
            "_view_module": "@jupyter-widgets/base",
            "_view_module_version": "1.2.0",
            "_view_name": "StyleView",
            "bar_color": null,
            "description_width": ""
          }
        },
        "69972bd52b5249f69a9b75f75f78bc27": {
          "model_module": "@jupyter-widgets/base",
          "model_module_version": "1.2.0",
          "model_name": "LayoutModel",
          "state": {
            "_model_module": "@jupyter-widgets/base",
            "_model_module_version": "1.2.0",
            "_model_name": "LayoutModel",
            "_view_count": null,
            "_view_module": "@jupyter-widgets/base",
            "_view_module_version": "1.2.0",
            "_view_name": "LayoutView",
            "align_content": null,
            "align_items": null,
            "align_self": null,
            "border": null,
            "bottom": null,
            "display": null,
            "flex": null,
            "flex_flow": null,
            "grid_area": null,
            "grid_auto_columns": null,
            "grid_auto_flow": null,
            "grid_auto_rows": null,
            "grid_column": null,
            "grid_gap": null,
            "grid_row": null,
            "grid_template_areas": null,
            "grid_template_columns": null,
            "grid_template_rows": null,
            "height": null,
            "justify_content": null,
            "justify_items": null,
            "left": null,
            "margin": null,
            "max_height": null,
            "max_width": null,
            "min_height": null,
            "min_width": null,
            "object_fit": null,
            "object_position": null,
            "order": null,
            "overflow": null,
            "overflow_x": null,
            "overflow_y": null,
            "padding": null,
            "right": null,
            "top": null,
            "visibility": null,
            "width": null
          }
        },
        "960aa8704004436d933181d2f1baddac": {
          "model_module": "@jupyter-widgets/controls",
          "model_module_version": "1.5.0",
          "model_name": "DescriptionStyleModel",
          "state": {
            "_model_module": "@jupyter-widgets/controls",
            "_model_module_version": "1.5.0",
            "_model_name": "DescriptionStyleModel",
            "_view_count": null,
            "_view_module": "@jupyter-widgets/base",
            "_view_module_version": "1.2.0",
            "_view_name": "StyleView",
            "description_width": ""
          }
        },
        "96f35f8f58c04058b71c60e533e1257f": {
          "model_module": "@jupyter-widgets/controls",
          "model_module_version": "1.5.0",
          "model_name": "FloatProgressModel",
          "state": {
            "_dom_classes": [],
            "_model_module": "@jupyter-widgets/controls",
            "_model_module_version": "1.5.0",
            "_model_name": "FloatProgressModel",
            "_view_count": null,
            "_view_module": "@jupyter-widgets/controls",
            "_view_module_version": "1.5.0",
            "_view_name": "ProgressView",
            "bar_style": "",
            "description": "",
            "description_tooltip": null,
            "layout": "IPY_MODEL_24cfe5e8de2f4e9a8c7e6d02ce1cc046",
            "max": 1,
            "min": 0,
            "orientation": "horizontal",
            "style": "IPY_MODEL_62f343e0d0c042a992e387ab3fc0b235",
            "value": 1
          }
        },
        "a02a54dafbd345f09dc6eec8da40a02c": {
          "model_module": "@jupyter-widgets/controls",
          "model_module_version": "1.5.0",
          "model_name": "VBoxModel",
          "state": {
            "_dom_classes": [],
            "_model_module": "@jupyter-widgets/controls",
            "_model_module_version": "1.5.0",
            "_model_name": "VBoxModel",
            "_view_count": null,
            "_view_module": "@jupyter-widgets/controls",
            "_view_module_version": "1.5.0",
            "_view_name": "VBoxView",
            "box_style": "",
            "children": [
              "IPY_MODEL_3e7db11942b74d1a84b1244988f0edd9",
              "IPY_MODEL_a80074a82f4846cea43da99d28c7a49b"
            ],
            "layout": "IPY_MODEL_35808aae0a8144099fbf4316e8bba587"
          }
        },
        "a2ef033c33304d8483bae63e3c57f65e": {
          "model_module": "@jupyter-widgets/base",
          "model_module_version": "1.2.0",
          "model_name": "LayoutModel",
          "state": {
            "_model_module": "@jupyter-widgets/base",
            "_model_module_version": "1.2.0",
            "_model_name": "LayoutModel",
            "_view_count": null,
            "_view_module": "@jupyter-widgets/base",
            "_view_module_version": "1.2.0",
            "_view_name": "LayoutView",
            "align_content": null,
            "align_items": null,
            "align_self": null,
            "border": null,
            "bottom": null,
            "display": null,
            "flex": null,
            "flex_flow": null,
            "grid_area": null,
            "grid_auto_columns": null,
            "grid_auto_flow": null,
            "grid_auto_rows": null,
            "grid_column": null,
            "grid_gap": null,
            "grid_row": null,
            "grid_template_areas": null,
            "grid_template_columns": null,
            "grid_template_rows": null,
            "height": null,
            "justify_content": null,
            "justify_items": null,
            "left": null,
            "margin": null,
            "max_height": null,
            "max_width": null,
            "min_height": null,
            "min_width": null,
            "object_fit": null,
            "object_position": null,
            "order": null,
            "overflow": null,
            "overflow_x": null,
            "overflow_y": null,
            "padding": null,
            "right": null,
            "top": null,
            "visibility": null,
            "width": null
          }
        },
        "a80074a82f4846cea43da99d28c7a49b": {
          "model_module": "@jupyter-widgets/controls",
          "model_module_version": "1.5.0",
          "model_name": "FloatProgressModel",
          "state": {
            "_dom_classes": [],
            "_model_module": "@jupyter-widgets/controls",
            "_model_module_version": "1.5.0",
            "_model_name": "FloatProgressModel",
            "_view_count": null,
            "_view_module": "@jupyter-widgets/controls",
            "_view_module_version": "1.5.0",
            "_view_name": "ProgressView",
            "bar_style": "",
            "description": "",
            "description_tooltip": null,
            "layout": "IPY_MODEL_ba6bb5b8bbac4563986ac9d93ae78e78",
            "max": 1,
            "min": 0,
            "orientation": "horizontal",
            "style": "IPY_MODEL_ea9615a1003a422b96a17a09bd0e1877",
            "value": 1
          }
        },
        "b117d8f573444a83b6f28fdab4e1f3af": {
          "model_module": "@jupyter-widgets/base",
          "model_module_version": "1.2.0",
          "model_name": "LayoutModel",
          "state": {
            "_model_module": "@jupyter-widgets/base",
            "_model_module_version": "1.2.0",
            "_model_name": "LayoutModel",
            "_view_count": null,
            "_view_module": "@jupyter-widgets/base",
            "_view_module_version": "1.2.0",
            "_view_name": "LayoutView",
            "align_content": null,
            "align_items": null,
            "align_self": null,
            "border": null,
            "bottom": null,
            "display": null,
            "flex": null,
            "flex_flow": null,
            "grid_area": null,
            "grid_auto_columns": null,
            "grid_auto_flow": null,
            "grid_auto_rows": null,
            "grid_column": null,
            "grid_gap": null,
            "grid_row": null,
            "grid_template_areas": null,
            "grid_template_columns": null,
            "grid_template_rows": null,
            "height": null,
            "justify_content": null,
            "justify_items": null,
            "left": null,
            "margin": null,
            "max_height": null,
            "max_width": null,
            "min_height": null,
            "min_width": null,
            "object_fit": null,
            "object_position": null,
            "order": null,
            "overflow": null,
            "overflow_x": null,
            "overflow_y": null,
            "padding": null,
            "right": null,
            "top": null,
            "visibility": null,
            "width": null
          }
        },
        "b122cca63f484b71a7ae13873b5c2a1c": {
          "model_module": "@jupyter-widgets/controls",
          "model_module_version": "1.5.0",
          "model_name": "VBoxModel",
          "state": {
            "_dom_classes": [],
            "_model_module": "@jupyter-widgets/controls",
            "_model_module_version": "1.5.0",
            "_model_name": "VBoxModel",
            "_view_count": null,
            "_view_module": "@jupyter-widgets/controls",
            "_view_module_version": "1.5.0",
            "_view_name": "VBoxView",
            "box_style": "",
            "children": [
              "IPY_MODEL_b3eaa34e798441b9b141878aaf69aa2c",
              "IPY_MODEL_96f35f8f58c04058b71c60e533e1257f"
            ],
            "layout": "IPY_MODEL_a2ef033c33304d8483bae63e3c57f65e"
          }
        },
        "b3eaa34e798441b9b141878aaf69aa2c": {
          "model_module": "@jupyter-widgets/controls",
          "model_module_version": "1.5.0",
          "model_name": "LabelModel",
          "state": {
            "_dom_classes": [],
            "_model_module": "@jupyter-widgets/controls",
            "_model_module_version": "1.5.0",
            "_model_name": "LabelModel",
            "_view_count": null,
            "_view_module": "@jupyter-widgets/controls",
            "_view_module_version": "1.5.0",
            "_view_name": "LabelView",
            "description": "",
            "description_tooltip": null,
            "layout": "IPY_MODEL_69972bd52b5249f69a9b75f75f78bc27",
            "placeholder": "​",
            "style": "IPY_MODEL_960aa8704004436d933181d2f1baddac",
            "value": "0.001 MB of 0.001 MB uploaded (0.000 MB deduped)\r"
          }
        },
        "ba6bb5b8bbac4563986ac9d93ae78e78": {
          "model_module": "@jupyter-widgets/base",
          "model_module_version": "1.2.0",
          "model_name": "LayoutModel",
          "state": {
            "_model_module": "@jupyter-widgets/base",
            "_model_module_version": "1.2.0",
            "_model_name": "LayoutModel",
            "_view_count": null,
            "_view_module": "@jupyter-widgets/base",
            "_view_module_version": "1.2.0",
            "_view_name": "LayoutView",
            "align_content": null,
            "align_items": null,
            "align_self": null,
            "border": null,
            "bottom": null,
            "display": null,
            "flex": null,
            "flex_flow": null,
            "grid_area": null,
            "grid_auto_columns": null,
            "grid_auto_flow": null,
            "grid_auto_rows": null,
            "grid_column": null,
            "grid_gap": null,
            "grid_row": null,
            "grid_template_areas": null,
            "grid_template_columns": null,
            "grid_template_rows": null,
            "height": null,
            "justify_content": null,
            "justify_items": null,
            "left": null,
            "margin": null,
            "max_height": null,
            "max_width": null,
            "min_height": null,
            "min_width": null,
            "object_fit": null,
            "object_position": null,
            "order": null,
            "overflow": null,
            "overflow_x": null,
            "overflow_y": null,
            "padding": null,
            "right": null,
            "top": null,
            "visibility": null,
            "width": null
          }
        },
        "ea9615a1003a422b96a17a09bd0e1877": {
          "model_module": "@jupyter-widgets/controls",
          "model_module_version": "1.5.0",
          "model_name": "ProgressStyleModel",
          "state": {
            "_model_module": "@jupyter-widgets/controls",
            "_model_module_version": "1.5.0",
            "_model_name": "ProgressStyleModel",
            "_view_count": null,
            "_view_module": "@jupyter-widgets/base",
            "_view_module_version": "1.2.0",
            "_view_name": "StyleView",
            "bar_color": null,
            "description_width": ""
          }
        }
      }
    }
  },
  "nbformat": 4,
  "nbformat_minor": 0
}
